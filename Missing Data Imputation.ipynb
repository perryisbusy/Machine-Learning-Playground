{
 "cells": [
  {
   "cell_type": "markdown",
   "id": "25c2ed1b",
   "metadata": {},
   "source": [
    "# Missing Data Imputation"
   ]
  },
  {
   "cell_type": "code",
   "execution_count": 1,
   "id": "894691f4",
   "metadata": {},
   "outputs": [
    {
     "name": "stdout",
     "output_type": "stream",
     "text": [
      "Wall time: 1.93 s\n"
     ]
    }
   ],
   "source": [
    "%%time\n",
    "import warnings\n",
    "warnings.filterwarnings(\"ignore\")\n",
    "\n",
    "import pandas as pd \n",
    "import numpy as np \n",
    "import matplotlib.pyplot as plt \n",
    "import seaborn as sns\n",
    "import missingno as msno\n",
    "import pickle\n",
    "%matplotlib inline"
   ]
  },
  {
   "cell_type": "markdown",
   "id": "f97e8caa",
   "metadata": {},
   "source": [
    "### Complete Case Analysis (CCA)"
   ]
  },
  {
   "cell_type": "code",
   "execution_count": 2,
   "id": "24e3313e",
   "metadata": {},
   "outputs": [
    {
     "data": {
      "text/html": [
       "<div>\n",
       "<style scoped>\n",
       "    .dataframe tbody tr th:only-of-type {\n",
       "        vertical-align: middle;\n",
       "    }\n",
       "\n",
       "    .dataframe tbody tr th {\n",
       "        vertical-align: top;\n",
       "    }\n",
       "\n",
       "    .dataframe thead th {\n",
       "        text-align: right;\n",
       "    }\n",
       "</style>\n",
       "<table border=\"1\" class=\"dataframe\">\n",
       "  <thead>\n",
       "    <tr style=\"text-align: right;\">\n",
       "      <th></th>\n",
       "      <th>Id</th>\n",
       "      <th>MSSubClass</th>\n",
       "      <th>MSZoning</th>\n",
       "      <th>LotFrontage</th>\n",
       "      <th>LotArea</th>\n",
       "      <th>Street</th>\n",
       "      <th>Alley</th>\n",
       "      <th>LotShape</th>\n",
       "      <th>LandContour</th>\n",
       "      <th>Utilities</th>\n",
       "      <th>...</th>\n",
       "      <th>PoolArea</th>\n",
       "      <th>PoolQC</th>\n",
       "      <th>Fence</th>\n",
       "      <th>MiscFeature</th>\n",
       "      <th>MiscVal</th>\n",
       "      <th>MoSold</th>\n",
       "      <th>YrSold</th>\n",
       "      <th>SaleType</th>\n",
       "      <th>SaleCondition</th>\n",
       "      <th>SalePrice</th>\n",
       "    </tr>\n",
       "  </thead>\n",
       "  <tbody>\n",
       "    <tr>\n",
       "      <th>0</th>\n",
       "      <td>1</td>\n",
       "      <td>60</td>\n",
       "      <td>RL</td>\n",
       "      <td>65.0</td>\n",
       "      <td>8450</td>\n",
       "      <td>Pave</td>\n",
       "      <td>NaN</td>\n",
       "      <td>Reg</td>\n",
       "      <td>Lvl</td>\n",
       "      <td>AllPub</td>\n",
       "      <td>...</td>\n",
       "      <td>0</td>\n",
       "      <td>NaN</td>\n",
       "      <td>NaN</td>\n",
       "      <td>NaN</td>\n",
       "      <td>0</td>\n",
       "      <td>2</td>\n",
       "      <td>2008</td>\n",
       "      <td>WD</td>\n",
       "      <td>Normal</td>\n",
       "      <td>208500</td>\n",
       "    </tr>\n",
       "    <tr>\n",
       "      <th>1</th>\n",
       "      <td>2</td>\n",
       "      <td>20</td>\n",
       "      <td>RL</td>\n",
       "      <td>80.0</td>\n",
       "      <td>9600</td>\n",
       "      <td>Pave</td>\n",
       "      <td>NaN</td>\n",
       "      <td>Reg</td>\n",
       "      <td>Lvl</td>\n",
       "      <td>AllPub</td>\n",
       "      <td>...</td>\n",
       "      <td>0</td>\n",
       "      <td>NaN</td>\n",
       "      <td>NaN</td>\n",
       "      <td>NaN</td>\n",
       "      <td>0</td>\n",
       "      <td>5</td>\n",
       "      <td>2007</td>\n",
       "      <td>WD</td>\n",
       "      <td>Normal</td>\n",
       "      <td>181500</td>\n",
       "    </tr>\n",
       "    <tr>\n",
       "      <th>2</th>\n",
       "      <td>3</td>\n",
       "      <td>60</td>\n",
       "      <td>RL</td>\n",
       "      <td>68.0</td>\n",
       "      <td>11250</td>\n",
       "      <td>Pave</td>\n",
       "      <td>NaN</td>\n",
       "      <td>IR1</td>\n",
       "      <td>Lvl</td>\n",
       "      <td>AllPub</td>\n",
       "      <td>...</td>\n",
       "      <td>0</td>\n",
       "      <td>NaN</td>\n",
       "      <td>NaN</td>\n",
       "      <td>NaN</td>\n",
       "      <td>0</td>\n",
       "      <td>9</td>\n",
       "      <td>2008</td>\n",
       "      <td>WD</td>\n",
       "      <td>Normal</td>\n",
       "      <td>223500</td>\n",
       "    </tr>\n",
       "    <tr>\n",
       "      <th>3</th>\n",
       "      <td>4</td>\n",
       "      <td>70</td>\n",
       "      <td>RL</td>\n",
       "      <td>60.0</td>\n",
       "      <td>9550</td>\n",
       "      <td>Pave</td>\n",
       "      <td>NaN</td>\n",
       "      <td>IR1</td>\n",
       "      <td>Lvl</td>\n",
       "      <td>AllPub</td>\n",
       "      <td>...</td>\n",
       "      <td>0</td>\n",
       "      <td>NaN</td>\n",
       "      <td>NaN</td>\n",
       "      <td>NaN</td>\n",
       "      <td>0</td>\n",
       "      <td>2</td>\n",
       "      <td>2006</td>\n",
       "      <td>WD</td>\n",
       "      <td>Abnorml</td>\n",
       "      <td>140000</td>\n",
       "    </tr>\n",
       "    <tr>\n",
       "      <th>4</th>\n",
       "      <td>5</td>\n",
       "      <td>60</td>\n",
       "      <td>RL</td>\n",
       "      <td>84.0</td>\n",
       "      <td>14260</td>\n",
       "      <td>Pave</td>\n",
       "      <td>NaN</td>\n",
       "      <td>IR1</td>\n",
       "      <td>Lvl</td>\n",
       "      <td>AllPub</td>\n",
       "      <td>...</td>\n",
       "      <td>0</td>\n",
       "      <td>NaN</td>\n",
       "      <td>NaN</td>\n",
       "      <td>NaN</td>\n",
       "      <td>0</td>\n",
       "      <td>12</td>\n",
       "      <td>2008</td>\n",
       "      <td>WD</td>\n",
       "      <td>Normal</td>\n",
       "      <td>250000</td>\n",
       "    </tr>\n",
       "  </tbody>\n",
       "</table>\n",
       "<p>5 rows × 81 columns</p>\n",
       "</div>"
      ],
      "text/plain": [
       "   Id  MSSubClass MSZoning  LotFrontage  LotArea Street Alley LotShape  \\\n",
       "0   1          60       RL         65.0     8450   Pave   NaN      Reg   \n",
       "1   2          20       RL         80.0     9600   Pave   NaN      Reg   \n",
       "2   3          60       RL         68.0    11250   Pave   NaN      IR1   \n",
       "3   4          70       RL         60.0     9550   Pave   NaN      IR1   \n",
       "4   5          60       RL         84.0    14260   Pave   NaN      IR1   \n",
       "\n",
       "  LandContour Utilities  ... PoolArea PoolQC Fence MiscFeature MiscVal MoSold  \\\n",
       "0         Lvl    AllPub  ...        0    NaN   NaN         NaN       0      2   \n",
       "1         Lvl    AllPub  ...        0    NaN   NaN         NaN       0      5   \n",
       "2         Lvl    AllPub  ...        0    NaN   NaN         NaN       0      9   \n",
       "3         Lvl    AllPub  ...        0    NaN   NaN         NaN       0      2   \n",
       "4         Lvl    AllPub  ...        0    NaN   NaN         NaN       0     12   \n",
       "\n",
       "  YrSold  SaleType  SaleCondition  SalePrice  \n",
       "0   2008        WD         Normal     208500  \n",
       "1   2007        WD         Normal     181500  \n",
       "2   2008        WD         Normal     223500  \n",
       "3   2006        WD        Abnorml     140000  \n",
       "4   2008        WD         Normal     250000  \n",
       "\n",
       "[5 rows x 81 columns]"
      ]
     },
     "execution_count": 2,
     "metadata": {},
     "output_type": "execute_result"
    }
   ],
   "source": [
    "df = pd.read_csv(filepath_or_buffer=\"houseprice.csv\")\n",
    "df.head()"
   ]
  },
  {
   "cell_type": "code",
   "execution_count": 3,
   "id": "1f86ec68",
   "metadata": {},
   "outputs": [
    {
     "data": {
      "text/plain": [
       "[('LotFrontage', 0.1773972602739726),\n",
       " ('Alley', 0.9376712328767123),\n",
       " ('MasVnrType', 0.005479452054794521),\n",
       " ('MasVnrArea', 0.005479452054794521),\n",
       " ('BsmtQual', 0.025342465753424658),\n",
       " ('BsmtCond', 0.025342465753424658),\n",
       " ('BsmtExposure', 0.026027397260273973),\n",
       " ('BsmtFinType1', 0.025342465753424658),\n",
       " ('BsmtFinType2', 0.026027397260273973),\n",
       " ('Electrical', 0.0006849315068493151),\n",
       " ('FireplaceQu', 0.4726027397260274),\n",
       " ('GarageType', 0.05547945205479452),\n",
       " ('GarageYrBlt', 0.05547945205479452),\n",
       " ('GarageFinish', 0.05547945205479452),\n",
       " ('GarageQual', 0.05547945205479452),\n",
       " ('GarageCond', 0.05547945205479452),\n",
       " ('PoolQC', 0.9952054794520548),\n",
       " ('Fence', 0.8075342465753425),\n",
       " ('MiscFeature', 0.963013698630137)]"
      ]
     },
     "execution_count": 3,
     "metadata": {},
     "output_type": "execute_result"
    }
   ],
   "source": [
    "# capture columns with missing %\n",
    "[(col, df[col].isnull().mean()) for col in df.columns if df[col].isnull().mean()]"
   ]
  },
  {
   "cell_type": "code",
   "execution_count": 4,
   "id": "b9efc34a",
   "metadata": {},
   "outputs": [
    {
     "data": {
      "text/plain": [
       "['Id',\n",
       " 'MSSubClass',\n",
       " 'MSZoning',\n",
       " 'LotArea',\n",
       " 'Street',\n",
       " 'LotShape',\n",
       " 'LandContour',\n",
       " 'Utilities',\n",
       " 'LotConfig',\n",
       " 'LandSlope',\n",
       " 'Neighborhood',\n",
       " 'Condition1',\n",
       " 'Condition2',\n",
       " 'BldgType',\n",
       " 'HouseStyle',\n",
       " 'OverallQual',\n",
       " 'OverallCond',\n",
       " 'YearBuilt',\n",
       " 'YearRemodAdd',\n",
       " 'RoofStyle',\n",
       " 'RoofMatl',\n",
       " 'Exterior1st',\n",
       " 'Exterior2nd',\n",
       " 'MasVnrType',\n",
       " 'MasVnrArea',\n",
       " 'ExterQual',\n",
       " 'ExterCond',\n",
       " 'Foundation',\n",
       " 'BsmtQual',\n",
       " 'BsmtCond',\n",
       " 'BsmtExposure',\n",
       " 'BsmtFinType1',\n",
       " 'BsmtFinSF1',\n",
       " 'BsmtFinType2',\n",
       " 'BsmtFinSF2',\n",
       " 'BsmtUnfSF',\n",
       " 'TotalBsmtSF',\n",
       " 'Heating',\n",
       " 'HeatingQC',\n",
       " 'CentralAir',\n",
       " 'Electrical',\n",
       " '1stFlrSF',\n",
       " '2ndFlrSF',\n",
       " 'LowQualFinSF',\n",
       " 'GrLivArea',\n",
       " 'BsmtFullBath',\n",
       " 'BsmtHalfBath',\n",
       " 'FullBath',\n",
       " 'HalfBath',\n",
       " 'BedroomAbvGr',\n",
       " 'KitchenAbvGr',\n",
       " 'KitchenQual',\n",
       " 'TotRmsAbvGrd',\n",
       " 'Functional',\n",
       " 'Fireplaces',\n",
       " 'GarageCars',\n",
       " 'GarageArea',\n",
       " 'PavedDrive',\n",
       " 'WoodDeckSF',\n",
       " 'OpenPorchSF',\n",
       " 'EnclosedPorch',\n",
       " '3SsnPorch',\n",
       " 'ScreenPorch',\n",
       " 'PoolArea',\n",
       " 'MiscVal',\n",
       " 'MoSold',\n",
       " 'YrSold',\n",
       " 'SaleType',\n",
       " 'SaleCondition',\n",
       " 'SalePrice']"
      ]
     },
     "execution_count": 4,
     "metadata": {},
     "output_type": "execute_result"
    }
   ],
   "source": [
    "# capture columns with no or less than 5% NA\n",
    "col_cca = [col for col in df.columns if df[col].isnull().mean() < 0.05]\n",
    "col_cca"
   ]
  },
  {
   "cell_type": "code",
   "execution_count": 5,
   "id": "63f6d67c",
   "metadata": {},
   "outputs": [
    {
     "data": {
      "text/plain": [
       "(1460, 81)"
      ]
     },
     "execution_count": 5,
     "metadata": {},
     "output_type": "execute_result"
    }
   ],
   "source": [
    "df.shape"
   ]
  },
  {
   "cell_type": "code",
   "execution_count": 6,
   "id": "f2f7d5f2",
   "metadata": {},
   "outputs": [
    {
     "data": {
      "text/plain": [
       "(1412, 70)"
      ]
     },
     "execution_count": 6,
     "metadata": {},
     "output_type": "execute_result"
    }
   ],
   "source": [
    "df = df[col_cca].dropna(axis=0)\n",
    "df.shape"
   ]
  },
  {
   "cell_type": "markdown",
   "id": "bbcd7978",
   "metadata": {},
   "source": [
    "### Mean & Median Imputation\n",
    "* Remember that the mean and the median that we will use to replace the NA needs to be calculated in the train set and propagated to the test set. "
   ]
  },
  {
   "cell_type": "code",
   "execution_count": 7,
   "id": "4a7dc85b",
   "metadata": {},
   "outputs": [
    {
     "data": {
      "text/html": [
       "<div>\n",
       "<style scoped>\n",
       "    .dataframe tbody tr th:only-of-type {\n",
       "        vertical-align: middle;\n",
       "    }\n",
       "\n",
       "    .dataframe tbody tr th {\n",
       "        vertical-align: top;\n",
       "    }\n",
       "\n",
       "    .dataframe thead th {\n",
       "        text-align: right;\n",
       "    }\n",
       "</style>\n",
       "<table border=\"1\" class=\"dataframe\">\n",
       "  <thead>\n",
       "    <tr style=\"text-align: right;\">\n",
       "      <th></th>\n",
       "      <th>Survived</th>\n",
       "      <th>Age</th>\n",
       "      <th>Fare</th>\n",
       "    </tr>\n",
       "  </thead>\n",
       "  <tbody>\n",
       "    <tr>\n",
       "      <th>0</th>\n",
       "      <td>0</td>\n",
       "      <td>22.0</td>\n",
       "      <td>7.2500</td>\n",
       "    </tr>\n",
       "    <tr>\n",
       "      <th>1</th>\n",
       "      <td>1</td>\n",
       "      <td>38.0</td>\n",
       "      <td>71.2833</td>\n",
       "    </tr>\n",
       "    <tr>\n",
       "      <th>2</th>\n",
       "      <td>1</td>\n",
       "      <td>26.0</td>\n",
       "      <td>7.9250</td>\n",
       "    </tr>\n",
       "    <tr>\n",
       "      <th>3</th>\n",
       "      <td>1</td>\n",
       "      <td>35.0</td>\n",
       "      <td>53.1000</td>\n",
       "    </tr>\n",
       "    <tr>\n",
       "      <th>4</th>\n",
       "      <td>0</td>\n",
       "      <td>35.0</td>\n",
       "      <td>8.0500</td>\n",
       "    </tr>\n",
       "  </tbody>\n",
       "</table>\n",
       "</div>"
      ],
      "text/plain": [
       "   Survived   Age     Fare\n",
       "0         0  22.0   7.2500\n",
       "1         1  38.0  71.2833\n",
       "2         1  26.0   7.9250\n",
       "3         1  35.0  53.1000\n",
       "4         0  35.0   8.0500"
      ]
     },
     "execution_count": 7,
     "metadata": {},
     "output_type": "execute_result"
    }
   ],
   "source": [
    "df = pd.read_csv(filepath_or_buffer=\"titanic.csv\", usecols=['Age', 'Fare', 'Survived'])\n",
    "df.head()"
   ]
  },
  {
   "cell_type": "code",
   "execution_count": 8,
   "id": "261e7c86",
   "metadata": {},
   "outputs": [
    {
     "data": {
      "text/plain": [
       "Survived      0\n",
       "Age         177\n",
       "Fare          0\n",
       "dtype: int64"
      ]
     },
     "execution_count": 8,
     "metadata": {},
     "output_type": "execute_result"
    }
   ],
   "source": [
    "df.isnull().sum()"
   ]
  },
  {
   "cell_type": "code",
   "execution_count": 9,
   "id": "6a64a374",
   "metadata": {},
   "outputs": [
    {
     "data": {
      "text/plain": [
       "Survived    0.000000\n",
       "Age         0.198653\n",
       "Fare        0.000000\n",
       "dtype: float64"
      ]
     },
     "execution_count": 9,
     "metadata": {},
     "output_type": "execute_result"
    }
   ],
   "source": [
    "df.isnull().mean()"
   ]
  },
  {
   "cell_type": "code",
   "execution_count": 10,
   "id": "c7743622",
   "metadata": {},
   "outputs": [],
   "source": [
    "X = df.drop(labels=[\"Survived\"], axis=1)\n",
    "y = df[\"Survived\"]\n",
    "\n",
    "from sklearn.model_selection import train_test_split\n",
    "\n",
    "X_train, X_test, y_train, y_test = train_test_split(X, y, test_size=0.3, random_state=0, shuffle=True, stratify=y)"
   ]
  },
  {
   "cell_type": "code",
   "execution_count": 11,
   "id": "79037914",
   "metadata": {
    "scrolled": true
   },
   "outputs": [],
   "source": [
    "# calculate the median Age\n",
    "median = X_train[\"Age\"].median()\n",
    "X_train[\"Age_median\"] = X_train[\"Age\"].fillna(median)\n",
    "X_test[\"Age_median\"] = X_test[\"Age\"].fillna(median)\n",
    "\n",
    "# calculate the mean Age\n",
    "mean = X_train[\"Age\"].mean()\n",
    "X_train[\"Age_mean\"] = X_train[\"Age\"].fillna(mean)\n",
    "X_test[\"Age_median\"] = X_test[\"Age\"].fillna(mean)"
   ]
  },
  {
   "cell_type": "code",
   "execution_count": 12,
   "id": "fa49872d",
   "metadata": {},
   "outputs": [
    {
     "data": {
      "image/png": "[encoded data removed]",
      "text/plain": [
       "<Figure size 432x288 with 1 Axes>"
      ]
     },
     "metadata": {
      "needs_background": "light"
     },
     "output_type": "display_data"
    }
   ],
   "source": [
    "# we can see that the distribution has changed \n",
    "# with now more values accumulating towards the median\n",
    "# or median\n",
    "\n",
    "fig = plt.figure()\n",
    "ax = fig.add_subplot(111)\n",
    "\n",
    "# original variable distribution\n",
    "X_train['Age'].plot(kind='kde', ax=ax, color=\"blue\")\n",
    "\n",
    "# variable imputed with the median\n",
    "X_train['Age_median'].plot(kind='kde', ax=ax, color='red')\n",
    "\n",
    "# variable imputed with the mean\n",
    "X_train['Age_mean'].plot(kind='kde', ax=ax, color='green')\n",
    "\n",
    "# add legends\n",
    "lines, labels = ax.get_legend_handles_labels()\n",
    "ax.legend(lines, labels, loc='best');"
   ]
  },
  {
   "cell_type": "code",
   "execution_count": 13,
   "id": "3778f3b7",
   "metadata": {},
   "outputs": [
    {
     "data": {
      "image/png": "[encoded data removed]",
      "text/plain": [
       "<Figure size 432x288 with 1 Axes>"
      ]
     },
     "metadata": {
      "needs_background": "light"
     },
     "output_type": "display_data"
    }
   ],
   "source": [
    "# Let's find out using a boxplot\n",
    "X_train[['Age', 'Age_median', 'Age_mean']].boxplot();"
   ]
  },
  {
   "cell_type": "markdown",
   "id": "581e2bc8",
   "metadata": {},
   "source": [
    "### Arbitrary Value Imputation\n",
    "* For arbitrary value imputation this is not so important, because we chose the value arbitrarily, however it is good to adhere to this practice and select the arbitrary value by looking only at the distribution of the variables in the train set."
   ]
  },
  {
   "cell_type": "code",
   "execution_count": 14,
   "id": "b1a16d90",
   "metadata": {},
   "outputs": [
    {
     "data": {
      "text/html": [
       "<div>\n",
       "<style scoped>\n",
       "    .dataframe tbody tr th:only-of-type {\n",
       "        vertical-align: middle;\n",
       "    }\n",
       "\n",
       "    .dataframe tbody tr th {\n",
       "        vertical-align: top;\n",
       "    }\n",
       "\n",
       "    .dataframe thead th {\n",
       "        text-align: right;\n",
       "    }\n",
       "</style>\n",
       "<table border=\"1\" class=\"dataframe\">\n",
       "  <thead>\n",
       "    <tr style=\"text-align: right;\">\n",
       "      <th></th>\n",
       "      <th>Survived</th>\n",
       "      <th>Age</th>\n",
       "      <th>Fare</th>\n",
       "    </tr>\n",
       "  </thead>\n",
       "  <tbody>\n",
       "    <tr>\n",
       "      <th>0</th>\n",
       "      <td>0</td>\n",
       "      <td>22.0</td>\n",
       "      <td>7.2500</td>\n",
       "    </tr>\n",
       "    <tr>\n",
       "      <th>1</th>\n",
       "      <td>1</td>\n",
       "      <td>38.0</td>\n",
       "      <td>71.2833</td>\n",
       "    </tr>\n",
       "    <tr>\n",
       "      <th>2</th>\n",
       "      <td>1</td>\n",
       "      <td>26.0</td>\n",
       "      <td>7.9250</td>\n",
       "    </tr>\n",
       "    <tr>\n",
       "      <th>3</th>\n",
       "      <td>1</td>\n",
       "      <td>35.0</td>\n",
       "      <td>53.1000</td>\n",
       "    </tr>\n",
       "    <tr>\n",
       "      <th>4</th>\n",
       "      <td>0</td>\n",
       "      <td>35.0</td>\n",
       "      <td>8.0500</td>\n",
       "    </tr>\n",
       "  </tbody>\n",
       "</table>\n",
       "</div>"
      ],
      "text/plain": [
       "   Survived   Age     Fare\n",
       "0         0  22.0   7.2500\n",
       "1         1  38.0  71.2833\n",
       "2         1  26.0   7.9250\n",
       "3         1  35.0  53.1000\n",
       "4         0  35.0   8.0500"
      ]
     },
     "execution_count": 14,
     "metadata": {},
     "output_type": "execute_result"
    }
   ],
   "source": [
    "df = pd.read_csv(filepath_or_buffer=\"titanic.csv\", usecols=['Age', 'Fare', 'Survived'])\n",
    "df.head()"
   ]
  },
  {
   "cell_type": "code",
   "execution_count": 15,
   "id": "0e859bd1",
   "metadata": {},
   "outputs": [],
   "source": [
    "X = df.drop(labels=[\"Survived\"], axis=1)\n",
    "y = df[\"Survived\"]\n",
    "\n",
    "from sklearn.model_selection import train_test_split\n",
    "\n",
    "X_train, X_test, y_train, y_test = train_test_split(X, y, test_size=0.3, random_state=0, shuffle=True, stratify=y)"
   ]
  },
  {
   "cell_type": "code",
   "execution_count": 16,
   "id": "18d5fefc",
   "metadata": {},
   "outputs": [],
   "source": [
    "# For this demo I will replace NA by 2 different arbitrary values\n",
    "# one at the far right end of the distribution ==> 99\n",
    "# and alternatively by -1, taking advantage that Age takes only positive values\n",
    "\n",
    "X_train[\"Age_99\"] = X_train[\"Age\"].fillna(99)\n",
    "X_train[\"Age_minus1\"] = X_train[\"Age\"].fillna(-1)\n",
    "\n",
    "X_test[\"Age_99\"] = X_test[\"Age\"].fillna(99)\n",
    "X_test[\"Age_minus1\"] = X_test[\"Age\"].fillna(-1)"
   ]
  },
  {
   "cell_type": "code",
   "execution_count": 17,
   "id": "23ac2784",
   "metadata": {},
   "outputs": [
    {
     "data": {
      "image/png": "[encoded data removed]",
      "text/plain": [
       "<Figure size 432x288 with 1 Axes>"
      ]
     },
     "metadata": {
      "needs_background": "light"
     },
     "output_type": "display_data"
    }
   ],
   "source": [
    "# we can see that the distribution has changed \n",
    "# with now more values accumulating towards the arbitrary values\n",
    "\n",
    "fig = plt.figure()\n",
    "ax = fig.add_subplot(111)\n",
    "\n",
    "# original variable distribution\n",
    "X_train['Age'].plot(kind='kde', ax=ax, color=\"blue\")\n",
    "\n",
    "# variable imputed with 99\n",
    "X_train['Age_99'].plot(kind='kde', ax=ax, color='red')\n",
    "\n",
    "# variable imputed with -1\n",
    "X_train['Age_minus1'].plot(kind='kde', ax=ax, color='green')\n",
    "\n",
    "# add legends\n",
    "lines, labels = ax.get_legend_handles_labels()\n",
    "ax.legend(lines, labels, loc='best');"
   ]
  },
  {
   "cell_type": "code",
   "execution_count": 18,
   "id": "988ca398",
   "metadata": {},
   "outputs": [
    {
     "data": {
      "image/png": "[encoded data removed]",
      "text/plain": [
       "<Figure size 432x288 with 1 Axes>"
      ]
     },
     "metadata": {
      "needs_background": "light"
     },
     "output_type": "display_data"
    }
   ],
   "source": [
    "# Finally, I mentioned that arbitrary value imputation may\n",
    "# affect the perception of outliers\n",
    "\n",
    "# Let's find out using a boxplot\n",
    "X_train[['Age', 'Age_99', 'Age_minus1']].boxplot();"
   ]
  },
  {
   "cell_type": "markdown",
   "id": "c1045829",
   "metadata": {},
   "source": [
    "### End of distribution imputation\n",
    "* Imputation has to be done over the training set, and then propagated to the test set. For this imputation technique, this means that when selecting the value with which we will replace the NA, we need to do so only by looking at the distribution of the variables in the training set. Then we use the selected value to replace NA both in the train and test set."
   ]
  },
  {
   "cell_type": "code",
   "execution_count": 19,
   "id": "1fdd22f8",
   "metadata": {},
   "outputs": [
    {
     "data": {
      "text/html": [
       "<div>\n",
       "<style scoped>\n",
       "    .dataframe tbody tr th:only-of-type {\n",
       "        vertical-align: middle;\n",
       "    }\n",
       "\n",
       "    .dataframe tbody tr th {\n",
       "        vertical-align: top;\n",
       "    }\n",
       "\n",
       "    .dataframe thead th {\n",
       "        text-align: right;\n",
       "    }\n",
       "</style>\n",
       "<table border=\"1\" class=\"dataframe\">\n",
       "  <thead>\n",
       "    <tr style=\"text-align: right;\">\n",
       "      <th></th>\n",
       "      <th>Survived</th>\n",
       "      <th>Age</th>\n",
       "      <th>Fare</th>\n",
       "    </tr>\n",
       "  </thead>\n",
       "  <tbody>\n",
       "    <tr>\n",
       "      <th>0</th>\n",
       "      <td>0</td>\n",
       "      <td>22.0</td>\n",
       "      <td>7.2500</td>\n",
       "    </tr>\n",
       "    <tr>\n",
       "      <th>1</th>\n",
       "      <td>1</td>\n",
       "      <td>38.0</td>\n",
       "      <td>71.2833</td>\n",
       "    </tr>\n",
       "    <tr>\n",
       "      <th>2</th>\n",
       "      <td>1</td>\n",
       "      <td>26.0</td>\n",
       "      <td>7.9250</td>\n",
       "    </tr>\n",
       "    <tr>\n",
       "      <th>3</th>\n",
       "      <td>1</td>\n",
       "      <td>35.0</td>\n",
       "      <td>53.1000</td>\n",
       "    </tr>\n",
       "    <tr>\n",
       "      <th>4</th>\n",
       "      <td>0</td>\n",
       "      <td>35.0</td>\n",
       "      <td>8.0500</td>\n",
       "    </tr>\n",
       "  </tbody>\n",
       "</table>\n",
       "</div>"
      ],
      "text/plain": [
       "   Survived   Age     Fare\n",
       "0         0  22.0   7.2500\n",
       "1         1  38.0  71.2833\n",
       "2         1  26.0   7.9250\n",
       "3         1  35.0  53.1000\n",
       "4         0  35.0   8.0500"
      ]
     },
     "execution_count": 19,
     "metadata": {},
     "output_type": "execute_result"
    }
   ],
   "source": [
    "df = pd.read_csv(filepath_or_buffer=\"titanic.csv\", usecols=['Age', 'Fare', 'Survived'])\n",
    "df.head()"
   ]
  },
  {
   "cell_type": "code",
   "execution_count": 20,
   "id": "773189a6",
   "metadata": {},
   "outputs": [],
   "source": [
    "X = df.drop(labels=[\"Survived\"], axis=1)\n",
    "y = df[\"Survived\"]\n",
    "\n",
    "from sklearn.model_selection import train_test_split\n",
    "\n",
    "X_train, X_test, y_train, y_test = train_test_split(X, y, test_size=0.3, random_state=0, shuffle=True, stratify=y)"
   ]
  },
  {
   "cell_type": "code",
   "execution_count": 21,
   "id": "0b181d48",
   "metadata": {},
   "outputs": [
    {
     "data": {
      "image/png": "[encoded data removed]",
      "text/plain": [
       "<Figure size 432x288 with 1 Axes>"
      ]
     },
     "metadata": {
      "needs_background": "light"
     },
     "output_type": "display_data"
    }
   ],
   "source": [
    "# Normal distribution\n",
    "\n",
    "sns.histplot(data=X_train, x=\"Age\");"
   ]
  },
  {
   "cell_type": "code",
   "execution_count": 22,
   "id": "88a558c8",
   "metadata": {},
   "outputs": [],
   "source": [
    "# far end of the distribution:\n",
    "\n",
    "# Because Age looks approximately Gaussian, I use the\n",
    "# mean and std to calculate the replacement value\n",
    "\n",
    "fillna_value = X_train[\"Age\"].mean() + 3 * X_train[\"Age\"].std()\n",
    "\n",
    "X_train['Age_imputed'] = X_train[\"Age\"].fillna(fillna_value)\n",
    "X_test['Age_imputed'] = X_test[\"Age\"].fillna(fillna_value)"
   ]
  },
  {
   "cell_type": "code",
   "execution_count": 23,
   "id": "4072f44d",
   "metadata": {},
   "outputs": [
    {
     "data": {
      "image/png": "[encoded data removed]",
      "text/plain": [
       "<Figure size 432x288 with 1 Axes>"
      ]
     },
     "metadata": {
      "needs_background": "light"
     },
     "output_type": "display_data"
    }
   ],
   "source": [
    "# we can see that the distribution has changed \n",
    "# with now more values accumulating towards the tail\n",
    "\n",
    "fig = plt.figure()\n",
    "ax = fig.add_subplot(111)\n",
    "\n",
    "# original variable distribution\n",
    "X_train['Age'].plot(kind='kde', ax=ax)\n",
    "\n",
    "# imputed variable\n",
    "X_train['Age_imputed'].plot(kind='kde', ax=ax, color='red')\n",
    "\n",
    "# add legends\n",
    "lines, labels = ax.get_legend_handles_labels()\n",
    "ax.legend(lines, labels, loc='best');"
   ]
  },
  {
   "cell_type": "code",
   "execution_count": 24,
   "id": "a2f4e779",
   "metadata": {},
   "outputs": [
    {
     "data": {
      "image/png": "[encoded data removed]",
      "text/plain": [
       "<Figure size 432x288 with 1 Axes>"
      ]
     },
     "metadata": {
      "needs_background": "light"
     },
     "output_type": "display_data"
    }
   ],
   "source": [
    "# Finally, I mentioned that end tail imputation may\n",
    "# affect the perception of outliers\n",
    "\n",
    "# Let's find out using a boxplot\n",
    "X_train[['Age', 'Age_imputed']].boxplot();"
   ]
  },
  {
   "cell_type": "code",
   "execution_count": 25,
   "id": "73403288",
   "metadata": {},
   "outputs": [
    {
     "data": {
      "text/html": [
       "<div>\n",
       "<style scoped>\n",
       "    .dataframe tbody tr th:only-of-type {\n",
       "        vertical-align: middle;\n",
       "    }\n",
       "\n",
       "    .dataframe tbody tr th {\n",
       "        vertical-align: top;\n",
       "    }\n",
       "\n",
       "    .dataframe thead th {\n",
       "        text-align: right;\n",
       "    }\n",
       "</style>\n",
       "<table border=\"1\" class=\"dataframe\">\n",
       "  <thead>\n",
       "    <tr style=\"text-align: right;\">\n",
       "      <th></th>\n",
       "      <th>LotFrontage</th>\n",
       "      <th>OverallQual</th>\n",
       "      <th>MasVnrArea</th>\n",
       "      <th>BsmtUnfSF</th>\n",
       "      <th>TotalBsmtSF</th>\n",
       "      <th>1stFlrSF</th>\n",
       "      <th>GrLivArea</th>\n",
       "      <th>GarageYrBlt</th>\n",
       "      <th>WoodDeckSF</th>\n",
       "      <th>SalePrice</th>\n",
       "    </tr>\n",
       "  </thead>\n",
       "  <tbody>\n",
       "    <tr>\n",
       "      <th>0</th>\n",
       "      <td>65.0</td>\n",
       "      <td>7</td>\n",
       "      <td>196.0</td>\n",
       "      <td>150</td>\n",
       "      <td>856</td>\n",
       "      <td>856</td>\n",
       "      <td>1710</td>\n",
       "      <td>2003.0</td>\n",
       "      <td>0</td>\n",
       "      <td>208500</td>\n",
       "    </tr>\n",
       "    <tr>\n",
       "      <th>1</th>\n",
       "      <td>80.0</td>\n",
       "      <td>6</td>\n",
       "      <td>0.0</td>\n",
       "      <td>284</td>\n",
       "      <td>1262</td>\n",
       "      <td>1262</td>\n",
       "      <td>1262</td>\n",
       "      <td>1976.0</td>\n",
       "      <td>298</td>\n",
       "      <td>181500</td>\n",
       "    </tr>\n",
       "    <tr>\n",
       "      <th>2</th>\n",
       "      <td>68.0</td>\n",
       "      <td>7</td>\n",
       "      <td>162.0</td>\n",
       "      <td>434</td>\n",
       "      <td>920</td>\n",
       "      <td>920</td>\n",
       "      <td>1786</td>\n",
       "      <td>2001.0</td>\n",
       "      <td>0</td>\n",
       "      <td>223500</td>\n",
       "    </tr>\n",
       "    <tr>\n",
       "      <th>3</th>\n",
       "      <td>60.0</td>\n",
       "      <td>7</td>\n",
       "      <td>0.0</td>\n",
       "      <td>540</td>\n",
       "      <td>756</td>\n",
       "      <td>961</td>\n",
       "      <td>1717</td>\n",
       "      <td>1998.0</td>\n",
       "      <td>0</td>\n",
       "      <td>140000</td>\n",
       "    </tr>\n",
       "    <tr>\n",
       "      <th>4</th>\n",
       "      <td>84.0</td>\n",
       "      <td>8</td>\n",
       "      <td>350.0</td>\n",
       "      <td>490</td>\n",
       "      <td>1145</td>\n",
       "      <td>1145</td>\n",
       "      <td>2198</td>\n",
       "      <td>2000.0</td>\n",
       "      <td>192</td>\n",
       "      <td>250000</td>\n",
       "    </tr>\n",
       "  </tbody>\n",
       "</table>\n",
       "</div>"
      ],
      "text/plain": [
       "   LotFrontage  OverallQual  MasVnrArea  BsmtUnfSF  TotalBsmtSF  1stFlrSF  \\\n",
       "0         65.0            7       196.0        150          856       856   \n",
       "1         80.0            6         0.0        284         1262      1262   \n",
       "2         68.0            7       162.0        434          920       920   \n",
       "3         60.0            7         0.0        540          756       961   \n",
       "4         84.0            8       350.0        490         1145      1145   \n",
       "\n",
       "   GrLivArea  GarageYrBlt  WoodDeckSF  SalePrice  \n",
       "0       1710       2003.0           0     208500  \n",
       "1       1262       1976.0         298     181500  \n",
       "2       1786       2001.0           0     223500  \n",
       "3       1717       1998.0           0     140000  \n",
       "4       2198       2000.0         192     250000  "
      ]
     },
     "execution_count": 25,
     "metadata": {},
     "output_type": "execute_result"
    }
   ],
   "source": [
    "# Skewed distributions\n",
    "\n",
    "cols_to_use = [\n",
    "    'OverallQual', 'TotalBsmtSF', '1stFlrSF', 'GrLivArea', 'WoodDeckSF',\n",
    "    'BsmtUnfSF', 'LotFrontage', 'MasVnrArea', 'GarageYrBlt', 'SalePrice'\n",
    "] \n",
    "df = pd.read_csv(\"houseprice.csv\", usecols=cols_to_use)\n",
    "df.head()"
   ]
  },
  {
   "cell_type": "code",
   "execution_count": 26,
   "id": "dfe6bb01",
   "metadata": {},
   "outputs": [
    {
     "data": {
      "text/plain": [
       "['LotFrontage', 'MasVnrArea', 'GarageYrBlt']"
      ]
     },
     "execution_count": 26,
     "metadata": {},
     "output_type": "execute_result"
    }
   ],
   "source": [
    "# in the next list comprehension, I loop over all the columns \n",
    "# of the dataset and select those that contain missing data\n",
    "\n",
    "[col for col in df.columns if df[col].isna().sum() > 0]"
   ]
  },
  {
   "cell_type": "code",
   "execution_count": 27,
   "id": "6b5553ba",
   "metadata": {},
   "outputs": [],
   "source": [
    "X = df.drop(columns=[\"SalePrice\"])\n",
    "y = df[\"SalePrice\"]\n",
    "\n",
    "from sklearn.model_selection import train_test_split\n",
    "\n",
    "X_train, X_test, y_train, y_test = train_test_split(X, y, test_size=0.3, random_state=0, shuffle=True, \n",
    "#                                                     stratify=y # Not a classification problem\n",
    "                                                   )"
   ]
  },
  {
   "cell_type": "code",
   "execution_count": 28,
   "id": "db214852",
   "metadata": {},
   "outputs": [
    {
     "data": {
      "image/png": "[encoded data removed]",
      "text/plain": [
       "<Figure size 720x720 with 4 Axes>"
      ]
     },
     "metadata": {
      "needs_background": "light"
     },
     "output_type": "display_data"
    }
   ],
   "source": [
    "# let's plot the distributions of the variables\n",
    "\n",
    "X_train[['LotFrontage', 'MasVnrArea', 'GarageYrBlt']].hist(bins=50, figsize=(10,10))\n",
    "plt.show();"
   ]
  },
  {
   "cell_type": "code",
   "execution_count": 29,
   "id": "84d6116a",
   "metadata": {},
   "outputs": [],
   "source": [
    "# the variables are not normally distributed, let's impute the NA using the IQR proximity rule,\n",
    "\n",
    "IQR_LotFrontage = X_train['LotFrontage'].quantile(0.75) - X_train['LotFrontage'].quantile(0.25)\n",
    "fillna_value_LotFrontage = X_train['LotFrontage'].quantile(0.75) + 3 * IQR_LotFrontage\n",
    "X_train[\"LotFrontage_imputed\"] = X_train[\"LotFrontage\"].fillna(fillna_value_LotFrontage)\n",
    "X_test[\"LotFrontage_imputed\"] = X_test[\"LotFrontage\"].fillna(fillna_value_LotFrontage)\n",
    "\n",
    "IQR_MasVnrArea = X_train['MasVnrArea'].quantile(0.75) - X_train['MasVnrArea'].quantile(0.25)\n",
    "fillna_value_MasVnrArea = X_train['MasVnrArea'].quantile(0.75) + 3 * IQR_MasVnrArea\n",
    "X_train[\"MasVnrArea_imputed\"] = X_train[\"MasVnrArea\"].fillna(fillna_value_MasVnrArea)\n",
    "X_test[\"MasVnrArea_imputed\"] = X_test[\"MasVnrArea\"].fillna(fillna_value_MasVnrArea)\n",
    "\n",
    "IQR_GarageYrBlt = X_train['GarageYrBlt'].quantile(0.75) - X_train['GarageYrBlt'].quantile(0.25)\n",
    "fillna_value_GarageYrBlt = X_train['GarageYrBlt'].quantile(0.75) + 3 * IQR_GarageYrBlt\n",
    "X_train[\"GarageYrBlt_imputed\"] = X_train[\"GarageYrBlt\"].fillna(fillna_value_GarageYrBlt)\n",
    "X_test[\"GarageYrBlt_imputed\"] = X_test[\"GarageYrBlt\"].fillna(fillna_value_GarageYrBlt)"
   ]
  },
  {
   "cell_type": "code",
   "execution_count": 30,
   "id": "ff5517b9",
   "metadata": {},
   "outputs": [
    {
     "data": {
      "image/png": "[encoded data removed]",
      "text/plain": [
       "<Figure size 432x288 with 1 Axes>"
      ]
     },
     "metadata": {
      "needs_background": "light"
     },
     "output_type": "display_data"
    }
   ],
   "source": [
    "# let's evaluate the effect of end tail imputation on the distribution\n",
    "\n",
    "# we can see that the distribution has changed for LotFrontAge\n",
    "# with now more values accumulating towards the extreme value\n",
    "\n",
    "fig = plt.figure()\n",
    "ax = fig.add_subplot(111)\n",
    "\n",
    "# original variable distribution\n",
    "X_train['LotFrontage'].plot(kind='kde', ax=ax, color=\"blue\")\n",
    "\n",
    "# imputed variable\n",
    "X_train['LotFrontage_imputed'].plot(kind='kde', ax=ax, color='red')\n",
    "\n",
    "# add legends\n",
    "lines, labels = ax.get_legend_handles_labels()\n",
    "ax.legend(lines, labels, loc='best');"
   ]
  },
  {
   "cell_type": "code",
   "execution_count": 31,
   "id": "f558fcf1",
   "metadata": {},
   "outputs": [
    {
     "data": {
      "image/png": "[encoded data removed]",
      "text/plain": [
       "<Figure size 432x288 with 1 Axes>"
      ]
     },
     "metadata": {
      "needs_background": "light"
     },
     "output_type": "display_data"
    }
   ],
   "source": [
    "# MasVnrArea had only few outliers, so the change in the distribution is\n",
    "# not so dramatic. Less than when using an arbitrary value of 2999 as\n",
    "# we did in the previous notebook\n",
    "\n",
    "fig = plt.figure()\n",
    "ax = fig.add_subplot(111)\n",
    "\n",
    "# original variable distribution\n",
    "X_train['MasVnrArea'].plot(kind='kde', ax=ax, color=\"blue\")\n",
    "\n",
    "# imputed variable\n",
    "X_train['MasVnrArea_imputed'].plot(kind='kde', ax=ax, color='red')\n",
    "\n",
    "# add legends\n",
    "lines, labels = ax.get_legend_handles_labels()\n",
    "ax.legend(lines, labels, loc='best');"
   ]
  },
  {
   "cell_type": "code",
   "execution_count": 32,
   "id": "a6781909",
   "metadata": {},
   "outputs": [
    {
     "data": {
      "image/png": "[encoded data removed]",
      "text/plain": [
       "<Figure size 432x288 with 1 Axes>"
      ]
     },
     "metadata": {
      "needs_background": "light"
     },
     "output_type": "display_data"
    }
   ],
   "source": [
    "fig = plt.figure()\n",
    "ax = fig.add_subplot(111)\n",
    "\n",
    "# original variable distribution\n",
    "X_train['GarageYrBlt'].plot(kind='kde', ax=ax, color=\"blue\")\n",
    "\n",
    "# imputed variable\n",
    "X_train['GarageYrBlt_imputed'].plot(kind='kde', ax=ax, color='red')\n",
    "\n",
    "# add legends\n",
    "lines, labels = ax.get_legend_handles_labels()\n",
    "ax.legend(lines, labels, loc='best');"
   ]
  },
  {
   "cell_type": "code",
   "execution_count": 33,
   "id": "c1155187",
   "metadata": {},
   "outputs": [
    {
     "data": {
      "image/png": "[encoded data removed]",
      "text/plain": [
       "<Figure size 432x288 with 1 Axes>"
      ]
     },
     "metadata": {
      "needs_background": "light"
     },
     "output_type": "display_data"
    }
   ],
   "source": [
    "# we see that there are a fewer outliers as well after the imputation\n",
    "\n",
    "X_train[['LotFrontage', 'LotFrontage_imputed']].boxplot();"
   ]
  },
  {
   "cell_type": "code",
   "execution_count": 34,
   "id": "3e073678",
   "metadata": {},
   "outputs": [
    {
     "data": {
      "image/png": "[encoded data removed]",
      "text/plain": [
       "<Figure size 432x288 with 1 Axes>"
      ]
     },
     "metadata": {
      "needs_background": "light"
     },
     "output_type": "display_data"
    }
   ],
   "source": [
    "# however, the outliers are not so affected for MasVnrArea\n",
    "\n",
    "X_train[['MasVnrArea', 'MasVnrArea_imputed']].boxplot();"
   ]
  },
  {
   "cell_type": "code",
   "execution_count": 35,
   "id": "5cfbdd1c",
   "metadata": {},
   "outputs": [
    {
     "data": {
      "image/png": "[encoded data removed]",
      "text/plain": [
       "<Figure size 432x288 with 1 Axes>"
      ]
     },
     "metadata": {
      "needs_background": "light"
     },
     "output_type": "display_data"
    }
   ],
   "source": [
    "X_train[['GarageYrBlt', 'GarageYrBlt_imputed']].boxplot();"
   ]
  },
  {
   "cell_type": "markdown",
   "id": "f3273a71",
   "metadata": {},
   "source": [
    "### Frequent Category Imputation\n",
    "* Although the mode, or most frequent value can be calculated for both numerical and categorical variables, in practice, we only use this technique on categorical variables. The reason is that for numerical variables, the mean or the median tend to better represent the average value of the population."
   ]
  },
  {
   "cell_type": "code",
   "execution_count": 36,
   "id": "83d4cd35",
   "metadata": {},
   "outputs": [
    {
     "data": {
      "text/html": [
       "<div>\n",
       "<style scoped>\n",
       "    .dataframe tbody tr th:only-of-type {\n",
       "        vertical-align: middle;\n",
       "    }\n",
       "\n",
       "    .dataframe tbody tr th {\n",
       "        vertical-align: top;\n",
       "    }\n",
       "\n",
       "    .dataframe thead th {\n",
       "        text-align: right;\n",
       "    }\n",
       "</style>\n",
       "<table border=\"1\" class=\"dataframe\">\n",
       "  <thead>\n",
       "    <tr style=\"text-align: right;\">\n",
       "      <th></th>\n",
       "      <th>BsmtQual</th>\n",
       "      <th>FireplaceQu</th>\n",
       "      <th>SalePrice</th>\n",
       "    </tr>\n",
       "  </thead>\n",
       "  <tbody>\n",
       "    <tr>\n",
       "      <th>0</th>\n",
       "      <td>Gd</td>\n",
       "      <td>NaN</td>\n",
       "      <td>208500</td>\n",
       "    </tr>\n",
       "    <tr>\n",
       "      <th>1</th>\n",
       "      <td>Gd</td>\n",
       "      <td>TA</td>\n",
       "      <td>181500</td>\n",
       "    </tr>\n",
       "    <tr>\n",
       "      <th>2</th>\n",
       "      <td>Gd</td>\n",
       "      <td>TA</td>\n",
       "      <td>223500</td>\n",
       "    </tr>\n",
       "    <tr>\n",
       "      <th>3</th>\n",
       "      <td>TA</td>\n",
       "      <td>Gd</td>\n",
       "      <td>140000</td>\n",
       "    </tr>\n",
       "    <tr>\n",
       "      <th>4</th>\n",
       "      <td>Gd</td>\n",
       "      <td>TA</td>\n",
       "      <td>250000</td>\n",
       "    </tr>\n",
       "  </tbody>\n",
       "</table>\n",
       "</div>"
      ],
      "text/plain": [
       "  BsmtQual FireplaceQu  SalePrice\n",
       "0       Gd         NaN     208500\n",
       "1       Gd          TA     181500\n",
       "2       Gd          TA     223500\n",
       "3       TA          Gd     140000\n",
       "4       Gd          TA     250000"
      ]
     },
     "execution_count": 36,
     "metadata": {},
     "output_type": "execute_result"
    }
   ],
   "source": [
    "cols_to_use = ['BsmtQual', 'FireplaceQu', 'SalePrice']\n",
    "df = pd.read_csv('houseprice.csv', usecols=cols_to_use)\n",
    "df.head()"
   ]
  },
  {
   "cell_type": "code",
   "execution_count": 37,
   "id": "a5ce8362",
   "metadata": {},
   "outputs": [
    {
     "data": {
      "text/plain": [
       "BsmtQual       0.025342\n",
       "FireplaceQu    0.472603\n",
       "SalePrice      0.000000\n",
       "dtype: float64"
      ]
     },
     "execution_count": 37,
     "metadata": {},
     "output_type": "execute_result"
    }
   ],
   "source": [
    "df.isna().mean()"
   ]
  },
  {
   "cell_type": "code",
   "execution_count": 38,
   "id": "9e9fb402",
   "metadata": {},
   "outputs": [],
   "source": [
    "X = df.drop(columns=[\"SalePrice\"])\n",
    "y = df[\"SalePrice\"]\n",
    "\n",
    "from sklearn.model_selection import train_test_split\n",
    "\n",
    "X_train, X_test, y_train, y_test = train_test_split(X, y, test_size=0.3, random_state=0, shuffle=True, \n",
    "#                                                     stratify=y # Not a classification problem\n",
    "                                                   )"
   ]
  },
  {
   "cell_type": "code",
   "execution_count": 39,
   "id": "055b45d4",
   "metadata": {},
   "outputs": [],
   "source": [
    "# BsmtQual\n",
    "fillna_value = X_train[\"BsmtQual\"].mode()[0]\n",
    "X_train['BsmtQual_imputed'] = X_train[\"BsmtQual\"].fillna(fillna_value)\n",
    "X_test['BsmtQual_imputed'] = X_test[\"BsmtQual\"].fillna(fillna_value)\n",
    "\n",
    "# FireplaceQu\n",
    "fillna_value = X_train[\"FireplaceQu\"].mode()[0]\n",
    "X_train['FireplaceQu_imputed'] = X_train[\"FireplaceQu\"].fillna(fillna_value)\n",
    "X_test['FireplaceQu_imputed'] = X_test[\"FireplaceQu\"].fillna(fillna_value)"
   ]
  },
  {
   "cell_type": "code",
   "execution_count": 40,
   "id": "9455c257",
   "metadata": {},
   "outputs": [
    {
     "data": {
      "text/plain": [
       "BsmtQual               0.023483\n",
       "FireplaceQu            0.467710\n",
       "BsmtQual_imputed       0.000000\n",
       "FireplaceQu_imputed    0.000000\n",
       "dtype: float64"
      ]
     },
     "execution_count": 40,
     "metadata": {},
     "output_type": "execute_result"
    }
   ],
   "source": [
    "X_train.isna().mean()"
   ]
  },
  {
   "cell_type": "code",
   "execution_count": 41,
   "id": "adb3a2f4",
   "metadata": {},
   "outputs": [
    {
     "data": {
      "text/plain": [
       "'TA'"
      ]
     },
     "execution_count": 41,
     "metadata": {},
     "output_type": "execute_result"
    }
   ],
   "source": [
    "X_train[\"BsmtQual\"].mode()[0]"
   ]
  },
  {
   "cell_type": "code",
   "execution_count": 42,
   "id": "d1107c82",
   "metadata": {},
   "outputs": [
    {
     "data": {
      "image/png": "[encoded data removed]",
      "text/plain": [
       "<Figure size 432x288 with 1 Axes>"
      ]
     },
     "metadata": {
      "needs_background": "light"
     },
     "output_type": "display_data"
    }
   ],
   "source": [
    "sns.countplot(data=X_train, x=\"BsmtQual\");"
   ]
  },
  {
   "cell_type": "code",
   "execution_count": 43,
   "id": "07c0b829",
   "metadata": {},
   "outputs": [
    {
     "data": {
      "image/png": "[encoded data removed]",
      "text/plain": [
       "<Figure size 432x288 with 1 Axes>"
      ]
     },
     "metadata": {
      "needs_background": "light"
     },
     "output_type": "display_data"
    }
   ],
   "source": [
    "sns.countplot(data=X_train, x=\"BsmtQual_imputed\");"
   ]
  },
  {
   "cell_type": "code",
   "execution_count": 44,
   "id": "423ccbdd",
   "metadata": {},
   "outputs": [
    {
     "data": {
      "text/plain": [
       "'Gd'"
      ]
     },
     "execution_count": 44,
     "metadata": {},
     "output_type": "execute_result"
    }
   ],
   "source": [
    "X_train[\"FireplaceQu\"].mode()[0]"
   ]
  },
  {
   "cell_type": "code",
   "execution_count": 45,
   "id": "00ca2839",
   "metadata": {},
   "outputs": [
    {
     "data": {
      "image/png": "[encoded data removed]",
      "text/plain": [
       "<Figure size 432x288 with 1 Axes>"
      ]
     },
     "metadata": {
      "needs_background": "light"
     },
     "output_type": "display_data"
    }
   ],
   "source": [
    "sns.countplot(data=X_train, x=\"FireplaceQu\");"
   ]
  },
  {
   "cell_type": "code",
   "execution_count": 46,
   "id": "edc22eb1",
   "metadata": {},
   "outputs": [
    {
     "data": {
      "image/png": "[encoded data removed]",
      "text/plain": [
       "<Figure size 432x288 with 1 Axes>"
      ]
     },
     "metadata": {
      "needs_background": "light"
     },
     "output_type": "display_data"
    }
   ],
   "source": [
    "sns.countplot(data=X_train, x=\"FireplaceQu_imputed\");"
   ]
  },
  {
   "cell_type": "markdown",
   "id": "817ee61e",
   "metadata": {},
   "source": [
    "### Missing Category Imputation\n",
    "* This is the most widely used method of missing data imputation for categorical variables. This method consists in treating missing data as an additional label or category of the variable. All the missing observations are grouped in the newly created label 'Missing'."
   ]
  },
  {
   "cell_type": "code",
   "execution_count": 47,
   "id": "50e91ccf",
   "metadata": {},
   "outputs": [
    {
     "data": {
      "text/html": [
       "<div>\n",
       "<style scoped>\n",
       "    .dataframe tbody tr th:only-of-type {\n",
       "        vertical-align: middle;\n",
       "    }\n",
       "\n",
       "    .dataframe tbody tr th {\n",
       "        vertical-align: top;\n",
       "    }\n",
       "\n",
       "    .dataframe thead th {\n",
       "        text-align: right;\n",
       "    }\n",
       "</style>\n",
       "<table border=\"1\" class=\"dataframe\">\n",
       "  <thead>\n",
       "    <tr style=\"text-align: right;\">\n",
       "      <th></th>\n",
       "      <th>BsmtQual</th>\n",
       "      <th>FireplaceQu</th>\n",
       "      <th>SalePrice</th>\n",
       "    </tr>\n",
       "  </thead>\n",
       "  <tbody>\n",
       "    <tr>\n",
       "      <th>0</th>\n",
       "      <td>Gd</td>\n",
       "      <td>NaN</td>\n",
       "      <td>208500</td>\n",
       "    </tr>\n",
       "    <tr>\n",
       "      <th>1</th>\n",
       "      <td>Gd</td>\n",
       "      <td>TA</td>\n",
       "      <td>181500</td>\n",
       "    </tr>\n",
       "    <tr>\n",
       "      <th>2</th>\n",
       "      <td>Gd</td>\n",
       "      <td>TA</td>\n",
       "      <td>223500</td>\n",
       "    </tr>\n",
       "    <tr>\n",
       "      <th>3</th>\n",
       "      <td>TA</td>\n",
       "      <td>Gd</td>\n",
       "      <td>140000</td>\n",
       "    </tr>\n",
       "    <tr>\n",
       "      <th>4</th>\n",
       "      <td>Gd</td>\n",
       "      <td>TA</td>\n",
       "      <td>250000</td>\n",
       "    </tr>\n",
       "  </tbody>\n",
       "</table>\n",
       "</div>"
      ],
      "text/plain": [
       "  BsmtQual FireplaceQu  SalePrice\n",
       "0       Gd         NaN     208500\n",
       "1       Gd          TA     181500\n",
       "2       Gd          TA     223500\n",
       "3       TA          Gd     140000\n",
       "4       Gd          TA     250000"
      ]
     },
     "execution_count": 47,
     "metadata": {},
     "output_type": "execute_result"
    }
   ],
   "source": [
    "cols_to_use = ['BsmtQual', 'FireplaceQu', 'SalePrice']\n",
    "\n",
    "df = pd.read_csv('houseprice.csv', usecols=cols_to_use)\n",
    "df.head()"
   ]
  },
  {
   "cell_type": "code",
   "execution_count": 48,
   "id": "6f114bd6",
   "metadata": {},
   "outputs": [],
   "source": [
    "# When replacing NA in categorical variables by a label called 'Missing', we are not learning anything from the \n",
    "# training set, so in principle we could do this in the original dataset and then separate into train and test. \n",
    "# However, I do not recommend this practice. You will see in later notebooks that splitting into train and test right \n",
    "# at the beginning helps with building a machine learning pipeline. So I will continue with this practice here as well.\n",
    "\n",
    "X = df.drop(columns=[\"SalePrice\"])\n",
    "y = df[\"SalePrice\"]\n",
    "\n",
    "from sklearn.model_selection import train_test_split\n",
    "\n",
    "X_train, X_test, y_train, y_test = train_test_split(X, y, test_size=0.3, random_state=0, shuffle=True, \n",
    "#                                                     stratify=y # Not a classification problem\n",
    "                                                   )"
   ]
  },
  {
   "cell_type": "code",
   "execution_count": 49,
   "id": "4a26fe17",
   "metadata": {},
   "outputs": [
    {
     "data": {
      "text/plain": [
       "BsmtQual       0.023483\n",
       "FireplaceQu    0.467710\n",
       "dtype: float64"
      ]
     },
     "execution_count": 49,
     "metadata": {},
     "output_type": "execute_result"
    }
   ],
   "source": [
    "X_train.isnull().mean()"
   ]
  },
  {
   "cell_type": "code",
   "execution_count": 50,
   "id": "d923c15b",
   "metadata": {},
   "outputs": [
    {
     "data": {
      "image/png": "[encoded data removed]",
      "text/plain": [
       "<Figure size 432x288 with 1 Axes>"
      ]
     },
     "metadata": {
      "needs_background": "light"
     },
     "output_type": "display_data"
    }
   ],
   "source": [
    "sns.countplot(data=X_train, x=\"BsmtQual\");"
   ]
  },
  {
   "cell_type": "code",
   "execution_count": 51,
   "id": "f8fd746a",
   "metadata": {},
   "outputs": [
    {
     "data": {
      "image/png": "[encoded data removed]",
      "text/plain": [
       "<Figure size 432x288 with 1 Axes>"
      ]
     },
     "metadata": {
      "needs_background": "light"
     },
     "output_type": "display_data"
    }
   ],
   "source": [
    "sns.countplot(data=X_train, x=\"FireplaceQu\");"
   ]
  },
  {
   "cell_type": "code",
   "execution_count": 52,
   "id": "320eec31",
   "metadata": {},
   "outputs": [],
   "source": [
    "X_train['BsmtQual'] = X_train['BsmtQual'].fillna('Missing')\n",
    "X_test['BsmtQual'] = X_test['BsmtQual'].fillna('Missing')\n",
    "\n",
    "X_train['FireplaceQu'] = X_train['FireplaceQu'].fillna('Missing')\n",
    "X_test['FireplaceQu'] = X_test['FireplaceQu'].fillna('Missing')"
   ]
  },
  {
   "cell_type": "code",
   "execution_count": 53,
   "id": "b25d29b2",
   "metadata": {},
   "outputs": [
    {
     "data": {
      "text/plain": [
       "BsmtQual       0.0\n",
       "FireplaceQu    0.0\n",
       "dtype: float64"
      ]
     },
     "execution_count": 53,
     "metadata": {},
     "output_type": "execute_result"
    }
   ],
   "source": [
    "X_train.isnull().mean()"
   ]
  },
  {
   "cell_type": "code",
   "execution_count": 54,
   "id": "163320f9",
   "metadata": {},
   "outputs": [
    {
     "data": {
      "image/png": "[encoded data removed]",
      "text/plain": [
       "<Figure size 432x288 with 1 Axes>"
      ]
     },
     "metadata": {
      "needs_background": "light"
     },
     "output_type": "display_data"
    }
   ],
   "source": [
    "sns.countplot(data=X_train, x=\"BsmtQual\");"
   ]
  },
  {
   "cell_type": "code",
   "execution_count": 55,
   "id": "3fadc593",
   "metadata": {},
   "outputs": [
    {
     "data": {
      "image/png": "[encoded data removed]",
      "text/plain": [
       "<Figure size 432x288 with 1 Axes>"
      ]
     },
     "metadata": {
      "needs_background": "light"
     },
     "output_type": "display_data"
    }
   ],
   "source": [
    "sns.countplot(data=X_train, x=\"FireplaceQu\");"
   ]
  },
  {
   "cell_type": "markdown",
   "id": "e143f45e",
   "metadata": {},
   "source": [
    "### Random Sample Imputation\n",
    "* By random sampling observations of the variable for those instances where data is available, we guarantee that the mean and standard deviation of the variable are preserved.\n",
    "* By random sampling observations of the present categories, for categorical variables, we guarantee that the frequency of the different categories / labels within the variable is preserved."
   ]
  },
  {
   "cell_type": "code",
   "execution_count": 56,
   "id": "d9765817",
   "metadata": {},
   "outputs": [
    {
     "data": {
      "text/html": [
       "<div>\n",
       "<style scoped>\n",
       "    .dataframe tbody tr th:only-of-type {\n",
       "        vertical-align: middle;\n",
       "    }\n",
       "\n",
       "    .dataframe tbody tr th {\n",
       "        vertical-align: top;\n",
       "    }\n",
       "\n",
       "    .dataframe thead th {\n",
       "        text-align: right;\n",
       "    }\n",
       "</style>\n",
       "<table border=\"1\" class=\"dataframe\">\n",
       "  <thead>\n",
       "    <tr style=\"text-align: right;\">\n",
       "      <th></th>\n",
       "      <th>Survived</th>\n",
       "      <th>Age</th>\n",
       "      <th>Fare</th>\n",
       "    </tr>\n",
       "  </thead>\n",
       "  <tbody>\n",
       "    <tr>\n",
       "      <th>0</th>\n",
       "      <td>0</td>\n",
       "      <td>22.0</td>\n",
       "      <td>7.2500</td>\n",
       "    </tr>\n",
       "    <tr>\n",
       "      <th>1</th>\n",
       "      <td>1</td>\n",
       "      <td>38.0</td>\n",
       "      <td>71.2833</td>\n",
       "    </tr>\n",
       "    <tr>\n",
       "      <th>2</th>\n",
       "      <td>1</td>\n",
       "      <td>26.0</td>\n",
       "      <td>7.9250</td>\n",
       "    </tr>\n",
       "    <tr>\n",
       "      <th>3</th>\n",
       "      <td>1</td>\n",
       "      <td>35.0</td>\n",
       "      <td>53.1000</td>\n",
       "    </tr>\n",
       "    <tr>\n",
       "      <th>4</th>\n",
       "      <td>0</td>\n",
       "      <td>35.0</td>\n",
       "      <td>8.0500</td>\n",
       "    </tr>\n",
       "  </tbody>\n",
       "</table>\n",
       "</div>"
      ],
      "text/plain": [
       "   Survived   Age     Fare\n",
       "0         0  22.0   7.2500\n",
       "1         1  38.0  71.2833\n",
       "2         1  26.0   7.9250\n",
       "3         1  35.0  53.1000\n",
       "4         0  35.0   8.0500"
      ]
     },
     "execution_count": 56,
     "metadata": {},
     "output_type": "execute_result"
    }
   ],
   "source": [
    "# load the Titanic Dataset with a few variables for demonstration\n",
    "\n",
    "df = pd.read_csv('titanic.csv', usecols=['Age', 'Fare', 'Survived'])\n",
    "df.head()"
   ]
  },
  {
   "cell_type": "code",
   "execution_count": 57,
   "id": "fd54512f",
   "metadata": {},
   "outputs": [
    {
     "data": {
      "text/plain": [
       "Survived    0.000000\n",
       "Age         0.198653\n",
       "Fare        0.000000\n",
       "dtype: float64"
      ]
     },
     "execution_count": 57,
     "metadata": {},
     "output_type": "execute_result"
    }
   ],
   "source": [
    "df.isnull().mean()"
   ]
  },
  {
   "cell_type": "code",
   "execution_count": 58,
   "id": "d129794e",
   "metadata": {},
   "outputs": [],
   "source": [
    "X = df.drop(labels=[\"Survived\"], axis=1)\n",
    "y = df[\"Survived\"]\n",
    "\n",
    "from sklearn.model_selection import train_test_split\n",
    "\n",
    "X_train, X_test, y_train, y_test = train_test_split(X, y, test_size=0.3, random_state=0, shuffle=True, stratify=y)"
   ]
  },
  {
   "cell_type": "code",
   "execution_count": 59,
   "id": "7d3203f9",
   "metadata": {},
   "outputs": [],
   "source": [
    "# let's impute Age by random sampling both in\n",
    "# train and test sets\n",
    "\n",
    "# create the new variable where NA will be imputed:\n",
    "# make a copy from the original variable, with NA\n",
    "X_train['Age_imputed'] = X_train['Age'].copy()\n",
    "X_test['Age_imputed'] = X_test['Age'].copy()\n",
    "\n",
    "random_sample_train = X_train['Age'].dropna().sample(n=X_train['Age'].isnull().sum(), random_state=0)\n",
    "random_sample_test = X_train['Age'].dropna().sample(n=X_test['Age'].isnull().sum(), random_state=0)\n",
    "\n",
    "# what is all of the above code doing?\n",
    "\n",
    "# 1) dropna() removes the NA from the original variable, this\n",
    "# means that I will randomly extract existing values and not NAs\n",
    "# 2) sample() is the method that will do the random sampling\n",
    "# 3) X_train['Age'].isnull().sum() is the number of random values to extract\n",
    "# I want to extract as many values as NAs are present in the original variable\n",
    "# 4) random_state sets the seed for reproducibility, so that I extract \n",
    "# always the same random values, every time I run this notebook\n",
    "\n",
    "# pandas needs to have the same index in order to merge datasets\n",
    "random_sample_train.index = X_train[X_train['Age'].isnull()].index\n",
    "\n",
    "# replace the NA in the newly created variable\n",
    "X_train.loc[X_train['Age'].isnull(), 'Age_imputed'] = random_sample_train\n",
    "X_test.loc[X_test['Age'].isnull(), 'Age_imputed'] = random_sample_test"
   ]
  },
  {
   "cell_type": "code",
   "execution_count": 60,
   "id": "168fa9e3",
   "metadata": {},
   "outputs": [
    {
     "data": {
      "image/png": "[encoded data removed]",
      "text/plain": [
       "<Figure size 432x288 with 1 Axes>"
      ]
     },
     "metadata": {
      "needs_background": "light"
     },
     "output_type": "display_data"
    }
   ],
   "source": [
    "# we can see that the distribution of the variable after\n",
    "# random sample imputation is almost exactly the same as the original\n",
    "\n",
    "fig = plt.figure()\n",
    "ax = fig.add_subplot(111)\n",
    "\n",
    "X_train['Age'].plot(kind='kde', ax=ax, color=\"blue\")\n",
    "X_train['Age_imputed'].plot(kind='kde', ax=ax, color='red')\n",
    "\n",
    "lines, labels = ax.get_legend_handles_labels()\n",
    "ax.legend(lines, labels, loc='best');"
   ]
  },
  {
   "cell_type": "code",
   "execution_count": 61,
   "id": "b9742cfa",
   "metadata": {},
   "outputs": [
    {
     "data": {
      "image/png": "[encoded data removed]",
      "text/plain": [
       "<Figure size 432x288 with 1 Axes>"
      ]
     },
     "metadata": {
      "needs_background": "light"
     },
     "output_type": "display_data"
    }
   ],
   "source": [
    "# Finally, the outliers are also less affected by this imputation\n",
    "# technique\n",
    "\n",
    "# Let's find out using a boxplot\n",
    "X_train[['Age', 'Age_imputed']].boxplot();"
   ]
  },
  {
   "cell_type": "markdown",
   "id": "609f1f45",
   "metadata": {},
   "source": [
    "### Missing Indicator\n",
    "* A Missing Indicator is an additional binary variable, which indicates whether the data was missing for an observation (1) or not (0)."
   ]
  },
  {
   "cell_type": "code",
   "execution_count": 62,
   "id": "222a66d2",
   "metadata": {},
   "outputs": [
    {
     "data": {
      "text/html": [
       "<div>\n",
       "<style scoped>\n",
       "    .dataframe tbody tr th:only-of-type {\n",
       "        vertical-align: middle;\n",
       "    }\n",
       "\n",
       "    .dataframe tbody tr th {\n",
       "        vertical-align: top;\n",
       "    }\n",
       "\n",
       "    .dataframe thead th {\n",
       "        text-align: right;\n",
       "    }\n",
       "</style>\n",
       "<table border=\"1\" class=\"dataframe\">\n",
       "  <thead>\n",
       "    <tr style=\"text-align: right;\">\n",
       "      <th></th>\n",
       "      <th>Survived</th>\n",
       "      <th>Age</th>\n",
       "      <th>Fare</th>\n",
       "    </tr>\n",
       "  </thead>\n",
       "  <tbody>\n",
       "    <tr>\n",
       "      <th>0</th>\n",
       "      <td>0</td>\n",
       "      <td>22.0</td>\n",
       "      <td>7.2500</td>\n",
       "    </tr>\n",
       "    <tr>\n",
       "      <th>1</th>\n",
       "      <td>1</td>\n",
       "      <td>38.0</td>\n",
       "      <td>71.2833</td>\n",
       "    </tr>\n",
       "    <tr>\n",
       "      <th>2</th>\n",
       "      <td>1</td>\n",
       "      <td>26.0</td>\n",
       "      <td>7.9250</td>\n",
       "    </tr>\n",
       "    <tr>\n",
       "      <th>3</th>\n",
       "      <td>1</td>\n",
       "      <td>35.0</td>\n",
       "      <td>53.1000</td>\n",
       "    </tr>\n",
       "    <tr>\n",
       "      <th>4</th>\n",
       "      <td>0</td>\n",
       "      <td>35.0</td>\n",
       "      <td>8.0500</td>\n",
       "    </tr>\n",
       "  </tbody>\n",
       "</table>\n",
       "</div>"
      ],
      "text/plain": [
       "   Survived   Age     Fare\n",
       "0         0  22.0   7.2500\n",
       "1         1  38.0  71.2833\n",
       "2         1  26.0   7.9250\n",
       "3         1  35.0  53.1000\n",
       "4         0  35.0   8.0500"
      ]
     },
     "execution_count": 62,
     "metadata": {},
     "output_type": "execute_result"
    }
   ],
   "source": [
    "# load the Titanic Dataset with a few variables for demonstration\n",
    "\n",
    "df = pd.read_csv('titanic.csv', usecols=['Age', 'Fare', 'Survived'])\n",
    "df.head()"
   ]
  },
  {
   "cell_type": "code",
   "execution_count": 63,
   "id": "ac8112c1",
   "metadata": {},
   "outputs": [
    {
     "data": {
      "text/plain": [
       "Survived    0.000000\n",
       "Age         0.198653\n",
       "Fare        0.000000\n",
       "dtype: float64"
      ]
     },
     "execution_count": 63,
     "metadata": {},
     "output_type": "execute_result"
    }
   ],
   "source": [
    "df.isna().mean()"
   ]
  },
  {
   "cell_type": "code",
   "execution_count": 64,
   "id": "f64a69fd",
   "metadata": {},
   "outputs": [],
   "source": [
    "X = df.drop(labels=[\"Survived\"], axis=1)\n",
    "y = df[\"Survived\"]\n",
    "\n",
    "from sklearn.model_selection import train_test_split\n",
    "\n",
    "X_train, X_test, y_train, y_test = train_test_split(X, y, test_size=0.3, random_state=0, shuffle=True, stratify=y)"
   ]
  },
  {
   "cell_type": "code",
   "execution_count": 65,
   "id": "8a35eb92",
   "metadata": {},
   "outputs": [
    {
     "data": {
      "text/html": [
       "<div>\n",
       "<style scoped>\n",
       "    .dataframe tbody tr th:only-of-type {\n",
       "        vertical-align: middle;\n",
       "    }\n",
       "\n",
       "    .dataframe tbody tr th {\n",
       "        vertical-align: top;\n",
       "    }\n",
       "\n",
       "    .dataframe thead th {\n",
       "        text-align: right;\n",
       "    }\n",
       "</style>\n",
       "<table border=\"1\" class=\"dataframe\">\n",
       "  <thead>\n",
       "    <tr style=\"text-align: right;\">\n",
       "      <th></th>\n",
       "      <th>Age</th>\n",
       "      <th>Fare</th>\n",
       "      <th>Age_NA</th>\n",
       "    </tr>\n",
       "  </thead>\n",
       "  <tbody>\n",
       "    <tr>\n",
       "      <th>231</th>\n",
       "      <td>29.0</td>\n",
       "      <td>7.7750</td>\n",
       "      <td>0</td>\n",
       "    </tr>\n",
       "    <tr>\n",
       "      <th>836</th>\n",
       "      <td>21.0</td>\n",
       "      <td>8.6625</td>\n",
       "      <td>0</td>\n",
       "    </tr>\n",
       "    <tr>\n",
       "      <th>639</th>\n",
       "      <td>NaN</td>\n",
       "      <td>16.1000</td>\n",
       "      <td>1</td>\n",
       "    </tr>\n",
       "    <tr>\n",
       "      <th>389</th>\n",
       "      <td>17.0</td>\n",
       "      <td>12.0000</td>\n",
       "      <td>0</td>\n",
       "    </tr>\n",
       "    <tr>\n",
       "      <th>597</th>\n",
       "      <td>49.0</td>\n",
       "      <td>0.0000</td>\n",
       "      <td>0</td>\n",
       "    </tr>\n",
       "  </tbody>\n",
       "</table>\n",
       "</div>"
      ],
      "text/plain": [
       "      Age     Fare  Age_NA\n",
       "231  29.0   7.7750       0\n",
       "836  21.0   8.6625       0\n",
       "639   NaN  16.1000       1\n",
       "389  17.0  12.0000       0\n",
       "597  49.0   0.0000       0"
      ]
     },
     "execution_count": 65,
     "metadata": {},
     "output_type": "execute_result"
    }
   ],
   "source": [
    "# add the missing indicator\n",
    "\n",
    "# this is done very simply by using np.where from numpy\n",
    "# and isnull from pandas:\n",
    "\n",
    "X_train['Age_NA'] = np.where(X_train['Age'].isnull(), 1, 0)\n",
    "X_test['Age_NA'] = np.where(X_test['Age'].isnull(), 1, 0)\n",
    "\n",
    "X_train.head()"
   ]
  },
  {
   "cell_type": "markdown",
   "id": "9508a769",
   "metadata": {},
   "source": [
    "* Adding a missing indicator is never used alone. On the contrary, it is always used together with another imputation technique"
   ]
  },
  {
   "cell_type": "markdown",
   "id": "da2fde76",
   "metadata": {},
   "source": [
    "### Mean Median Imputation Sklearn"
   ]
  },
  {
   "cell_type": "markdown",
   "id": "51eb0b38",
   "metadata": {},
   "source": [
    "* [SimpleImputer](https://scikit-learn.org/stable/modules/generated/sklearn.impute.SimpleImputer.html#sklearn.impute.SimpleImputer)\n",
    "* [ColumnTransformer](https://scikit-learn.org/stable/modules/generated/sklearn.compose.ColumnTransformer.html)\n",
    "* [make_column_transformer](https://scikit-learn.org/stable/modules/generated/sklearn.compose.make_column_transformer.html#sklearn.compose.make_column_transformer)"
   ]
  },
  {
   "cell_type": "code",
   "execution_count": 66,
   "id": "74bb1e07",
   "metadata": {},
   "outputs": [],
   "source": [
    "cols_to_use = [\n",
    "    'OverallQual', 'TotalBsmtSF', '1stFlrSF', 'GrLivArea', 'WoodDeckSF',\n",
    "    'BsmtUnfSF', 'LotFrontage', 'MasVnrArea', 'GarageYrBlt', 'SalePrice'\n",
    "]\n",
    "df = pd.read_csv('houseprice.csv', usecols=cols_to_use)"
   ]
  },
  {
   "cell_type": "code",
   "execution_count": 67,
   "id": "86688600",
   "metadata": {},
   "outputs": [
    {
     "data": {
      "text/plain": [
       "LotFrontage    0.177397\n",
       "OverallQual    0.000000\n",
       "MasVnrArea     0.005479\n",
       "BsmtUnfSF      0.000000\n",
       "TotalBsmtSF    0.000000\n",
       "1stFlrSF       0.000000\n",
       "GrLivArea      0.000000\n",
       "GarageYrBlt    0.055479\n",
       "WoodDeckSF     0.000000\n",
       "SalePrice      0.000000\n",
       "dtype: float64"
      ]
     },
     "execution_count": 67,
     "metadata": {},
     "output_type": "execute_result"
    }
   ],
   "source": [
    "df.isna().mean()"
   ]
  },
  {
   "cell_type": "code",
   "execution_count": 68,
   "id": "16d3c809",
   "metadata": {},
   "outputs": [],
   "source": [
    "X = df.drop(columns=[\"SalePrice\"])\n",
    "y = df[\"SalePrice\"]\n",
    "\n",
    "from sklearn.model_selection import train_test_split\n",
    "\n",
    "X_train, X_test, y_train, y_test = train_test_split(X, y, test_size=0.3, random_state=0, shuffle=True, \n",
    "#                                                     stratify=y # Not a classification problem\n",
    "                                                   )"
   ]
  },
  {
   "cell_type": "code",
   "execution_count": 69,
   "id": "c775d0bf",
   "metadata": {},
   "outputs": [
    {
     "data": {
      "text/plain": [
       "LotFrontage    0.184932\n",
       "OverallQual    0.000000\n",
       "MasVnrArea     0.004892\n",
       "BsmtUnfSF      0.000000\n",
       "TotalBsmtSF    0.000000\n",
       "1stFlrSF       0.000000\n",
       "GrLivArea      0.000000\n",
       "GarageYrBlt    0.052838\n",
       "WoodDeckSF     0.000000\n",
       "dtype: float64"
      ]
     },
     "execution_count": 69,
     "metadata": {},
     "output_type": "execute_result"
    }
   ],
   "source": [
    "X_train.isnull().mean()"
   ]
  },
  {
   "cell_type": "code",
   "execution_count": 70,
   "id": "853c1578",
   "metadata": {},
   "outputs": [],
   "source": [
    "from sklearn.impute import SimpleImputer\n",
    "from sklearn.compose import ColumnTransformer, make_column_transformer\n",
    "\n",
    "numeric_features_mean = ['LotFrontage']\n",
    "numeric_features_median = ['MasVnrArea', 'GarageYrBlt']\n",
    "\n",
    "preprocessor = ColumnTransformer(transformers=[\n",
    "    ('mean_imputer', SimpleImputer(strategy='mean'), numeric_features_mean),\n",
    "    ('median_imputer', SimpleImputer(strategy='median'), numeric_features_median)\n",
    "], remainder='passthrough')\n",
    "\n",
    "# preprocessor = make_column_transformer(\n",
    "#     (SimpleImputer(strategy='mean'), numeric_features_mean),\n",
    "#     (SimpleImputer(strategy='median'), numeric_features_median),\n",
    "#     remainder='passthrough'\n",
    "# )"
   ]
  },
  {
   "cell_type": "code",
   "execution_count": 71,
   "id": "5cb3ab3b",
   "metadata": {},
   "outputs": [
    {
     "data": {
      "text/plain": [
       "[('mean_imputer', SimpleImputer(), ['LotFrontage']),\n",
       " ('median_imputer',\n",
       "  SimpleImputer(strategy='median'),\n",
       "  ['MasVnrArea', 'GarageYrBlt'])]"
      ]
     },
     "execution_count": 71,
     "metadata": {},
     "output_type": "execute_result"
    }
   ],
   "source": [
    "preprocessor.transformers"
   ]
  },
  {
   "cell_type": "code",
   "execution_count": 72,
   "id": "26b27458",
   "metadata": {},
   "outputs": [
    {
     "data": {
      "text/plain": [
       "LotFrontage    69.668667\n",
       "dtype: float64"
      ]
     },
     "execution_count": 72,
     "metadata": {},
     "output_type": "execute_result"
    }
   ],
   "source": [
    "# same as below\n",
    "X_train[numeric_features_mean].mean()"
   ]
  },
  {
   "cell_type": "code",
   "execution_count": 73,
   "id": "ce46f921",
   "metadata": {},
   "outputs": [
    {
     "data": {
      "text/plain": [
       "MasVnrArea        0.0\n",
       "GarageYrBlt    1979.0\n",
       "dtype: float64"
      ]
     },
     "execution_count": 73,
     "metadata": {},
     "output_type": "execute_result"
    }
   ],
   "source": [
    "# same as below\n",
    "X_train[numeric_features_median].median()"
   ]
  },
  {
   "cell_type": "code",
   "execution_count": 74,
   "id": "efd2b030",
   "metadata": {},
   "outputs": [],
   "source": [
    "# remember that the returned object is a NumPy array\n",
    "\n",
    "X_train = preprocessor.fit_transform(X_train)\n",
    "X_test = preprocessor.transform(X_test)"
   ]
  },
  {
   "cell_type": "code",
   "execution_count": 75,
   "id": "3b0dacdd",
   "metadata": {},
   "outputs": [
    {
     "data": {
      "text/plain": [
       "{'mean_imputer': SimpleImputer(),\n",
       " 'median_imputer': SimpleImputer(strategy='median'),\n",
       " 'remainder': 'passthrough'}"
      ]
     },
     "execution_count": 75,
     "metadata": {},
     "output_type": "execute_result"
    }
   ],
   "source": [
    "preprocessor.named_transformers_"
   ]
  },
  {
   "cell_type": "code",
   "execution_count": 76,
   "id": "0f8adc29",
   "metadata": {},
   "outputs": [
    {
     "data": {
      "text/plain": [
       "array([69.66866747])"
      ]
     },
     "execution_count": 76,
     "metadata": {},
     "output_type": "execute_result"
    }
   ],
   "source": [
    "# same as above\n",
    "preprocessor.named_transformers_['mean_imputer'].statistics_"
   ]
  },
  {
   "cell_type": "code",
   "execution_count": 77,
   "id": "09e3e0f0",
   "metadata": {},
   "outputs": [
    {
     "data": {
      "text/plain": [
       "array([   0., 1979.])"
      ]
     },
     "execution_count": 77,
     "metadata": {},
     "output_type": "execute_result"
    }
   ],
   "source": [
    "# same as above\n",
    "preprocessor.named_transformers_['median_imputer'].statistics_"
   ]
  },
  {
   "cell_type": "code",
   "execution_count": 78,
   "id": "9761c2ef",
   "metadata": {},
   "outputs": [
    {
     "data": {
      "text/plain": [
       "(1022, 9)"
      ]
     },
     "execution_count": 78,
     "metadata": {},
     "output_type": "execute_result"
    }
   ],
   "source": [
    "# remainder='passthrough'\n",
    "X_train.shape"
   ]
  },
  {
   "cell_type": "markdown",
   "id": "77bf49b2",
   "metadata": {},
   "source": [
    "### Arbitrary Value Imputation Sklearn"
   ]
  },
  {
   "cell_type": "code",
   "execution_count": 79,
   "id": "67eebb6d",
   "metadata": {},
   "outputs": [],
   "source": [
    "cols_to_use = [\n",
    "    'OverallQual', 'TotalBsmtSF', '1stFlrSF', 'GrLivArea', 'WoodDeckSF',\n",
    "    'BsmtUnfSF', 'LotFrontage', 'MasVnrArea', 'GarageYrBlt', 'SalePrice'\n",
    "]\n",
    "df = pd.read_csv('houseprice.csv', usecols=cols_to_use)"
   ]
  },
  {
   "cell_type": "code",
   "execution_count": 80,
   "id": "0ecd1a29",
   "metadata": {},
   "outputs": [],
   "source": [
    "X = df.drop(columns=[\"SalePrice\"])\n",
    "y = df[\"SalePrice\"]\n",
    "\n",
    "from sklearn.model_selection import train_test_split\n",
    "\n",
    "X_train, X_test, y_train, y_test = train_test_split(X, y, test_size=0.3, random_state=0, shuffle=True, \n",
    "#                                                     stratify=y # Not a classification problem\n",
    "                                                   )"
   ]
  },
  {
   "cell_type": "code",
   "execution_count": 81,
   "id": "50a3dbc9",
   "metadata": {},
   "outputs": [],
   "source": [
    "from sklearn.impute import SimpleImputer\n",
    "from sklearn.compose import ColumnTransformer, make_column_transformer\n",
    "\n",
    "features_LotFrontAge = ['LotFrontage']\n",
    "features_MasVnrArea = ['MasVnrArea']\n",
    "features_GarageYrBlt = ['GarageYrBlt']\n",
    "\n",
    "preprocessor = ColumnTransformer(transformers=[\n",
    "    ('imputer_LotFrontAge', SimpleImputer(strategy='constant', fill_value=999), features_LotFrontAge),\n",
    "    ('imputer_MasVnrArea', SimpleImputer(strategy='constant', fill_value=-10), features_MasVnrArea),\n",
    "    ('imputer_GarageYrBlt', SimpleImputer(strategy='constant', fill_value=1700), features_GarageYrBlt)\n",
    "], remainder='drop')\n",
    "\n",
    "# preprocessor = make_column_transformer(\n",
    "#     (SimpleImputer(strategy='strategy', fill_value=999), features_LotFrontAge),\n",
    "#     (SimpleImputer(strategy='strategy', fill_value=-10), features_MasVnrArea),\n",
    "#     (SimpleImputer(strategy='strategy', fill_value=1700), features_GarageYrBlt),\n",
    "#     remainder='drop')"
   ]
  },
  {
   "cell_type": "code",
   "execution_count": 82,
   "id": "7b945464",
   "metadata": {},
   "outputs": [
    {
     "data": {
      "text/plain": [
       "[('imputer_LotFrontAge',\n",
       "  SimpleImputer(fill_value=999, strategy='constant'),\n",
       "  ['LotFrontage']),\n",
       " ('imputer_MasVnrArea',\n",
       "  SimpleImputer(fill_value=-10, strategy='constant'),\n",
       "  ['MasVnrArea']),\n",
       " ('imputer_GarageYrBlt',\n",
       "  SimpleImputer(fill_value=1700, strategy='constant'),\n",
       "  ['GarageYrBlt'])]"
      ]
     },
     "execution_count": 82,
     "metadata": {},
     "output_type": "execute_result"
    }
   ],
   "source": [
    "preprocessor.transformers"
   ]
  },
  {
   "cell_type": "code",
   "execution_count": 83,
   "id": "6ac0bd93",
   "metadata": {},
   "outputs": [],
   "source": [
    "# remember that the returned object is a NumPy array\n",
    "\n",
    "X_train = preprocessor.fit_transform(X_train)\n",
    "X_test = preprocessor.transform(X_test)"
   ]
  },
  {
   "cell_type": "code",
   "execution_count": 84,
   "id": "6b115c4a",
   "metadata": {},
   "outputs": [
    {
     "data": {
      "text/plain": [
       "{'imputer_LotFrontAge': SimpleImputer(fill_value=999, strategy='constant'),\n",
       " 'imputer_MasVnrArea': SimpleImputer(fill_value=-10, strategy='constant'),\n",
       " 'imputer_GarageYrBlt': SimpleImputer(fill_value=1700, strategy='constant'),\n",
       " 'remainder': 'drop'}"
      ]
     },
     "execution_count": 84,
     "metadata": {},
     "output_type": "execute_result"
    }
   ],
   "source": [
    "preprocessor.named_transformers_"
   ]
  },
  {
   "cell_type": "code",
   "execution_count": 85,
   "id": "4525e330",
   "metadata": {},
   "outputs": [
    {
     "data": {
      "text/plain": [
       "array([999.])"
      ]
     },
     "execution_count": 85,
     "metadata": {},
     "output_type": "execute_result"
    }
   ],
   "source": [
    "preprocessor.named_transformers_['imputer_LotFrontAge'].statistics_"
   ]
  },
  {
   "cell_type": "code",
   "execution_count": 86,
   "id": "f35e4d56",
   "metadata": {},
   "outputs": [
    {
     "data": {
      "text/plain": [
       "array([-10.])"
      ]
     },
     "execution_count": 86,
     "metadata": {},
     "output_type": "execute_result"
    }
   ],
   "source": [
    "preprocessor.named_transformers_['imputer_MasVnrArea'].statistics_"
   ]
  },
  {
   "cell_type": "code",
   "execution_count": 87,
   "id": "6d8f4f8b",
   "metadata": {},
   "outputs": [
    {
     "data": {
      "text/plain": [
       "array([1700.])"
      ]
     },
     "execution_count": 87,
     "metadata": {},
     "output_type": "execute_result"
    }
   ],
   "source": [
    "preprocessor.named_transformers_['imputer_GarageYrBlt'].statistics_"
   ]
  },
  {
   "cell_type": "code",
   "execution_count": 88,
   "id": "05c25515",
   "metadata": {},
   "outputs": [
    {
     "data": {
      "text/plain": [
       "(1022, 3)"
      ]
     },
     "execution_count": 88,
     "metadata": {},
     "output_type": "execute_result"
    }
   ],
   "source": [
    "# remainder='drop'\n",
    "X_train.shape"
   ]
  },
  {
   "cell_type": "markdown",
   "id": "8cef9cea",
   "metadata": {},
   "source": [
    "### Frequent Category Imputation Sklearn\n",
    "* Replace missing using the most frequent value along each column. Can be used with strings or numeric data. If there is more than one such value, only the smallest is returned."
   ]
  },
  {
   "cell_type": "code",
   "execution_count": 89,
   "id": "b93a1c69",
   "metadata": {},
   "outputs": [],
   "source": [
    "cols_to_use = ['BsmtQual', 'FireplaceQu', 'MSZoning',\n",
    "               'BsmtUnfSF', 'LotFrontage', 'MasVnrArea',\n",
    "               'Street', 'Alley', 'SalePrice']\n",
    "df = pd.read_csv('houseprice.csv', usecols=cols_to_use)"
   ]
  },
  {
   "cell_type": "code",
   "execution_count": 90,
   "id": "f9965847",
   "metadata": {},
   "outputs": [],
   "source": [
    "X = df.drop(columns=[\"SalePrice\"])\n",
    "y = df[\"SalePrice\"]\n",
    "\n",
    "from sklearn.model_selection import train_test_split\n",
    "\n",
    "X_train, X_test, y_train, y_test = train_test_split(X, y, test_size=0.3, random_state=0, shuffle=True, \n",
    "#                                                     stratify=y # Not a classification problem\n",
    "                                                   )"
   ]
  },
  {
   "cell_type": "code",
   "execution_count": 91,
   "id": "d437c196",
   "metadata": {},
   "outputs": [],
   "source": [
    "from sklearn.impute import SimpleImputer\n",
    "from sklearn.compose import ColumnTransformer, make_column_transformer\n",
    "\n",
    "\n",
    "features_numeric = ['BsmtUnfSF', 'LotFrontage', 'MasVnrArea', ]\n",
    "features_categoric = ['BsmtQual', 'FireplaceQu', 'MSZoning',\n",
    "                      'Street', 'Alley']\n",
    "\n",
    "preprocessor = ColumnTransformer(transformers=[\n",
    "    ('numeric_imputer', SimpleImputer(strategy='mean'), features_numeric), # you can use most_frequent on numeric data\n",
    "    ('categoric_imputer', SimpleImputer(strategy='most_frequent'), features_categoric)\n",
    "], remainder=\"drop\")\n",
    "\n",
    "# preprocessor = make_column_transformer(\n",
    "#     (SimpleImputer(strategy='mean'), features_numeric),\n",
    "#     (SimpleImputer(strategy='most_frequent'), features_categoric),\n",
    "#     remainder=\"drop\"\n",
    "# )"
   ]
  },
  {
   "cell_type": "code",
   "execution_count": 92,
   "id": "f3bab2f0",
   "metadata": {},
   "outputs": [
    {
     "data": {
      "text/plain": [
       "[('numeric_imputer',\n",
       "  SimpleImputer(),\n",
       "  ['BsmtUnfSF', 'LotFrontage', 'MasVnrArea']),\n",
       " ('categoric_imputer',\n",
       "  SimpleImputer(strategy='most_frequent'),\n",
       "  ['BsmtQual', 'FireplaceQu', 'MSZoning', 'Street', 'Alley'])]"
      ]
     },
     "execution_count": 92,
     "metadata": {},
     "output_type": "execute_result"
    }
   ],
   "source": [
    "preprocessor.transformers"
   ]
  },
  {
   "cell_type": "code",
   "execution_count": 93,
   "id": "bb05c302",
   "metadata": {},
   "outputs": [
    {
     "data": {
      "text/plain": [
       "BsmtUnfSF      565.992172\n",
       "LotFrontage     69.668667\n",
       "MasVnrArea     103.553589\n",
       "dtype: float64"
      ]
     },
     "execution_count": 93,
     "metadata": {},
     "output_type": "execute_result"
    }
   ],
   "source": [
    "# same as below\n",
    "X_train[features_numeric].mean()"
   ]
  },
  {
   "cell_type": "code",
   "execution_count": 94,
   "id": "3aa2c87e",
   "metadata": {},
   "outputs": [
    {
     "data": {
      "text/html": [
       "<div>\n",
       "<style scoped>\n",
       "    .dataframe tbody tr th:only-of-type {\n",
       "        vertical-align: middle;\n",
       "    }\n",
       "\n",
       "    .dataframe tbody tr th {\n",
       "        vertical-align: top;\n",
       "    }\n",
       "\n",
       "    .dataframe thead th {\n",
       "        text-align: right;\n",
       "    }\n",
       "</style>\n",
       "<table border=\"1\" class=\"dataframe\">\n",
       "  <thead>\n",
       "    <tr style=\"text-align: right;\">\n",
       "      <th></th>\n",
       "      <th>BsmtQual</th>\n",
       "      <th>FireplaceQu</th>\n",
       "      <th>MSZoning</th>\n",
       "      <th>Street</th>\n",
       "      <th>Alley</th>\n",
       "    </tr>\n",
       "  </thead>\n",
       "  <tbody>\n",
       "    <tr>\n",
       "      <th>0</th>\n",
       "      <td>TA</td>\n",
       "      <td>Gd</td>\n",
       "      <td>RL</td>\n",
       "      <td>Pave</td>\n",
       "      <td>Pave</td>\n",
       "    </tr>\n",
       "  </tbody>\n",
       "</table>\n",
       "</div>"
      ],
      "text/plain": [
       "  BsmtQual FireplaceQu MSZoning Street Alley\n",
       "0       TA          Gd       RL   Pave  Pave"
      ]
     },
     "execution_count": 94,
     "metadata": {},
     "output_type": "execute_result"
    }
   ],
   "source": [
    "# same as below\n",
    "X_train[features_categoric].mode()"
   ]
  },
  {
   "cell_type": "code",
   "execution_count": 95,
   "id": "c2b5f0fa",
   "metadata": {},
   "outputs": [],
   "source": [
    "# remember that the returned object is a NumPy array\n",
    "\n",
    "X_train = preprocessor.fit_transform(X_train)\n",
    "X_test = preprocessor.transform(X_test)"
   ]
  },
  {
   "cell_type": "code",
   "execution_count": 96,
   "id": "0452e098",
   "metadata": {},
   "outputs": [
    {
     "data": {
      "text/plain": [
       "{'numeric_imputer': SimpleImputer(),\n",
       " 'categoric_imputer': SimpleImputer(strategy='most_frequent')}"
      ]
     },
     "execution_count": 96,
     "metadata": {},
     "output_type": "execute_result"
    }
   ],
   "source": [
    "preprocessor.named_transformers_"
   ]
  },
  {
   "cell_type": "code",
   "execution_count": 97,
   "id": "1f84c574",
   "metadata": {},
   "outputs": [
    {
     "data": {
      "text/plain": [
       "array([565.99217221,  69.66866747, 103.55358899])"
      ]
     },
     "execution_count": 97,
     "metadata": {},
     "output_type": "execute_result"
    }
   ],
   "source": [
    "# same as above\n",
    "preprocessor.named_transformers_['numeric_imputer'].statistics_"
   ]
  },
  {
   "cell_type": "code",
   "execution_count": 98,
   "id": "92a74924",
   "metadata": {},
   "outputs": [
    {
     "data": {
      "text/plain": [
       "array(['TA', 'Gd', 'RL', 'Pave', 'Pave'], dtype=object)"
      ]
     },
     "execution_count": 98,
     "metadata": {},
     "output_type": "execute_result"
    }
   ],
   "source": [
    "# same as above\n",
    "preprocessor.named_transformers_['categoric_imputer'].statistics_"
   ]
  },
  {
   "cell_type": "code",
   "execution_count": 99,
   "id": "2562b10c",
   "metadata": {},
   "outputs": [
    {
     "data": {
      "text/plain": [
       "(1022, 8)"
      ]
     },
     "execution_count": 99,
     "metadata": {},
     "output_type": "execute_result"
    }
   ],
   "source": [
    "# remainder='drop'\n",
    "X_train.shape"
   ]
  },
  {
   "cell_type": "markdown",
   "id": "dc5caabe",
   "metadata": {},
   "source": [
    "### Missing Category Imputation Sklearn\n",
    "* If your dataframe contains variables that are numerical and categorical, NA in both will be replaced by 'Missing\" therefore converting your numerical variables into categorical, which is probably not what you are after."
   ]
  },
  {
   "cell_type": "code",
   "execution_count": 100,
   "id": "e828c6ef",
   "metadata": {},
   "outputs": [],
   "source": [
    "cols_to_use = [\n",
    "    'BsmtQual', 'FireplaceQu', 'LotFrontage', 'MasVnrArea', 'GarageYrBlt',\n",
    "    'SalePrice'\n",
    "]\n",
    "df = pd.read_csv('houseprice.csv', usecols=cols_to_use)"
   ]
  },
  {
   "cell_type": "code",
   "execution_count": 101,
   "id": "e8f9211b",
   "metadata": {},
   "outputs": [],
   "source": [
    "X = df.drop(columns=[\"SalePrice\"])\n",
    "y = df[\"SalePrice\"]\n",
    "\n",
    "from sklearn.model_selection import train_test_split\n",
    "\n",
    "X_train, X_test, y_train, y_test = train_test_split(X, y, test_size=0.3, random_state=0, shuffle=True, \n",
    "#                                                     stratify=y # Not a classification problem\n",
    "                                                   )"
   ]
  },
  {
   "cell_type": "code",
   "execution_count": 102,
   "id": "c73d25a1",
   "metadata": {},
   "outputs": [],
   "source": [
    "# I will impute the numerical variables by the mean, \n",
    "# and the categorical variables by replacing NA with 'Missing'\n",
    "\n",
    "from sklearn.impute import SimpleImputer\n",
    "from sklearn.compose import ColumnTransformer, make_column_transformer\n",
    "\n",
    "features_numeric = ['LotFrontage', 'MasVnrArea', 'GarageYrBlt']\n",
    "features_categoric = ['BsmtQual', 'FireplaceQu']\n",
    "\n",
    "preprocessor = ColumnTransformer(transformers=[\n",
    "    ('numeric_imputer', SimpleImputer(strategy='mean'), features_numeric),\n",
    "    ('categoric_imputer', SimpleImputer(strategy='constant', fill_value = 'Missing'), features_categoric)\n",
    "], remainder=\"drop\")\n",
    "\n",
    "# preprocessor = make_column_transformer(\n",
    "#     (SimpleImputer(strategy='mean'), features_numeric),\n",
    "#     (SimpleImputer(strategy='constant', fill_value = 'Missing'), features_categoric),\n",
    "#     remainder=\"drop\"\n",
    "# )"
   ]
  },
  {
   "cell_type": "code",
   "execution_count": 103,
   "id": "b045b958",
   "metadata": {},
   "outputs": [
    {
     "data": {
      "text/plain": [
       "[('numeric_imputer',\n",
       "  SimpleImputer(),\n",
       "  ['LotFrontage', 'MasVnrArea', 'GarageYrBlt']),\n",
       " ('categoric_imputer',\n",
       "  SimpleImputer(fill_value='Missing', strategy='constant'),\n",
       "  ['BsmtQual', 'FireplaceQu'])]"
      ]
     },
     "execution_count": 103,
     "metadata": {},
     "output_type": "execute_result"
    }
   ],
   "source": [
    "preprocessor.transformers"
   ]
  },
  {
   "cell_type": "code",
   "execution_count": 104,
   "id": "2209dc6a",
   "metadata": {},
   "outputs": [
    {
     "data": {
      "text/plain": [
       "LotFrontage      69.668667\n",
       "MasVnrArea      103.553589\n",
       "GarageYrBlt    1978.012397\n",
       "dtype: float64"
      ]
     },
     "execution_count": 104,
     "metadata": {},
     "output_type": "execute_result"
    }
   ],
   "source": [
    "# same as below\n",
    "X_train[features_numeric].mean()"
   ]
  },
  {
   "cell_type": "code",
   "execution_count": 105,
   "id": "a4b92315",
   "metadata": {},
   "outputs": [],
   "source": [
    "# remember that the returned object is a NumPy array\n",
    "\n",
    "X_train = preprocessor.fit_transform(X_train)\n",
    "X_test = preprocessor.transform(X_test)"
   ]
  },
  {
   "cell_type": "code",
   "execution_count": 106,
   "id": "239be321",
   "metadata": {},
   "outputs": [
    {
     "data": {
      "text/plain": [
       "{'numeric_imputer': SimpleImputer(),\n",
       " 'categoric_imputer': SimpleImputer(fill_value='Missing', strategy='constant')}"
      ]
     },
     "execution_count": 106,
     "metadata": {},
     "output_type": "execute_result"
    }
   ],
   "source": [
    "preprocessor.named_transformers_"
   ]
  },
  {
   "cell_type": "code",
   "execution_count": 107,
   "id": "a9c9c2f4",
   "metadata": {},
   "outputs": [
    {
     "data": {
      "text/plain": [
       "array([  69.66866747,  103.55358899, 1978.01239669])"
      ]
     },
     "execution_count": 107,
     "metadata": {},
     "output_type": "execute_result"
    }
   ],
   "source": [
    "# same as above\n",
    "preprocessor.named_transformers_['numeric_imputer'].statistics_"
   ]
  },
  {
   "cell_type": "code",
   "execution_count": 108,
   "id": "fbe5869d",
   "metadata": {},
   "outputs": [
    {
     "data": {
      "text/plain": [
       "array(['Missing', 'Missing'], dtype=object)"
      ]
     },
     "execution_count": 108,
     "metadata": {},
     "output_type": "execute_result"
    }
   ],
   "source": [
    "preprocessor.named_transformers_['categoric_imputer'].statistics_"
   ]
  },
  {
   "cell_type": "markdown",
   "id": "d68b2ae4",
   "metadata": {},
   "source": [
    "### MissingIndicator Sklearn\n",
    "* [MissingIndicator](https://scikit-learn.org/stable/modules/generated/sklearn.impute.MissingIndicator.html#sklearn.impute.MissingIndicator)\n",
    "* Binary indicators for missing values"
   ]
  },
  {
   "cell_type": "code",
   "execution_count": 109,
   "id": "59266fb7",
   "metadata": {},
   "outputs": [],
   "source": [
    "cols_to_use = ['BsmtQual', 'FireplaceQu', 'MSZoning',\n",
    "               'BsmtUnfSF', 'LotFrontage', 'MasVnrArea',\n",
    "               'Street', 'Alley', 'SalePrice']\n",
    "df = pd.read_csv('houseprice.csv', usecols=cols_to_use)"
   ]
  },
  {
   "cell_type": "code",
   "execution_count": 110,
   "id": "e9f2479b",
   "metadata": {},
   "outputs": [],
   "source": [
    "X = df.drop(columns=[\"SalePrice\"])\n",
    "y = df[\"SalePrice\"]\n",
    "\n",
    "from sklearn.model_selection import train_test_split\n",
    "\n",
    "X_train, X_test, y_train, y_test = train_test_split(X, y, test_size=0.3, random_state=0, shuffle=True, \n",
    "#                                                     stratify=y # Not a classification problem\n",
    "                                                   )"
   ]
  },
  {
   "cell_type": "code",
   "execution_count": 111,
   "id": "36f6cc79",
   "metadata": {},
   "outputs": [],
   "source": [
    "from sklearn.impute import MissingIndicator\n",
    "\n",
    "# features={‘missing-only’, ‘all’}\n",
    "# sparse={'auto', True, False}\n",
    "# error_on_new={True, FAlse}\n",
    "indicator = MissingIndicator(features='missing-only', sparse=\"auto\", error_on_new=True) "
   ]
  },
  {
   "cell_type": "code",
   "execution_count": 112,
   "id": "b582d3e2",
   "metadata": {},
   "outputs": [],
   "source": [
    "X_train = indicator.fit_transform(X_train)\n",
    "X_test = indicator.transform(X_test)"
   ]
  },
  {
   "cell_type": "code",
   "execution_count": 113,
   "id": "59cf398c",
   "metadata": {},
   "outputs": [
    {
     "data": {
      "text/plain": [
       "array([1, 3, 4, 5, 7], dtype=int64)"
      ]
     },
     "execution_count": 113,
     "metadata": {},
     "output_type": "execute_result"
    }
   ],
   "source": [
    "indicator.features_"
   ]
  },
  {
   "cell_type": "code",
   "execution_count": 114,
   "id": "300ff60d",
   "metadata": {},
   "outputs": [
    {
     "data": {
      "text/plain": [
       "array([[ True,  True, False, False,  True],\n",
       "       [ True,  True, False, False, False],\n",
       "       [False,  True, False, False,  True],\n",
       "       ...,\n",
       "       [False,  True, False,  True,  True],\n",
       "       [ True,  True, False, False, False],\n",
       "       [False,  True, False, False,  True]])"
      ]
     },
     "execution_count": 114,
     "metadata": {},
     "output_type": "execute_result"
    }
   ],
   "source": [
    "X_train"
   ]
  },
  {
   "cell_type": "code",
   "execution_count": 115,
   "id": "9e5c5325",
   "metadata": {},
   "outputs": [
    {
     "data": {
      "text/plain": [
       "array([[ True,  True,  True, False, False],\n",
       "       [False,  True, False, False, False],\n",
       "       [ True,  True, False, False, False],\n",
       "       ...,\n",
       "       [False,  True, False, False, False],\n",
       "       [False,  True, False, False,  True],\n",
       "       [False,  True, False, False, False]])"
      ]
     },
     "execution_count": 115,
     "metadata": {},
     "output_type": "execute_result"
    }
   ],
   "source": [
    "X_test"
   ]
  },
  {
   "cell_type": "markdown",
   "id": "e2e9ce39",
   "metadata": {},
   "source": [
    "### SimpleImputer, add_indicator=True"
   ]
  },
  {
   "cell_type": "code",
   "execution_count": 116,
   "id": "359635bc",
   "metadata": {},
   "outputs": [],
   "source": [
    "cols_to_use = [\n",
    "    'BsmtQual', 'FireplaceQu', 'LotFrontage', 'MasVnrArea', 'GarageYrBlt',\n",
    "    'SalePrice'\n",
    "]\n",
    "df = pd.read_csv('houseprice.csv', usecols=cols_to_use)"
   ]
  },
  {
   "cell_type": "code",
   "execution_count": 117,
   "id": "dfb1b2a2",
   "metadata": {},
   "outputs": [],
   "source": [
    "X = df.drop(columns=[\"SalePrice\"])\n",
    "y = df[\"SalePrice\"]\n",
    "\n",
    "from sklearn.model_selection import train_test_split\n",
    "\n",
    "X_train, X_test, y_train, y_test = train_test_split(X, y, test_size=0.3, random_state=0, shuffle=True, \n",
    "#                                                     stratify=y # Not a classification problem\n",
    "                                                   )"
   ]
  },
  {
   "cell_type": "code",
   "execution_count": 118,
   "id": "06a939ba",
   "metadata": {},
   "outputs": [],
   "source": [
    "from sklearn.impute import SimpleImputer\n",
    "from sklearn.compose import ColumnTransformer, make_column_transformer\n",
    "\n",
    "features_numeric = ['LotFrontage', 'MasVnrArea', 'GarageYrBlt']\n",
    "features_categoric = ['BsmtQual', 'FireplaceQu']\n",
    "\n",
    "preprocessor = ColumnTransformer(transformers=[\n",
    "    ('numeric_imputer', SimpleImputer(strategy='mean', add_indicator=True), features_numeric),\n",
    "    ('categoric_imputer', SimpleImputer(strategy='constant', fill_value='Missing', add_indicator=True), features_categoric)\n",
    "], remainder=\"drop\")"
   ]
  },
  {
   "cell_type": "code",
   "execution_count": 119,
   "id": "1b3e8ce7",
   "metadata": {},
   "outputs": [],
   "source": [
    "# remember that the returned object is a NumPy array\n",
    "\n",
    "X_train = preprocessor.fit_transform(X_train)\n",
    "X_test = preprocessor.transform(X_test)"
   ]
  },
  {
   "cell_type": "code",
   "execution_count": 120,
   "id": "22ba461d",
   "metadata": {},
   "outputs": [
    {
     "data": {
      "text/plain": [
       "array([[69.66866746698679, 573.0, 1998.0, ..., 'Missing', False, True],\n",
       "       [69.66866746698679, 0.0, 1996.0, ..., 'Gd', False, False],\n",
       "       [50.0, 0.0, 1978.0123966942149, ..., 'Missing', False, True],\n",
       "       ...,\n",
       "       [68.0, 0.0, 1978.0, ..., 'Missing', True, True],\n",
       "       [69.66866746698679, 18.0, 2003.0, ..., 'TA', False, False],\n",
       "       [58.0, 30.0, 1998.0, ..., 'Missing', False, True]], dtype=object)"
      ]
     },
     "execution_count": 120,
     "metadata": {},
     "output_type": "execute_result"
    }
   ],
   "source": [
    "X_train"
   ]
  },
  {
   "cell_type": "code",
   "execution_count": 121,
   "id": "27c94e4b",
   "metadata": {},
   "outputs": [
    {
     "data": {
      "text/plain": [
       "array([[69.66866746698679, 103.55358898721731, 1975.0, ..., 'TA', False,\n",
       "        False],\n",
       "       [79.0, 0.0, 1941.0, ..., 'TA', False, False],\n",
       "       [69.66866746698679, 161.0, 1950.0, ..., 'TA', False, False],\n",
       "       ...,\n",
       "       [91.0, 660.0, 1995.0, ..., 'TA', False, False],\n",
       "       [67.0, 110.0, 2002.0, ..., 'Missing', False, True],\n",
       "       [100.0, 760.0, 2009.0, ..., 'Gd', False, False]], dtype=object)"
      ]
     },
     "execution_count": 121,
     "metadata": {},
     "output_type": "execute_result"
    }
   ],
   "source": [
    "X_test"
   ]
  },
  {
   "cell_type": "markdown",
   "id": "dc8658c7",
   "metadata": {},
   "source": [
    "### Automatic Imputation Method Detection Sklearn\n",
    "* We will do a grid search over the imputation methods available in Scikit-learn to determine which imputation technique works best for this dataset and the machine learning model of choice."
   ]
  },
  {
   "cell_type": "code",
   "execution_count": 122,
   "id": "59aa5881",
   "metadata": {},
   "outputs": [],
   "source": [
    "df = pd.read_csv('houseprice.csv')\n",
    "\n",
    "# find categorical variables those of type 'Object' in the dataset\n",
    "features_categorical = [c for c in df.columns if df[c].dtypes=='O']\n",
    "\n",
    "# find numerical variables those different from object and also excluding the target SalePrice\n",
    "features_numerical = [c for c in df.columns if df[c].dtypes!='O' and c !='SalePrice']"
   ]
  },
  {
   "cell_type": "code",
   "execution_count": 123,
   "id": "4745d41e",
   "metadata": {},
   "outputs": [],
   "source": [
    "X = df.drop(columns=[\"SalePrice\"])\n",
    "y = df[\"SalePrice\"]\n",
    "\n",
    "from sklearn.model_selection import train_test_split\n",
    "\n",
    "X_train, X_test, y_train, y_test = train_test_split(X, y, test_size=0.3, random_state=0, shuffle=True, \n",
    "#                                                     stratify=y # Not a classification problem\n",
    "                                                   )"
   ]
  },
  {
   "cell_type": "code",
   "execution_count": 124,
   "id": "4dbc1e00",
   "metadata": {},
   "outputs": [],
   "source": [
    "# We create the preprocessing pipelines for both\n",
    "# numerical and categorical data\n",
    "\n",
    "from sklearn.pipeline import Pipeline\n",
    "from sklearn.preprocessing import StandardScaler, OneHotEncoder\n",
    "from sklearn.compose import ColumnTransformer\n",
    "\n",
    "numeric_transformer = Pipeline(steps=[\n",
    "    ('imputer', SimpleImputer(strategy='median')),\n",
    "    ('scaler', StandardScaler())])\n",
    "\n",
    "categorical_transformer = Pipeline(steps=[\n",
    "    ('imputer', SimpleImputer(strategy='constant', fill_value='missing')),\n",
    "    ('onehot', OneHotEncoder(handle_unknown='ignore'))])\n",
    "\n",
    "preprocessor = ColumnTransformer(\n",
    "    transformers=[\n",
    "        ('numerical', numeric_transformer, features_numerical),\n",
    "        ('categorical', categorical_transformer, features_categorical)])"
   ]
  },
  {
   "cell_type": "code",
   "execution_count": 125,
   "id": "426b0369",
   "metadata": {},
   "outputs": [],
   "source": [
    "# Append classifier to preprocessing pipeline.\n",
    "# Now we have a full prediction pipeline.\n",
    "\n",
    "from sklearn.linear_model import Lasso\n",
    "\n",
    "clf = Pipeline(steps=[('preprocessor', preprocessor),\n",
    "                      ('regressor', Lasso(max_iter=2000))])"
   ]
  },
  {
   "cell_type": "code",
   "execution_count": 126,
   "id": "337f27a4",
   "metadata": {},
   "outputs": [],
   "source": [
    "from sklearn.model_selection import GridSearchCV\n",
    "\n",
    "# now we create the grid with all the parameters that we would like to test\n",
    "\n",
    "param_grid = {\n",
    "    'preprocessor__numerical__imputer__strategy': ['mean', 'median'],\n",
    "    'preprocessor__categorical__imputer__strategy': ['most_frequent', 'constant'],\n",
    "    'regressor__alpha': [10, 100, 200],\n",
    "}\n",
    "\n",
    "grid_search = GridSearchCV(estimator=clf, param_grid=param_grid, cv=5, n_jobs=-1, scoring='r2')\n",
    "\n",
    "# cv=3 is the cross-validation\n",
    "# no_jobs =-1 indicates to use all available cpus\n",
    "# scoring='r2' indicates to evaluate using the r squared"
   ]
  },
  {
   "cell_type": "code",
   "execution_count": 127,
   "id": "a9313a4a",
   "metadata": {},
   "outputs": [
    {
     "name": "stdout",
     "output_type": "stream",
     "text": [
      "best linear regression from grid search: 0.933\n",
      "Wall time: 9.75 s\n"
     ]
    }
   ],
   "source": [
    "%%time\n",
    "# and now we train over all the possible combinations of the parameters above\n",
    "grid_search.fit(X_train, y_train)\n",
    "\n",
    "# and we print the best score over the train set\n",
    "print((\"best linear regression from grid search: %.3f\"\n",
    "       % grid_search.score(X_train, y_train)))"
   ]
  },
  {
   "cell_type": "code",
   "execution_count": 128,
   "id": "23e78de5",
   "metadata": {},
   "outputs": [
    {
     "data": {
      "text/plain": [
       "Pipeline(steps=[('preprocessor',\n",
       "                 ColumnTransformer(transformers=[('numerical',\n",
       "                                                  Pipeline(steps=[('imputer',\n",
       "                                                                   SimpleImputer(strategy='median')),\n",
       "                                                                  ('scaler',\n",
       "                                                                   StandardScaler())]),\n",
       "                                                  ['Id', 'MSSubClass',\n",
       "                                                   'LotFrontage', 'LotArea',\n",
       "                                                   'OverallQual', 'OverallCond',\n",
       "                                                   'YearBuilt', 'YearRemodAdd',\n",
       "                                                   'MasVnrArea', 'BsmtFinSF1',\n",
       "                                                   'BsmtFinSF2', 'BsmtUnfSF',\n",
       "                                                   'TotalBsmtSF', '1stFlrSF',\n",
       "                                                   '2ndFlrS...\n",
       "                                                   'LotConfig', 'LandSlope',\n",
       "                                                   'Neighborhood', 'Condition1',\n",
       "                                                   'Condition2', 'BldgType',\n",
       "                                                   'HouseStyle', 'RoofStyle',\n",
       "                                                   'RoofMatl', 'Exterior1st',\n",
       "                                                   'Exterior2nd', 'MasVnrType',\n",
       "                                                   'ExterQual', 'ExterCond',\n",
       "                                                   'Foundation', 'BsmtQual',\n",
       "                                                   'BsmtCond', 'BsmtExposure',\n",
       "                                                   'BsmtFinType1',\n",
       "                                                   'BsmtFinType2', 'Heating',\n",
       "                                                   'HeatingQC', 'CentralAir',\n",
       "                                                   'Electrical', ...])])),\n",
       "                ('regressor', Lasso(alpha=100, max_iter=2000))])"
      ]
     },
     "execution_count": 128,
     "metadata": {},
     "output_type": "execute_result"
    }
   ],
   "source": [
    "# we can print the best estimator parameters like this\n",
    "grid_search.best_estimator_"
   ]
  },
  {
   "cell_type": "code",
   "execution_count": 129,
   "id": "cf15313c",
   "metadata": {},
   "outputs": [
    {
     "data": {
      "text/plain": [
       "{'preprocessor__categorical__imputer__strategy': 'constant',\n",
       " 'preprocessor__numerical__imputer__strategy': 'median',\n",
       " 'regressor__alpha': 100}"
      ]
     },
     "execution_count": 129,
     "metadata": {},
     "output_type": "execute_result"
    }
   ],
   "source": [
    "# and find the best fit parameters like this\n",
    "grid_search.best_params_"
   ]
  },
  {
   "cell_type": "code",
   "execution_count": 130,
   "id": "19d52ad3",
   "metadata": {},
   "outputs": [
    {
     "data": {
      "text/plain": [
       "[{'preprocessor__categorical__imputer__strategy': 'most_frequent',\n",
       "  'preprocessor__numerical__imputer__strategy': 'mean',\n",
       "  'regressor__alpha': 10},\n",
       " {'preprocessor__categorical__imputer__strategy': 'most_frequent',\n",
       "  'preprocessor__numerical__imputer__strategy': 'mean',\n",
       "  'regressor__alpha': 100},\n",
       " {'preprocessor__categorical__imputer__strategy': 'most_frequent',\n",
       "  'preprocessor__numerical__imputer__strategy': 'mean',\n",
       "  'regressor__alpha': 200},\n",
       " {'preprocessor__categorical__imputer__strategy': 'most_frequent',\n",
       "  'preprocessor__numerical__imputer__strategy': 'median',\n",
       "  'regressor__alpha': 10},\n",
       " {'preprocessor__categorical__imputer__strategy': 'most_frequent',\n",
       "  'preprocessor__numerical__imputer__strategy': 'median',\n",
       "  'regressor__alpha': 100},\n",
       " {'preprocessor__categorical__imputer__strategy': 'most_frequent',\n",
       "  'preprocessor__numerical__imputer__strategy': 'median',\n",
       "  'regressor__alpha': 200},\n",
       " {'preprocessor__categorical__imputer__strategy': 'constant',\n",
       "  'preprocessor__numerical__imputer__strategy': 'mean',\n",
       "  'regressor__alpha': 10},\n",
       " {'preprocessor__categorical__imputer__strategy': 'constant',\n",
       "  'preprocessor__numerical__imputer__strategy': 'mean',\n",
       "  'regressor__alpha': 100},\n",
       " {'preprocessor__categorical__imputer__strategy': 'constant',\n",
       "  'preprocessor__numerical__imputer__strategy': 'mean',\n",
       "  'regressor__alpha': 200},\n",
       " {'preprocessor__categorical__imputer__strategy': 'constant',\n",
       "  'preprocessor__numerical__imputer__strategy': 'median',\n",
       "  'regressor__alpha': 10},\n",
       " {'preprocessor__categorical__imputer__strategy': 'constant',\n",
       "  'preprocessor__numerical__imputer__strategy': 'median',\n",
       "  'regressor__alpha': 100},\n",
       " {'preprocessor__categorical__imputer__strategy': 'constant',\n",
       "  'preprocessor__numerical__imputer__strategy': 'median',\n",
       "  'regressor__alpha': 200}]"
      ]
     },
     "execution_count": 130,
     "metadata": {},
     "output_type": "execute_result"
    }
   ],
   "source": [
    "# here we can see all the combinations evaluated during the gridsearch\n",
    "grid_search.cv_results_['params']"
   ]
  },
  {
   "cell_type": "code",
   "execution_count": 131,
   "id": "2ff4a00d",
   "metadata": {},
   "outputs": [
    {
     "data": {
      "text/plain": [
       "array([0.84746254, 0.86624908, 0.86552764, 0.84739594, 0.86621021,\n",
       "       0.8654755 , 0.84814964, 0.86646886, 0.86525292, 0.8481309 ,\n",
       "       0.86651035, 0.86523714])"
      ]
     },
     "execution_count": 131,
     "metadata": {},
     "output_type": "execute_result"
    }
   ],
   "source": [
    "# and here the scores for each of one of the above combinations\n",
    "grid_search.cv_results_['mean_test_score']"
   ]
  },
  {
   "cell_type": "code",
   "execution_count": 132,
   "id": "3339e423",
   "metadata": {},
   "outputs": [
    {
     "data": {
      "text/plain": [
       "0.8665103484337184"
      ]
     },
     "execution_count": 132,
     "metadata": {},
     "output_type": "execute_result"
    }
   ],
   "source": [
    "grid_search.best_score_"
   ]
  },
  {
   "cell_type": "code",
   "execution_count": 133,
   "id": "32f2ca4a",
   "metadata": {},
   "outputs": [
    {
     "data": {
      "text/plain": [
       "5"
      ]
     },
     "execution_count": 133,
     "metadata": {},
     "output_type": "execute_result"
    }
   ],
   "source": [
    "grid_search.n_splits_"
   ]
  },
  {
   "cell_type": "code",
   "execution_count": 134,
   "id": "18231595",
   "metadata": {},
   "outputs": [
    {
     "name": "stdout",
     "output_type": "stream",
     "text": [
      "best linear regression from grid search: 0.738\n"
     ]
    }
   ],
   "source": [
    "# and finally let's check the performance over the test set\n",
    "# This model overfits to the train set, look at the r2 of \n",
    "# 0.93 obtained for the train set vs 0.738 for the test set.\n",
    "\n",
    "print((\"best linear regression from grid search: %.3f\"\n",
    "       % grid_search.score(X_test, y_test)))"
   ]
  },
  {
   "cell_type": "code",
   "execution_count": null,
   "id": "d2cc4337",
   "metadata": {},
   "outputs": [],
   "source": []
  },
  {
   "cell_type": "code",
   "execution_count": null,
   "id": "12073918",
   "metadata": {},
   "outputs": [],
   "source": []
  },
  {
   "cell_type": "code",
   "execution_count": null,
   "id": "433ea817",
   "metadata": {},
   "outputs": [],
   "source": []
  },
  {
   "cell_type": "code",
   "execution_count": null,
   "id": "248e8e11",
   "metadata": {},
   "outputs": [],
   "source": []
  },
  {
   "cell_type": "code",
   "execution_count": null,
   "id": "6eb5e858",
   "metadata": {},
   "outputs": [],
   "source": []
  },
  {
   "cell_type": "code",
   "execution_count": null,
   "id": "b9c550ea",
   "metadata": {},
   "outputs": [],
   "source": []
  },
  {
   "cell_type": "code",
   "execution_count": null,
   "id": "26b7056f",
   "metadata": {},
   "outputs": [],
   "source": []
  },
  {
   "cell_type": "code",
   "execution_count": null,
   "id": "6e1f4e29",
   "metadata": {},
   "outputs": [],
   "source": []
  },
  {
   "cell_type": "code",
   "execution_count": null,
   "id": "04916056",
   "metadata": {},
   "outputs": [],
   "source": []
  },
  {
   "cell_type": "code",
   "execution_count": null,
   "id": "74e0c6a3",
   "metadata": {},
   "outputs": [],
   "source": []
  },
  {
   "cell_type": "code",
   "execution_count": null,
   "id": "8e68c71b",
   "metadata": {},
   "outputs": [],
   "source": []
  },
  {
   "cell_type": "code",
   "execution_count": null,
   "id": "6e73f31d",
   "metadata": {},
   "outputs": [],
   "source": []
  },
  {
   "cell_type": "code",
   "execution_count": null,
   "id": "23ec6fe9",
   "metadata": {},
   "outputs": [],
   "source": []
  },
  {
   "cell_type": "code",
   "execution_count": null,
   "id": "802be3ee",
   "metadata": {},
   "outputs": [],
   "source": []
  },
  {
   "cell_type": "code",
   "execution_count": null,
   "id": "5de77895",
   "metadata": {},
   "outputs": [],
   "source": []
  },
  {
   "cell_type": "code",
   "execution_count": null,
   "id": "10e31205",
   "metadata": {},
   "outputs": [],
   "source": []
  },
  {
   "cell_type": "code",
   "execution_count": null,
   "id": "795f0ce9",
   "metadata": {},
   "outputs": [],
   "source": []
  },
  {
   "cell_type": "code",
   "execution_count": null,
   "id": "e4cb8174",
   "metadata": {},
   "outputs": [],
   "source": []
  },
  {
   "cell_type": "code",
   "execution_count": null,
   "id": "8db17441",
   "metadata": {},
   "outputs": [],
   "source": []
  },
  {
   "cell_type": "code",
   "execution_count": null,
   "id": "ba09668a",
   "metadata": {},
   "outputs": [],
   "source": []
  },
  {
   "cell_type": "code",
   "execution_count": null,
   "id": "4c63068b",
   "metadata": {},
   "outputs": [],
   "source": []
  },
  {
   "cell_type": "code",
   "execution_count": null,
   "id": "df3e53d8",
   "metadata": {},
   "outputs": [],
   "source": []
  },
  {
   "cell_type": "code",
   "execution_count": null,
   "id": "d0a90e75",
   "metadata": {},
   "outputs": [],
   "source": []
  },
  {
   "cell_type": "code",
   "execution_count": null,
   "id": "9528c1c4",
   "metadata": {},
   "outputs": [],
   "source": []
  },
  {
   "cell_type": "code",
   "execution_count": null,
   "id": "6ae5d424",
   "metadata": {},
   "outputs": [],
   "source": []
  },
  {
   "cell_type": "code",
   "execution_count": null,
   "id": "ff50a482",
   "metadata": {},
   "outputs": [],
   "source": []
  },
  {
   "cell_type": "code",
   "execution_count": null,
   "id": "c3a5b2df",
   "metadata": {},
   "outputs": [],
   "source": []
  },
  {
   "cell_type": "code",
   "execution_count": null,
   "id": "84df764f",
   "metadata": {},
   "outputs": [],
   "source": []
  },
  {
   "cell_type": "code",
   "execution_count": null,
   "id": "466e8217",
   "metadata": {},
   "outputs": [],
   "source": []
  },
  {
   "cell_type": "code",
   "execution_count": null,
   "id": "31f128d3",
   "metadata": {},
   "outputs": [],
   "source": []
  },
  {
   "cell_type": "code",
   "execution_count": null,
   "id": "b030bd99",
   "metadata": {},
   "outputs": [],
   "source": []
  },
  {
   "cell_type": "code",
   "execution_count": null,
   "id": "1f2d4809",
   "metadata": {},
   "outputs": [],
   "source": []
  },
  {
   "cell_type": "code",
   "execution_count": null,
   "id": "aa31d51b",
   "metadata": {},
   "outputs": [],
   "source": []
  },
  {
   "cell_type": "code",
   "execution_count": null,
   "id": "235ea616",
   "metadata": {},
   "outputs": [],
   "source": []
  },
  {
   "cell_type": "code",
   "execution_count": null,
   "id": "fcb9d7a3",
   "metadata": {},
   "outputs": [],
   "source": []
  },
  {
   "cell_type": "code",
   "execution_count": null,
   "id": "e7df3d89",
   "metadata": {},
   "outputs": [],
   "source": []
  },
  {
   "cell_type": "code",
   "execution_count": null,
   "id": "c2d84386",
   "metadata": {},
   "outputs": [],
   "source": []
  },
  {
   "cell_type": "code",
   "execution_count": null,
   "id": "df910b29",
   "metadata": {},
   "outputs": [],
   "source": []
  }
 ],
 "metadata": {
  "hide_input": false,
  "kernelspec": {
   "display_name": "Python 3 (ipykernel)",
   "language": "python",
   "name": "python3"
  },
  "language_info": {
   "codemirror_mode": {
    "name": "ipython",
    "version": 3
   },
   "file_extension": ".py",
   "mimetype": "text/x-python",
   "name": "python",
   "nbconvert_exporter": "python",
   "pygments_lexer": "ipython3",
   "version": "3.8.11"
  }
 },
 "nbformat": 4,
 "nbformat_minor": 5
}
