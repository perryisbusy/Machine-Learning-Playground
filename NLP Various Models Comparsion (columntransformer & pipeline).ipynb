{
 "cells": [
  {
   "cell_type": "markdown",
   "id": "c5618b4b",
   "metadata": {},
   "source": [
    "# __NLP Various Models Comparsion (columntransformer & pipeline)__"
   ]
  },
  {
   "cell_type": "code",
   "execution_count": 1,
   "id": "a8b8366a",
   "metadata": {},
   "outputs": [
    {
     "name": "stdout",
     "output_type": "stream",
     "text": [
      "Wall time: 1.4 s\n"
     ]
    }
   ],
   "source": [
    "%%time\n",
    "import warnings\n",
    "warnings.filterwarnings(\"ignore\")\n",
    "\n",
    "import pandas as pd \n",
    "import numpy as np \n",
    "import matplotlib.pyplot as plt \n",
    "import seaborn as sns\n",
    "import missingno as msno\n",
    "import pickle\n",
    "%matplotlib inline"
   ]
  },
  {
   "cell_type": "code",
   "execution_count": 2,
   "id": "77b0edef",
   "metadata": {},
   "outputs": [
    {
     "data": {
      "text/plain": [
       "'D:\\\\LIUZHICHENG\\\\Udemy\\\\Natural Language Processing\\\\Jose\\\\Section 5\\\\smsspamcollection.tsv'"
      ]
     },
     "execution_count": 2,
     "metadata": {},
     "output_type": "execute_result"
    }
   ],
   "source": [
    "path = r\"D:\\LIUZHICHENG\\Udemy\\Natural Language Processing\\Jose\\Section 5\\smsspamcollection.tsv\"\n",
    "path"
   ]
  },
  {
   "cell_type": "code",
   "execution_count": 3,
   "id": "f057627a",
   "metadata": {},
   "outputs": [
    {
     "data": {
      "text/html": [
       "<div>\n",
       "<style scoped>\n",
       "    .dataframe tbody tr th:only-of-type {\n",
       "        vertical-align: middle;\n",
       "    }\n",
       "\n",
       "    .dataframe tbody tr th {\n",
       "        vertical-align: top;\n",
       "    }\n",
       "\n",
       "    .dataframe thead th {\n",
       "        text-align: right;\n",
       "    }\n",
       "</style>\n",
       "<table border=\"1\" class=\"dataframe\">\n",
       "  <thead>\n",
       "    <tr style=\"text-align: right;\">\n",
       "      <th></th>\n",
       "      <th>label</th>\n",
       "      <th>message</th>\n",
       "      <th>length</th>\n",
       "      <th>punct</th>\n",
       "    </tr>\n",
       "  </thead>\n",
       "  <tbody>\n",
       "    <tr>\n",
       "      <th>0</th>\n",
       "      <td>ham</td>\n",
       "      <td>Go until jurong point, crazy.. Available only ...</td>\n",
       "      <td>111</td>\n",
       "      <td>9</td>\n",
       "    </tr>\n",
       "    <tr>\n",
       "      <th>1</th>\n",
       "      <td>ham</td>\n",
       "      <td>Ok lar... Joking wif u oni...</td>\n",
       "      <td>29</td>\n",
       "      <td>6</td>\n",
       "    </tr>\n",
       "    <tr>\n",
       "      <th>2</th>\n",
       "      <td>spam</td>\n",
       "      <td>Free entry in 2 a wkly comp to win FA Cup fina...</td>\n",
       "      <td>155</td>\n",
       "      <td>6</td>\n",
       "    </tr>\n",
       "    <tr>\n",
       "      <th>3</th>\n",
       "      <td>ham</td>\n",
       "      <td>U dun say so early hor... U c already then say...</td>\n",
       "      <td>49</td>\n",
       "      <td>6</td>\n",
       "    </tr>\n",
       "    <tr>\n",
       "      <th>4</th>\n",
       "      <td>ham</td>\n",
       "      <td>Nah I don't think he goes to usf, he lives aro...</td>\n",
       "      <td>61</td>\n",
       "      <td>2</td>\n",
       "    </tr>\n",
       "  </tbody>\n",
       "</table>\n",
       "</div>"
      ],
      "text/plain": [
       "  label                                            message  length  punct\n",
       "0   ham  Go until jurong point, crazy.. Available only ...     111      9\n",
       "1   ham                      Ok lar... Joking wif u oni...      29      6\n",
       "2  spam  Free entry in 2 a wkly comp to win FA Cup fina...     155      6\n",
       "3   ham  U dun say so early hor... U c already then say...      49      6\n",
       "4   ham  Nah I don't think he goes to usf, he lives aro...      61      2"
      ]
     },
     "execution_count": 3,
     "metadata": {},
     "output_type": "execute_result"
    }
   ],
   "source": [
    "df = pd.read_csv(filepath_or_buffer=path, sep=\"\\t\")\n",
    "df.head()"
   ]
  },
  {
   "cell_type": "markdown",
   "id": "6a33120f",
   "metadata": {},
   "source": [
    "__EDA__"
   ]
  },
  {
   "cell_type": "code",
   "execution_count": 4,
   "id": "aa63a3c7",
   "metadata": {},
   "outputs": [
    {
     "data": {
      "text/plain": [
       "label      0.0\n",
       "message    0.0\n",
       "length     0.0\n",
       "punct      0.0\n",
       "dtype: float64"
      ]
     },
     "execution_count": 4,
     "metadata": {},
     "output_type": "execute_result"
    }
   ],
   "source": [
    "df.isnull().mean()"
   ]
  },
  {
   "cell_type": "code",
   "execution_count": 5,
   "id": "1abeaa1e",
   "metadata": {},
   "outputs": [
    {
     "data": {
      "text/plain": [
       "5572"
      ]
     },
     "execution_count": 5,
     "metadata": {},
     "output_type": "execute_result"
    }
   ],
   "source": [
    "len(df)"
   ]
  },
  {
   "cell_type": "code",
   "execution_count": 6,
   "id": "6fe4431f",
   "metadata": {},
   "outputs": [
    {
     "data": {
      "text/plain": [
       "ham     4825\n",
       "spam     747\n",
       "Name: label, dtype: int64"
      ]
     },
     "execution_count": 6,
     "metadata": {},
     "output_type": "execute_result"
    }
   ],
   "source": [
    "df[\"label\"].value_counts()"
   ]
  },
  {
   "cell_type": "code",
   "execution_count": 7,
   "id": "577bf395",
   "metadata": {},
   "outputs": [
    {
     "data": {
      "image/png": "[encoded data removed]",
      "text/plain": [
       "<Figure size 432x288 with 1 Axes>"
      ]
     },
     "metadata": {
      "needs_background": "light"
     },
     "output_type": "display_data"
    }
   ],
   "source": [
    "sns.countplot(data=df, x=\"label\", alpha=0.7, palette={\"ham\": \"green\", \"spam\": \"red\"}, edgecolor=\"black\");"
   ]
  },
  {
   "cell_type": "markdown",
   "id": "1151b7a8",
   "metadata": {},
   "source": [
    "__Text Preprocessing__"
   ]
  },
  {
   "cell_type": "code",
   "execution_count": 25,
   "id": "e6270556",
   "metadata": {},
   "outputs": [
    {
     "name": "stdout",
     "output_type": "stream",
     "text": [
      "Wall time: 606 ms\n"
     ]
    }
   ],
   "source": [
    "%%time\n",
    "\n",
    "import string\n",
    "import re\n",
    "import nltk\n",
    "from nltk.corpus import stopwords\n",
    "\n",
    "def remove_punctuation(input_text):\n",
    "\n",
    "    \"\"\" Remove punctuations like '!\"#$%&\\'()*+,-./:;<=>?@[\\\\]^_`{|}~' \"\"\"\n",
    "\n",
    "    #print(\"in remove_punctuation\\n\",input_text)\n",
    "    # Make translation table\n",
    "    input_text = str(input_text) # avoid thedange of being a series object\n",
    "    punct = string.punctuation\n",
    "    trantab = str.maketrans(punct, len(punct)*' ')  # Every punctuation symbol will be replaced by a space\n",
    "    return input_text.translate(trantab).encode('ascii', 'ignore').decode('utf8') # -> Final kick to clean up :)\n",
    "\n",
    "\n",
    "def remove_digits(input_text):\n",
    "\n",
    "    \"\"\" Remove numerical digits ranging from 0-9 \"\"\"\n",
    "    #print(\"in remove_digits\\n\",input_text)\n",
    "    return re.sub('\\d+', '', input_text)\n",
    "\n",
    "   \n",
    "def to_lower(input_text):\n",
    "\n",
    "    \"\"\" String handling, returns the lowercased strings from the given string \"\"\"\n",
    "    #print(\"in to_lower\\n\",input_text)\n",
    "    return input_text.lower()\n",
    "\n",
    "\n",
    "def remove_stopwords(input_text):\n",
    "\n",
    "    \"\"\" Remove the low-level information from our text in order to give more focus to the important information \"\"\"\n",
    "   #print(\"in remove_stopwords\\n\",input_text)\n",
    "    stopwords_list = stopwords.words('english')\n",
    "    newStopWords = ['citi']\n",
    "    stopwords_list.extend(newStopWords)\n",
    "\n",
    "    # Some words which might indicate a certain sentiment are kept via a whitelist\n",
    "    #whitelist = [\"n't\", \"not\", \"no\"]\n",
    "    whitelist = [\"n't\"]\n",
    "    words = input_text.split()\n",
    "    clean_words = [word for word in words if (word not in stopwords_list or word in whitelist) and len(word) > 2]         \n",
    "    return \" \".join(clean_words) # list -> string\n",
    "\n",
    " \n",
    "def expandShortsForms(input_text):\n",
    "    #print(\"in expandShortsForms\\n\",input_text)\n",
    "    return input_text.replace(\"can't\", \"can not\").replace(\"won't\", \"will not\")\n",
    "\n",
    "\n",
    "def lemmatize(input_text):\n",
    "\n",
    "    \"\"\" Return the base or dictionary form of a word, lemma \"\"\"\n",
    "    #print(\"in lemmatize\\n\",input_text)\n",
    "    outtext= \"\"\n",
    "    # Lemmatize\n",
    "    from nltk.stem import WordNetLemmatizer\n",
    "    from nltk import pos_tag, word_tokenize, wordnet\n",
    "    from nltk.corpus.reader.wordnet import WordNetError\n",
    "    lemmatizer = WordNetLemmatizer()\n",
    "\n",
    "    input_text = input_text.split()\n",
    "    for word in input_text:\n",
    "        # Get the single character pos constant from pos_tag like this:\n",
    "        pos_label = (pos_tag(word_tokenize(word))[0][1][0]).lower()\n",
    "\n",
    "        # pos_refs = {'n': ['NN', 'NNS', 'NNP', 'NNPS'],\n",
    "        #            'v': ['VB', 'VBD', 'VBG', 'VBN', 'VBP', 'VBZ'],\n",
    "        #            'r': ['RB', 'RBR', 'RBS'],\n",
    "        #            'a': ['JJ', 'JJR', 'JJS']}\n",
    "\n",
    "        if pos_label == 'j': pos_label = 'a'    # 'j' <--> 'a' reassignment\n",
    "\n",
    "        if pos_label in ['r']:  # For adverbs it's a bit different\n",
    "            try:\n",
    "                if len(wordnet.wordnet.synset(word+'.r.1').lemmas()[0].pertainyms()) > 0:\n",
    "                    outtext = outtext + ' ' +  (wordnet.wordnet.synset(word+'.r.1').lemmas()[0].pertainyms()[0].name())\n",
    "            except WordNetError:\n",
    "                pass\n",
    "            outtext = outtext + ' ' + word # To keep the word in the list\n",
    "        elif pos_label in ['a', 's', 'v']: # For adjectives and verbs\n",
    "            outtext = outtext +' ' + (lemmatizer.lemmatize(word, pos=pos_label))\n",
    "        else:   # For nouns and everything else as it is the default kwarg\n",
    "            outtext = outtext +' ' + (lemmatizer.lemmatize(word))\n",
    "       \n",
    "    return outtext\n",
    "\n",
    "       \n",
    "def execute_funcs(input_text, *args):\n",
    "    funcs = list(args)\n",
    "    for func in funcs:\n",
    "        input_text = func(input_text)\n",
    "    return input_text\n",
    "\n",
    "\n",
    "def apply_funcs(input_text):\n",
    "    clean_X = execute_funcs(input_text, to_lower, remove_punctuation, remove_digits, \n",
    "                            remove_stopwords, \n",
    "                            expandShortsForms, \n",
    "#                             lemmatize\n",
    "                           )\n",
    "    return clean_X"
   ]
  },
  {
   "cell_type": "markdown",
   "id": "6be78487",
   "metadata": {},
   "source": [
    "__Model Training__"
   ]
  },
  {
   "cell_type": "code",
   "execution_count": 30,
   "id": "24208885",
   "metadata": {
    "scrolled": false
   },
   "outputs": [
    {
     "name": "stdout",
     "output_type": "stream",
     "text": [
      "              precision    recall  f1-score   support\n",
      "\n",
      "           0       0.98      0.99      0.99       966\n",
      "           1       0.95      0.89      0.92       149\n",
      "\n",
      "    accuracy                           0.98      1115\n",
      "   macro avg       0.97      0.94      0.95      1115\n",
      "weighted avg       0.98      0.98      0.98      1115\n",
      "\n",
      "0.97847533632287\n",
      "[[959   7]\n",
      " [ 17 132]]\n",
      "Wall time: 1.45 s\n"
     ]
    }
   ],
   "source": [
    "%%time\n",
    "\n",
    "import warnings\n",
    "warnings.filterwarnings('ignore')\n",
    "\n",
    "df[\"clean_message\"] = df[\"message\"].apply(func=apply_funcs)\n",
    "\n",
    "y = df[\"label\"]\n",
    "X = df.drop(labels=\"label\", axis=1)\n",
    "\n",
    "from sklearn.model_selection import train_test_split\n",
    "\n",
    "X_train, X_test, y_train, y_test = train_test_split(X, y, test_size=0.2, random_state=0, stratify=y)\n",
    "\n",
    "from sklearn.preprocessing import LabelEncoder\n",
    "\n",
    "enc = LabelEncoder()\n",
    "y_train = enc.fit_transform(y=y_train)\n",
    "y_test = enc.transform(y=y_test)\n",
    "\n",
    "\n",
    "from sklearn.compose import make_column_transformer\n",
    "from sklearn.feature_extraction.text import TfidfVectorizer, CountVectorizer\n",
    "from sklearn.preprocessing import StandardScaler\n",
    "\n",
    "# This is a shorthand for the ColumnTransformer constructor; it does not require, and does not permit, naming the \n",
    "# transformers.\n",
    "ct = make_column_transformer(\n",
    "    (TfidfVectorizer(), (\"clean_message\")),\n",
    "    (StandardScaler(), ([\"length\", \"punct\"])),\n",
    "    n_jobs=-1)\n",
    "\n",
    "from sklearn.pipeline import make_pipeline\n",
    "\n",
    "# CatBoostClassifier\n",
    "# from catboost import CatBoostClassifier\n",
    "# clf = make_pipeline(ct, CatBoostClassifier())\n",
    "\n",
    "# LGBMClassifier\n",
    "# from lightgbm import LGBMClassifier\n",
    "# clf = make_pipeline(ct, LGBMClassifier())\n",
    "\n",
    "# XGBClassifier\n",
    "# from xgboost import XGBClassifier\n",
    "# clf = make_pipeline(ct, XGBClassifier())\n",
    "\n",
    "# SGDClassifier\n",
    "from sklearn.linear_model import SGDClassifier\n",
    "clf = make_pipeline(ct, SGDClassifier()) \n",
    "\n",
    "# LogisticRegression\n",
    "# from sklearn.linear_model import LogisticRegression\n",
    "# clf = make_pipeline(ct, LogisticRegression()) \n",
    "\n",
    "# SVC linear\n",
    "# from sklearn.svm import SVC\n",
    "# clf = make_pipeline(ct, SVC(kernel='linear', random_state = 0)) \n",
    "\n",
    "# SVC rbf, Radial Basis Function\n",
    "# from sklearn.svm import SVC\n",
    "# clf = make_pipeline(ct, SVC(kernel='rbf', random_state = 0))\n",
    "\n",
    "# KNeighborsClassifier\n",
    "# from sklearn.neighbors import KNeighborsClassifier\n",
    "# clf = make_pipeline(ct, KNeighborsClassifier(n_neighbors=5, metric='minkowski', p=2)) \n",
    "\n",
    "# DecisionTreeClassifier\n",
    "# from sklearn.tree import DecisionTreeClassifier\n",
    "# clf = make_pipeline(ct, DecisionTreeClassifier(criterion='entropy', random_state=0)) \n",
    "\n",
    "clf.fit(X_train, y_train)\n",
    "\n",
    "from sklearn.metrics import confusion_matrix, accuracy_score, classification_report\n",
    "\n",
    "predictions = clf.predict(X_test)\n",
    "print(classification_report(y_test, predictions))\n",
    "print(accuracy_score(y_test, predictions))\n",
    "print(confusion_matrix(y_test, predictions))"
   ]
  },
  {
   "cell_type": "code",
   "execution_count": 32,
   "id": "568ca4e6",
   "metadata": {},
   "outputs": [
    {
     "data": {
      "image/png": "[encoded data removed]",
      "text/plain": [
       "<Figure size 432x288 with 2 Axes>"
      ]
     },
     "metadata": {
      "needs_background": "light"
     },
     "output_type": "display_data"
    }
   ],
   "source": [
    "from sklearn.metrics import plot_confusion_matrix\n",
    "\n",
    "plot_confusion_matrix(estimator=clf, X=X_test, y_true=y_test, cmap=\"Blues\");"
   ]
  }
 ],
 "metadata": {
  "hide_input": false,
  "kernelspec": {
   "display_name": "Python 3 (ipykernel)",
   "language": "python",
   "name": "python3"
  },
  "language_info": {
   "codemirror_mode": {
    "name": "ipython",
    "version": 3
   },
   "file_extension": ".py",
   "mimetype": "text/x-python",
   "name": "python",
   "nbconvert_exporter": "python",
   "pygments_lexer": "ipython3",
   "version": "3.8.12"
  }
 },
 "nbformat": 4,
 "nbformat_minor": 5
}
