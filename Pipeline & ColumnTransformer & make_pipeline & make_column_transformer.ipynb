{
 "cells": [
  {
   "cell_type": "code",
   "execution_count": 1,
   "id": "09bb8940",
   "metadata": {},
   "outputs": [],
   "source": [
    "import pandas as pd \n",
    "import numpy as np \n",
    "import matplotlib.pyplot as plt \n",
    "import seaborn as sns\n",
    "%matplotlib inline"
   ]
  },
  {
   "cell_type": "markdown",
   "id": "f638106c",
   "metadata": {},
   "source": [
    "## Load the Yelp data"
   ]
  },
  {
   "cell_type": "code",
   "execution_count": 2,
   "id": "0c6d6e09",
   "metadata": {},
   "outputs": [
    {
     "data": {
      "text/html": [
       "<div>\n",
       "<style scoped>\n",
       "    .dataframe tbody tr th:only-of-type {\n",
       "        vertical-align: middle;\n",
       "    }\n",
       "\n",
       "    .dataframe tbody tr th {\n",
       "        vertical-align: top;\n",
       "    }\n",
       "\n",
       "    .dataframe thead th {\n",
       "        text-align: right;\n",
       "    }\n",
       "</style>\n",
       "<table border=\"1\" class=\"dataframe\">\n",
       "  <thead>\n",
       "    <tr style=\"text-align: right;\">\n",
       "      <th></th>\n",
       "      <th>stars</th>\n",
       "      <th>text</th>\n",
       "      <th>cool</th>\n",
       "      <th>useful</th>\n",
       "      <th>funny</th>\n",
       "    </tr>\n",
       "  </thead>\n",
       "  <tbody>\n",
       "    <tr>\n",
       "      <th>0</th>\n",
       "      <td>5</td>\n",
       "      <td>My wife took me here on my birthday for breakf...</td>\n",
       "      <td>2</td>\n",
       "      <td>5</td>\n",
       "      <td>0</td>\n",
       "    </tr>\n",
       "    <tr>\n",
       "      <th>1</th>\n",
       "      <td>5</td>\n",
       "      <td>I have no idea why some people give bad review...</td>\n",
       "      <td>0</td>\n",
       "      <td>0</td>\n",
       "      <td>0</td>\n",
       "    </tr>\n",
       "    <tr>\n",
       "      <th>2</th>\n",
       "      <td>4</td>\n",
       "      <td>love the gyro plate. Rice is so good and I als...</td>\n",
       "      <td>0</td>\n",
       "      <td>1</td>\n",
       "      <td>0</td>\n",
       "    </tr>\n",
       "    <tr>\n",
       "      <th>3</th>\n",
       "      <td>5</td>\n",
       "      <td>Rosie, Dakota, and I LOVE Chaparral Dog Park!!...</td>\n",
       "      <td>1</td>\n",
       "      <td>2</td>\n",
       "      <td>0</td>\n",
       "    </tr>\n",
       "    <tr>\n",
       "      <th>4</th>\n",
       "      <td>5</td>\n",
       "      <td>General Manager Scott Petello is a good egg!!!...</td>\n",
       "      <td>0</td>\n",
       "      <td>0</td>\n",
       "      <td>0</td>\n",
       "    </tr>\n",
       "  </tbody>\n",
       "</table>\n",
       "</div>"
      ],
      "text/plain": [
       "   stars                                               text  cool  useful  \\\n",
       "0      5  My wife took me here on my birthday for breakf...     2       5   \n",
       "1      5  I have no idea why some people give bad review...     0       0   \n",
       "2      4  love the gyro plate. Rice is so good and I als...     0       1   \n",
       "3      5  Rosie, Dakota, and I LOVE Chaparral Dog Park!!...     1       2   \n",
       "4      5  General Manager Scott Petello is a good egg!!!...     0       0   \n",
       "\n",
       "   funny  \n",
       "0      0  \n",
       "1      0  \n",
       "2      0  \n",
       "3      0  \n",
       "4      0  "
      ]
     },
     "execution_count": 2,
     "metadata": {},
     "output_type": "execute_result"
    }
   ],
   "source": [
    "df = pd.read_csv(r\"D:\\LIUZHICHENG\\Udemy\\Machine Learning\\8 Real World Projects\\Natural Language Processing - Yelp Reviews\\yelp.csv\")\n",
    "df = df.drop(columns=[\"business_id\", \"date\", \"review_id\", \"type\", \"user_id\"])\n",
    "df.head()"
   ]
  },
  {
   "cell_type": "code",
   "execution_count": 3,
   "id": "9ff154bf",
   "metadata": {},
   "outputs": [
    {
     "data": {
      "text/html": [
       "<div>\n",
       "<style scoped>\n",
       "    .dataframe tbody tr th:only-of-type {\n",
       "        vertical-align: middle;\n",
       "    }\n",
       "\n",
       "    .dataframe tbody tr th {\n",
       "        vertical-align: top;\n",
       "    }\n",
       "\n",
       "    .dataframe thead th {\n",
       "        text-align: right;\n",
       "    }\n",
       "</style>\n",
       "<table border=\"1\" class=\"dataframe\">\n",
       "  <thead>\n",
       "    <tr style=\"text-align: right;\">\n",
       "      <th></th>\n",
       "      <th>stars</th>\n",
       "      <th>text</th>\n",
       "      <th>cool</th>\n",
       "      <th>useful</th>\n",
       "      <th>funny</th>\n",
       "      <th>length</th>\n",
       "    </tr>\n",
       "  </thead>\n",
       "  <tbody>\n",
       "    <tr>\n",
       "      <th>0</th>\n",
       "      <td>5</td>\n",
       "      <td>My wife took me here on my birthday for breakf...</td>\n",
       "      <td>2</td>\n",
       "      <td>5</td>\n",
       "      <td>0</td>\n",
       "      <td>889</td>\n",
       "    </tr>\n",
       "    <tr>\n",
       "      <th>1</th>\n",
       "      <td>5</td>\n",
       "      <td>I have no idea why some people give bad review...</td>\n",
       "      <td>0</td>\n",
       "      <td>0</td>\n",
       "      <td>0</td>\n",
       "      <td>1345</td>\n",
       "    </tr>\n",
       "    <tr>\n",
       "      <th>2</th>\n",
       "      <td>4</td>\n",
       "      <td>love the gyro plate. Rice is so good and I als...</td>\n",
       "      <td>0</td>\n",
       "      <td>1</td>\n",
       "      <td>0</td>\n",
       "      <td>76</td>\n",
       "    </tr>\n",
       "    <tr>\n",
       "      <th>3</th>\n",
       "      <td>5</td>\n",
       "      <td>Rosie, Dakota, and I LOVE Chaparral Dog Park!!...</td>\n",
       "      <td>1</td>\n",
       "      <td>2</td>\n",
       "      <td>0</td>\n",
       "      <td>419</td>\n",
       "    </tr>\n",
       "    <tr>\n",
       "      <th>4</th>\n",
       "      <td>5</td>\n",
       "      <td>General Manager Scott Petello is a good egg!!!...</td>\n",
       "      <td>0</td>\n",
       "      <td>0</td>\n",
       "      <td>0</td>\n",
       "      <td>469</td>\n",
       "    </tr>\n",
       "    <tr>\n",
       "      <th>...</th>\n",
       "      <td>...</td>\n",
       "      <td>...</td>\n",
       "      <td>...</td>\n",
       "      <td>...</td>\n",
       "      <td>...</td>\n",
       "      <td>...</td>\n",
       "    </tr>\n",
       "    <tr>\n",
       "      <th>9995</th>\n",
       "      <td>3</td>\n",
       "      <td>First visit...Had lunch here today - used my G...</td>\n",
       "      <td>1</td>\n",
       "      <td>2</td>\n",
       "      <td>0</td>\n",
       "      <td>668</td>\n",
       "    </tr>\n",
       "    <tr>\n",
       "      <th>9996</th>\n",
       "      <td>4</td>\n",
       "      <td>Should be called house of deliciousness!\\n\\nI ...</td>\n",
       "      <td>0</td>\n",
       "      <td>0</td>\n",
       "      <td>0</td>\n",
       "      <td>881</td>\n",
       "    </tr>\n",
       "    <tr>\n",
       "      <th>9997</th>\n",
       "      <td>4</td>\n",
       "      <td>I recently visited Olive and Ivy for business ...</td>\n",
       "      <td>0</td>\n",
       "      <td>0</td>\n",
       "      <td>0</td>\n",
       "      <td>1425</td>\n",
       "    </tr>\n",
       "    <tr>\n",
       "      <th>9998</th>\n",
       "      <td>2</td>\n",
       "      <td>My nephew just moved to Scottsdale recently so...</td>\n",
       "      <td>0</td>\n",
       "      <td>0</td>\n",
       "      <td>0</td>\n",
       "      <td>880</td>\n",
       "    </tr>\n",
       "    <tr>\n",
       "      <th>9999</th>\n",
       "      <td>5</td>\n",
       "      <td>4-5 locations.. all 4.5 star average.. I think...</td>\n",
       "      <td>0</td>\n",
       "      <td>0</td>\n",
       "      <td>0</td>\n",
       "      <td>461</td>\n",
       "    </tr>\n",
       "  </tbody>\n",
       "</table>\n",
       "<p>10000 rows × 6 columns</p>\n",
       "</div>"
      ],
      "text/plain": [
       "      stars                                               text  cool  useful  \\\n",
       "0         5  My wife took me here on my birthday for breakf...     2       5   \n",
       "1         5  I have no idea why some people give bad review...     0       0   \n",
       "2         4  love the gyro plate. Rice is so good and I als...     0       1   \n",
       "3         5  Rosie, Dakota, and I LOVE Chaparral Dog Park!!...     1       2   \n",
       "4         5  General Manager Scott Petello is a good egg!!!...     0       0   \n",
       "...     ...                                                ...   ...     ...   \n",
       "9995      3  First visit...Had lunch here today - used my G...     1       2   \n",
       "9996      4  Should be called house of deliciousness!\\n\\nI ...     0       0   \n",
       "9997      4  I recently visited Olive and Ivy for business ...     0       0   \n",
       "9998      2  My nephew just moved to Scottsdale recently so...     0       0   \n",
       "9999      5  4-5 locations.. all 4.5 star average.. I think...     0       0   \n",
       "\n",
       "      funny  length  \n",
       "0         0     889  \n",
       "1         0    1345  \n",
       "2         0      76  \n",
       "3         0     419  \n",
       "4         0     469  \n",
       "...     ...     ...  \n",
       "9995      0     668  \n",
       "9996      0     881  \n",
       "9997      0    1425  \n",
       "9998      0     880  \n",
       "9999      0     461  \n",
       "\n",
       "[10000 rows x 6 columns]"
      ]
     },
     "execution_count": 3,
     "metadata": {},
     "output_type": "execute_result"
    }
   ],
   "source": [
    "df[\"length\"] = df[\"text\"].apply(func=len)\n",
    "df"
   ]
  },
  {
   "cell_type": "markdown",
   "id": "53391d3c",
   "metadata": {
    "heading_collapsed": true
   },
   "source": [
    "## EDA"
   ]
  },
  {
   "cell_type": "code",
   "execution_count": 4,
   "id": "345203d6",
   "metadata": {
    "hidden": true
   },
   "outputs": [
    {
     "data": {
      "text/plain": [
       "count    10000.000000\n",
       "mean       710.738700\n",
       "std        617.399827\n",
       "min          1.000000\n",
       "25%        294.000000\n",
       "50%        541.500000\n",
       "75%        930.000000\n",
       "max       4997.000000\n",
       "Name: length, dtype: float64"
      ]
     },
     "execution_count": 4,
     "metadata": {},
     "output_type": "execute_result"
    }
   ],
   "source": [
    "df[\"length\"].describe()"
   ]
  },
  {
   "cell_type": "code",
   "execution_count": 5,
   "id": "b6e35d5a",
   "metadata": {
    "hidden": true
   },
   "outputs": [
    {
     "data": {
      "text/html": [
       "<div>\n",
       "<style scoped>\n",
       "    .dataframe tbody tr th:only-of-type {\n",
       "        vertical-align: middle;\n",
       "    }\n",
       "\n",
       "    .dataframe tbody tr th {\n",
       "        vertical-align: top;\n",
       "    }\n",
       "\n",
       "    .dataframe thead th {\n",
       "        text-align: right;\n",
       "    }\n",
       "</style>\n",
       "<table border=\"1\" class=\"dataframe\">\n",
       "  <thead>\n",
       "    <tr style=\"text-align: right;\">\n",
       "      <th></th>\n",
       "      <th>stars</th>\n",
       "      <th>text</th>\n",
       "      <th>cool</th>\n",
       "      <th>useful</th>\n",
       "      <th>funny</th>\n",
       "      <th>length</th>\n",
       "    </tr>\n",
       "  </thead>\n",
       "  <tbody>\n",
       "    <tr>\n",
       "      <th>55</th>\n",
       "      <td>4</td>\n",
       "      <td>In our continuing quest to identify cool, loca...</td>\n",
       "      <td>0</td>\n",
       "      <td>1</td>\n",
       "      <td>0</td>\n",
       "      <td>4997</td>\n",
       "    </tr>\n",
       "  </tbody>\n",
       "</table>\n",
       "</div>"
      ],
      "text/plain": [
       "    stars                                               text  cool  useful  \\\n",
       "55      4  In our continuing quest to identify cool, loca...     0       1   \n",
       "\n",
       "    funny  length  \n",
       "55      0    4997  "
      ]
     },
     "execution_count": 5,
     "metadata": {},
     "output_type": "execute_result"
    }
   ],
   "source": [
    "df.nlargest(n=1, columns=\"length\")"
   ]
  },
  {
   "cell_type": "code",
   "execution_count": 6,
   "id": "7325bff0",
   "metadata": {
    "hidden": true
   },
   "outputs": [
    {
     "data": {
      "text/plain": [
       "55"
      ]
     },
     "execution_count": 6,
     "metadata": {},
     "output_type": "execute_result"
    }
   ],
   "source": [
    "df[\"length\"].idxmax()"
   ]
  },
  {
   "cell_type": "code",
   "execution_count": 7,
   "id": "435deb9d",
   "metadata": {
    "hidden": true
   },
   "outputs": [
    {
     "data": {
      "text/plain": [
       "stars                                                     4\n",
       "text      In our continuing quest to identify cool, loca...\n",
       "cool                                                      0\n",
       "useful                                                    1\n",
       "funny                                                     0\n",
       "length                                                 4997\n",
       "Name: 55, dtype: object"
      ]
     },
     "execution_count": 7,
     "metadata": {},
     "output_type": "execute_result"
    }
   ],
   "source": [
    "df.iloc[df[\"length\"].idxmax()]"
   ]
  },
  {
   "cell_type": "code",
   "execution_count": 8,
   "id": "00e57862",
   "metadata": {
    "hidden": true
   },
   "outputs": [
    {
     "data": {
      "text/html": [
       "<div>\n",
       "<style scoped>\n",
       "    .dataframe tbody tr th:only-of-type {\n",
       "        vertical-align: middle;\n",
       "    }\n",
       "\n",
       "    .dataframe tbody tr th {\n",
       "        vertical-align: top;\n",
       "    }\n",
       "\n",
       "    .dataframe thead th {\n",
       "        text-align: right;\n",
       "    }\n",
       "</style>\n",
       "<table border=\"1\" class=\"dataframe\">\n",
       "  <thead>\n",
       "    <tr style=\"text-align: right;\">\n",
       "      <th></th>\n",
       "      <th>stars</th>\n",
       "      <th>text</th>\n",
       "      <th>cool</th>\n",
       "      <th>useful</th>\n",
       "      <th>funny</th>\n",
       "      <th>length</th>\n",
       "    </tr>\n",
       "  </thead>\n",
       "  <tbody>\n",
       "    <tr>\n",
       "      <th>6450</th>\n",
       "      <td>3</td>\n",
       "      <td>X</td>\n",
       "      <td>0</td>\n",
       "      <td>0</td>\n",
       "      <td>0</td>\n",
       "      <td>1</td>\n",
       "    </tr>\n",
       "  </tbody>\n",
       "</table>\n",
       "</div>"
      ],
      "text/plain": [
       "      stars text  cool  useful  funny  length\n",
       "6450      3    X     0       0      0       1"
      ]
     },
     "execution_count": 8,
     "metadata": {},
     "output_type": "execute_result"
    }
   ],
   "source": [
    "df.nsmallest(n=1, columns=\"length\")"
   ]
  },
  {
   "cell_type": "code",
   "execution_count": 9,
   "id": "71f3cf2a",
   "metadata": {
    "hidden": true
   },
   "outputs": [
    {
     "data": {
      "text/plain": [
       "6450"
      ]
     },
     "execution_count": 9,
     "metadata": {},
     "output_type": "execute_result"
    }
   ],
   "source": [
    "df[\"length\"].idxmin()"
   ]
  },
  {
   "cell_type": "code",
   "execution_count": 10,
   "id": "305266eb",
   "metadata": {
    "hidden": true
   },
   "outputs": [
    {
     "data": {
      "text/plain": [
       "stars     3\n",
       "text      X\n",
       "cool      0\n",
       "useful    0\n",
       "funny     0\n",
       "length    1\n",
       "Name: 6450, dtype: object"
      ]
     },
     "execution_count": 10,
     "metadata": {},
     "output_type": "execute_result"
    }
   ],
   "source": [
    "df.iloc[df[\"length\"].idxmin()]"
   ]
  },
  {
   "cell_type": "code",
   "execution_count": 11,
   "id": "6e76406d",
   "metadata": {
    "hidden": true
   },
   "outputs": [
    {
     "data": {
      "text/plain": [
       "<AxesSubplot:xlabel='stars', ylabel='count'>"
      ]
     },
     "execution_count": 11,
     "metadata": {},
     "output_type": "execute_result"
    },
    {
     "data": {
      "image/png": "[encoded data removed]",
      "text/plain": [
       "<Figure size 432x288 with 1 Axes>"
      ]
     },
     "metadata": {
      "needs_background": "light"
     },
     "output_type": "display_data"
    }
   ],
   "source": [
    "sns.countplot(data=df, x=\"stars\")"
   ]
  },
  {
   "cell_type": "code",
   "execution_count": 12,
   "id": "b4c7effa",
   "metadata": {
    "hidden": true,
    "scrolled": false
   },
   "outputs": [
    {
     "data": {
      "image/png": "[encoded data removed]",
      "text/plain": [
       "<Figure size 648x432 with 5 Axes>"
      ]
     },
     "metadata": {
      "needs_background": "light"
     },
     "output_type": "display_data"
    }
   ],
   "source": [
    "g = sns.FacetGrid(data=df, col=\"stars\", col_wrap=3)\n",
    "g.map(plt.hist, \"length\", bins=20, color=\"g\");"
   ]
  },
  {
   "cell_type": "code",
   "execution_count": 13,
   "id": "bc14575f",
   "metadata": {
    "hidden": true
   },
   "outputs": [
    {
     "data": {
      "text/plain": [
       "5    81.669114\n",
       "1    18.330886\n",
       "Name: stars, dtype: float64"
      ]
     },
     "execution_count": 13,
     "metadata": {},
     "output_type": "execute_result"
    }
   ],
   "source": [
    "tmp = df[df[\"stars\"].isin(values=[1, 5])]\n",
    "tmp[\"stars\"].value_counts() / len(tmp) * 100"
   ]
  },
  {
   "cell_type": "code",
   "execution_count": 14,
   "id": "aed8cc7a",
   "metadata": {
    "hidden": true
   },
   "outputs": [
    {
     "data": {
      "image/png": "[encoded data removed]",
      "text/plain": [
       "<Figure size 432x288 with 1 Axes>"
      ]
     },
     "metadata": {
      "needs_background": "light"
     },
     "output_type": "display_data"
    }
   ],
   "source": [
    "sns.countplot(data=tmp, x=\"stars\");"
   ]
  },
  {
   "cell_type": "code",
   "execution_count": 15,
   "id": "3b97fbc4",
   "metadata": {
    "hidden": true
   },
   "outputs": [],
   "source": [
    "text1 = 'Hello Mr. Future, I am so happy to be learning AI now!!'"
   ]
  },
  {
   "cell_type": "code",
   "execution_count": 16,
   "id": "d04b0784",
   "metadata": {
    "hidden": true
   },
   "outputs": [],
   "source": [
    "import string\n",
    "string.punctuation\n",
    "\n",
    "from nltk.corpus import stopwords\n",
    "stopwords.words(\"english\")\n",
    "\n",
    "def message_cleaning(text):\n",
    "    # char\n",
    "    text_punc_removed = \"\".join([char for char in text if char not in string.punctuation]) \n",
    "    # word\n",
    "    text_stopwords_removed = \" \".join([word for word in text_punc_removed.split() if word.lower() \n",
    "                                       not in stopwords.words(\"english\")])\n",
    "#     text_stopwords_removed = [word for word in text_punc_removed.split() if word.lower() not in stopwords.words(\"english\")]\n",
    "    return text_stopwords_removed"
   ]
  },
  {
   "cell_type": "code",
   "execution_count": 17,
   "id": "b83e2244",
   "metadata": {
    "hidden": true
   },
   "outputs": [
    {
     "data": {
      "text/plain": [
       "'Hello Mr Future happy learning AI'"
      ]
     },
     "execution_count": 17,
     "metadata": {},
     "output_type": "execute_result"
    }
   ],
   "source": [
    "message_cleaning(text1)"
   ]
  },
  {
   "cell_type": "code",
   "execution_count": 18,
   "id": "987e8377",
   "metadata": {
    "hidden": true
   },
   "outputs": [
    {
     "name": "stdout",
     "output_type": "stream",
     "text": [
      "Wall time: 4min 47s\n"
     ]
    },
    {
     "data": {
      "text/plain": [
       "0       wife took birthday breakfast excellent weather...\n",
       "1       idea people give bad reviews place goes show p...\n",
       "2       love gyro plate Rice good also dig candy selec...\n",
       "3       Rosie Dakota LOVE Chaparral Dog Park convenien...\n",
       "4       General Manager Scott Petello good egg go deta...\n",
       "                              ...                        \n",
       "9995    First visitHad lunch today used Groupon ordere...\n",
       "9996    called house deliciousness could go item item ...\n",
       "9997    recently visited Olive Ivy business last week ...\n",
       "9998    nephew moved Scottsdale recently bunch friends...\n",
       "9999    45 locations 45 star average think Arizona rea...\n",
       "Name: text, Length: 10000, dtype: object"
      ]
     },
     "execution_count": 18,
     "metadata": {},
     "output_type": "execute_result"
    }
   ],
   "source": [
    "%%time\n",
    "df[\"text\"].apply(func=message_cleaning)"
   ]
  },
  {
   "cell_type": "code",
   "execution_count": 19,
   "id": "c9c4a9b5",
   "metadata": {
    "hidden": true
   },
   "outputs": [
    {
     "data": {
      "text/html": [
       "<div>\n",
       "<style scoped>\n",
       "    .dataframe tbody tr th:only-of-type {\n",
       "        vertical-align: middle;\n",
       "    }\n",
       "\n",
       "    .dataframe tbody tr th {\n",
       "        vertical-align: top;\n",
       "    }\n",
       "\n",
       "    .dataframe thead th {\n",
       "        text-align: right;\n",
       "    }\n",
       "</style>\n",
       "<table border=\"1\" class=\"dataframe\">\n",
       "  <thead>\n",
       "    <tr style=\"text-align: right;\">\n",
       "      <th></th>\n",
       "      <th>stars</th>\n",
       "      <th>text</th>\n",
       "      <th>cool</th>\n",
       "      <th>useful</th>\n",
       "      <th>funny</th>\n",
       "    </tr>\n",
       "  </thead>\n",
       "  <tbody>\n",
       "    <tr>\n",
       "      <th>0</th>\n",
       "      <td>5</td>\n",
       "      <td>My wife took me here on my birthday for breakf...</td>\n",
       "      <td>2</td>\n",
       "      <td>5</td>\n",
       "      <td>0</td>\n",
       "    </tr>\n",
       "    <tr>\n",
       "      <th>1</th>\n",
       "      <td>5</td>\n",
       "      <td>I have no idea why some people give bad review...</td>\n",
       "      <td>0</td>\n",
       "      <td>0</td>\n",
       "      <td>0</td>\n",
       "    </tr>\n",
       "    <tr>\n",
       "      <th>2</th>\n",
       "      <td>4</td>\n",
       "      <td>love the gyro plate. Rice is so good and I als...</td>\n",
       "      <td>0</td>\n",
       "      <td>1</td>\n",
       "      <td>0</td>\n",
       "    </tr>\n",
       "    <tr>\n",
       "      <th>3</th>\n",
       "      <td>5</td>\n",
       "      <td>Rosie, Dakota, and I LOVE Chaparral Dog Park!!...</td>\n",
       "      <td>1</td>\n",
       "      <td>2</td>\n",
       "      <td>0</td>\n",
       "    </tr>\n",
       "    <tr>\n",
       "      <th>4</th>\n",
       "      <td>5</td>\n",
       "      <td>General Manager Scott Petello is a good egg!!!...</td>\n",
       "      <td>0</td>\n",
       "      <td>0</td>\n",
       "      <td>0</td>\n",
       "    </tr>\n",
       "  </tbody>\n",
       "</table>\n",
       "</div>"
      ],
      "text/plain": [
       "   stars                                               text  cool  useful  \\\n",
       "0      5  My wife took me here on my birthday for breakf...     2       5   \n",
       "1      5  I have no idea why some people give bad review...     0       0   \n",
       "2      4  love the gyro plate. Rice is so good and I als...     0       1   \n",
       "3      5  Rosie, Dakota, and I LOVE Chaparral Dog Park!!...     1       2   \n",
       "4      5  General Manager Scott Petello is a good egg!!!...     0       0   \n",
       "\n",
       "   funny  \n",
       "0      0  \n",
       "1      0  \n",
       "2      0  \n",
       "3      0  \n",
       "4      0  "
      ]
     },
     "execution_count": 19,
     "metadata": {},
     "output_type": "execute_result"
    }
   ],
   "source": [
    "df = pd.read_csv(r\"D:\\LIUZHICHENG\\Udemy\\Machine Learning\\8 Real World Projects\\Natural Language Processing - Yelp Reviews\\yelp.csv\")\n",
    "df = df.drop(columns=[\"business_id\", \"date\", \"review_id\", \"type\", \"user_id\"])\n",
    "df.head()"
   ]
  },
  {
   "cell_type": "code",
   "execution_count": 20,
   "id": "fdac6d46",
   "metadata": {
    "hidden": true
   },
   "outputs": [],
   "source": [
    "#  df = df[df[\"stars\"].isin(values=[1, 5])]"
   ]
  },
  {
   "cell_type": "markdown",
   "id": "d22c4231",
   "metadata": {},
   "source": [
    "## Text Preprocessing"
   ]
  },
  {
   "cell_type": "code",
   "execution_count": 21,
   "id": "caeb24ac",
   "metadata": {},
   "outputs": [
    {
     "name": "stdout",
     "output_type": "stream",
     "text": [
      "Wall time: 0 ns\n"
     ]
    }
   ],
   "source": [
    "%%time\n",
    "\n",
    "import string\n",
    "import re\n",
    "import nltk\n",
    "from nltk.corpus import stopwords\n",
    "\n",
    "def remove_punctuation(input_text):\n",
    "\n",
    "    \"\"\" Remove punctuations like '!\"#$%&\\'()*+,-./:;<=>?@[\\\\]^_`{|}~' \"\"\"\n",
    "\n",
    "    #print(\"in remove_punctuation\\n\",input_text)\n",
    "    # Make translation table\n",
    "    input_text = str(input_text) # avoid thedange of being a series object\n",
    "    punct = string.punctuation\n",
    "    trantab = str.maketrans(punct, len(punct)*' ')  # Every punctuation symbol will be replaced by a space\n",
    "    return input_text.translate(trantab).encode('ascii', 'ignore').decode('utf8') # -> Final kick to clean up :)\n",
    "\n",
    "\n",
    "def remove_digits(input_text):\n",
    "\n",
    "    \"\"\" Remove numerical digits ranging from 0-9 \"\"\"\n",
    "    #print(\"in remove_digits\\n\",input_text)\n",
    "    return re.sub('\\d+', '', input_text)\n",
    "\n",
    "   \n",
    "def to_lower(input_text):\n",
    "\n",
    "    \"\"\" String handling, returns the lowercased strings from the given string \"\"\"\n",
    "    #print(\"in to_lower\\n\",input_text)\n",
    "    return input_text.lower()\n",
    "\n",
    "\n",
    "def remove_stopwords(input_text):\n",
    "\n",
    "    \"\"\" Remove the low-level information from our text in order to give more focus to the important information \"\"\"\n",
    "   #print(\"in remove_stopwords\\n\",input_text)\n",
    "    stopwords_list = stopwords.words('english')\n",
    "    newStopWords = ['citi']\n",
    "    stopwords_list.extend(newStopWords)\n",
    "\n",
    "    # Some words which might indicate a certain sentiment are kept via a whitelist\n",
    "    #whitelist = [\"n't\", \"not\", \"no\"]\n",
    "    whitelist = [\"n't\"]\n",
    "    words = input_text.split()\n",
    "    clean_words = [word for word in words if (word not in stopwords_list or word in whitelist) and len(word) > 2]         \n",
    "    return \" \".join(clean_words) # list -> string\n",
    "\n",
    " \n",
    "def expandShortsForms(input_text):\n",
    "    #print(\"in expandShortsForms\\n\",input_text)\n",
    "    return input_text.replace(\"can't\", \"can not\").replace(\"won't\", \"will not\")\n",
    "\n",
    "\n",
    "def lemmatize(input_text):\n",
    "\n",
    "    \"\"\" Return the base or dictionary form of a word, lemma \"\"\"\n",
    "    #print(\"in lemmatize\\n\",input_text)\n",
    "    outtext= \"\"\n",
    "    # Lemmatize\n",
    "    from nltk.stem import WordNetLemmatizer\n",
    "    from nltk import pos_tag, word_tokenize, wordnet\n",
    "    from nltk.corpus.reader.wordnet import WordNetError\n",
    "    lemmatizer = WordNetLemmatizer()\n",
    "\n",
    "    input_text = input_text.split()\n",
    "    for word in input_text:\n",
    "        # Get the single character pos constant from pos_tag like this:\n",
    "        pos_label = (pos_tag(word_tokenize(word))[0][1][0]).lower()\n",
    "\n",
    "        # pos_refs = {'n': ['NN', 'NNS', 'NNP', 'NNPS'],\n",
    "        #            'v': ['VB', 'VBD', 'VBG', 'VBN', 'VBP', 'VBZ'],\n",
    "        #            'r': ['RB', 'RBR', 'RBS'],\n",
    "        #            'a': ['JJ', 'JJR', 'JJS']}\n",
    "\n",
    "        if pos_label == 'j': pos_label = 'a'    # 'j' <--> 'a' reassignment\n",
    "\n",
    "        if pos_label in ['r']:  # For adverbs it's a bit different\n",
    "            try:\n",
    "                if len(wordnet.wordnet.synset(word+'.r.1').lemmas()[0].pertainyms()) > 0:\n",
    "                    outtext = outtext + ' ' +  (wordnet.wordnet.synset(word+'.r.1').lemmas()[0].pertainyms()[0].name())\n",
    "            except WordNetError:\n",
    "                pass\n",
    "            outtext = outtext + ' ' + word # To keep the word in the list\n",
    "        elif pos_label in ['a', 's', 'v']: # For adjectives and verbs\n",
    "            outtext = outtext +' ' + (lemmatizer.lemmatize(word, pos=pos_label))\n",
    "        else:   # For nouns and everything else as it is the default kwarg\n",
    "            outtext = outtext +' ' + (lemmatizer.lemmatize(word))\n",
    "       \n",
    "    return outtext\n",
    "\n",
    "       \n",
    "def execute_funcs(input_text, *args):\n",
    "    funcs = list(args)\n",
    "    for func in funcs:\n",
    "        input_text = func(input_text)\n",
    "    return input_text\n",
    "\n",
    "\n",
    "def apply_funcs(input_text):\n",
    "    clean_X = execute_funcs(input_text, to_lower, remove_punctuation, remove_digits, \n",
    "                            remove_stopwords, \n",
    "                            expandShortsForms, \n",
    "#                             lemmatize\n",
    "                           )\n",
    "    return clean_X"
   ]
  },
  {
   "cell_type": "markdown",
   "id": "2969386f",
   "metadata": {},
   "source": [
    "### Pipeline & ColumnTransformer"
   ]
  },
  {
   "cell_type": "code",
   "execution_count": 22,
   "id": "300938e6",
   "metadata": {},
   "outputs": [
    {
     "name": "stdout",
     "output_type": "stream",
     "text": [
      "              precision    recall  f1-score   support\n",
      "\n",
      "           0       0.00      0.00      0.00       150\n",
      "           1       0.00      0.00      0.00       185\n",
      "           2       0.00      0.00      0.00       292\n",
      "           3       0.38      0.87      0.53       705\n",
      "           4       0.62      0.36      0.45       668\n",
      "\n",
      "    accuracy                           0.43      2000\n",
      "   macro avg       0.20      0.25      0.20      2000\n",
      "weighted avg       0.34      0.43      0.34      2000\n",
      "\n",
      "0.4265\n",
      "[[  0   0   0 125  25]\n",
      " [  0   0   0 174  11]\n",
      " [  0   0   0 271  21]\n",
      " [  0   0   0 613  92]\n",
      " [  0   0   0 428 240]]\n",
      "Wall time: 10.9 s\n"
     ]
    }
   ],
   "source": [
    "%%time\n",
    "\n",
    "import warnings\n",
    "warnings.filterwarnings('ignore')\n",
    "\n",
    "df[\"clean_text\"] = df[\"text\"].apply(func=apply_funcs)\n",
    "df[\"length\"] = df[\"clean_text\"].apply(func=len)\n",
    "\n",
    "feature_columns = ['cool', 'useful', 'funny', 'clean_text', 'length']\n",
    "\n",
    "X = df[feature_columns]\n",
    "y = df[\"stars\"]\n",
    "\n",
    "from sklearn.model_selection import train_test_split\n",
    "\n",
    "X_train, X_test, y_train, y_test = train_test_split(X, y, test_size=0.2, random_state=0, stratify=y)\n",
    "\n",
    "from sklearn.preprocessing import LabelEncoder\n",
    "\n",
    "enc = LabelEncoder()\n",
    "y_train = enc.fit_transform(y=y_train)\n",
    "y_test = enc.transform(y=y_test)\n",
    "\n",
    "from sklearn.compose import ColumnTransformer\n",
    "from sklearn.feature_extraction.text import TfidfVectorizer\n",
    "from sklearn.preprocessing import OneHotEncoder\n",
    "from sklearn.preprocessing import StandardScaler, RobustScaler, Normalizer\n",
    "\n",
    "# Whenever the transformer expects a 1D array as input, the columns were specified as a string (\"xxx\"). \n",
    "# For the transformers which expects 2D data, we need to specify the column as a list of strings ([\"xxx\"]).\n",
    "ct = ColumnTransformer(transformers=[\n",
    "    (\"TfidfVectorizer\", TfidfVectorizer(), (\"clean_text\")),\n",
    "    (\"OneHotEncoder\", OneHotEncoder(handle_unknown='ignore'), ([\"cool\", \"useful\", \"funny\"])),\n",
    "    ('Normalizer', Normalizer(), ([\"length\"])),\n",
    "    ],\n",
    "    n_jobs=-1)\n",
    "\n",
    "from sklearn.pipeline import Pipeline\n",
    "from sklearn.naive_bayes import MultinomialNB\n",
    "\n",
    "clf = Pipeline(steps=[\n",
    "    (\"ColumnTransformer\", ct),\n",
    "    (\"MultinomialNB\", MultinomialNB())\n",
    "]) \n",
    "\n",
    "clf.fit(X_train, y_train)\n",
    "\n",
    "from sklearn.metrics import confusion_matrix, accuracy_score, classification_report\n",
    "\n",
    "predictions = clf.predict(X_test)\n",
    "print(classification_report(y_test, predictions))\n",
    "print(accuracy_score(y_test, predictions))\n",
    "print(confusion_matrix(y_test, predictions))"
   ]
  },
  {
   "cell_type": "code",
   "execution_count": 23,
   "id": "a81fcc27",
   "metadata": {},
   "outputs": [
    {
     "data": {
      "text/html": [
       "<style>#sk-35b5eaa3-7b38-4c28-a59e-8441bdab256d {color: black;background-color: white;}#sk-35b5eaa3-7b38-4c28-a59e-8441bdab256d pre{padding: 0;}#sk-35b5eaa3-7b38-4c28-a59e-8441bdab256d div.sk-toggleable {background-color: white;}#sk-35b5eaa3-7b38-4c28-a59e-8441bdab256d label.sk-toggleable__label {cursor: pointer;display: block;width: 100%;margin-bottom: 0;padding: 0.2em 0.3em;box-sizing: border-box;text-align: center;}#sk-35b5eaa3-7b38-4c28-a59e-8441bdab256d div.sk-toggleable__content {max-height: 0;max-width: 0;overflow: hidden;text-align: left;background-color: #f0f8ff;}#sk-35b5eaa3-7b38-4c28-a59e-8441bdab256d div.sk-toggleable__content pre {margin: 0.2em;color: black;border-radius: 0.25em;background-color: #f0f8ff;}#sk-35b5eaa3-7b38-4c28-a59e-8441bdab256d input.sk-toggleable__control:checked~div.sk-toggleable__content {max-height: 200px;max-width: 100%;overflow: auto;}#sk-35b5eaa3-7b38-4c28-a59e-8441bdab256d div.sk-estimator input.sk-toggleable__control:checked~label.sk-toggleable__label {background-color: #d4ebff;}#sk-35b5eaa3-7b38-4c28-a59e-8441bdab256d div.sk-label input.sk-toggleable__control:checked~label.sk-toggleable__label {background-color: #d4ebff;}#sk-35b5eaa3-7b38-4c28-a59e-8441bdab256d input.sk-hidden--visually {border: 0;clip: rect(1px 1px 1px 1px);clip: rect(1px, 1px, 1px, 1px);height: 1px;margin: -1px;overflow: hidden;padding: 0;position: absolute;width: 1px;}#sk-35b5eaa3-7b38-4c28-a59e-8441bdab256d div.sk-estimator {font-family: monospace;background-color: #f0f8ff;margin: 0.25em 0.25em;border: 1px dotted black;border-radius: 0.25em;box-sizing: border-box;}#sk-35b5eaa3-7b38-4c28-a59e-8441bdab256d div.sk-estimator:hover {background-color: #d4ebff;}#sk-35b5eaa3-7b38-4c28-a59e-8441bdab256d div.sk-parallel-item::after {content: \"\";width: 100%;border-bottom: 1px solid gray;flex-grow: 1;}#sk-35b5eaa3-7b38-4c28-a59e-8441bdab256d div.sk-label:hover label.sk-toggleable__label {background-color: #d4ebff;}#sk-35b5eaa3-7b38-4c28-a59e-8441bdab256d div.sk-serial::before {content: \"\";position: absolute;border-left: 1px solid gray;box-sizing: border-box;top: 2em;bottom: 0;left: 50%;}#sk-35b5eaa3-7b38-4c28-a59e-8441bdab256d div.sk-serial {display: flex;flex-direction: column;align-items: center;background-color: white;}#sk-35b5eaa3-7b38-4c28-a59e-8441bdab256d div.sk-item {z-index: 1;}#sk-35b5eaa3-7b38-4c28-a59e-8441bdab256d div.sk-parallel {display: flex;align-items: stretch;justify-content: center;background-color: white;}#sk-35b5eaa3-7b38-4c28-a59e-8441bdab256d div.sk-parallel-item {display: flex;flex-direction: column;position: relative;background-color: white;}#sk-35b5eaa3-7b38-4c28-a59e-8441bdab256d div.sk-parallel-item:first-child::after {align-self: flex-end;width: 50%;}#sk-35b5eaa3-7b38-4c28-a59e-8441bdab256d div.sk-parallel-item:last-child::after {align-self: flex-start;width: 50%;}#sk-35b5eaa3-7b38-4c28-a59e-8441bdab256d div.sk-parallel-item:only-child::after {width: 0;}#sk-35b5eaa3-7b38-4c28-a59e-8441bdab256d div.sk-dashed-wrapped {border: 1px dashed gray;margin: 0.2em;box-sizing: border-box;padding-bottom: 0.1em;background-color: white;position: relative;}#sk-35b5eaa3-7b38-4c28-a59e-8441bdab256d div.sk-label label {font-family: monospace;font-weight: bold;background-color: white;display: inline-block;line-height: 1.2em;}#sk-35b5eaa3-7b38-4c28-a59e-8441bdab256d div.sk-label-container {position: relative;z-index: 2;text-align: center;}#sk-35b5eaa3-7b38-4c28-a59e-8441bdab256d div.sk-container {display: inline-block;position: relative;}</style><div id=\"sk-35b5eaa3-7b38-4c28-a59e-8441bdab256d\" class\"sk-top-container\"><div class=\"sk-container\"><div class=\"sk-item sk-dashed-wrapped\"><div class=\"sk-label-container\"><div class=\"sk-label sk-toggleable\"><input class=\"sk-toggleable__control sk-hidden--visually\" id=\"8417f818-2ffa-4242-8f51-8efd2735abde\" type=\"checkbox\" ><label class=\"sk-toggleable__label\" for=\"8417f818-2ffa-4242-8f51-8efd2735abde\">Pipeline</label><div class=\"sk-toggleable__content\"><pre>Pipeline(steps=[('ColumnTransformer',\n",
       "                 ColumnTransformer(n_jobs=-1,\n",
       "                                   transformers=[('TfidfVectorizer',\n",
       "                                                  TfidfVectorizer(),\n",
       "                                                  'clean_text'),\n",
       "                                                 ('OneHotEncoder',\n",
       "                                                  OneHotEncoder(handle_unknown='ignore'),\n",
       "                                                  ['cool', 'useful', 'funny']),\n",
       "                                                 ('Normalizer', Normalizer(),\n",
       "                                                  ['length'])])),\n",
       "                ('MultinomialNB', MultinomialNB())])</pre></div></div></div><div class=\"sk-serial\"><div class=\"sk-item sk-dashed-wrapped\"><div class=\"sk-label-container\"><div class=\"sk-label sk-toggleable\"><input class=\"sk-toggleable__control sk-hidden--visually\" id=\"e7773917-6d27-468a-8d1b-0512675dfc66\" type=\"checkbox\" ><label class=\"sk-toggleable__label\" for=\"e7773917-6d27-468a-8d1b-0512675dfc66\">ColumnTransformer: ColumnTransformer</label><div class=\"sk-toggleable__content\"><pre>ColumnTransformer(n_jobs=-1,\n",
       "                  transformers=[('TfidfVectorizer', TfidfVectorizer(),\n",
       "                                 'clean_text'),\n",
       "                                ('OneHotEncoder',\n",
       "                                 OneHotEncoder(handle_unknown='ignore'),\n",
       "                                 ['cool', 'useful', 'funny']),\n",
       "                                ('Normalizer', Normalizer(), ['length'])])</pre></div></div></div><div class=\"sk-parallel\"><div class=\"sk-parallel-item\"><div class=\"sk-item\"><div class=\"sk-label-container\"><div class=\"sk-label sk-toggleable\"><input class=\"sk-toggleable__control sk-hidden--visually\" id=\"bd1deec5-8b22-4289-9578-845e72b0baf1\" type=\"checkbox\" ><label class=\"sk-toggleable__label\" for=\"bd1deec5-8b22-4289-9578-845e72b0baf1\">TfidfVectorizer</label><div class=\"sk-toggleable__content\"><pre>clean_text</pre></div></div></div><div class=\"sk-serial\"><div class=\"sk-item\"><div class=\"sk-estimator sk-toggleable\"><input class=\"sk-toggleable__control sk-hidden--visually\" id=\"41848be8-46b4-4663-a829-c80dcb343b0a\" type=\"checkbox\" ><label class=\"sk-toggleable__label\" for=\"41848be8-46b4-4663-a829-c80dcb343b0a\">TfidfVectorizer</label><div class=\"sk-toggleable__content\"><pre>TfidfVectorizer()</pre></div></div></div></div></div></div><div class=\"sk-parallel-item\"><div class=\"sk-item\"><div class=\"sk-label-container\"><div class=\"sk-label sk-toggleable\"><input class=\"sk-toggleable__control sk-hidden--visually\" id=\"e23ae7a6-e9ea-4a6e-a0f1-c8490f299fd6\" type=\"checkbox\" ><label class=\"sk-toggleable__label\" for=\"e23ae7a6-e9ea-4a6e-a0f1-c8490f299fd6\">OneHotEncoder</label><div class=\"sk-toggleable__content\"><pre>['cool', 'useful', 'funny']</pre></div></div></div><div class=\"sk-serial\"><div class=\"sk-item\"><div class=\"sk-estimator sk-toggleable\"><input class=\"sk-toggleable__control sk-hidden--visually\" id=\"21856efa-ae27-43d3-986a-685752274fb8\" type=\"checkbox\" ><label class=\"sk-toggleable__label\" for=\"21856efa-ae27-43d3-986a-685752274fb8\">OneHotEncoder</label><div class=\"sk-toggleable__content\"><pre>OneHotEncoder(handle_unknown='ignore')</pre></div></div></div></div></div></div><div class=\"sk-parallel-item\"><div class=\"sk-item\"><div class=\"sk-label-container\"><div class=\"sk-label sk-toggleable\"><input class=\"sk-toggleable__control sk-hidden--visually\" id=\"f1d4bc58-03b2-4381-9da9-5f8a579b1ab8\" type=\"checkbox\" ><label class=\"sk-toggleable__label\" for=\"f1d4bc58-03b2-4381-9da9-5f8a579b1ab8\">Normalizer</label><div class=\"sk-toggleable__content\"><pre>['length']</pre></div></div></div><div class=\"sk-serial\"><div class=\"sk-item\"><div class=\"sk-estimator sk-toggleable\"><input class=\"sk-toggleable__control sk-hidden--visually\" id=\"8dc6ed0d-98a0-4a48-bf3a-f113d87c36f1\" type=\"checkbox\" ><label class=\"sk-toggleable__label\" for=\"8dc6ed0d-98a0-4a48-bf3a-f113d87c36f1\">Normalizer</label><div class=\"sk-toggleable__content\"><pre>Normalizer()</pre></div></div></div></div></div></div></div></div><div class=\"sk-item\"><div class=\"sk-estimator sk-toggleable\"><input class=\"sk-toggleable__control sk-hidden--visually\" id=\"573e5bf2-a779-4720-be19-2d8991546414\" type=\"checkbox\" ><label class=\"sk-toggleable__label\" for=\"573e5bf2-a779-4720-be19-2d8991546414\">MultinomialNB</label><div class=\"sk-toggleable__content\"><pre>MultinomialNB()</pre></div></div></div></div></div></div></div>"
      ],
      "text/plain": [
       "Pipeline(steps=[('ColumnTransformer',\n",
       "                 ColumnTransformer(n_jobs=-1,\n",
       "                                   transformers=[('TfidfVectorizer',\n",
       "                                                  TfidfVectorizer(),\n",
       "                                                  'clean_text'),\n",
       "                                                 ('OneHotEncoder',\n",
       "                                                  OneHotEncoder(handle_unknown='ignore'),\n",
       "                                                  ['cool', 'useful', 'funny']),\n",
       "                                                 ('Normalizer', Normalizer(),\n",
       "                                                  ['length'])])),\n",
       "                ('MultinomialNB', MultinomialNB())])"
      ]
     },
     "execution_count": 23,
     "metadata": {},
     "output_type": "execute_result"
    }
   ],
   "source": [
    "from sklearn import set_config\n",
    "set_config(display=\"diagram\")\n",
    "\n",
    "clf"
   ]
  },
  {
   "cell_type": "markdown",
   "id": "db1be825",
   "metadata": {},
   "source": [
    "### make_pipeline & make_column_transformer"
   ]
  },
  {
   "cell_type": "code",
   "execution_count": 24,
   "id": "cb800584",
   "metadata": {},
   "outputs": [
    {
     "name": "stdout",
     "output_type": "stream",
     "text": [
      "              precision    recall  f1-score   support\n",
      "\n",
      "           0       0.62      0.49      0.54       150\n",
      "           1       0.46      0.26      0.34       185\n",
      "           2       0.39      0.22      0.28       292\n",
      "           3       0.49      0.60      0.54       705\n",
      "           4       0.59      0.65      0.62       668\n",
      "\n",
      "    accuracy                           0.52      2000\n",
      "   macro avg       0.51      0.45      0.46      2000\n",
      "weighted avg       0.52      0.52      0.51      2000\n",
      "\n",
      "0.524\n",
      "[[ 73  24  14  21  18]\n",
      " [ 27  49  37  55  17]\n",
      " [  5  20  64 157  46]\n",
      " [  7  11  42 425 220]\n",
      " [  6   2   9 214 437]]\n",
      "Wall time: 11.2 s\n"
     ]
    }
   ],
   "source": [
    "%%time\n",
    "\n",
    "import warnings\n",
    "warnings.filterwarnings('ignore')\n",
    "\n",
    "df[\"clean_text\"] = df[\"text\"].apply(func=apply_funcs)\n",
    "df[\"length\"] = df[\"clean_text\"].apply(func=len)\n",
    "\n",
    "feature_columns = ['cool', 'useful', 'funny', 'clean_text', 'length']\n",
    "\n",
    "X = df[feature_columns]\n",
    "y = df[\"stars\"]\n",
    "\n",
    "from sklearn.model_selection import train_test_split\n",
    "\n",
    "X_train, X_test, y_train, y_test = train_test_split(X, y, test_size=0.2, random_state=0, stratify=y)\n",
    "\n",
    "from sklearn.preprocessing import LabelEncoder\n",
    "\n",
    "enc = LabelEncoder()\n",
    "y_train = enc.fit_transform(y=y_train)\n",
    "y_test = enc.transform(y=y_test)\n",
    "\n",
    "from sklearn.compose import make_column_transformer\n",
    "from sklearn.feature_extraction.text import TfidfVectorizer, CountVectorizer\n",
    "from sklearn.preprocessing import OneHotEncoder\n",
    "from sklearn.preprocessing import StandardScaler, RobustScaler, Normalizer\n",
    "\n",
    "# This is a shorthand for the ColumnTransformer constructor; it does not require, and does not permit, naming the \n",
    "# transformers.\n",
    "ct = make_column_transformer(\n",
    "    (CountVectorizer(), (\"clean_text\")),\n",
    "    (OneHotEncoder(handle_unknown='ignore'), ([\"cool\", \"useful\", \"funny\"])), \n",
    "    (StandardScaler(), ([\"length\"])),\n",
    "    n_jobs=-1)\n",
    "\n",
    "from sklearn.pipeline import make_pipeline\n",
    "from lightgbm import LGBMClassifier\n",
    "from sklearn.naive_bayes import MultinomialNB\n",
    "\n",
    "# This is a shorthand for the Pipeline constructor; it does not require, and does not permit, naming the estimators. \n",
    "# Instead, their names will be set to the lowercase of their types automatically.\n",
    "clf = make_pipeline(ct, LGBMClassifier()) \n",
    "\n",
    "clf.fit(X_train, y_train)\n",
    "\n",
    "from sklearn.metrics import confusion_matrix, accuracy_score, classification_report\n",
    "\n",
    "predictions = clf.predict(X_test)\n",
    "print(classification_report(y_test, predictions))\n",
    "print(accuracy_score(y_test, predictions))\n",
    "print(confusion_matrix(y_test, predictions))"
   ]
  },
  {
   "cell_type": "code",
   "execution_count": 25,
   "id": "e6a88c21",
   "metadata": {},
   "outputs": [
    {
     "data": {
      "text/html": [
       "<style>#sk-c182af7d-c733-431e-b2ba-8974b38c9b7a {color: black;background-color: white;}#sk-c182af7d-c733-431e-b2ba-8974b38c9b7a pre{padding: 0;}#sk-c182af7d-c733-431e-b2ba-8974b38c9b7a div.sk-toggleable {background-color: white;}#sk-c182af7d-c733-431e-b2ba-8974b38c9b7a label.sk-toggleable__label {cursor: pointer;display: block;width: 100%;margin-bottom: 0;padding: 0.2em 0.3em;box-sizing: border-box;text-align: center;}#sk-c182af7d-c733-431e-b2ba-8974b38c9b7a div.sk-toggleable__content {max-height: 0;max-width: 0;overflow: hidden;text-align: left;background-color: #f0f8ff;}#sk-c182af7d-c733-431e-b2ba-8974b38c9b7a div.sk-toggleable__content pre {margin: 0.2em;color: black;border-radius: 0.25em;background-color: #f0f8ff;}#sk-c182af7d-c733-431e-b2ba-8974b38c9b7a input.sk-toggleable__control:checked~div.sk-toggleable__content {max-height: 200px;max-width: 100%;overflow: auto;}#sk-c182af7d-c733-431e-b2ba-8974b38c9b7a div.sk-estimator input.sk-toggleable__control:checked~label.sk-toggleable__label {background-color: #d4ebff;}#sk-c182af7d-c733-431e-b2ba-8974b38c9b7a div.sk-label input.sk-toggleable__control:checked~label.sk-toggleable__label {background-color: #d4ebff;}#sk-c182af7d-c733-431e-b2ba-8974b38c9b7a input.sk-hidden--visually {border: 0;clip: rect(1px 1px 1px 1px);clip: rect(1px, 1px, 1px, 1px);height: 1px;margin: -1px;overflow: hidden;padding: 0;position: absolute;width: 1px;}#sk-c182af7d-c733-431e-b2ba-8974b38c9b7a div.sk-estimator {font-family: monospace;background-color: #f0f8ff;margin: 0.25em 0.25em;border: 1px dotted black;border-radius: 0.25em;box-sizing: border-box;}#sk-c182af7d-c733-431e-b2ba-8974b38c9b7a div.sk-estimator:hover {background-color: #d4ebff;}#sk-c182af7d-c733-431e-b2ba-8974b38c9b7a div.sk-parallel-item::after {content: \"\";width: 100%;border-bottom: 1px solid gray;flex-grow: 1;}#sk-c182af7d-c733-431e-b2ba-8974b38c9b7a div.sk-label:hover label.sk-toggleable__label {background-color: #d4ebff;}#sk-c182af7d-c733-431e-b2ba-8974b38c9b7a div.sk-serial::before {content: \"\";position: absolute;border-left: 1px solid gray;box-sizing: border-box;top: 2em;bottom: 0;left: 50%;}#sk-c182af7d-c733-431e-b2ba-8974b38c9b7a div.sk-serial {display: flex;flex-direction: column;align-items: center;background-color: white;}#sk-c182af7d-c733-431e-b2ba-8974b38c9b7a div.sk-item {z-index: 1;}#sk-c182af7d-c733-431e-b2ba-8974b38c9b7a div.sk-parallel {display: flex;align-items: stretch;justify-content: center;background-color: white;}#sk-c182af7d-c733-431e-b2ba-8974b38c9b7a div.sk-parallel-item {display: flex;flex-direction: column;position: relative;background-color: white;}#sk-c182af7d-c733-431e-b2ba-8974b38c9b7a div.sk-parallel-item:first-child::after {align-self: flex-end;width: 50%;}#sk-c182af7d-c733-431e-b2ba-8974b38c9b7a div.sk-parallel-item:last-child::after {align-self: flex-start;width: 50%;}#sk-c182af7d-c733-431e-b2ba-8974b38c9b7a div.sk-parallel-item:only-child::after {width: 0;}#sk-c182af7d-c733-431e-b2ba-8974b38c9b7a div.sk-dashed-wrapped {border: 1px dashed gray;margin: 0.2em;box-sizing: border-box;padding-bottom: 0.1em;background-color: white;position: relative;}#sk-c182af7d-c733-431e-b2ba-8974b38c9b7a div.sk-label label {font-family: monospace;font-weight: bold;background-color: white;display: inline-block;line-height: 1.2em;}#sk-c182af7d-c733-431e-b2ba-8974b38c9b7a div.sk-label-container {position: relative;z-index: 2;text-align: center;}#sk-c182af7d-c733-431e-b2ba-8974b38c9b7a div.sk-container {display: inline-block;position: relative;}</style><div id=\"sk-c182af7d-c733-431e-b2ba-8974b38c9b7a\" class\"sk-top-container\"><div class=\"sk-container\"><div class=\"sk-item sk-dashed-wrapped\"><div class=\"sk-label-container\"><div class=\"sk-label sk-toggleable\"><input class=\"sk-toggleable__control sk-hidden--visually\" id=\"72030614-3f27-44c4-9c12-ae22b841cc82\" type=\"checkbox\" ><label class=\"sk-toggleable__label\" for=\"72030614-3f27-44c4-9c12-ae22b841cc82\">Pipeline</label><div class=\"sk-toggleable__content\"><pre>Pipeline(steps=[('columntransformer',\n",
       "                 ColumnTransformer(n_jobs=-1,\n",
       "                                   transformers=[('countvectorizer',\n",
       "                                                  CountVectorizer(),\n",
       "                                                  'clean_text'),\n",
       "                                                 ('onehotencoder',\n",
       "                                                  OneHotEncoder(handle_unknown='ignore'),\n",
       "                                                  ['cool', 'useful', 'funny']),\n",
       "                                                 ('standardscaler',\n",
       "                                                  StandardScaler(),\n",
       "                                                  ['length'])])),\n",
       "                ('lgbmclassifier', LGBMClassifier())])</pre></div></div></div><div class=\"sk-serial\"><div class=\"sk-item sk-dashed-wrapped\"><div class=\"sk-label-container\"><div class=\"sk-label sk-toggleable\"><input class=\"sk-toggleable__control sk-hidden--visually\" id=\"974a9982-eef3-4094-a272-851063ced8e9\" type=\"checkbox\" ><label class=\"sk-toggleable__label\" for=\"974a9982-eef3-4094-a272-851063ced8e9\">columntransformer: ColumnTransformer</label><div class=\"sk-toggleable__content\"><pre>ColumnTransformer(n_jobs=-1,\n",
       "                  transformers=[('countvectorizer', CountVectorizer(),\n",
       "                                 'clean_text'),\n",
       "                                ('onehotencoder',\n",
       "                                 OneHotEncoder(handle_unknown='ignore'),\n",
       "                                 ['cool', 'useful', 'funny']),\n",
       "                                ('standardscaler', StandardScaler(),\n",
       "                                 ['length'])])</pre></div></div></div><div class=\"sk-parallel\"><div class=\"sk-parallel-item\"><div class=\"sk-item\"><div class=\"sk-label-container\"><div class=\"sk-label sk-toggleable\"><input class=\"sk-toggleable__control sk-hidden--visually\" id=\"12c5daf1-ec6f-4443-ae2a-e0cfcc16cb6d\" type=\"checkbox\" ><label class=\"sk-toggleable__label\" for=\"12c5daf1-ec6f-4443-ae2a-e0cfcc16cb6d\">countvectorizer</label><div class=\"sk-toggleable__content\"><pre>clean_text</pre></div></div></div><div class=\"sk-serial\"><div class=\"sk-item\"><div class=\"sk-estimator sk-toggleable\"><input class=\"sk-toggleable__control sk-hidden--visually\" id=\"e52e4320-ede4-4885-a1cb-f654d07b6a05\" type=\"checkbox\" ><label class=\"sk-toggleable__label\" for=\"e52e4320-ede4-4885-a1cb-f654d07b6a05\">CountVectorizer</label><div class=\"sk-toggleable__content\"><pre>CountVectorizer()</pre></div></div></div></div></div></div><div class=\"sk-parallel-item\"><div class=\"sk-item\"><div class=\"sk-label-container\"><div class=\"sk-label sk-toggleable\"><input class=\"sk-toggleable__control sk-hidden--visually\" id=\"3c5fecd1-8a09-42fc-befa-40da6784c2f8\" type=\"checkbox\" ><label class=\"sk-toggleable__label\" for=\"3c5fecd1-8a09-42fc-befa-40da6784c2f8\">onehotencoder</label><div class=\"sk-toggleable__content\"><pre>['cool', 'useful', 'funny']</pre></div></div></div><div class=\"sk-serial\"><div class=\"sk-item\"><div class=\"sk-estimator sk-toggleable\"><input class=\"sk-toggleable__control sk-hidden--visually\" id=\"e0113f8b-3fd0-48dc-8d36-4ae7bbd72d2a\" type=\"checkbox\" ><label class=\"sk-toggleable__label\" for=\"e0113f8b-3fd0-48dc-8d36-4ae7bbd72d2a\">OneHotEncoder</label><div class=\"sk-toggleable__content\"><pre>OneHotEncoder(handle_unknown='ignore')</pre></div></div></div></div></div></div><div class=\"sk-parallel-item\"><div class=\"sk-item\"><div class=\"sk-label-container\"><div class=\"sk-label sk-toggleable\"><input class=\"sk-toggleable__control sk-hidden--visually\" id=\"49c2af1d-dc22-4dfd-a06b-6a84dfb14056\" type=\"checkbox\" ><label class=\"sk-toggleable__label\" for=\"49c2af1d-dc22-4dfd-a06b-6a84dfb14056\">standardscaler</label><div class=\"sk-toggleable__content\"><pre>['length']</pre></div></div></div><div class=\"sk-serial\"><div class=\"sk-item\"><div class=\"sk-estimator sk-toggleable\"><input class=\"sk-toggleable__control sk-hidden--visually\" id=\"d205f306-dc04-4170-8096-8fba3dcd8242\" type=\"checkbox\" ><label class=\"sk-toggleable__label\" for=\"d205f306-dc04-4170-8096-8fba3dcd8242\">StandardScaler</label><div class=\"sk-toggleable__content\"><pre>StandardScaler()</pre></div></div></div></div></div></div></div></div><div class=\"sk-item\"><div class=\"sk-estimator sk-toggleable\"><input class=\"sk-toggleable__control sk-hidden--visually\" id=\"1364b1d0-99e5-4a98-b299-95a20e992390\" type=\"checkbox\" ><label class=\"sk-toggleable__label\" for=\"1364b1d0-99e5-4a98-b299-95a20e992390\">LGBMClassifier</label><div class=\"sk-toggleable__content\"><pre>LGBMClassifier()</pre></div></div></div></div></div></div></div>"
      ],
      "text/plain": [
       "Pipeline(steps=[('columntransformer',\n",
       "                 ColumnTransformer(n_jobs=-1,\n",
       "                                   transformers=[('countvectorizer',\n",
       "                                                  CountVectorizer(),\n",
       "                                                  'clean_text'),\n",
       "                                                 ('onehotencoder',\n",
       "                                                  OneHotEncoder(handle_unknown='ignore'),\n",
       "                                                  ['cool', 'useful', 'funny']),\n",
       "                                                 ('standardscaler',\n",
       "                                                  StandardScaler(),\n",
       "                                                  ['length'])])),\n",
       "                ('lgbmclassifier', LGBMClassifier())])"
      ]
     },
     "execution_count": 25,
     "metadata": {},
     "output_type": "execute_result"
    }
   ],
   "source": [
    "from sklearn import set_config\n",
    "set_config(display=\"diagram\")\n",
    "\n",
    "clf"
   ]
  },
  {
   "cell_type": "code",
   "execution_count": 26,
   "id": "e4a99cce",
   "metadata": {},
   "outputs": [
    {
     "data": {
      "image/png": "[encoded data removed]",
      "text/plain": [
       "<Figure size 432x288 with 2 Axes>"
      ]
     },
     "metadata": {
      "needs_background": "light"
     },
     "output_type": "display_data"
    }
   ],
   "source": [
    "from sklearn.metrics import plot_confusion_matrix\n",
    "\n",
    "display = plot_confusion_matrix(estimator=clf, X=X_test, y_true=y_test, cmap=\"Blues\", values_format='.3g')"
   ]
  },
  {
   "cell_type": "code",
   "execution_count": 27,
   "id": "1ce0da57",
   "metadata": {},
   "outputs": [
    {
     "data": {
      "text/plain": [
       "array([[ 73,  24,  14,  21,  18],\n",
       "       [ 27,  49,  37,  55,  17],\n",
       "       [  5,  20,  64, 157,  46],\n",
       "       [  7,  11,  42, 425, 220],\n",
       "       [  6,   2,   9, 214, 437]], dtype=int64)"
      ]
     },
     "execution_count": 27,
     "metadata": {},
     "output_type": "execute_result"
    }
   ],
   "source": [
    "display.confusion_matrix"
   ]
  }
 ],
 "metadata": {
  "hide_input": false,
  "kernelspec": {
   "display_name": "Python 3 (ipykernel)",
   "language": "python",
   "name": "python3"
  },
  "language_info": {
   "codemirror_mode": {
    "name": "ipython",
    "version": 3
   },
   "file_extension": ".py",
   "mimetype": "text/x-python",
   "name": "python",
   "nbconvert_exporter": "python",
   "pygments_lexer": "ipython3",
   "version": "3.8.11"
  }
 },
 "nbformat": 4,
 "nbformat_minor": 5
}
