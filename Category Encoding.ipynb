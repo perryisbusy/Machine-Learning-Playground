{
 "cells": [
  {
   "cell_type": "code",
   "execution_count": 1,
   "id": "1c2673c4",
   "metadata": {},
   "outputs": [
    {
     "name": "stdout",
     "output_type": "stream",
     "text": [
      "Wall time: 1.71 s\n"
     ]
    }
   ],
   "source": [
    "%%time\n",
    "import warnings\n",
    "warnings.filterwarnings(\"ignore\")\n",
    "\n",
    "import pandas as pd \n",
    "import numpy as np \n",
    "import matplotlib.pyplot as plt \n",
    "import seaborn as sns\n",
    "import missingno as msno\n",
    "import pickle\n",
    "%matplotlib inline"
   ]
  },
  {
   "cell_type": "markdown",
   "id": "2c34532f",
   "metadata": {},
   "source": [
    "### One hot encoding\n",
    "* Just like imputation, all methods of categorical encoding should be performed over the training set, and then propagated to the test set.\n",
    "* Why?\n",
    "    * Because these methods will \"learn\" patterns from the train data, and therefore you want to avoid leaking information and overfitting. But more importantly, because we don't know whether in future / live data, we will have all the categories present in the train data, or if there will be more or less categories. Therefore, we want to anticipate this uncertainty by setting the right processes right from the start. We want to create transformers that learn the categories from the train set, and used those learned categories to create the dummy variables in both train and test sets."
   ]
  },
  {
   "cell_type": "code",
   "execution_count": 2,
   "id": "461c990a",
   "metadata": {},
   "outputs": [
    {
     "data": {
      "text/html": [
       "<div>\n",
       "<style scoped>\n",
       "    .dataframe tbody tr th:only-of-type {\n",
       "        vertical-align: middle;\n",
       "    }\n",
       "\n",
       "    .dataframe tbody tr th {\n",
       "        vertical-align: top;\n",
       "    }\n",
       "\n",
       "    .dataframe thead th {\n",
       "        text-align: right;\n",
       "    }\n",
       "</style>\n",
       "<table border=\"1\" class=\"dataframe\">\n",
       "  <thead>\n",
       "    <tr style=\"text-align: right;\">\n",
       "      <th></th>\n",
       "      <th>Survived</th>\n",
       "      <th>Sex</th>\n",
       "      <th>Cabin</th>\n",
       "      <th>Embarked</th>\n",
       "    </tr>\n",
       "  </thead>\n",
       "  <tbody>\n",
       "    <tr>\n",
       "      <th>0</th>\n",
       "      <td>0</td>\n",
       "      <td>male</td>\n",
       "      <td>NaN</td>\n",
       "      <td>S</td>\n",
       "    </tr>\n",
       "    <tr>\n",
       "      <th>1</th>\n",
       "      <td>1</td>\n",
       "      <td>female</td>\n",
       "      <td>C</td>\n",
       "      <td>C</td>\n",
       "    </tr>\n",
       "    <tr>\n",
       "      <th>2</th>\n",
       "      <td>1</td>\n",
       "      <td>female</td>\n",
       "      <td>NaN</td>\n",
       "      <td>S</td>\n",
       "    </tr>\n",
       "    <tr>\n",
       "      <th>3</th>\n",
       "      <td>1</td>\n",
       "      <td>female</td>\n",
       "      <td>C</td>\n",
       "      <td>S</td>\n",
       "    </tr>\n",
       "    <tr>\n",
       "      <th>4</th>\n",
       "      <td>0</td>\n",
       "      <td>male</td>\n",
       "      <td>NaN</td>\n",
       "      <td>S</td>\n",
       "    </tr>\n",
       "  </tbody>\n",
       "</table>\n",
       "</div>"
      ],
      "text/plain": [
       "   Survived     Sex Cabin Embarked\n",
       "0         0    male   NaN        S\n",
       "1         1  female     C        C\n",
       "2         1  female   NaN        S\n",
       "3         1  female     C        S\n",
       "4         0    male   NaN        S"
      ]
     },
     "execution_count": 2,
     "metadata": {},
     "output_type": "execute_result"
    }
   ],
   "source": [
    "df = pd.read_csv('titanic.csv', usecols=[col.title() for col in ['sex', 'embarked', 'cabin', 'survived']])\n",
    "df['Cabin'] = df['Cabin'].str[0] # capture only the first letter of the cabin\n",
    "df.head()"
   ]
  },
  {
   "cell_type": "code",
   "execution_count": 3,
   "id": "747f4b01",
   "metadata": {},
   "outputs": [],
   "source": [
    "X = df.drop(labels=[\"Survived\"], axis=1)\n",
    "y = df[\"Survived\"]\n",
    "\n",
    "from sklearn.model_selection import train_test_split\n",
    "\n",
    "X_train, X_test, y_train, y_test = train_test_split(X, y, test_size=0.3, random_state=0, shuffle=True, stratify=y)"
   ]
  },
  {
   "cell_type": "code",
   "execution_count": 4,
   "id": "a76c8686",
   "metadata": {},
   "outputs": [
    {
     "data": {
      "text/plain": [
       "Sex         2\n",
       "Cabin       8\n",
       "Embarked    3\n",
       "dtype: int64"
      ]
     },
     "execution_count": 4,
     "metadata": {},
     "output_type": "execute_result"
    }
   ],
   "source": [
    "X_train.nunique()"
   ]
  },
  {
   "cell_type": "code",
   "execution_count": 5,
   "id": "a2f80ede",
   "metadata": {},
   "outputs": [
    {
     "data": {
      "text/plain": [
       "Sex         2\n",
       "Cabin       7\n",
       "Embarked    3\n",
       "dtype: int64"
      ]
     },
     "execution_count": 5,
     "metadata": {},
     "output_type": "execute_result"
    }
   ],
   "source": [
    "X_test.nunique()"
   ]
  },
  {
   "cell_type": "markdown",
   "id": "20f49083",
   "metadata": {},
   "source": [
    "__One hot encoding with pandas__\n",
    "\n",
    "**pd.get_dummies can handle missing values (NAN)**\n",
    "\n",
    "* Advantages\n",
    "    * quick\n",
    "    * returns pandas dataframe\n",
    "    * returns feature names for the dummy variables\n",
    "* Limitations of pandas:\n",
    "    * it does not preserve information from train data to propagate to test data\n",
    "    * In practice, we shouldn't be using get-dummies in our machine learning pipelines. It is however useful, for a quick data exploration.\n",
    "    * The train set contains 13 dummy features, whereas the test set contains 12 features. This occurred because there was no category T in cabin in the test set. This will cause problems if training and scoring models with scikit-learn, because predictors require train and test sets to be of the same shape. "
   ]
  },
  {
   "cell_type": "code",
   "execution_count": 6,
   "id": "da60fe99",
   "metadata": {},
   "outputs": [
    {
     "data": {
      "text/html": [
       "<div>\n",
       "<style scoped>\n",
       "    .dataframe tbody tr th:only-of-type {\n",
       "        vertical-align: middle;\n",
       "    }\n",
       "\n",
       "    .dataframe tbody tr th {\n",
       "        vertical-align: top;\n",
       "    }\n",
       "\n",
       "    .dataframe thead th {\n",
       "        text-align: right;\n",
       "    }\n",
       "</style>\n",
       "<table border=\"1\" class=\"dataframe\">\n",
       "  <thead>\n",
       "    <tr style=\"text-align: right;\">\n",
       "      <th></th>\n",
       "      <th>titanic-female</th>\n",
       "      <th>titanic-male</th>\n",
       "      <th>titanic-nan</th>\n",
       "      <th>titanic-A</th>\n",
       "      <th>titanic-B</th>\n",
       "      <th>titanic-C</th>\n",
       "      <th>titanic-D</th>\n",
       "      <th>titanic-E</th>\n",
       "      <th>titanic-F</th>\n",
       "      <th>titanic-G</th>\n",
       "      <th>titanic-T</th>\n",
       "      <th>titanic-nan</th>\n",
       "      <th>titanic-C</th>\n",
       "      <th>titanic-Q</th>\n",
       "      <th>titanic-S</th>\n",
       "      <th>titanic-nan</th>\n",
       "    </tr>\n",
       "  </thead>\n",
       "  <tbody>\n",
       "    <tr>\n",
       "      <th>231</th>\n",
       "      <td>0</td>\n",
       "      <td>1</td>\n",
       "      <td>0</td>\n",
       "      <td>0</td>\n",
       "      <td>0</td>\n",
       "      <td>0</td>\n",
       "      <td>0</td>\n",
       "      <td>0</td>\n",
       "      <td>0</td>\n",
       "      <td>0</td>\n",
       "      <td>0</td>\n",
       "      <td>1</td>\n",
       "      <td>0</td>\n",
       "      <td>0</td>\n",
       "      <td>1</td>\n",
       "      <td>0</td>\n",
       "    </tr>\n",
       "    <tr>\n",
       "      <th>836</th>\n",
       "      <td>0</td>\n",
       "      <td>1</td>\n",
       "      <td>0</td>\n",
       "      <td>0</td>\n",
       "      <td>0</td>\n",
       "      <td>0</td>\n",
       "      <td>0</td>\n",
       "      <td>0</td>\n",
       "      <td>0</td>\n",
       "      <td>0</td>\n",
       "      <td>0</td>\n",
       "      <td>1</td>\n",
       "      <td>0</td>\n",
       "      <td>0</td>\n",
       "      <td>1</td>\n",
       "      <td>0</td>\n",
       "    </tr>\n",
       "    <tr>\n",
       "      <th>639</th>\n",
       "      <td>0</td>\n",
       "      <td>1</td>\n",
       "      <td>0</td>\n",
       "      <td>0</td>\n",
       "      <td>0</td>\n",
       "      <td>0</td>\n",
       "      <td>0</td>\n",
       "      <td>0</td>\n",
       "      <td>0</td>\n",
       "      <td>0</td>\n",
       "      <td>0</td>\n",
       "      <td>1</td>\n",
       "      <td>0</td>\n",
       "      <td>0</td>\n",
       "      <td>1</td>\n",
       "      <td>0</td>\n",
       "    </tr>\n",
       "    <tr>\n",
       "      <th>389</th>\n",
       "      <td>1</td>\n",
       "      <td>0</td>\n",
       "      <td>0</td>\n",
       "      <td>0</td>\n",
       "      <td>0</td>\n",
       "      <td>0</td>\n",
       "      <td>0</td>\n",
       "      <td>0</td>\n",
       "      <td>0</td>\n",
       "      <td>0</td>\n",
       "      <td>0</td>\n",
       "      <td>1</td>\n",
       "      <td>1</td>\n",
       "      <td>0</td>\n",
       "      <td>0</td>\n",
       "      <td>0</td>\n",
       "    </tr>\n",
       "    <tr>\n",
       "      <th>597</th>\n",
       "      <td>0</td>\n",
       "      <td>1</td>\n",
       "      <td>0</td>\n",
       "      <td>0</td>\n",
       "      <td>0</td>\n",
       "      <td>0</td>\n",
       "      <td>0</td>\n",
       "      <td>0</td>\n",
       "      <td>0</td>\n",
       "      <td>0</td>\n",
       "      <td>0</td>\n",
       "      <td>1</td>\n",
       "      <td>0</td>\n",
       "      <td>0</td>\n",
       "      <td>1</td>\n",
       "      <td>0</td>\n",
       "    </tr>\n",
       "  </tbody>\n",
       "</table>\n",
       "</div>"
      ],
      "text/plain": [
       "     titanic-female  titanic-male  titanic-nan  titanic-A  titanic-B  \\\n",
       "231               0             1            0          0          0   \n",
       "836               0             1            0          0          0   \n",
       "639               0             1            0          0          0   \n",
       "389               1             0            0          0          0   \n",
       "597               0             1            0          0          0   \n",
       "\n",
       "     titanic-C  titanic-D  titanic-E  titanic-F  titanic-G  titanic-T  \\\n",
       "231          0          0          0          0          0          0   \n",
       "836          0          0          0          0          0          0   \n",
       "639          0          0          0          0          0          0   \n",
       "389          0          0          0          0          0          0   \n",
       "597          0          0          0          0          0          0   \n",
       "\n",
       "     titanic-nan  titanic-C  titanic-Q  titanic-S  titanic-nan  \n",
       "231            1          0          0          1            0  \n",
       "836            1          0          0          1            0  \n",
       "639            1          0          0          1            0  \n",
       "389            1          1          0          0            0  \n",
       "597            1          0          0          1            0  "
      ]
     },
     "execution_count": 6,
     "metadata": {},
     "output_type": "execute_result"
    }
   ],
   "source": [
    "pd.get_dummies(data=X_train, prefix=\"titanic\", prefix_sep=\"-\", \n",
    "               drop_first=False, \n",
    "               dummy_na=True # # we can add an additional dummy variable to indicate missing data\n",
    "              ).head()"
   ]
  },
  {
   "cell_type": "code",
   "execution_count": 7,
   "id": "bb070be2",
   "metadata": {},
   "outputs": [
    {
     "data": {
      "text/html": [
       "<div>\n",
       "<style scoped>\n",
       "    .dataframe tbody tr th:only-of-type {\n",
       "        vertical-align: middle;\n",
       "    }\n",
       "\n",
       "    .dataframe tbody tr th {\n",
       "        vertical-align: top;\n",
       "    }\n",
       "\n",
       "    .dataframe thead th {\n",
       "        text-align: right;\n",
       "    }\n",
       "</style>\n",
       "<table border=\"1\" class=\"dataframe\">\n",
       "  <thead>\n",
       "    <tr style=\"text-align: right;\">\n",
       "      <th></th>\n",
       "      <th>titanic-female</th>\n",
       "      <th>titanic-male</th>\n",
       "      <th>titanic-nan</th>\n",
       "      <th>titanic-A</th>\n",
       "      <th>titanic-B</th>\n",
       "      <th>titanic-C</th>\n",
       "      <th>titanic-D</th>\n",
       "      <th>titanic-E</th>\n",
       "      <th>titanic-F</th>\n",
       "      <th>titanic-G</th>\n",
       "      <th>titanic-nan</th>\n",
       "      <th>titanic-C</th>\n",
       "      <th>titanic-Q</th>\n",
       "      <th>titanic-S</th>\n",
       "      <th>titanic-nan</th>\n",
       "    </tr>\n",
       "  </thead>\n",
       "  <tbody>\n",
       "    <tr>\n",
       "      <th>421</th>\n",
       "      <td>0</td>\n",
       "      <td>1</td>\n",
       "      <td>0</td>\n",
       "      <td>0</td>\n",
       "      <td>0</td>\n",
       "      <td>0</td>\n",
       "      <td>0</td>\n",
       "      <td>0</td>\n",
       "      <td>0</td>\n",
       "      <td>0</td>\n",
       "      <td>1</td>\n",
       "      <td>0</td>\n",
       "      <td>1</td>\n",
       "      <td>0</td>\n",
       "      <td>0</td>\n",
       "    </tr>\n",
       "    <tr>\n",
       "      <th>618</th>\n",
       "      <td>1</td>\n",
       "      <td>0</td>\n",
       "      <td>0</td>\n",
       "      <td>0</td>\n",
       "      <td>0</td>\n",
       "      <td>0</td>\n",
       "      <td>0</td>\n",
       "      <td>0</td>\n",
       "      <td>1</td>\n",
       "      <td>0</td>\n",
       "      <td>0</td>\n",
       "      <td>0</td>\n",
       "      <td>0</td>\n",
       "      <td>1</td>\n",
       "      <td>0</td>\n",
       "    </tr>\n",
       "    <tr>\n",
       "      <th>116</th>\n",
       "      <td>0</td>\n",
       "      <td>1</td>\n",
       "      <td>0</td>\n",
       "      <td>0</td>\n",
       "      <td>0</td>\n",
       "      <td>0</td>\n",
       "      <td>0</td>\n",
       "      <td>0</td>\n",
       "      <td>0</td>\n",
       "      <td>0</td>\n",
       "      <td>1</td>\n",
       "      <td>0</td>\n",
       "      <td>1</td>\n",
       "      <td>0</td>\n",
       "      <td>0</td>\n",
       "    </tr>\n",
       "    <tr>\n",
       "      <th>310</th>\n",
       "      <td>1</td>\n",
       "      <td>0</td>\n",
       "      <td>0</td>\n",
       "      <td>0</td>\n",
       "      <td>0</td>\n",
       "      <td>1</td>\n",
       "      <td>0</td>\n",
       "      <td>0</td>\n",
       "      <td>0</td>\n",
       "      <td>0</td>\n",
       "      <td>0</td>\n",
       "      <td>1</td>\n",
       "      <td>0</td>\n",
       "      <td>0</td>\n",
       "      <td>0</td>\n",
       "    </tr>\n",
       "    <tr>\n",
       "      <th>57</th>\n",
       "      <td>0</td>\n",
       "      <td>1</td>\n",
       "      <td>0</td>\n",
       "      <td>0</td>\n",
       "      <td>0</td>\n",
       "      <td>0</td>\n",
       "      <td>0</td>\n",
       "      <td>0</td>\n",
       "      <td>0</td>\n",
       "      <td>0</td>\n",
       "      <td>1</td>\n",
       "      <td>1</td>\n",
       "      <td>0</td>\n",
       "      <td>0</td>\n",
       "      <td>0</td>\n",
       "    </tr>\n",
       "  </tbody>\n",
       "</table>\n",
       "</div>"
      ],
      "text/plain": [
       "     titanic-female  titanic-male  titanic-nan  titanic-A  titanic-B  \\\n",
       "421               0             1            0          0          0   \n",
       "618               1             0            0          0          0   \n",
       "116               0             1            0          0          0   \n",
       "310               1             0            0          0          0   \n",
       "57                0             1            0          0          0   \n",
       "\n",
       "     titanic-C  titanic-D  titanic-E  titanic-F  titanic-G  titanic-nan  \\\n",
       "421          0          0          0          0          0            1   \n",
       "618          0          0          0          1          0            0   \n",
       "116          0          0          0          0          0            1   \n",
       "310          1          0          0          0          0            0   \n",
       "57           0          0          0          0          0            1   \n",
       "\n",
       "     titanic-C  titanic-Q  titanic-S  titanic-nan  \n",
       "421          0          1          0            0  \n",
       "618          0          0          1            0  \n",
       "116          0          1          0            0  \n",
       "310          1          0          0            0  \n",
       "57           1          0          0            0  "
      ]
     },
     "execution_count": 7,
     "metadata": {},
     "output_type": "execute_result"
    }
   ],
   "source": [
    "pd.get_dummies(data=X_test, prefix=\"titanic\", prefix_sep=\"-\", \n",
    "               drop_first=False, \n",
    "               dummy_na=True # # we can add an additional dummy variable to indicate missing data\n",
    "              ).head()"
   ]
  },
  {
   "cell_type": "markdown",
   "id": "52be1e02",
   "metadata": {},
   "source": [
    "__One hot encoding with Scikit-learn__\n",
    "* [OneHotEncoder](https://scikit-learn.org/stable/modules/generated/sklearn.preprocessing.OneHotEncoder.html)"
   ]
  },
  {
   "cell_type": "code",
   "execution_count": 8,
   "id": "55bffff7",
   "metadata": {},
   "outputs": [],
   "source": [
    "X = df.drop(labels=[\"Survived\"], axis=1)\n",
    "y = df[\"Survived\"]\n",
    "\n",
    "from sklearn.model_selection import train_test_split\n",
    "\n",
    "X_train, X_test, y_train, y_test = train_test_split(X, y, test_size=0.3, random_state=0, shuffle=True, stratify=y)"
   ]
  },
  {
   "cell_type": "code",
   "execution_count": 9,
   "id": "9319e771",
   "metadata": {},
   "outputs": [],
   "source": [
    "from sklearn.impute import SimpleImputer\n",
    "from sklearn.preprocessing import OneHotEncoder\n",
    "from sklearn.compose import ColumnTransformer, make_column_transformer\n",
    "\n",
    "features = X.columns\n",
    "\n",
    "# preprocessor = ColumnTransformer(transformers=[\n",
    "#     ('OneHotEncoder', \n",
    "#      OneHotEncoder(categories='auto', \n",
    "#                    drop=None, \n",
    "#                    sparse=False, \n",
    "#                    handle_unknown='ignore'  # helps deal with rare labels\n",
    "#                   ),\n",
    "#      features),\n",
    "# ], remainder=\"drop\")\n",
    "\n",
    "preprocessor = make_column_transformer(\n",
    "    (OneHotEncoder(categories='auto', \n",
    "                   drop=None, \n",
    "                   sparse=False, \n",
    "                   handle_unknown='ignore'  # helps deal with rare labels in the X_test\n",
    "                  ),\n",
    "     features), remainder=\"drop\")"
   ]
  },
  {
   "cell_type": "code",
   "execution_count": 10,
   "id": "a09ceba8",
   "metadata": {},
   "outputs": [],
   "source": [
    "X_train = preprocessor.fit_transform(X_train)\n",
    "X_test = preprocessor.transform(X_test)"
   ]
  },
  {
   "cell_type": "code",
   "execution_count": 11,
   "id": "d5b163f9",
   "metadata": {},
   "outputs": [
    {
     "data": {
      "text/plain": [
       "ColumnTransformer(transformers=[('onehotencoder',\n",
       "                                 OneHotEncoder(handle_unknown='ignore',\n",
       "                                               sparse=False),\n",
       "                                 Index(['Sex', 'Cabin', 'Embarked'], dtype='object'))])"
      ]
     },
     "execution_count": 11,
     "metadata": {},
     "output_type": "execute_result"
    }
   ],
   "source": [
    "preprocessor"
   ]
  },
  {
   "cell_type": "code",
   "execution_count": 12,
   "id": "1ee176c2",
   "metadata": {},
   "outputs": [
    {
     "data": {
      "text/plain": [
       "{'onehotencoder': OneHotEncoder(handle_unknown='ignore', sparse=False)}"
      ]
     },
     "execution_count": 12,
     "metadata": {},
     "output_type": "execute_result"
    }
   ],
   "source": [
    "preprocessor.named_transformers_"
   ]
  },
  {
   "cell_type": "code",
   "execution_count": 13,
   "id": "70ec2c81",
   "metadata": {},
   "outputs": [
    {
     "data": {
      "text/plain": [
       "OneHotEncoder(handle_unknown='ignore', sparse=False)"
      ]
     },
     "execution_count": 13,
     "metadata": {},
     "output_type": "execute_result"
    }
   ],
   "source": [
    "preprocessor.named_transformers_[\"onehotencoder\"]"
   ]
  },
  {
   "cell_type": "code",
   "execution_count": 14,
   "id": "60c8e281",
   "metadata": {},
   "outputs": [
    {
     "data": {
      "text/plain": [
       "[array(['female', 'male'], dtype=object),\n",
       " array(['A', 'B', 'C', 'D', 'E', 'F', 'G', 'T', nan], dtype=object),\n",
       " array(['C', 'Q', 'S', nan], dtype=object)]"
      ]
     },
     "execution_count": 14,
     "metadata": {},
     "output_type": "execute_result"
    }
   ],
   "source": [
    "preprocessor.named_transformers_[\"onehotencoder\"].categories_"
   ]
  },
  {
   "cell_type": "code",
   "execution_count": 15,
   "id": "f380de6c",
   "metadata": {},
   "outputs": [
    {
     "data": {
      "text/plain": [
       "array(['x0_female', 'x0_male', 'x1_A', 'x1_B', 'x1_C', 'x1_D', 'x1_E',\n",
       "       'x1_F', 'x1_G', 'x1_T', 'x1_nan', 'x2_C', 'x2_Q', 'x2_S', 'x2_nan'],\n",
       "      dtype=object)"
      ]
     },
     "execution_count": 15,
     "metadata": {},
     "output_type": "execute_result"
    }
   ],
   "source": [
    "preprocessor.named_transformers_[\"onehotencoder\"].get_feature_names()"
   ]
  },
  {
   "cell_type": "code",
   "execution_count": 16,
   "id": "7beddf73",
   "metadata": {},
   "outputs": [
    {
     "data": {
      "text/plain": [
       "array([[0., 1., 0., ..., 0., 1., 0.],\n",
       "       [0., 1., 0., ..., 0., 1., 0.],\n",
       "       [0., 1., 0., ..., 0., 1., 0.],\n",
       "       ...,\n",
       "       [0., 1., 0., ..., 0., 1., 0.],\n",
       "       [0., 1., 0., ..., 0., 0., 0.],\n",
       "       [0., 1., 0., ..., 0., 1., 0.]])"
      ]
     },
     "execution_count": 16,
     "metadata": {},
     "output_type": "execute_result"
    }
   ],
   "source": [
    "X_train"
   ]
  },
  {
   "cell_type": "code",
   "execution_count": 17,
   "id": "175cb1d3",
   "metadata": {},
   "outputs": [
    {
     "data": {
      "text/html": [
       "<div>\n",
       "<style scoped>\n",
       "    .dataframe tbody tr th:only-of-type {\n",
       "        vertical-align: middle;\n",
       "    }\n",
       "\n",
       "    .dataframe tbody tr th {\n",
       "        vertical-align: top;\n",
       "    }\n",
       "\n",
       "    .dataframe thead th {\n",
       "        text-align: right;\n",
       "    }\n",
       "</style>\n",
       "<table border=\"1\" class=\"dataframe\">\n",
       "  <thead>\n",
       "    <tr style=\"text-align: right;\">\n",
       "      <th></th>\n",
       "      <th>x0_female</th>\n",
       "      <th>x0_male</th>\n",
       "      <th>x1_A</th>\n",
       "      <th>x1_B</th>\n",
       "      <th>x1_C</th>\n",
       "      <th>x1_D</th>\n",
       "      <th>x1_E</th>\n",
       "      <th>x1_F</th>\n",
       "      <th>x1_G</th>\n",
       "      <th>x1_T</th>\n",
       "      <th>x1_nan</th>\n",
       "      <th>x2_C</th>\n",
       "      <th>x2_Q</th>\n",
       "      <th>x2_S</th>\n",
       "      <th>x2_nan</th>\n",
       "    </tr>\n",
       "  </thead>\n",
       "  <tbody>\n",
       "    <tr>\n",
       "      <th>0</th>\n",
       "      <td>0.0</td>\n",
       "      <td>1.0</td>\n",
       "      <td>0.0</td>\n",
       "      <td>0.0</td>\n",
       "      <td>0.0</td>\n",
       "      <td>0.0</td>\n",
       "      <td>0.0</td>\n",
       "      <td>0.0</td>\n",
       "      <td>0.0</td>\n",
       "      <td>0.0</td>\n",
       "      <td>1.0</td>\n",
       "      <td>0.0</td>\n",
       "      <td>0.0</td>\n",
       "      <td>1.0</td>\n",
       "      <td>0.0</td>\n",
       "    </tr>\n",
       "    <tr>\n",
       "      <th>1</th>\n",
       "      <td>0.0</td>\n",
       "      <td>1.0</td>\n",
       "      <td>0.0</td>\n",
       "      <td>0.0</td>\n",
       "      <td>0.0</td>\n",
       "      <td>0.0</td>\n",
       "      <td>0.0</td>\n",
       "      <td>0.0</td>\n",
       "      <td>0.0</td>\n",
       "      <td>0.0</td>\n",
       "      <td>1.0</td>\n",
       "      <td>0.0</td>\n",
       "      <td>0.0</td>\n",
       "      <td>1.0</td>\n",
       "      <td>0.0</td>\n",
       "    </tr>\n",
       "    <tr>\n",
       "      <th>2</th>\n",
       "      <td>0.0</td>\n",
       "      <td>1.0</td>\n",
       "      <td>0.0</td>\n",
       "      <td>0.0</td>\n",
       "      <td>0.0</td>\n",
       "      <td>0.0</td>\n",
       "      <td>0.0</td>\n",
       "      <td>0.0</td>\n",
       "      <td>0.0</td>\n",
       "      <td>0.0</td>\n",
       "      <td>1.0</td>\n",
       "      <td>0.0</td>\n",
       "      <td>0.0</td>\n",
       "      <td>1.0</td>\n",
       "      <td>0.0</td>\n",
       "    </tr>\n",
       "    <tr>\n",
       "      <th>3</th>\n",
       "      <td>1.0</td>\n",
       "      <td>0.0</td>\n",
       "      <td>0.0</td>\n",
       "      <td>0.0</td>\n",
       "      <td>0.0</td>\n",
       "      <td>0.0</td>\n",
       "      <td>0.0</td>\n",
       "      <td>0.0</td>\n",
       "      <td>0.0</td>\n",
       "      <td>0.0</td>\n",
       "      <td>1.0</td>\n",
       "      <td>1.0</td>\n",
       "      <td>0.0</td>\n",
       "      <td>0.0</td>\n",
       "      <td>0.0</td>\n",
       "    </tr>\n",
       "    <tr>\n",
       "      <th>4</th>\n",
       "      <td>0.0</td>\n",
       "      <td>1.0</td>\n",
       "      <td>0.0</td>\n",
       "      <td>0.0</td>\n",
       "      <td>0.0</td>\n",
       "      <td>0.0</td>\n",
       "      <td>0.0</td>\n",
       "      <td>0.0</td>\n",
       "      <td>0.0</td>\n",
       "      <td>0.0</td>\n",
       "      <td>1.0</td>\n",
       "      <td>0.0</td>\n",
       "      <td>0.0</td>\n",
       "      <td>1.0</td>\n",
       "      <td>0.0</td>\n",
       "    </tr>\n",
       "  </tbody>\n",
       "</table>\n",
       "</div>"
      ],
      "text/plain": [
       "   x0_female  x0_male  x1_A  x1_B  x1_C  x1_D  x1_E  x1_F  x1_G  x1_T  x1_nan  \\\n",
       "0        0.0      1.0   0.0   0.0   0.0   0.0   0.0   0.0   0.0   0.0     1.0   \n",
       "1        0.0      1.0   0.0   0.0   0.0   0.0   0.0   0.0   0.0   0.0     1.0   \n",
       "2        0.0      1.0   0.0   0.0   0.0   0.0   0.0   0.0   0.0   0.0     1.0   \n",
       "3        1.0      0.0   0.0   0.0   0.0   0.0   0.0   0.0   0.0   0.0     1.0   \n",
       "4        0.0      1.0   0.0   0.0   0.0   0.0   0.0   0.0   0.0   0.0     1.0   \n",
       "\n",
       "   x2_C  x2_Q  x2_S  x2_nan  \n",
       "0   0.0   0.0   1.0     0.0  \n",
       "1   0.0   0.0   1.0     0.0  \n",
       "2   0.0   0.0   1.0     0.0  \n",
       "3   1.0   0.0   0.0     0.0  \n",
       "4   0.0   0.0   1.0     0.0  "
      ]
     },
     "execution_count": 17,
     "metadata": {},
     "output_type": "execute_result"
    }
   ],
   "source": [
    "pd.DataFrame(data=X_train, columns=preprocessor.named_transformers_[\"onehotencoder\"].get_feature_names()).head()"
   ]
  },
  {
   "cell_type": "markdown",
   "id": "59594c6a",
   "metadata": {},
   "source": [
    "__One hot encoding with feature_engine__\n",
    "* quick\n",
    "* returns dataframe\n",
    "* returns feature names\n",
    "* allows to select features to encode\n",
    "\n",
    "[fe_OneHotEncoder](https://feature-engine.readthedocs.io/en/1.1.x/encoding/OneHotEncoder.html#api-reference)"
   ]
  },
  {
   "cell_type": "code",
   "execution_count": 18,
   "id": "119bf133",
   "metadata": {},
   "outputs": [],
   "source": [
    "X = df.drop(labels=[\"Survived\"], axis=1)\n",
    "y = df[\"Survived\"]\n",
    "\n",
    "from sklearn.model_selection import train_test_split\n",
    "\n",
    "X_train, X_test, y_train, y_test = train_test_split(X, y, test_size=0.3, random_state=0, shuffle=True, stratify=y)"
   ]
  },
  {
   "cell_type": "code",
   "execution_count": 19,
   "id": "70f557e2",
   "metadata": {},
   "outputs": [],
   "source": [
    "from sklearn.impute import SimpleImputer\n",
    "from feature_engine.encoding import OneHotEncoder as fe_OneHotEncoder\n",
    "from sklearn.compose import ColumnTransformer, make_column_transformer\n",
    "from sklearn.pipeline import Pipeline, make_pipeline\n",
    "\n",
    "features = X.columns.tolist()\n",
    "\n",
    "pipeline = make_pipeline(\n",
    "    SimpleImputer(strategy=\"constant\", fill_value=\"Missing\"), # return a numpy instead of dataframe\n",
    "    fe_OneHotEncoder(top_categories=None, drop_last=False, \n",
    "#                    variables=features # Specify features name. Since it numpy array from Simputer()\n",
    "#                                       # and we want to encode all features, no need to use variables=features\n",
    "                    )\n",
    ")"
   ]
  },
  {
   "cell_type": "code",
   "execution_count": 20,
   "id": "284c3323",
   "metadata": {},
   "outputs": [],
   "source": [
    "X_train = pipeline.fit_transform(X_train)\n",
    "X_test = pipeline.transform(X_test)"
   ]
  },
  {
   "cell_type": "code",
   "execution_count": 21,
   "id": "09db705a",
   "metadata": {},
   "outputs": [
    {
     "data": {
      "text/plain": [
       "Pipeline(steps=[('simpleimputer',\n",
       "                 SimpleImputer(fill_value='Missing', strategy='constant')),\n",
       "                ('onehotencoder', OneHotEncoder())])"
      ]
     },
     "execution_count": 21,
     "metadata": {},
     "output_type": "execute_result"
    }
   ],
   "source": [
    "pipeline"
   ]
  },
  {
   "cell_type": "code",
   "execution_count": 22,
   "id": "c1e08dd5",
   "metadata": {},
   "outputs": [
    {
     "data": {
      "text/plain": [
       "{'simpleimputer': SimpleImputer(fill_value='Missing', strategy='constant'),\n",
       " 'onehotencoder': OneHotEncoder()}"
      ]
     },
     "execution_count": 22,
     "metadata": {},
     "output_type": "execute_result"
    }
   ],
   "source": [
    "pipeline.named_steps"
   ]
  },
  {
   "cell_type": "code",
   "execution_count": 23,
   "id": "aeddbf59",
   "metadata": {},
   "outputs": [
    {
     "data": {
      "text/plain": [
       "{'0': ['male', 'female'],\n",
       " '1': ['Missing', 'F', 'E', 'C', 'A', 'B', 'D', 'G', 'T'],\n",
       " '2': ['S', 'C', 'Q', 'Missing']}"
      ]
     },
     "execution_count": 23,
     "metadata": {},
     "output_type": "execute_result"
    }
   ],
   "source": [
    "pipeline.named_steps[\"onehotencoder\"].encoder_dict_"
   ]
  },
  {
   "cell_type": "code",
   "execution_count": 24,
   "id": "1efa5d0d",
   "metadata": {},
   "outputs": [
    {
     "data": {
      "text/plain": [
       "['0', '1', '2']"
      ]
     },
     "execution_count": 24,
     "metadata": {},
     "output_type": "execute_result"
    }
   ],
   "source": [
    "pipeline.named_steps[\"onehotencoder\"].variables_"
   ]
  },
  {
   "cell_type": "code",
   "execution_count": 25,
   "id": "3375273d",
   "metadata": {},
   "outputs": [
    {
     "data": {
      "text/html": [
       "<div>\n",
       "<style scoped>\n",
       "    .dataframe tbody tr th:only-of-type {\n",
       "        vertical-align: middle;\n",
       "    }\n",
       "\n",
       "    .dataframe tbody tr th {\n",
       "        vertical-align: top;\n",
       "    }\n",
       "\n",
       "    .dataframe thead th {\n",
       "        text-align: right;\n",
       "    }\n",
       "</style>\n",
       "<table border=\"1\" class=\"dataframe\">\n",
       "  <thead>\n",
       "    <tr style=\"text-align: right;\">\n",
       "      <th></th>\n",
       "      <th>0_male</th>\n",
       "      <th>0_female</th>\n",
       "      <th>1_Missing</th>\n",
       "      <th>1_F</th>\n",
       "      <th>1_E</th>\n",
       "      <th>1_C</th>\n",
       "      <th>1_A</th>\n",
       "      <th>1_B</th>\n",
       "      <th>1_D</th>\n",
       "      <th>1_G</th>\n",
       "      <th>1_T</th>\n",
       "      <th>2_S</th>\n",
       "      <th>2_C</th>\n",
       "      <th>2_Q</th>\n",
       "      <th>2_Missing</th>\n",
       "    </tr>\n",
       "  </thead>\n",
       "  <tbody>\n",
       "    <tr>\n",
       "      <th>0</th>\n",
       "      <td>1</td>\n",
       "      <td>0</td>\n",
       "      <td>1</td>\n",
       "      <td>0</td>\n",
       "      <td>0</td>\n",
       "      <td>0</td>\n",
       "      <td>0</td>\n",
       "      <td>0</td>\n",
       "      <td>0</td>\n",
       "      <td>0</td>\n",
       "      <td>0</td>\n",
       "      <td>1</td>\n",
       "      <td>0</td>\n",
       "      <td>0</td>\n",
       "      <td>0</td>\n",
       "    </tr>\n",
       "    <tr>\n",
       "      <th>1</th>\n",
       "      <td>1</td>\n",
       "      <td>0</td>\n",
       "      <td>1</td>\n",
       "      <td>0</td>\n",
       "      <td>0</td>\n",
       "      <td>0</td>\n",
       "      <td>0</td>\n",
       "      <td>0</td>\n",
       "      <td>0</td>\n",
       "      <td>0</td>\n",
       "      <td>0</td>\n",
       "      <td>1</td>\n",
       "      <td>0</td>\n",
       "      <td>0</td>\n",
       "      <td>0</td>\n",
       "    </tr>\n",
       "    <tr>\n",
       "      <th>2</th>\n",
       "      <td>1</td>\n",
       "      <td>0</td>\n",
       "      <td>1</td>\n",
       "      <td>0</td>\n",
       "      <td>0</td>\n",
       "      <td>0</td>\n",
       "      <td>0</td>\n",
       "      <td>0</td>\n",
       "      <td>0</td>\n",
       "      <td>0</td>\n",
       "      <td>0</td>\n",
       "      <td>1</td>\n",
       "      <td>0</td>\n",
       "      <td>0</td>\n",
       "      <td>0</td>\n",
       "    </tr>\n",
       "    <tr>\n",
       "      <th>3</th>\n",
       "      <td>0</td>\n",
       "      <td>1</td>\n",
       "      <td>1</td>\n",
       "      <td>0</td>\n",
       "      <td>0</td>\n",
       "      <td>0</td>\n",
       "      <td>0</td>\n",
       "      <td>0</td>\n",
       "      <td>0</td>\n",
       "      <td>0</td>\n",
       "      <td>0</td>\n",
       "      <td>0</td>\n",
       "      <td>1</td>\n",
       "      <td>0</td>\n",
       "      <td>0</td>\n",
       "    </tr>\n",
       "    <tr>\n",
       "      <th>4</th>\n",
       "      <td>1</td>\n",
       "      <td>0</td>\n",
       "      <td>1</td>\n",
       "      <td>0</td>\n",
       "      <td>0</td>\n",
       "      <td>0</td>\n",
       "      <td>0</td>\n",
       "      <td>0</td>\n",
       "      <td>0</td>\n",
       "      <td>0</td>\n",
       "      <td>0</td>\n",
       "      <td>1</td>\n",
       "      <td>0</td>\n",
       "      <td>0</td>\n",
       "      <td>0</td>\n",
       "    </tr>\n",
       "  </tbody>\n",
       "</table>\n",
       "</div>"
      ],
      "text/plain": [
       "   0_male  0_female  1_Missing  1_F  1_E  1_C  1_A  1_B  1_D  1_G  1_T  2_S  \\\n",
       "0       1         0          1    0    0    0    0    0    0    0    0    1   \n",
       "1       1         0          1    0    0    0    0    0    0    0    0    1   \n",
       "2       1         0          1    0    0    0    0    0    0    0    0    1   \n",
       "3       0         1          1    0    0    0    0    0    0    0    0    0   \n",
       "4       1         0          1    0    0    0    0    0    0    0    0    1   \n",
       "\n",
       "   2_C  2_Q  2_Missing  \n",
       "0    0    0          0  \n",
       "1    0    0          0  \n",
       "2    0    0          0  \n",
       "3    1    0          0  \n",
       "4    0    0          0  "
      ]
     },
     "execution_count": 25,
     "metadata": {},
     "output_type": "execute_result"
    }
   ],
   "source": [
    "X_train.head()"
   ]
  },
  {
   "cell_type": "code",
   "execution_count": 26,
   "id": "847f1000",
   "metadata": {},
   "outputs": [
    {
     "data": {
      "text/html": [
       "<div>\n",
       "<style scoped>\n",
       "    .dataframe tbody tr th:only-of-type {\n",
       "        vertical-align: middle;\n",
       "    }\n",
       "\n",
       "    .dataframe tbody tr th {\n",
       "        vertical-align: top;\n",
       "    }\n",
       "\n",
       "    .dataframe thead th {\n",
       "        text-align: right;\n",
       "    }\n",
       "</style>\n",
       "<table border=\"1\" class=\"dataframe\">\n",
       "  <thead>\n",
       "    <tr style=\"text-align: right;\">\n",
       "      <th></th>\n",
       "      <th>0_male</th>\n",
       "      <th>0_female</th>\n",
       "      <th>1_Missing</th>\n",
       "      <th>1_F</th>\n",
       "      <th>1_E</th>\n",
       "      <th>1_C</th>\n",
       "      <th>1_A</th>\n",
       "      <th>1_B</th>\n",
       "      <th>1_D</th>\n",
       "      <th>1_G</th>\n",
       "      <th>1_T</th>\n",
       "      <th>2_S</th>\n",
       "      <th>2_C</th>\n",
       "      <th>2_Q</th>\n",
       "      <th>2_Missing</th>\n",
       "    </tr>\n",
       "  </thead>\n",
       "  <tbody>\n",
       "    <tr>\n",
       "      <th>0</th>\n",
       "      <td>1</td>\n",
       "      <td>0</td>\n",
       "      <td>1</td>\n",
       "      <td>0</td>\n",
       "      <td>0</td>\n",
       "      <td>0</td>\n",
       "      <td>0</td>\n",
       "      <td>0</td>\n",
       "      <td>0</td>\n",
       "      <td>0</td>\n",
       "      <td>0</td>\n",
       "      <td>0</td>\n",
       "      <td>0</td>\n",
       "      <td>1</td>\n",
       "      <td>0</td>\n",
       "    </tr>\n",
       "    <tr>\n",
       "      <th>1</th>\n",
       "      <td>0</td>\n",
       "      <td>1</td>\n",
       "      <td>0</td>\n",
       "      <td>1</td>\n",
       "      <td>0</td>\n",
       "      <td>0</td>\n",
       "      <td>0</td>\n",
       "      <td>0</td>\n",
       "      <td>0</td>\n",
       "      <td>0</td>\n",
       "      <td>0</td>\n",
       "      <td>1</td>\n",
       "      <td>0</td>\n",
       "      <td>0</td>\n",
       "      <td>0</td>\n",
       "    </tr>\n",
       "    <tr>\n",
       "      <th>2</th>\n",
       "      <td>1</td>\n",
       "      <td>0</td>\n",
       "      <td>1</td>\n",
       "      <td>0</td>\n",
       "      <td>0</td>\n",
       "      <td>0</td>\n",
       "      <td>0</td>\n",
       "      <td>0</td>\n",
       "      <td>0</td>\n",
       "      <td>0</td>\n",
       "      <td>0</td>\n",
       "      <td>0</td>\n",
       "      <td>0</td>\n",
       "      <td>1</td>\n",
       "      <td>0</td>\n",
       "    </tr>\n",
       "    <tr>\n",
       "      <th>3</th>\n",
       "      <td>0</td>\n",
       "      <td>1</td>\n",
       "      <td>0</td>\n",
       "      <td>0</td>\n",
       "      <td>0</td>\n",
       "      <td>1</td>\n",
       "      <td>0</td>\n",
       "      <td>0</td>\n",
       "      <td>0</td>\n",
       "      <td>0</td>\n",
       "      <td>0</td>\n",
       "      <td>0</td>\n",
       "      <td>1</td>\n",
       "      <td>0</td>\n",
       "      <td>0</td>\n",
       "    </tr>\n",
       "    <tr>\n",
       "      <th>4</th>\n",
       "      <td>1</td>\n",
       "      <td>0</td>\n",
       "      <td>1</td>\n",
       "      <td>0</td>\n",
       "      <td>0</td>\n",
       "      <td>0</td>\n",
       "      <td>0</td>\n",
       "      <td>0</td>\n",
       "      <td>0</td>\n",
       "      <td>0</td>\n",
       "      <td>0</td>\n",
       "      <td>0</td>\n",
       "      <td>1</td>\n",
       "      <td>0</td>\n",
       "      <td>0</td>\n",
       "    </tr>\n",
       "  </tbody>\n",
       "</table>\n",
       "</div>"
      ],
      "text/plain": [
       "   0_male  0_female  1_Missing  1_F  1_E  1_C  1_A  1_B  1_D  1_G  1_T  2_S  \\\n",
       "0       1         0          1    0    0    0    0    0    0    0    0    0   \n",
       "1       0         1          0    1    0    0    0    0    0    0    0    1   \n",
       "2       1         0          1    0    0    0    0    0    0    0    0    0   \n",
       "3       0         1          0    0    0    1    0    0    0    0    0    0   \n",
       "4       1         0          1    0    0    0    0    0    0    0    0    0   \n",
       "\n",
       "   2_C  2_Q  2_Missing  \n",
       "0    0    1          0  \n",
       "1    0    0          0  \n",
       "2    0    1          0  \n",
       "3    1    0          0  \n",
       "4    1    0          0  "
      ]
     },
     "execution_count": 26,
     "metadata": {},
     "output_type": "execute_result"
    }
   ],
   "source": [
    "X_test.head()"
   ]
  },
  {
   "cell_type": "markdown",
   "id": "78d49f01",
   "metadata": {},
   "source": [
    "__Allows to select features to encode__"
   ]
  },
  {
   "cell_type": "code",
   "execution_count": 27,
   "id": "15d9f08d",
   "metadata": {},
   "outputs": [],
   "source": [
    "X = df.drop(labels=[\"Survived\"], axis=1)\n",
    "y = df[\"Survived\"]\n",
    "\n",
    "from sklearn.model_selection import train_test_split\n",
    "\n",
    "X_train, X_test, y_train, y_test = train_test_split(X, y, test_size=0.3, random_state=0, shuffle=True, stratify=y)"
   ]
  },
  {
   "cell_type": "code",
   "execution_count": 28,
   "id": "17f15cc0",
   "metadata": {},
   "outputs": [],
   "source": [
    "from feature_engine.encoding import OneHotEncoder as fe_OneHotEncoder\n",
    "\n",
    "features = X.columns.to_list()\n",
    "enc = fe_OneHotEncoder(top_categories=None, drop_last=False, variables=features) # Allows to select features to encode\n",
    "\n",
    "X_train = enc.fit_transform(X_train.fillna('Missing'))\n",
    "X_test = enc.transform(X_test.fillna('Missing'))"
   ]
  },
  {
   "cell_type": "code",
   "execution_count": 29,
   "id": "dd4805f2",
   "metadata": {},
   "outputs": [
    {
     "data": {
      "text/plain": [
       "OneHotEncoder(variables=['Sex', 'Cabin', 'Embarked'])"
      ]
     },
     "execution_count": 29,
     "metadata": {},
     "output_type": "execute_result"
    }
   ],
   "source": [
    "enc"
   ]
  },
  {
   "cell_type": "code",
   "execution_count": 30,
   "id": "31375179",
   "metadata": {},
   "outputs": [
    {
     "data": {
      "text/plain": [
       "{'Sex': ['male', 'female'],\n",
       " 'Cabin': ['Missing', 'F', 'E', 'C', 'A', 'B', 'D', 'G', 'T'],\n",
       " 'Embarked': ['S', 'C', 'Q', 'Missing']}"
      ]
     },
     "execution_count": 30,
     "metadata": {},
     "output_type": "execute_result"
    }
   ],
   "source": [
    "enc.encoder_dict_"
   ]
  },
  {
   "cell_type": "code",
   "execution_count": 31,
   "id": "3d7b06b6",
   "metadata": {},
   "outputs": [
    {
     "data": {
      "text/plain": [
       "['Sex', 'Cabin', 'Embarked']"
      ]
     },
     "execution_count": 31,
     "metadata": {},
     "output_type": "execute_result"
    }
   ],
   "source": [
    "enc.variables_"
   ]
  },
  {
   "cell_type": "code",
   "execution_count": 32,
   "id": "50aa9ed4",
   "metadata": {},
   "outputs": [
    {
     "data": {
      "text/html": [
       "<div>\n",
       "<style scoped>\n",
       "    .dataframe tbody tr th:only-of-type {\n",
       "        vertical-align: middle;\n",
       "    }\n",
       "\n",
       "    .dataframe tbody tr th {\n",
       "        vertical-align: top;\n",
       "    }\n",
       "\n",
       "    .dataframe thead th {\n",
       "        text-align: right;\n",
       "    }\n",
       "</style>\n",
       "<table border=\"1\" class=\"dataframe\">\n",
       "  <thead>\n",
       "    <tr style=\"text-align: right;\">\n",
       "      <th></th>\n",
       "      <th>Sex_male</th>\n",
       "      <th>Sex_female</th>\n",
       "      <th>Cabin_Missing</th>\n",
       "      <th>Cabin_F</th>\n",
       "      <th>Cabin_E</th>\n",
       "      <th>Cabin_C</th>\n",
       "      <th>Cabin_A</th>\n",
       "      <th>Cabin_B</th>\n",
       "      <th>Cabin_D</th>\n",
       "      <th>Cabin_G</th>\n",
       "      <th>Cabin_T</th>\n",
       "      <th>Embarked_S</th>\n",
       "      <th>Embarked_C</th>\n",
       "      <th>Embarked_Q</th>\n",
       "      <th>Embarked_Missing</th>\n",
       "    </tr>\n",
       "  </thead>\n",
       "  <tbody>\n",
       "    <tr>\n",
       "      <th>231</th>\n",
       "      <td>1</td>\n",
       "      <td>0</td>\n",
       "      <td>1</td>\n",
       "      <td>0</td>\n",
       "      <td>0</td>\n",
       "      <td>0</td>\n",
       "      <td>0</td>\n",
       "      <td>0</td>\n",
       "      <td>0</td>\n",
       "      <td>0</td>\n",
       "      <td>0</td>\n",
       "      <td>1</td>\n",
       "      <td>0</td>\n",
       "      <td>0</td>\n",
       "      <td>0</td>\n",
       "    </tr>\n",
       "    <tr>\n",
       "      <th>836</th>\n",
       "      <td>1</td>\n",
       "      <td>0</td>\n",
       "      <td>1</td>\n",
       "      <td>0</td>\n",
       "      <td>0</td>\n",
       "      <td>0</td>\n",
       "      <td>0</td>\n",
       "      <td>0</td>\n",
       "      <td>0</td>\n",
       "      <td>0</td>\n",
       "      <td>0</td>\n",
       "      <td>1</td>\n",
       "      <td>0</td>\n",
       "      <td>0</td>\n",
       "      <td>0</td>\n",
       "    </tr>\n",
       "    <tr>\n",
       "      <th>639</th>\n",
       "      <td>1</td>\n",
       "      <td>0</td>\n",
       "      <td>1</td>\n",
       "      <td>0</td>\n",
       "      <td>0</td>\n",
       "      <td>0</td>\n",
       "      <td>0</td>\n",
       "      <td>0</td>\n",
       "      <td>0</td>\n",
       "      <td>0</td>\n",
       "      <td>0</td>\n",
       "      <td>1</td>\n",
       "      <td>0</td>\n",
       "      <td>0</td>\n",
       "      <td>0</td>\n",
       "    </tr>\n",
       "    <tr>\n",
       "      <th>389</th>\n",
       "      <td>0</td>\n",
       "      <td>1</td>\n",
       "      <td>1</td>\n",
       "      <td>0</td>\n",
       "      <td>0</td>\n",
       "      <td>0</td>\n",
       "      <td>0</td>\n",
       "      <td>0</td>\n",
       "      <td>0</td>\n",
       "      <td>0</td>\n",
       "      <td>0</td>\n",
       "      <td>0</td>\n",
       "      <td>1</td>\n",
       "      <td>0</td>\n",
       "      <td>0</td>\n",
       "    </tr>\n",
       "    <tr>\n",
       "      <th>597</th>\n",
       "      <td>1</td>\n",
       "      <td>0</td>\n",
       "      <td>1</td>\n",
       "      <td>0</td>\n",
       "      <td>0</td>\n",
       "      <td>0</td>\n",
       "      <td>0</td>\n",
       "      <td>0</td>\n",
       "      <td>0</td>\n",
       "      <td>0</td>\n",
       "      <td>0</td>\n",
       "      <td>1</td>\n",
       "      <td>0</td>\n",
       "      <td>0</td>\n",
       "      <td>0</td>\n",
       "    </tr>\n",
       "  </tbody>\n",
       "</table>\n",
       "</div>"
      ],
      "text/plain": [
       "     Sex_male  Sex_female  Cabin_Missing  Cabin_F  Cabin_E  Cabin_C  Cabin_A  \\\n",
       "231         1           0              1        0        0        0        0   \n",
       "836         1           0              1        0        0        0        0   \n",
       "639         1           0              1        0        0        0        0   \n",
       "389         0           1              1        0        0        0        0   \n",
       "597         1           0              1        0        0        0        0   \n",
       "\n",
       "     Cabin_B  Cabin_D  Cabin_G  Cabin_T  Embarked_S  Embarked_C  Embarked_Q  \\\n",
       "231        0        0        0        0           1           0           0   \n",
       "836        0        0        0        0           1           0           0   \n",
       "639        0        0        0        0           1           0           0   \n",
       "389        0        0        0        0           0           1           0   \n",
       "597        0        0        0        0           1           0           0   \n",
       "\n",
       "     Embarked_Missing  \n",
       "231                 0  \n",
       "836                 0  \n",
       "639                 0  \n",
       "389                 0  \n",
       "597                 0  "
      ]
     },
     "execution_count": 32,
     "metadata": {},
     "output_type": "execute_result"
    }
   ],
   "source": [
    "X_train.head()"
   ]
  },
  {
   "cell_type": "code",
   "execution_count": 33,
   "id": "7d5ae705",
   "metadata": {},
   "outputs": [
    {
     "data": {
      "text/html": [
       "<div>\n",
       "<style scoped>\n",
       "    .dataframe tbody tr th:only-of-type {\n",
       "        vertical-align: middle;\n",
       "    }\n",
       "\n",
       "    .dataframe tbody tr th {\n",
       "        vertical-align: top;\n",
       "    }\n",
       "\n",
       "    .dataframe thead th {\n",
       "        text-align: right;\n",
       "    }\n",
       "</style>\n",
       "<table border=\"1\" class=\"dataframe\">\n",
       "  <thead>\n",
       "    <tr style=\"text-align: right;\">\n",
       "      <th></th>\n",
       "      <th>Sex_male</th>\n",
       "      <th>Sex_female</th>\n",
       "      <th>Cabin_Missing</th>\n",
       "      <th>Cabin_F</th>\n",
       "      <th>Cabin_E</th>\n",
       "      <th>Cabin_C</th>\n",
       "      <th>Cabin_A</th>\n",
       "      <th>Cabin_B</th>\n",
       "      <th>Cabin_D</th>\n",
       "      <th>Cabin_G</th>\n",
       "      <th>Cabin_T</th>\n",
       "      <th>Embarked_S</th>\n",
       "      <th>Embarked_C</th>\n",
       "      <th>Embarked_Q</th>\n",
       "      <th>Embarked_Missing</th>\n",
       "    </tr>\n",
       "  </thead>\n",
       "  <tbody>\n",
       "    <tr>\n",
       "      <th>421</th>\n",
       "      <td>1</td>\n",
       "      <td>0</td>\n",
       "      <td>1</td>\n",
       "      <td>0</td>\n",
       "      <td>0</td>\n",
       "      <td>0</td>\n",
       "      <td>0</td>\n",
       "      <td>0</td>\n",
       "      <td>0</td>\n",
       "      <td>0</td>\n",
       "      <td>0</td>\n",
       "      <td>0</td>\n",
       "      <td>0</td>\n",
       "      <td>1</td>\n",
       "      <td>0</td>\n",
       "    </tr>\n",
       "    <tr>\n",
       "      <th>618</th>\n",
       "      <td>0</td>\n",
       "      <td>1</td>\n",
       "      <td>0</td>\n",
       "      <td>1</td>\n",
       "      <td>0</td>\n",
       "      <td>0</td>\n",
       "      <td>0</td>\n",
       "      <td>0</td>\n",
       "      <td>0</td>\n",
       "      <td>0</td>\n",
       "      <td>0</td>\n",
       "      <td>1</td>\n",
       "      <td>0</td>\n",
       "      <td>0</td>\n",
       "      <td>0</td>\n",
       "    </tr>\n",
       "    <tr>\n",
       "      <th>116</th>\n",
       "      <td>1</td>\n",
       "      <td>0</td>\n",
       "      <td>1</td>\n",
       "      <td>0</td>\n",
       "      <td>0</td>\n",
       "      <td>0</td>\n",
       "      <td>0</td>\n",
       "      <td>0</td>\n",
       "      <td>0</td>\n",
       "      <td>0</td>\n",
       "      <td>0</td>\n",
       "      <td>0</td>\n",
       "      <td>0</td>\n",
       "      <td>1</td>\n",
       "      <td>0</td>\n",
       "    </tr>\n",
       "    <tr>\n",
       "      <th>310</th>\n",
       "      <td>0</td>\n",
       "      <td>1</td>\n",
       "      <td>0</td>\n",
       "      <td>0</td>\n",
       "      <td>0</td>\n",
       "      <td>1</td>\n",
       "      <td>0</td>\n",
       "      <td>0</td>\n",
       "      <td>0</td>\n",
       "      <td>0</td>\n",
       "      <td>0</td>\n",
       "      <td>0</td>\n",
       "      <td>1</td>\n",
       "      <td>0</td>\n",
       "      <td>0</td>\n",
       "    </tr>\n",
       "    <tr>\n",
       "      <th>57</th>\n",
       "      <td>1</td>\n",
       "      <td>0</td>\n",
       "      <td>1</td>\n",
       "      <td>0</td>\n",
       "      <td>0</td>\n",
       "      <td>0</td>\n",
       "      <td>0</td>\n",
       "      <td>0</td>\n",
       "      <td>0</td>\n",
       "      <td>0</td>\n",
       "      <td>0</td>\n",
       "      <td>0</td>\n",
       "      <td>1</td>\n",
       "      <td>0</td>\n",
       "      <td>0</td>\n",
       "    </tr>\n",
       "  </tbody>\n",
       "</table>\n",
       "</div>"
      ],
      "text/plain": [
       "     Sex_male  Sex_female  Cabin_Missing  Cabin_F  Cabin_E  Cabin_C  Cabin_A  \\\n",
       "421         1           0              1        0        0        0        0   \n",
       "618         0           1              0        1        0        0        0   \n",
       "116         1           0              1        0        0        0        0   \n",
       "310         0           1              0        0        0        1        0   \n",
       "57          1           0              1        0        0        0        0   \n",
       "\n",
       "     Cabin_B  Cabin_D  Cabin_G  Cabin_T  Embarked_S  Embarked_C  Embarked_Q  \\\n",
       "421        0        0        0        0           0           0           1   \n",
       "618        0        0        0        0           1           0           0   \n",
       "116        0        0        0        0           0           0           1   \n",
       "310        0        0        0        0           0           1           0   \n",
       "57         0        0        0        0           0           1           0   \n",
       "\n",
       "     Embarked_Missing  \n",
       "421                 0  \n",
       "618                 0  \n",
       "116                 0  \n",
       "310                 0  \n",
       "57                  0  "
      ]
     },
     "execution_count": 33,
     "metadata": {},
     "output_type": "execute_result"
    }
   ],
   "source": [
    "X_test.head()"
   ]
  },
  {
   "cell_type": "markdown",
   "id": "8afeb232",
   "metadata": {},
   "source": [
    "### One Hot Encoding of Frequent Categories\n",
    "* Performing one hot encoding, only considering the most frequent categories. Often, categorical variables show a few dominating categories while the remaining labels add little information. Therefore, OHE of top categories is a simple and useful technique."
   ]
  },
  {
   "cell_type": "code",
   "execution_count": 34,
   "id": "54cab33a",
   "metadata": {},
   "outputs": [
    {
     "data": {
      "text/html": [
       "<div>\n",
       "<style scoped>\n",
       "    .dataframe tbody tr th:only-of-type {\n",
       "        vertical-align: middle;\n",
       "    }\n",
       "\n",
       "    .dataframe tbody tr th {\n",
       "        vertical-align: top;\n",
       "    }\n",
       "\n",
       "    .dataframe thead th {\n",
       "        text-align: right;\n",
       "    }\n",
       "</style>\n",
       "<table border=\"1\" class=\"dataframe\">\n",
       "  <thead>\n",
       "    <tr style=\"text-align: right;\">\n",
       "      <th></th>\n",
       "      <th>Neighborhood</th>\n",
       "      <th>Exterior1st</th>\n",
       "      <th>Exterior2nd</th>\n",
       "      <th>SalePrice</th>\n",
       "    </tr>\n",
       "  </thead>\n",
       "  <tbody>\n",
       "    <tr>\n",
       "      <th>0</th>\n",
       "      <td>CollgCr</td>\n",
       "      <td>VinylSd</td>\n",
       "      <td>VinylSd</td>\n",
       "      <td>208500</td>\n",
       "    </tr>\n",
       "    <tr>\n",
       "      <th>1</th>\n",
       "      <td>Veenker</td>\n",
       "      <td>MetalSd</td>\n",
       "      <td>MetalSd</td>\n",
       "      <td>181500</td>\n",
       "    </tr>\n",
       "    <tr>\n",
       "      <th>2</th>\n",
       "      <td>CollgCr</td>\n",
       "      <td>VinylSd</td>\n",
       "      <td>VinylSd</td>\n",
       "      <td>223500</td>\n",
       "    </tr>\n",
       "    <tr>\n",
       "      <th>3</th>\n",
       "      <td>Crawfor</td>\n",
       "      <td>Wd Sdng</td>\n",
       "      <td>Wd Shng</td>\n",
       "      <td>140000</td>\n",
       "    </tr>\n",
       "    <tr>\n",
       "      <th>4</th>\n",
       "      <td>NoRidge</td>\n",
       "      <td>VinylSd</td>\n",
       "      <td>VinylSd</td>\n",
       "      <td>250000</td>\n",
       "    </tr>\n",
       "  </tbody>\n",
       "</table>\n",
       "</div>"
      ],
      "text/plain": [
       "  Neighborhood Exterior1st Exterior2nd  SalePrice\n",
       "0      CollgCr     VinylSd     VinylSd     208500\n",
       "1      Veenker     MetalSd     MetalSd     181500\n",
       "2      CollgCr     VinylSd     VinylSd     223500\n",
       "3      Crawfor     Wd Sdng     Wd Shng     140000\n",
       "4      NoRidge     VinylSd     VinylSd     250000"
      ]
     },
     "execution_count": 34,
     "metadata": {},
     "output_type": "execute_result"
    }
   ],
   "source": [
    "df = pd.read_csv('houseprice.csv', usecols=['Neighborhood', 'Exterior1st', 'Exterior2nd', 'SalePrice'])\n",
    "df.head()"
   ]
  },
  {
   "cell_type": "code",
   "execution_count": 35,
   "id": "20d7d1c3",
   "metadata": {},
   "outputs": [
    {
     "name": "stdout",
     "output_type": "stream",
     "text": [
      "Neighborhood:  25 labels\n",
      "Exterior1st:  15 labels\n",
      "Exterior2nd:  16 labels\n",
      "SalePrice:  663 labels\n"
     ]
    }
   ],
   "source": [
    "for col in df.columns:\n",
    "    print(f\"{col}:  {len(df[col].unique())} labels\")"
   ]
  },
  {
   "cell_type": "code",
   "execution_count": 36,
   "id": "a4d96b01",
   "metadata": {},
   "outputs": [],
   "source": [
    "X = df.drop(columns=[\"SalePrice\"])\n",
    "y = df[\"SalePrice\"]\n",
    "\n",
    "from sklearn.model_selection import train_test_split\n",
    "\n",
    "X_train, X_test, y_train, y_test = train_test_split(X, y, test_size=0.3, random_state=0, shuffle=True, \n",
    "#                                                     stratify=y # Not a classification problem\n",
    "                                                   )"
   ]
  },
  {
   "cell_type": "code",
   "execution_count": 37,
   "id": "dd296a2b",
   "metadata": {},
   "outputs": [],
   "source": [
    "# It is important to select the top or most frequent categories based of the train data. Then, we will use those top \n",
    "# categories to encode the variables in the test data as well\n",
    "\n",
    "from feature_engine.encoding import OneHotEncoder as fe_OneHotEncoder\n",
    "\n",
    "features = ['Neighborhood', 'Exterior1st', 'Exterior2nd']\n",
    "\n",
    "# If the argument variables=None, then the encoder will automatically identify all categorical variables. Is that not sweet?\n",
    "# The encoder will not encode numerical variables. So if some of your numerical variables are in fact categories, \n",
    "# you will need to re-cast them as object before using the encoder.\n",
    "\n",
    "enc = fe_OneHotEncoder(top_categories=10,  # you can change this value to select more or less variables\n",
    "                       drop_last=False, variables=features)\n",
    "\n",
    "X_train = enc.fit_transform(X_train)\n",
    "X_test = enc.transform(X_test)"
   ]
  },
  {
   "cell_type": "code",
   "execution_count": 38,
   "id": "d26391aa",
   "metadata": {},
   "outputs": [
    {
     "data": {
      "text/plain": [
       "OneHotEncoder(top_categories=10,\n",
       "              variables=['Neighborhood', 'Exterior1st', 'Exterior2nd'])"
      ]
     },
     "execution_count": 38,
     "metadata": {},
     "output_type": "execute_result"
    }
   ],
   "source": [
    "enc"
   ]
  },
  {
   "cell_type": "code",
   "execution_count": 39,
   "id": "8ec93328",
   "metadata": {},
   "outputs": [
    {
     "data": {
      "text/plain": [
       "{'Neighborhood': ['NAmes',\n",
       "  'CollgCr',\n",
       "  'OldTown',\n",
       "  'Edwards',\n",
       "  'Sawyer',\n",
       "  'Somerst',\n",
       "  'Gilbert',\n",
       "  'NWAmes',\n",
       "  'NridgHt',\n",
       "  'SawyerW'],\n",
       " 'Exterior1st': ['VinylSd',\n",
       "  'HdBoard',\n",
       "  'Wd Sdng',\n",
       "  'MetalSd',\n",
       "  'Plywood',\n",
       "  'CemntBd',\n",
       "  'BrkFace',\n",
       "  'WdShing',\n",
       "  'Stucco',\n",
       "  'AsbShng'],\n",
       " 'Exterior2nd': ['VinylSd',\n",
       "  'Wd Sdng',\n",
       "  'HdBoard',\n",
       "  'MetalSd',\n",
       "  'Plywood',\n",
       "  'CmentBd',\n",
       "  'Wd Shng',\n",
       "  'BrkFace',\n",
       "  'AsbShng',\n",
       "  'Stucco']}"
      ]
     },
     "execution_count": 39,
     "metadata": {},
     "output_type": "execute_result"
    }
   ],
   "source": [
    "enc.encoder_dict_"
   ]
  },
  {
   "cell_type": "code",
   "execution_count": 40,
   "id": "c73488e0",
   "metadata": {},
   "outputs": [
    {
     "data": {
      "text/plain": [
       "['Neighborhood', 'Exterior1st', 'Exterior2nd']"
      ]
     },
     "execution_count": 40,
     "metadata": {},
     "output_type": "execute_result"
    }
   ],
   "source": [
    "enc.variables_"
   ]
  },
  {
   "cell_type": "code",
   "execution_count": 41,
   "id": "14e81740",
   "metadata": {},
   "outputs": [
    {
     "data": {
      "text/html": [
       "<div>\n",
       "<style scoped>\n",
       "    .dataframe tbody tr th:only-of-type {\n",
       "        vertical-align: middle;\n",
       "    }\n",
       "\n",
       "    .dataframe tbody tr th {\n",
       "        vertical-align: top;\n",
       "    }\n",
       "\n",
       "    .dataframe thead th {\n",
       "        text-align: right;\n",
       "    }\n",
       "</style>\n",
       "<table border=\"1\" class=\"dataframe\">\n",
       "  <thead>\n",
       "    <tr style=\"text-align: right;\">\n",
       "      <th></th>\n",
       "      <th>Neighborhood_NAmes</th>\n",
       "      <th>Neighborhood_CollgCr</th>\n",
       "      <th>Neighborhood_OldTown</th>\n",
       "      <th>Neighborhood_Edwards</th>\n",
       "      <th>Neighborhood_Sawyer</th>\n",
       "      <th>Neighborhood_Somerst</th>\n",
       "      <th>Neighborhood_Gilbert</th>\n",
       "      <th>Neighborhood_NWAmes</th>\n",
       "      <th>Neighborhood_NridgHt</th>\n",
       "      <th>Neighborhood_SawyerW</th>\n",
       "      <th>...</th>\n",
       "      <th>Exterior2nd_VinylSd</th>\n",
       "      <th>Exterior2nd_Wd Sdng</th>\n",
       "      <th>Exterior2nd_HdBoard</th>\n",
       "      <th>Exterior2nd_MetalSd</th>\n",
       "      <th>Exterior2nd_Plywood</th>\n",
       "      <th>Exterior2nd_CmentBd</th>\n",
       "      <th>Exterior2nd_Wd Shng</th>\n",
       "      <th>Exterior2nd_BrkFace</th>\n",
       "      <th>Exterior2nd_AsbShng</th>\n",
       "      <th>Exterior2nd_Stucco</th>\n",
       "    </tr>\n",
       "  </thead>\n",
       "  <tbody>\n",
       "    <tr>\n",
       "      <th>64</th>\n",
       "      <td>0</td>\n",
       "      <td>1</td>\n",
       "      <td>0</td>\n",
       "      <td>0</td>\n",
       "      <td>0</td>\n",
       "      <td>0</td>\n",
       "      <td>0</td>\n",
       "      <td>0</td>\n",
       "      <td>0</td>\n",
       "      <td>0</td>\n",
       "      <td>...</td>\n",
       "      <td>1</td>\n",
       "      <td>0</td>\n",
       "      <td>0</td>\n",
       "      <td>0</td>\n",
       "      <td>0</td>\n",
       "      <td>0</td>\n",
       "      <td>0</td>\n",
       "      <td>0</td>\n",
       "      <td>0</td>\n",
       "      <td>0</td>\n",
       "    </tr>\n",
       "    <tr>\n",
       "      <th>682</th>\n",
       "      <td>0</td>\n",
       "      <td>0</td>\n",
       "      <td>0</td>\n",
       "      <td>0</td>\n",
       "      <td>0</td>\n",
       "      <td>0</td>\n",
       "      <td>0</td>\n",
       "      <td>0</td>\n",
       "      <td>0</td>\n",
       "      <td>0</td>\n",
       "      <td>...</td>\n",
       "      <td>0</td>\n",
       "      <td>1</td>\n",
       "      <td>0</td>\n",
       "      <td>0</td>\n",
       "      <td>0</td>\n",
       "      <td>0</td>\n",
       "      <td>0</td>\n",
       "      <td>0</td>\n",
       "      <td>0</td>\n",
       "      <td>0</td>\n",
       "    </tr>\n",
       "    <tr>\n",
       "      <th>960</th>\n",
       "      <td>0</td>\n",
       "      <td>0</td>\n",
       "      <td>0</td>\n",
       "      <td>0</td>\n",
       "      <td>0</td>\n",
       "      <td>0</td>\n",
       "      <td>0</td>\n",
       "      <td>0</td>\n",
       "      <td>0</td>\n",
       "      <td>0</td>\n",
       "      <td>...</td>\n",
       "      <td>0</td>\n",
       "      <td>0</td>\n",
       "      <td>0</td>\n",
       "      <td>0</td>\n",
       "      <td>1</td>\n",
       "      <td>0</td>\n",
       "      <td>0</td>\n",
       "      <td>0</td>\n",
       "      <td>0</td>\n",
       "      <td>0</td>\n",
       "    </tr>\n",
       "    <tr>\n",
       "      <th>1384</th>\n",
       "      <td>0</td>\n",
       "      <td>0</td>\n",
       "      <td>0</td>\n",
       "      <td>1</td>\n",
       "      <td>0</td>\n",
       "      <td>0</td>\n",
       "      <td>0</td>\n",
       "      <td>0</td>\n",
       "      <td>0</td>\n",
       "      <td>0</td>\n",
       "      <td>...</td>\n",
       "      <td>0</td>\n",
       "      <td>0</td>\n",
       "      <td>0</td>\n",
       "      <td>0</td>\n",
       "      <td>0</td>\n",
       "      <td>0</td>\n",
       "      <td>1</td>\n",
       "      <td>0</td>\n",
       "      <td>0</td>\n",
       "      <td>0</td>\n",
       "    </tr>\n",
       "    <tr>\n",
       "      <th>1100</th>\n",
       "      <td>0</td>\n",
       "      <td>0</td>\n",
       "      <td>0</td>\n",
       "      <td>0</td>\n",
       "      <td>0</td>\n",
       "      <td>0</td>\n",
       "      <td>0</td>\n",
       "      <td>0</td>\n",
       "      <td>0</td>\n",
       "      <td>0</td>\n",
       "      <td>...</td>\n",
       "      <td>0</td>\n",
       "      <td>1</td>\n",
       "      <td>0</td>\n",
       "      <td>0</td>\n",
       "      <td>0</td>\n",
       "      <td>0</td>\n",
       "      <td>0</td>\n",
       "      <td>0</td>\n",
       "      <td>0</td>\n",
       "      <td>0</td>\n",
       "    </tr>\n",
       "  </tbody>\n",
       "</table>\n",
       "<p>5 rows × 30 columns</p>\n",
       "</div>"
      ],
      "text/plain": [
       "      Neighborhood_NAmes  Neighborhood_CollgCr  Neighborhood_OldTown  \\\n",
       "64                     0                     1                     0   \n",
       "682                    0                     0                     0   \n",
       "960                    0                     0                     0   \n",
       "1384                   0                     0                     0   \n",
       "1100                   0                     0                     0   \n",
       "\n",
       "      Neighborhood_Edwards  Neighborhood_Sawyer  Neighborhood_Somerst  \\\n",
       "64                       0                    0                     0   \n",
       "682                      0                    0                     0   \n",
       "960                      0                    0                     0   \n",
       "1384                     1                    0                     0   \n",
       "1100                     0                    0                     0   \n",
       "\n",
       "      Neighborhood_Gilbert  Neighborhood_NWAmes  Neighborhood_NridgHt  \\\n",
       "64                       0                    0                     0   \n",
       "682                      0                    0                     0   \n",
       "960                      0                    0                     0   \n",
       "1384                     0                    0                     0   \n",
       "1100                     0                    0                     0   \n",
       "\n",
       "      Neighborhood_SawyerW  ...  Exterior2nd_VinylSd  Exterior2nd_Wd Sdng  \\\n",
       "64                       0  ...                    1                    0   \n",
       "682                      0  ...                    0                    1   \n",
       "960                      0  ...                    0                    0   \n",
       "1384                     0  ...                    0                    0   \n",
       "1100                     0  ...                    0                    1   \n",
       "\n",
       "      Exterior2nd_HdBoard  Exterior2nd_MetalSd  Exterior2nd_Plywood  \\\n",
       "64                      0                    0                    0   \n",
       "682                     0                    0                    0   \n",
       "960                     0                    0                    1   \n",
       "1384                    0                    0                    0   \n",
       "1100                    0                    0                    0   \n",
       "\n",
       "      Exterior2nd_CmentBd  Exterior2nd_Wd Shng  Exterior2nd_BrkFace  \\\n",
       "64                      0                    0                    0   \n",
       "682                     0                    0                    0   \n",
       "960                     0                    0                    0   \n",
       "1384                    0                    1                    0   \n",
       "1100                    0                    0                    0   \n",
       "\n",
       "      Exterior2nd_AsbShng  Exterior2nd_Stucco  \n",
       "64                      0                   0  \n",
       "682                     0                   0  \n",
       "960                     0                   0  \n",
       "1384                    0                   0  \n",
       "1100                    0                   0  \n",
       "\n",
       "[5 rows x 30 columns]"
      ]
     },
     "execution_count": 41,
     "metadata": {},
     "output_type": "execute_result"
    }
   ],
   "source": [
    "X_train.head()"
   ]
  },
  {
   "cell_type": "code",
   "execution_count": 42,
   "id": "0fa9498a",
   "metadata": {},
   "outputs": [
    {
     "data": {
      "text/html": [
       "<div>\n",
       "<style scoped>\n",
       "    .dataframe tbody tr th:only-of-type {\n",
       "        vertical-align: middle;\n",
       "    }\n",
       "\n",
       "    .dataframe tbody tr th {\n",
       "        vertical-align: top;\n",
       "    }\n",
       "\n",
       "    .dataframe thead th {\n",
       "        text-align: right;\n",
       "    }\n",
       "</style>\n",
       "<table border=\"1\" class=\"dataframe\">\n",
       "  <thead>\n",
       "    <tr style=\"text-align: right;\">\n",
       "      <th></th>\n",
       "      <th>Neighborhood_NAmes</th>\n",
       "      <th>Neighborhood_CollgCr</th>\n",
       "      <th>Neighborhood_OldTown</th>\n",
       "      <th>Neighborhood_Edwards</th>\n",
       "      <th>Neighborhood_Sawyer</th>\n",
       "      <th>Neighborhood_Somerst</th>\n",
       "      <th>Neighborhood_Gilbert</th>\n",
       "      <th>Neighborhood_NWAmes</th>\n",
       "      <th>Neighborhood_NridgHt</th>\n",
       "      <th>Neighborhood_SawyerW</th>\n",
       "      <th>...</th>\n",
       "      <th>Exterior2nd_VinylSd</th>\n",
       "      <th>Exterior2nd_Wd Sdng</th>\n",
       "      <th>Exterior2nd_HdBoard</th>\n",
       "      <th>Exterior2nd_MetalSd</th>\n",
       "      <th>Exterior2nd_Plywood</th>\n",
       "      <th>Exterior2nd_CmentBd</th>\n",
       "      <th>Exterior2nd_Wd Shng</th>\n",
       "      <th>Exterior2nd_BrkFace</th>\n",
       "      <th>Exterior2nd_AsbShng</th>\n",
       "      <th>Exterior2nd_Stucco</th>\n",
       "    </tr>\n",
       "  </thead>\n",
       "  <tbody>\n",
       "    <tr>\n",
       "      <th>529</th>\n",
       "      <td>0</td>\n",
       "      <td>0</td>\n",
       "      <td>0</td>\n",
       "      <td>0</td>\n",
       "      <td>0</td>\n",
       "      <td>0</td>\n",
       "      <td>0</td>\n",
       "      <td>0</td>\n",
       "      <td>0</td>\n",
       "      <td>0</td>\n",
       "      <td>...</td>\n",
       "      <td>0</td>\n",
       "      <td>0</td>\n",
       "      <td>0</td>\n",
       "      <td>0</td>\n",
       "      <td>0</td>\n",
       "      <td>0</td>\n",
       "      <td>0</td>\n",
       "      <td>0</td>\n",
       "      <td>0</td>\n",
       "      <td>0</td>\n",
       "    </tr>\n",
       "    <tr>\n",
       "      <th>491</th>\n",
       "      <td>1</td>\n",
       "      <td>0</td>\n",
       "      <td>0</td>\n",
       "      <td>0</td>\n",
       "      <td>0</td>\n",
       "      <td>0</td>\n",
       "      <td>0</td>\n",
       "      <td>0</td>\n",
       "      <td>0</td>\n",
       "      <td>0</td>\n",
       "      <td>...</td>\n",
       "      <td>0</td>\n",
       "      <td>1</td>\n",
       "      <td>0</td>\n",
       "      <td>0</td>\n",
       "      <td>0</td>\n",
       "      <td>0</td>\n",
       "      <td>0</td>\n",
       "      <td>0</td>\n",
       "      <td>0</td>\n",
       "      <td>0</td>\n",
       "    </tr>\n",
       "    <tr>\n",
       "      <th>459</th>\n",
       "      <td>0</td>\n",
       "      <td>0</td>\n",
       "      <td>0</td>\n",
       "      <td>0</td>\n",
       "      <td>0</td>\n",
       "      <td>0</td>\n",
       "      <td>0</td>\n",
       "      <td>0</td>\n",
       "      <td>0</td>\n",
       "      <td>0</td>\n",
       "      <td>...</td>\n",
       "      <td>0</td>\n",
       "      <td>0</td>\n",
       "      <td>0</td>\n",
       "      <td>1</td>\n",
       "      <td>0</td>\n",
       "      <td>0</td>\n",
       "      <td>0</td>\n",
       "      <td>0</td>\n",
       "      <td>0</td>\n",
       "      <td>0</td>\n",
       "    </tr>\n",
       "    <tr>\n",
       "      <th>279</th>\n",
       "      <td>0</td>\n",
       "      <td>0</td>\n",
       "      <td>0</td>\n",
       "      <td>0</td>\n",
       "      <td>0</td>\n",
       "      <td>0</td>\n",
       "      <td>0</td>\n",
       "      <td>0</td>\n",
       "      <td>0</td>\n",
       "      <td>0</td>\n",
       "      <td>...</td>\n",
       "      <td>0</td>\n",
       "      <td>0</td>\n",
       "      <td>0</td>\n",
       "      <td>0</td>\n",
       "      <td>1</td>\n",
       "      <td>0</td>\n",
       "      <td>0</td>\n",
       "      <td>0</td>\n",
       "      <td>0</td>\n",
       "      <td>0</td>\n",
       "    </tr>\n",
       "    <tr>\n",
       "      <th>655</th>\n",
       "      <td>0</td>\n",
       "      <td>0</td>\n",
       "      <td>0</td>\n",
       "      <td>0</td>\n",
       "      <td>0</td>\n",
       "      <td>0</td>\n",
       "      <td>0</td>\n",
       "      <td>0</td>\n",
       "      <td>0</td>\n",
       "      <td>0</td>\n",
       "      <td>...</td>\n",
       "      <td>0</td>\n",
       "      <td>0</td>\n",
       "      <td>0</td>\n",
       "      <td>0</td>\n",
       "      <td>0</td>\n",
       "      <td>0</td>\n",
       "      <td>0</td>\n",
       "      <td>0</td>\n",
       "      <td>0</td>\n",
       "      <td>0</td>\n",
       "    </tr>\n",
       "  </tbody>\n",
       "</table>\n",
       "<p>5 rows × 30 columns</p>\n",
       "</div>"
      ],
      "text/plain": [
       "     Neighborhood_NAmes  Neighborhood_CollgCr  Neighborhood_OldTown  \\\n",
       "529                   0                     0                     0   \n",
       "491                   1                     0                     0   \n",
       "459                   0                     0                     0   \n",
       "279                   0                     0                     0   \n",
       "655                   0                     0                     0   \n",
       "\n",
       "     Neighborhood_Edwards  Neighborhood_Sawyer  Neighborhood_Somerst  \\\n",
       "529                     0                    0                     0   \n",
       "491                     0                    0                     0   \n",
       "459                     0                    0                     0   \n",
       "279                     0                    0                     0   \n",
       "655                     0                    0                     0   \n",
       "\n",
       "     Neighborhood_Gilbert  Neighborhood_NWAmes  Neighborhood_NridgHt  \\\n",
       "529                     0                    0                     0   \n",
       "491                     0                    0                     0   \n",
       "459                     0                    0                     0   \n",
       "279                     0                    0                     0   \n",
       "655                     0                    0                     0   \n",
       "\n",
       "     Neighborhood_SawyerW  ...  Exterior2nd_VinylSd  Exterior2nd_Wd Sdng  \\\n",
       "529                     0  ...                    0                    0   \n",
       "491                     0  ...                    0                    1   \n",
       "459                     0  ...                    0                    0   \n",
       "279                     0  ...                    0                    0   \n",
       "655                     0  ...                    0                    0   \n",
       "\n",
       "     Exterior2nd_HdBoard  Exterior2nd_MetalSd  Exterior2nd_Plywood  \\\n",
       "529                    0                    0                    0   \n",
       "491                    0                    0                    0   \n",
       "459                    0                    1                    0   \n",
       "279                    0                    0                    1   \n",
       "655                    0                    0                    0   \n",
       "\n",
       "     Exterior2nd_CmentBd  Exterior2nd_Wd Shng  Exterior2nd_BrkFace  \\\n",
       "529                    0                    0                    0   \n",
       "491                    0                    0                    0   \n",
       "459                    0                    0                    0   \n",
       "279                    0                    0                    0   \n",
       "655                    0                    0                    0   \n",
       "\n",
       "     Exterior2nd_AsbShng  Exterior2nd_Stucco  \n",
       "529                    0                   0  \n",
       "491                    0                   0  \n",
       "459                    0                   0  \n",
       "279                    0                   0  \n",
       "655                    0                   0  \n",
       "\n",
       "[5 rows x 30 columns]"
      ]
     },
     "execution_count": 42,
     "metadata": {},
     "output_type": "execute_result"
    }
   ],
   "source": [
    "X_test.head()"
   ]
  },
  {
   "cell_type": "markdown",
   "id": "2221ca50",
   "metadata": {},
   "source": [
    "### Label / Ordinal(\"arbitrary\", \"ordered\") / Integer encoding\n",
    "* Integer encoding consist in replacing the categories by digits from 1 to n (or 0 to n-1, depending the implementation), where n is the number of distinct categories of the variable. The numbers are assigned arbitrarily. This encoding method allows for quick benchmarking of machine learning models. Integer encoding is better suited for non-linear methods which are able to navigate through the arbitrarily assigned digits to try and find patters that relate them to the target."
   ]
  },
  {
   "cell_type": "code",
   "execution_count": 43,
   "id": "be9a3b78",
   "metadata": {},
   "outputs": [
    {
     "data": {
      "text/html": [
       "<div>\n",
       "<style scoped>\n",
       "    .dataframe tbody tr th:only-of-type {\n",
       "        vertical-align: middle;\n",
       "    }\n",
       "\n",
       "    .dataframe tbody tr th {\n",
       "        vertical-align: top;\n",
       "    }\n",
       "\n",
       "    .dataframe thead th {\n",
       "        text-align: right;\n",
       "    }\n",
       "</style>\n",
       "<table border=\"1\" class=\"dataframe\">\n",
       "  <thead>\n",
       "    <tr style=\"text-align: right;\">\n",
       "      <th></th>\n",
       "      <th>Survived</th>\n",
       "      <th>Sex</th>\n",
       "      <th>Cabin</th>\n",
       "      <th>Embarked</th>\n",
       "    </tr>\n",
       "  </thead>\n",
       "  <tbody>\n",
       "    <tr>\n",
       "      <th>0</th>\n",
       "      <td>0</td>\n",
       "      <td>male</td>\n",
       "      <td>NaN</td>\n",
       "      <td>S</td>\n",
       "    </tr>\n",
       "    <tr>\n",
       "      <th>1</th>\n",
       "      <td>1</td>\n",
       "      <td>female</td>\n",
       "      <td>C</td>\n",
       "      <td>C</td>\n",
       "    </tr>\n",
       "    <tr>\n",
       "      <th>2</th>\n",
       "      <td>1</td>\n",
       "      <td>female</td>\n",
       "      <td>NaN</td>\n",
       "      <td>S</td>\n",
       "    </tr>\n",
       "    <tr>\n",
       "      <th>3</th>\n",
       "      <td>1</td>\n",
       "      <td>female</td>\n",
       "      <td>C</td>\n",
       "      <td>S</td>\n",
       "    </tr>\n",
       "    <tr>\n",
       "      <th>4</th>\n",
       "      <td>0</td>\n",
       "      <td>male</td>\n",
       "      <td>NaN</td>\n",
       "      <td>S</td>\n",
       "    </tr>\n",
       "  </tbody>\n",
       "</table>\n",
       "</div>"
      ],
      "text/plain": [
       "   Survived     Sex Cabin Embarked\n",
       "0         0    male   NaN        S\n",
       "1         1  female     C        C\n",
       "2         1  female   NaN        S\n",
       "3         1  female     C        S\n",
       "4         0    male   NaN        S"
      ]
     },
     "execution_count": 43,
     "metadata": {},
     "output_type": "execute_result"
    }
   ],
   "source": [
    "df = pd.read_csv('titanic.csv', usecols=[item.title() for item in ['sex', 'embarked', 'cabin', 'survived']])\n",
    "df['Cabin'] = df['Cabin'].str[0] # capture only the first letter of the cabin\n",
    "df.head()"
   ]
  },
  {
   "cell_type": "code",
   "execution_count": 44,
   "id": "e5ce2d68",
   "metadata": {},
   "outputs": [
    {
     "data": {
      "text/plain": [
       "Survived    0.000000\n",
       "Sex         0.000000\n",
       "Cabin       0.771044\n",
       "Embarked    0.002245\n",
       "dtype: float64"
      ]
     },
     "execution_count": 44,
     "metadata": {},
     "output_type": "execute_result"
    }
   ],
   "source": [
    "df.isna().mean()"
   ]
  },
  {
   "cell_type": "code",
   "execution_count": 45,
   "id": "b3b8923a",
   "metadata": {},
   "outputs": [],
   "source": [
    "X = df.drop(labels=[\"Survived\"], axis=1)\n",
    "y = df[\"Survived\"]\n",
    "\n",
    "from sklearn.model_selection import train_test_split\n",
    "\n",
    "X_train, X_test, y_train, y_test = train_test_split(X, y, test_size=0.3, random_state=0, shuffle=True, stratify=y)"
   ]
  },
  {
   "cell_type": "code",
   "execution_count": 46,
   "id": "8b73dd23",
   "metadata": {},
   "outputs": [],
   "source": [
    "# Must fill \"Missing\" before LabelEncoder\n",
    "X_train = X_train.fillna('Missing')\n",
    "X_test = X_test.fillna('Missing')"
   ]
  },
  {
   "cell_type": "code",
   "execution_count": 47,
   "id": "55bde1e5",
   "metadata": {},
   "outputs": [],
   "source": [
    "# LabelEncoder for y\n",
    "# Unfortunately, the LabelEncoder from sklearn works one variable at the time.\n",
    "\n",
    "from sklearn.preprocessing import LabelEncoder\n",
    "\n",
    "le_y = LabelEncoder()\n",
    "y_train = le_y.fit_transform(y_train)\n",
    "y_test = le_y.transform(y_test)"
   ]
  },
  {
   "cell_type": "code",
   "execution_count": 48,
   "id": "6b42c486",
   "metadata": {},
   "outputs": [
    {
     "data": {
      "text/plain": [
       "array([0, 1], dtype=int64)"
      ]
     },
     "execution_count": 48,
     "metadata": {},
     "output_type": "execute_result"
    }
   ],
   "source": [
    "le_y.classes_"
   ]
  },
  {
   "cell_type": "markdown",
   "id": "329de0a1",
   "metadata": {},
   "source": [
    "[OrdinalEncoder vs LabelEncoder](https://datascience.stackexchange.com/questions/39317/difference-between-ordinalencoder-and-labelencoder)\n",
    "* OrdinalEncoder is for 2D data with the shape (n_samples, n_features)\n",
    "* LabelEncoder is for 1D data with the shape (n_samples,)"
   ]
  },
  {
   "cell_type": "code",
   "execution_count": 49,
   "id": "810eb2aa",
   "metadata": {},
   "outputs": [],
   "source": [
    "# OrdinalEncoder for X\n",
    "\n",
    "from sklearn.preprocessing import OrdinalEncoder\n",
    "\n",
    "oe = OrdinalEncoder() # only accept input as dataframe\n",
    "X_train[\"Sex\"] = oe.fit_transform(X_train[\"Sex\"].to_frame())\n",
    "X_test[\"Sex\"] = oe.transform(X_test[\"Sex\"].to_frame())\n",
    "\n",
    "# fe_enc_arbitrary for X, fe_enc_ordered for X\n",
    "\n",
    "from feature_engine.encoding import OrdinalEncoder as fe_OrdinalEncoder\n",
    "\n",
    "fe_enc_arbitrary = fe_OrdinalEncoder(encoding_method='arbitrary', variables=['Cabin'])\n",
    "X_train = fe_enc_arbitrary.fit_transform(X=X_train, y=None) # y=None\n",
    "X_test = fe_enc_arbitrary.transform(X=X_test)\n",
    "\n",
    "fe_enc_ordered = fe_OrdinalEncoder(encoding_method='ordered', variables=['Embarked'])\n",
    "# monotonic relationship between the features and the target.\n",
    "X_train = fe_enc_ordered.fit_transform(X=X_train, y=y_train) # y=y_train\n",
    "X_test = fe_enc_ordered.transform(X=X_test)"
   ]
  },
  {
   "cell_type": "code",
   "execution_count": 50,
   "id": "20617253",
   "metadata": {},
   "outputs": [
    {
     "data": {
      "text/html": [
       "<div>\n",
       "<style scoped>\n",
       "    .dataframe tbody tr th:only-of-type {\n",
       "        vertical-align: middle;\n",
       "    }\n",
       "\n",
       "    .dataframe tbody tr th {\n",
       "        vertical-align: top;\n",
       "    }\n",
       "\n",
       "    .dataframe thead th {\n",
       "        text-align: right;\n",
       "    }\n",
       "</style>\n",
       "<table border=\"1\" class=\"dataframe\">\n",
       "  <thead>\n",
       "    <tr style=\"text-align: right;\">\n",
       "      <th></th>\n",
       "      <th>Sex</th>\n",
       "      <th>Cabin</th>\n",
       "      <th>Embarked</th>\n",
       "    </tr>\n",
       "  </thead>\n",
       "  <tbody>\n",
       "    <tr>\n",
       "      <th>231</th>\n",
       "      <td>1.0</td>\n",
       "      <td>0</td>\n",
       "      <td>2</td>\n",
       "    </tr>\n",
       "    <tr>\n",
       "      <th>836</th>\n",
       "      <td>1.0</td>\n",
       "      <td>0</td>\n",
       "      <td>2</td>\n",
       "    </tr>\n",
       "    <tr>\n",
       "      <th>639</th>\n",
       "      <td>1.0</td>\n",
       "      <td>0</td>\n",
       "      <td>2</td>\n",
       "    </tr>\n",
       "    <tr>\n",
       "      <th>389</th>\n",
       "      <td>0.0</td>\n",
       "      <td>0</td>\n",
       "      <td>1</td>\n",
       "    </tr>\n",
       "    <tr>\n",
       "      <th>597</th>\n",
       "      <td>1.0</td>\n",
       "      <td>0</td>\n",
       "      <td>2</td>\n",
       "    </tr>\n",
       "  </tbody>\n",
       "</table>\n",
       "</div>"
      ],
      "text/plain": [
       "     Sex  Cabin  Embarked\n",
       "231  1.0      0         2\n",
       "836  1.0      0         2\n",
       "639  1.0      0         2\n",
       "389  0.0      0         1\n",
       "597  1.0      0         2"
      ]
     },
     "execution_count": 50,
     "metadata": {},
     "output_type": "execute_result"
    }
   ],
   "source": [
    "X_train.head()"
   ]
  },
  {
   "cell_type": "code",
   "execution_count": 51,
   "id": "2815434a",
   "metadata": {},
   "outputs": [
    {
     "data": {
      "text/html": [
       "<div>\n",
       "<style scoped>\n",
       "    .dataframe tbody tr th:only-of-type {\n",
       "        vertical-align: middle;\n",
       "    }\n",
       "\n",
       "    .dataframe tbody tr th {\n",
       "        vertical-align: top;\n",
       "    }\n",
       "\n",
       "    .dataframe thead th {\n",
       "        text-align: right;\n",
       "    }\n",
       "</style>\n",
       "<table border=\"1\" class=\"dataframe\">\n",
       "  <thead>\n",
       "    <tr style=\"text-align: right;\">\n",
       "      <th></th>\n",
       "      <th>Sex</th>\n",
       "      <th>Cabin</th>\n",
       "      <th>Embarked</th>\n",
       "    </tr>\n",
       "  </thead>\n",
       "  <tbody>\n",
       "    <tr>\n",
       "      <th>421</th>\n",
       "      <td>1.0</td>\n",
       "      <td>0</td>\n",
       "      <td>3</td>\n",
       "    </tr>\n",
       "    <tr>\n",
       "      <th>618</th>\n",
       "      <td>0.0</td>\n",
       "      <td>1</td>\n",
       "      <td>2</td>\n",
       "    </tr>\n",
       "    <tr>\n",
       "      <th>116</th>\n",
       "      <td>1.0</td>\n",
       "      <td>0</td>\n",
       "      <td>3</td>\n",
       "    </tr>\n",
       "    <tr>\n",
       "      <th>310</th>\n",
       "      <td>0.0</td>\n",
       "      <td>3</td>\n",
       "      <td>1</td>\n",
       "    </tr>\n",
       "    <tr>\n",
       "      <th>57</th>\n",
       "      <td>1.0</td>\n",
       "      <td>0</td>\n",
       "      <td>1</td>\n",
       "    </tr>\n",
       "  </tbody>\n",
       "</table>\n",
       "</div>"
      ],
      "text/plain": [
       "     Sex  Cabin  Embarked\n",
       "421  1.0      0         3\n",
       "618  0.0      1         2\n",
       "116  1.0      0         3\n",
       "310  0.0      3         1\n",
       "57   1.0      0         1"
      ]
     },
     "execution_count": 51,
     "metadata": {},
     "output_type": "execute_result"
    }
   ],
   "source": [
    "X_test.head()"
   ]
  },
  {
   "cell_type": "code",
   "execution_count": 52,
   "id": "0831794f",
   "metadata": {},
   "outputs": [
    {
     "data": {
      "text/plain": [
       "[array(['female', 'male'], dtype=object)]"
      ]
     },
     "execution_count": 52,
     "metadata": {},
     "output_type": "execute_result"
    }
   ],
   "source": [
    "oe.categories_"
   ]
  },
  {
   "cell_type": "code",
   "execution_count": 53,
   "id": "5b1ef77b",
   "metadata": {},
   "outputs": [
    {
     "data": {
      "text/plain": [
       "{'Cabin': {'Missing': 0,\n",
       "  'F': 1,\n",
       "  'E': 2,\n",
       "  'C': 3,\n",
       "  'A': 4,\n",
       "  'B': 5,\n",
       "  'D': 6,\n",
       "  'G': 7,\n",
       "  'T': 8}}"
      ]
     },
     "execution_count": 53,
     "metadata": {},
     "output_type": "execute_result"
    }
   ],
   "source": [
    "fe_enc_arbitrary.encoder_dict_"
   ]
  },
  {
   "cell_type": "code",
   "execution_count": 54,
   "id": "779e0e0b",
   "metadata": {},
   "outputs": [
    {
     "data": {
      "text/plain": [
       "['Cabin']"
      ]
     },
     "execution_count": 54,
     "metadata": {},
     "output_type": "execute_result"
    }
   ],
   "source": [
    "fe_enc_arbitrary.variables_"
   ]
  },
  {
   "cell_type": "code",
   "execution_count": 55,
   "id": "0c4bc586",
   "metadata": {},
   "outputs": [
    {
     "data": {
      "text/plain": [
       "{'Embarked': {'Missing': 0, 'C': 1, 'S': 2, 'Q': 3}}"
      ]
     },
     "execution_count": 55,
     "metadata": {},
     "output_type": "execute_result"
    }
   ],
   "source": [
    "fe_enc_ordered.encoder_dict_"
   ]
  },
  {
   "cell_type": "code",
   "execution_count": 56,
   "id": "b5b57fd6",
   "metadata": {},
   "outputs": [
    {
     "data": {
      "text/plain": [
       "['Embarked']"
      ]
     },
     "execution_count": 56,
     "metadata": {},
     "output_type": "execute_result"
    }
   ],
   "source": [
    "fe_enc_ordered.variables_"
   ]
  },
  {
   "cell_type": "markdown",
   "id": "85621acf",
   "metadata": {},
   "source": [
    "### Count_or_frequency_encoding\n",
    "* In count encoding we replace the categories by the count of the observations that show that category in the dataset. Similarly, we can replace the category by the frequency or percentage of observations in the dataset."
   ]
  },
  {
   "cell_type": "code",
   "execution_count": 57,
   "id": "1a0b8e3f",
   "metadata": {},
   "outputs": [
    {
     "data": {
      "text/html": [
       "<div>\n",
       "<style scoped>\n",
       "    .dataframe tbody tr th:only-of-type {\n",
       "        vertical-align: middle;\n",
       "    }\n",
       "\n",
       "    .dataframe tbody tr th {\n",
       "        vertical-align: top;\n",
       "    }\n",
       "\n",
       "    .dataframe thead th {\n",
       "        text-align: right;\n",
       "    }\n",
       "</style>\n",
       "<table border=\"1\" class=\"dataframe\">\n",
       "  <thead>\n",
       "    <tr style=\"text-align: right;\">\n",
       "      <th></th>\n",
       "      <th>Neighborhood</th>\n",
       "      <th>Exterior1st</th>\n",
       "      <th>Exterior2nd</th>\n",
       "      <th>SalePrice</th>\n",
       "    </tr>\n",
       "  </thead>\n",
       "  <tbody>\n",
       "    <tr>\n",
       "      <th>0</th>\n",
       "      <td>CollgCr</td>\n",
       "      <td>VinylSd</td>\n",
       "      <td>VinylSd</td>\n",
       "      <td>208500</td>\n",
       "    </tr>\n",
       "    <tr>\n",
       "      <th>1</th>\n",
       "      <td>Veenker</td>\n",
       "      <td>MetalSd</td>\n",
       "      <td>MetalSd</td>\n",
       "      <td>181500</td>\n",
       "    </tr>\n",
       "    <tr>\n",
       "      <th>2</th>\n",
       "      <td>CollgCr</td>\n",
       "      <td>VinylSd</td>\n",
       "      <td>VinylSd</td>\n",
       "      <td>223500</td>\n",
       "    </tr>\n",
       "    <tr>\n",
       "      <th>3</th>\n",
       "      <td>Crawfor</td>\n",
       "      <td>Wd Sdng</td>\n",
       "      <td>Wd Shng</td>\n",
       "      <td>140000</td>\n",
       "    </tr>\n",
       "    <tr>\n",
       "      <th>4</th>\n",
       "      <td>NoRidge</td>\n",
       "      <td>VinylSd</td>\n",
       "      <td>VinylSd</td>\n",
       "      <td>250000</td>\n",
       "    </tr>\n",
       "  </tbody>\n",
       "</table>\n",
       "</div>"
      ],
      "text/plain": [
       "  Neighborhood Exterior1st Exterior2nd  SalePrice\n",
       "0      CollgCr     VinylSd     VinylSd     208500\n",
       "1      Veenker     MetalSd     MetalSd     181500\n",
       "2      CollgCr     VinylSd     VinylSd     223500\n",
       "3      Crawfor     Wd Sdng     Wd Shng     140000\n",
       "4      NoRidge     VinylSd     VinylSd     250000"
      ]
     },
     "execution_count": 57,
     "metadata": {},
     "output_type": "execute_result"
    }
   ],
   "source": [
    "df = pd.read_csv('houseprice.csv', usecols=['Neighborhood', 'Exterior1st', 'Exterior2nd', 'SalePrice'])\n",
    "df.head()"
   ]
  },
  {
   "cell_type": "code",
   "execution_count": 58,
   "id": "85881339",
   "metadata": {},
   "outputs": [],
   "source": [
    "# When doing count transformation of categorical variables, it is important to calculate the count \n",
    "# (or frequency = count / total observations) over the training set, and then use those numbers to \n",
    "# replace the labels in the test set.\n",
    "\n",
    "X = df.drop(columns=[\"SalePrice\"])\n",
    "y = df[\"SalePrice\"]\n",
    "\n",
    "from sklearn.model_selection import train_test_split\n",
    "\n",
    "X_train, X_test, y_train, y_test = train_test_split(X, y, test_size=0.3, random_state=0, shuffle=True, \n",
    "#                                                     stratify=y # Not a classification problem\n",
    "                                                   )"
   ]
  },
  {
   "cell_type": "code",
   "execution_count": 59,
   "id": "460ae115",
   "metadata": {},
   "outputs": [],
   "source": [
    "from feature_engine.encoding import CountFrequencyEncoder\n",
    "\n",
    "frequency_enc = CountFrequencyEncoder(\n",
    "    encoding_method='frequency', # to do count ==> encoding_method='count'\n",
    "    variables=['Neighborhood', 'Exterior1st', 'Exterior2nd']\n",
    ")\n",
    "\n",
    "X_train = frequency_enc.fit_transform(X_train)\n",
    "X_test = frequency_enc.transform(X_test)"
   ]
  },
  {
   "cell_type": "code",
   "execution_count": 60,
   "id": "471c6816",
   "metadata": {},
   "outputs": [
    {
     "data": {
      "text/html": [
       "<div>\n",
       "<style scoped>\n",
       "    .dataframe tbody tr th:only-of-type {\n",
       "        vertical-align: middle;\n",
       "    }\n",
       "\n",
       "    .dataframe tbody tr th {\n",
       "        vertical-align: top;\n",
       "    }\n",
       "\n",
       "    .dataframe thead th {\n",
       "        text-align: right;\n",
       "    }\n",
       "</style>\n",
       "<table border=\"1\" class=\"dataframe\">\n",
       "  <thead>\n",
       "    <tr style=\"text-align: right;\">\n",
       "      <th></th>\n",
       "      <th>Neighborhood</th>\n",
       "      <th>Exterior1st</th>\n",
       "      <th>Exterior2nd</th>\n",
       "    </tr>\n",
       "  </thead>\n",
       "  <tbody>\n",
       "    <tr>\n",
       "      <th>64</th>\n",
       "      <td>0.102740</td>\n",
       "      <td>0.356164</td>\n",
       "      <td>0.345401</td>\n",
       "    </tr>\n",
       "    <tr>\n",
       "      <th>682</th>\n",
       "      <td>0.023483</td>\n",
       "      <td>0.144814</td>\n",
       "      <td>0.138943</td>\n",
       "    </tr>\n",
       "    <tr>\n",
       "      <th>960</th>\n",
       "      <td>0.040117</td>\n",
       "      <td>0.144814</td>\n",
       "      <td>0.109589</td>\n",
       "    </tr>\n",
       "    <tr>\n",
       "      <th>1384</th>\n",
       "      <td>0.069472</td>\n",
       "      <td>0.020548</td>\n",
       "      <td>0.028376</td>\n",
       "    </tr>\n",
       "    <tr>\n",
       "      <th>1100</th>\n",
       "      <td>0.017613</td>\n",
       "      <td>0.144814</td>\n",
       "      <td>0.138943</td>\n",
       "    </tr>\n",
       "  </tbody>\n",
       "</table>\n",
       "</div>"
      ],
      "text/plain": [
       "      Neighborhood  Exterior1st  Exterior2nd\n",
       "64        0.102740     0.356164     0.345401\n",
       "682       0.023483     0.144814     0.138943\n",
       "960       0.040117     0.144814     0.109589\n",
       "1384      0.069472     0.020548     0.028376\n",
       "1100      0.017613     0.144814     0.138943"
      ]
     },
     "execution_count": 60,
     "metadata": {},
     "output_type": "execute_result"
    }
   ],
   "source": [
    "X_train.head()"
   ]
  },
  {
   "cell_type": "code",
   "execution_count": 61,
   "id": "fd103a0c",
   "metadata": {},
   "outputs": [
    {
     "data": {
      "text/html": [
       "<div>\n",
       "<style scoped>\n",
       "    .dataframe tbody tr th:only-of-type {\n",
       "        vertical-align: middle;\n",
       "    }\n",
       "\n",
       "    .dataframe tbody tr th {\n",
       "        vertical-align: top;\n",
       "    }\n",
       "\n",
       "    .dataframe thead th {\n",
       "        text-align: right;\n",
       "    }\n",
       "</style>\n",
       "<table border=\"1\" class=\"dataframe\">\n",
       "  <thead>\n",
       "    <tr style=\"text-align: right;\">\n",
       "      <th></th>\n",
       "      <th>Neighborhood</th>\n",
       "      <th>Exterior1st</th>\n",
       "      <th>Exterior2nd</th>\n",
       "    </tr>\n",
       "  </thead>\n",
       "  <tbody>\n",
       "    <tr>\n",
       "      <th>529</th>\n",
       "      <td>0.034247</td>\n",
       "      <td>0.144814</td>\n",
       "      <td>0.003914</td>\n",
       "    </tr>\n",
       "    <tr>\n",
       "      <th>491</th>\n",
       "      <td>0.147750</td>\n",
       "      <td>0.144814</td>\n",
       "      <td>0.138943</td>\n",
       "    </tr>\n",
       "    <tr>\n",
       "      <th>459</th>\n",
       "      <td>0.040117</td>\n",
       "      <td>0.135029</td>\n",
       "      <td>0.133072</td>\n",
       "    </tr>\n",
       "    <tr>\n",
       "      <th>279</th>\n",
       "      <td>0.023483</td>\n",
       "      <td>0.084149</td>\n",
       "      <td>0.109589</td>\n",
       "    </tr>\n",
       "    <tr>\n",
       "      <th>655</th>\n",
       "      <td>0.009785</td>\n",
       "      <td>0.149706</td>\n",
       "      <td>0.007828</td>\n",
       "    </tr>\n",
       "  </tbody>\n",
       "</table>\n",
       "</div>"
      ],
      "text/plain": [
       "     Neighborhood  Exterior1st  Exterior2nd\n",
       "529      0.034247     0.144814     0.003914\n",
       "491      0.147750     0.144814     0.138943\n",
       "459      0.040117     0.135029     0.133072\n",
       "279      0.023483     0.084149     0.109589\n",
       "655      0.009785     0.149706     0.007828"
      ]
     },
     "execution_count": 61,
     "metadata": {},
     "output_type": "execute_result"
    }
   ],
   "source": [
    "X_test.head()"
   ]
  },
  {
   "cell_type": "code",
   "execution_count": 62,
   "id": "e7349309",
   "metadata": {},
   "outputs": [
    {
     "data": {
      "text/plain": [
       "{'Neighborhood': {'NAmes': 0.14774951076320939,\n",
       "  'CollgCr': 0.10273972602739725,\n",
       "  'OldTown': 0.07142857142857142,\n",
       "  'Edwards': 0.06947162426614481,\n",
       "  'Sawyer': 0.05968688845401174,\n",
       "  'Somerst': 0.0547945205479452,\n",
       "  'Gilbert': 0.053816046966731895,\n",
       "  'NWAmes': 0.049902152641878667,\n",
       "  'NridgHt': 0.049902152641878667,\n",
       "  'SawyerW': 0.04403131115459882,\n",
       "  'BrkSide': 0.040117416829745595,\n",
       "  'Mitchel': 0.03522504892367906,\n",
       "  'Crawfor': 0.03424657534246575,\n",
       "  'Timber': 0.029354207436399216,\n",
       "  'NoRidge': 0.029354207436399216,\n",
       "  'ClearCr': 0.023483365949119372,\n",
       "  'IDOTRR': 0.023483365949119372,\n",
       "  'SWISU': 0.01761252446183953,\n",
       "  'StoneBr': 0.015655577299412915,\n",
       "  'Blmngtn': 0.011741682974559686,\n",
       "  'MeadowV': 0.011741682974559686,\n",
       "  'BrDale': 0.009784735812133072,\n",
       "  'NPkVill': 0.00684931506849315,\n",
       "  'Veenker': 0.005870841487279843,\n",
       "  'Blueste': 0.0019569471624266144},\n",
       " 'Exterior1st': {'VinylSd': 0.3561643835616438,\n",
       "  'HdBoard': 0.149706457925636,\n",
       "  'Wd Sdng': 0.14481409001956946,\n",
       "  'MetalSd': 0.1350293542074364,\n",
       "  'Plywood': 0.08414872798434442,\n",
       "  'CemntBd': 0.03816046966731898,\n",
       "  'BrkFace': 0.03424657534246575,\n",
       "  'WdShing': 0.02054794520547945,\n",
       "  'Stucco': 0.016634050880626222,\n",
       "  'AsbShng': 0.014677103718199608,\n",
       "  'Stone': 0.0019569471624266144,\n",
       "  'AsphShn': 0.0009784735812133072,\n",
       "  'BrkComm': 0.0009784735812133072,\n",
       "  'ImStucc': 0.0009784735812133072,\n",
       "  'CBlock': 0.0009784735812133072},\n",
       " 'Exterior2nd': {'VinylSd': 0.34540117416829746,\n",
       "  'Wd Sdng': 0.13894324853228962,\n",
       "  'HdBoard': 0.1379647749510763,\n",
       "  'MetalSd': 0.13307240704500978,\n",
       "  'Plywood': 0.1095890410958904,\n",
       "  'CmentBd': 0.03816046966731898,\n",
       "  'Wd Shng': 0.02837573385518591,\n",
       "  'BrkFace': 0.01761252446183953,\n",
       "  'AsbShng': 0.016634050880626222,\n",
       "  'Stucco': 0.015655577299412915,\n",
       "  'ImStucc': 0.007827788649706457,\n",
       "  'Stone': 0.003913894324853229,\n",
       "  'Brk Cmn': 0.003913894324853229,\n",
       "  'AsphShn': 0.0009784735812133072,\n",
       "  'CBlock': 0.0009784735812133072,\n",
       "  'Other': 0.0009784735812133072}}"
      ]
     },
     "execution_count": 62,
     "metadata": {},
     "output_type": "execute_result"
    }
   ],
   "source": [
    "frequency_enc.encoder_dict_"
   ]
  },
  {
   "cell_type": "code",
   "execution_count": 63,
   "id": "e15479ed",
   "metadata": {},
   "outputs": [
    {
     "data": {
      "text/plain": [
       "['Neighborhood', 'Exterior1st', 'Exterior2nd']"
      ]
     },
     "execution_count": 63,
     "metadata": {},
     "output_type": "execute_result"
    }
   ],
   "source": [
    "frequency_enc.variables_"
   ]
  },
  {
   "cell_type": "markdown",
   "id": "b6923f37",
   "metadata": {},
   "source": [
    "### Mean or target encoding\n",
    "* Create a monotonic relationship between the variable and the target, therefore suitable for linear models"
   ]
  },
  {
   "cell_type": "markdown",
   "id": "27dcd39a",
   "metadata": {},
   "source": [
    "[fe_MeanEncoder](https://feature-engine.readthedocs.io/en/1.1.x/encoding/MeanEncoder.html)"
   ]
  },
  {
   "cell_type": "code",
   "execution_count": 64,
   "id": "752aa7f3",
   "metadata": {},
   "outputs": [
    {
     "data": {
      "text/html": [
       "<div>\n",
       "<style scoped>\n",
       "    .dataframe tbody tr th:only-of-type {\n",
       "        vertical-align: middle;\n",
       "    }\n",
       "\n",
       "    .dataframe tbody tr th {\n",
       "        vertical-align: top;\n",
       "    }\n",
       "\n",
       "    .dataframe thead th {\n",
       "        text-align: right;\n",
       "    }\n",
       "</style>\n",
       "<table border=\"1\" class=\"dataframe\">\n",
       "  <thead>\n",
       "    <tr style=\"text-align: right;\">\n",
       "      <th></th>\n",
       "      <th>Survived</th>\n",
       "      <th>Sex</th>\n",
       "      <th>Cabin</th>\n",
       "      <th>Embarked</th>\n",
       "    </tr>\n",
       "  </thead>\n",
       "  <tbody>\n",
       "    <tr>\n",
       "      <th>0</th>\n",
       "      <td>0</td>\n",
       "      <td>male</td>\n",
       "      <td>n</td>\n",
       "      <td>S</td>\n",
       "    </tr>\n",
       "    <tr>\n",
       "      <th>1</th>\n",
       "      <td>1</td>\n",
       "      <td>female</td>\n",
       "      <td>C</td>\n",
       "      <td>C</td>\n",
       "    </tr>\n",
       "    <tr>\n",
       "      <th>2</th>\n",
       "      <td>1</td>\n",
       "      <td>female</td>\n",
       "      <td>n</td>\n",
       "      <td>S</td>\n",
       "    </tr>\n",
       "    <tr>\n",
       "      <th>3</th>\n",
       "      <td>1</td>\n",
       "      <td>female</td>\n",
       "      <td>C</td>\n",
       "      <td>S</td>\n",
       "    </tr>\n",
       "    <tr>\n",
       "      <th>4</th>\n",
       "      <td>0</td>\n",
       "      <td>male</td>\n",
       "      <td>n</td>\n",
       "      <td>S</td>\n",
       "    </tr>\n",
       "  </tbody>\n",
       "</table>\n",
       "</div>"
      ],
      "text/plain": [
       "   Survived     Sex Cabin Embarked\n",
       "0         0    male     n        S\n",
       "1         1  female     C        C\n",
       "2         1  female     n        S\n",
       "3         1  female     C        S\n",
       "4         0    male     n        S"
      ]
     },
     "execution_count": 64,
     "metadata": {},
     "output_type": "execute_result"
    }
   ],
   "source": [
    "df = pd.read_csv('titanic.csv',  usecols=[col.title() for col in ['sex', 'embarked', 'cabin', 'survived']])\n",
    "df['Cabin'] = df['Cabin'].astype(str).str[0]\n",
    "df[\"Embarked\"] = df[\"Embarked\"].fillna(value=\"Missing\")\n",
    "df.head()"
   ]
  },
  {
   "cell_type": "code",
   "execution_count": 65,
   "id": "c7bc15d4",
   "metadata": {},
   "outputs": [],
   "source": [
    "X = df.drop(labels=[\"Survived\"], axis=1)\n",
    "y = df[\"Survived\"]\n",
    "\n",
    "from sklearn.model_selection import train_test_split\n",
    "\n",
    "X_train, X_test, y_train, y_test = train_test_split(X, y, test_size=0.3, random_state=0, shuffle=True, stratify=y)"
   ]
  },
  {
   "cell_type": "code",
   "execution_count": 66,
   "id": "eb1ae468",
   "metadata": {},
   "outputs": [],
   "source": [
    "# from sklearn.impute import SimpleImputer\n",
    "\n",
    "# imputer = SimpleImputer(strategy=\"constant\", fill_value=\"Missing\") # return a numpy instead of dataframe\n",
    "# X_train = imputer.fit_transform(X_train)\n",
    "# X_test = imputer.transform(X_test)\n",
    "\n",
    "from feature_engine.encoding import MeanEncoder as fe_MeanEncoder\n",
    "\n",
    "mean_enc = fe_MeanEncoder(variables=['Cabin', 'Sex', 'Embarked']) # make sure no NaN in Features\n",
    "X_train = mean_enc.fit_transform(X_train, y_train)\n",
    "X_test = mean_enc.transform(X_test)"
   ]
  },
  {
   "cell_type": "code",
   "execution_count": 67,
   "id": "c37f9392",
   "metadata": {},
   "outputs": [
    {
     "data": {
      "text/html": [
       "<div>\n",
       "<style scoped>\n",
       "    .dataframe tbody tr th:only-of-type {\n",
       "        vertical-align: middle;\n",
       "    }\n",
       "\n",
       "    .dataframe tbody tr th {\n",
       "        vertical-align: top;\n",
       "    }\n",
       "\n",
       "    .dataframe thead th {\n",
       "        text-align: right;\n",
       "    }\n",
       "</style>\n",
       "<table border=\"1\" class=\"dataframe\">\n",
       "  <thead>\n",
       "    <tr style=\"text-align: right;\">\n",
       "      <th></th>\n",
       "      <th>Sex</th>\n",
       "      <th>Cabin</th>\n",
       "      <th>Embarked</th>\n",
       "    </tr>\n",
       "  </thead>\n",
       "  <tbody>\n",
       "    <tr>\n",
       "      <th>421</th>\n",
       "      <td>0.190594</td>\n",
       "      <td>0.300000</td>\n",
       "      <td>0.360000</td>\n",
       "    </tr>\n",
       "    <tr>\n",
       "      <th>618</th>\n",
       "      <td>0.739726</td>\n",
       "      <td>0.666667</td>\n",
       "      <td>0.347253</td>\n",
       "    </tr>\n",
       "    <tr>\n",
       "      <th>116</th>\n",
       "      <td>0.190594</td>\n",
       "      <td>0.300000</td>\n",
       "      <td>0.360000</td>\n",
       "    </tr>\n",
       "    <tr>\n",
       "      <th>310</th>\n",
       "      <td>0.739726</td>\n",
       "      <td>0.581395</td>\n",
       "      <td>0.525862</td>\n",
       "    </tr>\n",
       "    <tr>\n",
       "      <th>57</th>\n",
       "      <td>0.190594</td>\n",
       "      <td>0.300000</td>\n",
       "      <td>0.525862</td>\n",
       "    </tr>\n",
       "  </tbody>\n",
       "</table>\n",
       "</div>"
      ],
      "text/plain": [
       "          Sex     Cabin  Embarked\n",
       "421  0.190594  0.300000  0.360000\n",
       "618  0.739726  0.666667  0.347253\n",
       "116  0.190594  0.300000  0.360000\n",
       "310  0.739726  0.581395  0.525862\n",
       "57   0.190594  0.300000  0.525862"
      ]
     },
     "execution_count": 67,
     "metadata": {},
     "output_type": "execute_result"
    }
   ],
   "source": [
    "X_test.head()"
   ]
  },
  {
   "cell_type": "code",
   "execution_count": 68,
   "id": "ff760c15",
   "metadata": {},
   "outputs": [
    {
     "data": {
      "text/plain": [
       "{'Cabin': {'A': 0.25,\n",
       "  'B': 0.75,\n",
       "  'C': 0.5813953488372093,\n",
       "  'D': 0.68,\n",
       "  'E': 0.8095238095238095,\n",
       "  'F': 0.6666666666666666,\n",
       "  'G': 0.3333333333333333,\n",
       "  'T': 0.0,\n",
       "  'n': 0.3},\n",
       " 'Sex': {'female': 0.7397260273972602, 'male': 0.1905940594059406},\n",
       " 'Embarked': {'C': 0.5258620689655172,\n",
       "  'Missing': 1.0,\n",
       "  'Q': 0.36,\n",
       "  'S': 0.34725274725274724}}"
      ]
     },
     "execution_count": 68,
     "metadata": {},
     "output_type": "execute_result"
    }
   ],
   "source": [
    "mean_enc.encoder_dict_"
   ]
  },
  {
   "cell_type": "code",
   "execution_count": 69,
   "id": "13de4e1b",
   "metadata": {},
   "outputs": [
    {
     "data": {
      "text/plain": [
       "['Cabin', 'Sex', 'Embarked']"
      ]
     },
     "execution_count": 69,
     "metadata": {},
     "output_type": "execute_result"
    }
   ],
   "source": [
    "mean_enc.variables_"
   ]
  },
  {
   "cell_type": "markdown",
   "id": "923cd4e2",
   "metadata": {},
   "source": [
    "[TargetEncoder](https://contrib.scikit-learn.org/category_encoders/targetencoder.html)"
   ]
  },
  {
   "cell_type": "code",
   "execution_count": 70,
   "id": "107696b8",
   "metadata": {},
   "outputs": [
    {
     "data": {
      "text/html": [
       "<div>\n",
       "<style scoped>\n",
       "    .dataframe tbody tr th:only-of-type {\n",
       "        vertical-align: middle;\n",
       "    }\n",
       "\n",
       "    .dataframe tbody tr th {\n",
       "        vertical-align: top;\n",
       "    }\n",
       "\n",
       "    .dataframe thead th {\n",
       "        text-align: right;\n",
       "    }\n",
       "</style>\n",
       "<table border=\"1\" class=\"dataframe\">\n",
       "  <thead>\n",
       "    <tr style=\"text-align: right;\">\n",
       "      <th></th>\n",
       "      <th>Survived</th>\n",
       "      <th>Sex</th>\n",
       "      <th>Cabin</th>\n",
       "      <th>Embarked</th>\n",
       "    </tr>\n",
       "  </thead>\n",
       "  <tbody>\n",
       "    <tr>\n",
       "      <th>0</th>\n",
       "      <td>0</td>\n",
       "      <td>male</td>\n",
       "      <td>n</td>\n",
       "      <td>S</td>\n",
       "    </tr>\n",
       "    <tr>\n",
       "      <th>1</th>\n",
       "      <td>1</td>\n",
       "      <td>female</td>\n",
       "      <td>C</td>\n",
       "      <td>C</td>\n",
       "    </tr>\n",
       "    <tr>\n",
       "      <th>2</th>\n",
       "      <td>1</td>\n",
       "      <td>female</td>\n",
       "      <td>n</td>\n",
       "      <td>S</td>\n",
       "    </tr>\n",
       "    <tr>\n",
       "      <th>3</th>\n",
       "      <td>1</td>\n",
       "      <td>female</td>\n",
       "      <td>C</td>\n",
       "      <td>S</td>\n",
       "    </tr>\n",
       "    <tr>\n",
       "      <th>4</th>\n",
       "      <td>0</td>\n",
       "      <td>male</td>\n",
       "      <td>n</td>\n",
       "      <td>S</td>\n",
       "    </tr>\n",
       "  </tbody>\n",
       "</table>\n",
       "</div>"
      ],
      "text/plain": [
       "   Survived     Sex Cabin Embarked\n",
       "0         0    male     n        S\n",
       "1         1  female     C        C\n",
       "2         1  female     n        S\n",
       "3         1  female     C        S\n",
       "4         0    male     n        S"
      ]
     },
     "execution_count": 70,
     "metadata": {},
     "output_type": "execute_result"
    }
   ],
   "source": [
    "df = pd.read_csv('titanic.csv',  usecols=[col.title() for col in ['sex', 'embarked', 'cabin', 'survived']])\n",
    "df['Cabin'] = df['Cabin'].astype(str).str[0]\n",
    "# df[\"Embarked\"] = df[\"Embarked\"].fillna(value=\"Missing\")\n",
    "df.head()"
   ]
  },
  {
   "cell_type": "code",
   "execution_count": 71,
   "id": "aa2a77cb",
   "metadata": {},
   "outputs": [],
   "source": [
    "X = df.drop(labels=[\"Survived\"], axis=1)\n",
    "y = df[\"Survived\"]\n",
    "\n",
    "from sklearn.model_selection import train_test_split\n",
    "\n",
    "X_train, X_test, y_train, y_test = train_test_split(X, y, test_size=0.3, random_state=0, shuffle=True, stratify=y)"
   ]
  },
  {
   "cell_type": "code",
   "execution_count": 72,
   "id": "7792da91",
   "metadata": {},
   "outputs": [],
   "source": [
    "from category_encoders.target_encoder import TargetEncoder\n",
    "\n",
    "mean_enc = TargetEncoder(handle_missing=\"value\", handle_unknown=\"value\") # can handle NaN in Features\n",
    "X_train = mean_enc.fit_transform(X_train, y_train)\n",
    "X_test = mean_enc.transform(X_test)"
   ]
  },
  {
   "cell_type": "code",
   "execution_count": 73,
   "id": "363ae9ab",
   "metadata": {},
   "outputs": [
    {
     "data": {
      "text/html": [
       "<div>\n",
       "<style scoped>\n",
       "    .dataframe tbody tr th:only-of-type {\n",
       "        vertical-align: middle;\n",
       "    }\n",
       "\n",
       "    .dataframe tbody tr th {\n",
       "        vertical-align: top;\n",
       "    }\n",
       "\n",
       "    .dataframe thead th {\n",
       "        text-align: right;\n",
       "    }\n",
       "</style>\n",
       "<table border=\"1\" class=\"dataframe\">\n",
       "  <thead>\n",
       "    <tr style=\"text-align: right;\">\n",
       "      <th></th>\n",
       "      <th>Sex</th>\n",
       "      <th>Cabin</th>\n",
       "      <th>Embarked</th>\n",
       "    </tr>\n",
       "  </thead>\n",
       "  <tbody>\n",
       "    <tr>\n",
       "      <th>421</th>\n",
       "      <td>0.190594</td>\n",
       "      <td>0.300000</td>\n",
       "      <td>0.360000</td>\n",
       "    </tr>\n",
       "    <tr>\n",
       "      <th>618</th>\n",
       "      <td>0.739726</td>\n",
       "      <td>0.664772</td>\n",
       "      <td>0.347253</td>\n",
       "    </tr>\n",
       "    <tr>\n",
       "      <th>116</th>\n",
       "      <td>0.190594</td>\n",
       "      <td>0.300000</td>\n",
       "      <td>0.360000</td>\n",
       "    </tr>\n",
       "    <tr>\n",
       "      <th>310</th>\n",
       "      <td>0.739726</td>\n",
       "      <td>0.581395</td>\n",
       "      <td>0.525862</td>\n",
       "    </tr>\n",
       "    <tr>\n",
       "      <th>57</th>\n",
       "      <td>0.190594</td>\n",
       "      <td>0.300000</td>\n",
       "      <td>0.525862</td>\n",
       "    </tr>\n",
       "  </tbody>\n",
       "</table>\n",
       "</div>"
      ],
      "text/plain": [
       "          Sex     Cabin  Embarked\n",
       "421  0.190594  0.300000  0.360000\n",
       "618  0.739726  0.664772  0.347253\n",
       "116  0.190594  0.300000  0.360000\n",
       "310  0.739726  0.581395  0.525862\n",
       "57   0.190594  0.300000  0.525862"
      ]
     },
     "execution_count": 73,
     "metadata": {},
     "output_type": "execute_result"
    }
   ],
   "source": [
    "X_test.head()"
   ]
  },
  {
   "cell_type": "code",
   "execution_count": 74,
   "id": "780df6d2",
   "metadata": {},
   "outputs": [
    {
     "data": {
      "text/plain": [
       "['Sex', 'Cabin', 'Embarked']"
      ]
     },
     "execution_count": 74,
     "metadata": {},
     "output_type": "execute_result"
    }
   ],
   "source": [
    "mean_enc.get_feature_names()"
   ]
  },
  {
   "cell_type": "code",
   "execution_count": 75,
   "id": "7fe13a96",
   "metadata": {},
   "outputs": [
    {
     "data": {
      "text/plain": [
       "{'cols': ['Sex', 'Cabin', 'Embarked'],\n",
       " 'drop_invariant': False,\n",
       " 'handle_missing': 'value',\n",
       " 'handle_unknown': 'value',\n",
       " 'min_samples_leaf': 1,\n",
       " 'return_df': True,\n",
       " 'smoothing': 1.0,\n",
       " 'verbose': 0}"
      ]
     },
     "execution_count": 75,
     "metadata": {},
     "output_type": "execute_result"
    }
   ],
   "source": [
    "mean_enc.get_params()"
   ]
  },
  {
   "cell_type": "markdown",
   "id": "dfcf8490",
   "metadata": {},
   "source": [
    "### Probability Ratio Encoding\n",
    "* These encoding is suitable for **binary classification** problems only.. \n",
    "* If p(0) = 0 or p(1) = 0 for the ratio encoder, the encoder will return an error."
   ]
  },
  {
   "cell_type": "code",
   "execution_count": 76,
   "id": "3b1f15d5",
   "metadata": {},
   "outputs": [
    {
     "data": {
      "text/html": [
       "<div>\n",
       "<style scoped>\n",
       "    .dataframe tbody tr th:only-of-type {\n",
       "        vertical-align: middle;\n",
       "    }\n",
       "\n",
       "    .dataframe tbody tr th {\n",
       "        vertical-align: top;\n",
       "    }\n",
       "\n",
       "    .dataframe thead th {\n",
       "        text-align: right;\n",
       "    }\n",
       "</style>\n",
       "<table border=\"1\" class=\"dataframe\">\n",
       "  <thead>\n",
       "    <tr style=\"text-align: right;\">\n",
       "      <th></th>\n",
       "      <th>Survived</th>\n",
       "      <th>Sex</th>\n",
       "      <th>Cabin</th>\n",
       "      <th>Embarked</th>\n",
       "    </tr>\n",
       "  </thead>\n",
       "  <tbody>\n",
       "    <tr>\n",
       "      <th>0</th>\n",
       "      <td>0</td>\n",
       "      <td>male</td>\n",
       "      <td>n</td>\n",
       "      <td>S</td>\n",
       "    </tr>\n",
       "    <tr>\n",
       "      <th>1</th>\n",
       "      <td>1</td>\n",
       "      <td>female</td>\n",
       "      <td>C</td>\n",
       "      <td>C</td>\n",
       "    </tr>\n",
       "    <tr>\n",
       "      <th>2</th>\n",
       "      <td>1</td>\n",
       "      <td>female</td>\n",
       "      <td>n</td>\n",
       "      <td>S</td>\n",
       "    </tr>\n",
       "    <tr>\n",
       "      <th>3</th>\n",
       "      <td>1</td>\n",
       "      <td>female</td>\n",
       "      <td>C</td>\n",
       "      <td>S</td>\n",
       "    </tr>\n",
       "    <tr>\n",
       "      <th>4</th>\n",
       "      <td>0</td>\n",
       "      <td>male</td>\n",
       "      <td>n</td>\n",
       "      <td>S</td>\n",
       "    </tr>\n",
       "  </tbody>\n",
       "</table>\n",
       "</div>"
      ],
      "text/plain": [
       "   Survived     Sex Cabin Embarked\n",
       "0         0    male     n        S\n",
       "1         1  female     C        C\n",
       "2         1  female     n        S\n",
       "3         1  female     C        S\n",
       "4         0    male     n        S"
      ]
     },
     "execution_count": 76,
     "metadata": {},
     "output_type": "execute_result"
    }
   ],
   "source": [
    "df = pd.read_csv('titanic.csv',  usecols=[col.title() for col in ['sex', 'embarked', 'cabin', 'survived']])\n",
    "df['Cabin'] = df['Cabin'].astype(str).str[0]\n",
    "df[\"Embarked\"] = df[\"Embarked\"].fillna(value=\"Missing\")\n",
    "# df.dropna(subset=['Embarked'], inplace=True)\n",
    "df.head()"
   ]
  },
  {
   "cell_type": "code",
   "execution_count": 77,
   "id": "cecaf9a3",
   "metadata": {},
   "outputs": [
    {
     "data": {
      "text/html": [
       "<div>\n",
       "<style scoped>\n",
       "    .dataframe tbody tr th:only-of-type {\n",
       "        vertical-align: middle;\n",
       "    }\n",
       "\n",
       "    .dataframe tbody tr th {\n",
       "        vertical-align: top;\n",
       "    }\n",
       "\n",
       "    .dataframe thead th {\n",
       "        text-align: right;\n",
       "    }\n",
       "</style>\n",
       "<table border=\"1\" class=\"dataframe\">\n",
       "  <thead>\n",
       "    <tr style=\"text-align: right;\">\n",
       "      <th></th>\n",
       "      <th>Survived</th>\n",
       "      <th>Sex</th>\n",
       "      <th>Cabin</th>\n",
       "      <th>Embarked</th>\n",
       "    </tr>\n",
       "  </thead>\n",
       "  <tbody>\n",
       "    <tr>\n",
       "      <th>61</th>\n",
       "      <td>1</td>\n",
       "      <td>female</td>\n",
       "      <td>B</td>\n",
       "      <td>Missing</td>\n",
       "    </tr>\n",
       "    <tr>\n",
       "      <th>829</th>\n",
       "      <td>0</td>\n",
       "      <td>female</td>\n",
       "      <td>B</td>\n",
       "      <td>Missing</td>\n",
       "    </tr>\n",
       "  </tbody>\n",
       "</table>\n",
       "</div>"
      ],
      "text/plain": [
       "     Survived     Sex Cabin Embarked\n",
       "61          1  female     B  Missing\n",
       "829         0  female     B  Missing"
      ]
     },
     "execution_count": 77,
     "metadata": {},
     "output_type": "execute_result"
    }
   ],
   "source": [
    "# If p(0) = 0 or p(1) = 0 for the ratio encoder, the encoder will return an error.\n",
    "df.iloc[829, 0] = 0\n",
    "df[df[\"Embarked\"] == \"Missing\"]"
   ]
  },
  {
   "cell_type": "code",
   "execution_count": 78,
   "id": "7dd1d89b",
   "metadata": {},
   "outputs": [],
   "source": [
    "X = df.drop(labels=[\"Survived\"], axis=1)\n",
    "y = df[\"Survived\"]\n",
    "\n",
    "from sklearn.model_selection import train_test_split\n",
    "\n",
    "X_train, X_test, y_train, y_test = train_test_split(X, y, test_size=0.3, random_state=0, shuffle=True, stratify=y)"
   ]
  },
  {
   "cell_type": "code",
   "execution_count": 79,
   "id": "4dcdf82d",
   "metadata": {},
   "outputs": [],
   "source": [
    "from feature_engine.encoding import PRatioEncoder\n",
    "\n",
    "ratio_enc = PRatioEncoder(encoding_method='ratio', \n",
    "                          variables=['Cabin', 'Sex', 'Embarked']) # make sure no NaN in Features\n",
    "\n",
    "X_train = ratio_enc.fit_transform(X_train, y_train)\n",
    "X_test = ratio_enc.transform(X_test)"
   ]
  },
  {
   "cell_type": "code",
   "execution_count": 80,
   "id": "59398086",
   "metadata": {},
   "outputs": [
    {
     "data": {
      "text/html": [
       "<div>\n",
       "<style scoped>\n",
       "    .dataframe tbody tr th:only-of-type {\n",
       "        vertical-align: middle;\n",
       "    }\n",
       "\n",
       "    .dataframe tbody tr th {\n",
       "        vertical-align: top;\n",
       "    }\n",
       "\n",
       "    .dataframe thead th {\n",
       "        text-align: right;\n",
       "    }\n",
       "</style>\n",
       "<table border=\"1\" class=\"dataframe\">\n",
       "  <thead>\n",
       "    <tr style=\"text-align: right;\">\n",
       "      <th></th>\n",
       "      <th>Sex</th>\n",
       "      <th>Cabin</th>\n",
       "      <th>Embarked</th>\n",
       "    </tr>\n",
       "  </thead>\n",
       "  <tbody>\n",
       "    <tr>\n",
       "      <th>126</th>\n",
       "      <td>0.233129</td>\n",
       "      <td>0.426901</td>\n",
       "      <td>0.529412</td>\n",
       "    </tr>\n",
       "    <tr>\n",
       "      <th>618</th>\n",
       "      <td>2.745763</td>\n",
       "      <td>1.333333</td>\n",
       "      <td>0.528814</td>\n",
       "    </tr>\n",
       "    <tr>\n",
       "      <th>116</th>\n",
       "      <td>0.233129</td>\n",
       "      <td>0.426901</td>\n",
       "      <td>0.529412</td>\n",
       "    </tr>\n",
       "    <tr>\n",
       "      <th>310</th>\n",
       "      <td>2.745763</td>\n",
       "      <td>1.625000</td>\n",
       "      <td>1.145455</td>\n",
       "    </tr>\n",
       "    <tr>\n",
       "      <th>420</th>\n",
       "      <td>0.233129</td>\n",
       "      <td>0.426901</td>\n",
       "      <td>1.145455</td>\n",
       "    </tr>\n",
       "  </tbody>\n",
       "</table>\n",
       "</div>"
      ],
      "text/plain": [
       "          Sex     Cabin  Embarked\n",
       "126  0.233129  0.426901  0.529412\n",
       "618  2.745763  1.333333  0.528814\n",
       "116  0.233129  0.426901  0.529412\n",
       "310  2.745763  1.625000  1.145455\n",
       "420  0.233129  0.426901  1.145455"
      ]
     },
     "execution_count": 80,
     "metadata": {},
     "output_type": "execute_result"
    }
   ],
   "source": [
    "X_test.head()"
   ]
  },
  {
   "cell_type": "code",
   "execution_count": 81,
   "id": "c17056b7",
   "metadata": {},
   "outputs": [
    {
     "data": {
      "text/plain": [
       "{'Cabin': {'A': 0.3333333333333333,\n",
       "  'B': 4.000000000000001,\n",
       "  'C': 1.6250000000000002,\n",
       "  'D': 2.2857142857142856,\n",
       "  'E': 4.000000000000001,\n",
       "  'F': 1.3333333333333333,\n",
       "  'G': 0.49999999999999994,\n",
       "  'T': 0.0,\n",
       "  'n': 0.42690058479532167},\n",
       " 'Sex': {'female': 2.745762711864406, 'male': 0.23312883435582823},\n",
       " 'Embarked': {'C': 1.1454545454545455,\n",
       "  'Missing': 1.0,\n",
       "  'Q': 0.5294117647058824,\n",
       "  'S': 0.5288135593220339}}"
      ]
     },
     "execution_count": 81,
     "metadata": {},
     "output_type": "execute_result"
    }
   ],
   "source": [
    "ratio_enc.encoder_dict_"
   ]
  },
  {
   "cell_type": "code",
   "execution_count": 82,
   "id": "6e8310da",
   "metadata": {},
   "outputs": [
    {
     "data": {
      "text/plain": [
       "['Cabin', 'Sex', 'Embarked']"
      ]
     },
     "execution_count": 82,
     "metadata": {},
     "output_type": "execute_result"
    }
   ],
   "source": [
    "ratio_enc.variables_"
   ]
  },
  {
   "cell_type": "markdown",
   "id": "c0547082",
   "metadata": {},
   "source": [
    "### Weight of Evidence\n",
    "[fe_WoEEncoder](https://feature-engine.readthedocs.io/en/1.1.x/encoding/WoEEncoder.html)"
   ]
  },
  {
   "cell_type": "code",
   "execution_count": 83,
   "id": "f60ff881",
   "metadata": {},
   "outputs": [
    {
     "data": {
      "text/html": [
       "<div>\n",
       "<style scoped>\n",
       "    .dataframe tbody tr th:only-of-type {\n",
       "        vertical-align: middle;\n",
       "    }\n",
       "\n",
       "    .dataframe tbody tr th {\n",
       "        vertical-align: top;\n",
       "    }\n",
       "\n",
       "    .dataframe thead th {\n",
       "        text-align: right;\n",
       "    }\n",
       "</style>\n",
       "<table border=\"1\" class=\"dataframe\">\n",
       "  <thead>\n",
       "    <tr style=\"text-align: right;\">\n",
       "      <th></th>\n",
       "      <th>Survived</th>\n",
       "      <th>Sex</th>\n",
       "      <th>Cabin</th>\n",
       "      <th>Embarked</th>\n",
       "    </tr>\n",
       "  </thead>\n",
       "  <tbody>\n",
       "    <tr>\n",
       "      <th>0</th>\n",
       "      <td>0</td>\n",
       "      <td>male</td>\n",
       "      <td>n</td>\n",
       "      <td>S</td>\n",
       "    </tr>\n",
       "    <tr>\n",
       "      <th>1</th>\n",
       "      <td>1</td>\n",
       "      <td>female</td>\n",
       "      <td>C</td>\n",
       "      <td>C</td>\n",
       "    </tr>\n",
       "    <tr>\n",
       "      <th>2</th>\n",
       "      <td>1</td>\n",
       "      <td>female</td>\n",
       "      <td>n</td>\n",
       "      <td>S</td>\n",
       "    </tr>\n",
       "    <tr>\n",
       "      <th>3</th>\n",
       "      <td>1</td>\n",
       "      <td>female</td>\n",
       "      <td>C</td>\n",
       "      <td>S</td>\n",
       "    </tr>\n",
       "    <tr>\n",
       "      <th>4</th>\n",
       "      <td>0</td>\n",
       "      <td>male</td>\n",
       "      <td>n</td>\n",
       "      <td>S</td>\n",
       "    </tr>\n",
       "  </tbody>\n",
       "</table>\n",
       "</div>"
      ],
      "text/plain": [
       "   Survived     Sex Cabin Embarked\n",
       "0         0    male     n        S\n",
       "1         1  female     C        C\n",
       "2         1  female     n        S\n",
       "3         1  female     C        S\n",
       "4         0    male     n        S"
      ]
     },
     "execution_count": 83,
     "metadata": {},
     "output_type": "execute_result"
    }
   ],
   "source": [
    "df = pd.read_csv('titanic.csv',  usecols=[col.title() for col in ['sex', 'embarked', 'cabin', 'survived']])\n",
    "df['Cabin'] = df['Cabin'].astype(str).str[0] \n",
    "# if any of the terms in the weight of evidence calculation is 0, \n",
    "# the log of 0 is not defined, so this transformer will raise an error.\n",
    "df = df[df['Cabin'] != 'T']\n",
    "df.dropna(subset=['Embarked'], inplace=True)\n",
    "df.head()"
   ]
  },
  {
   "cell_type": "code",
   "execution_count": 84,
   "id": "84a849e0",
   "metadata": {},
   "outputs": [],
   "source": [
    "X = df.drop(labels=[\"Survived\"], axis=1)\n",
    "y = df[\"Survived\"]\n",
    "\n",
    "from sklearn.model_selection import train_test_split\n",
    "\n",
    "X_train, X_test, y_train, y_test = train_test_split(X, y, test_size=0.3, random_state=0, shuffle=True, stratify=y)"
   ]
  },
  {
   "cell_type": "code",
   "execution_count": 85,
   "id": "7c196d51",
   "metadata": {},
   "outputs": [],
   "source": [
    "from feature_engine.encoding import WoEEncoder as fe_WoEEncoder\n",
    "\n",
    "woe_enc = fe_WoEEncoder(variables=['Cabin', 'Sex', 'Embarked']) # make sure no NaN in Features\n",
    "X_train = woe_enc.fit_transform(X_train, y_train)\n",
    "X_test = woe_enc.transform(X_test)"
   ]
  },
  {
   "cell_type": "code",
   "execution_count": 86,
   "id": "ce3dec8f",
   "metadata": {},
   "outputs": [
    {
     "data": {
      "text/html": [
       "<div>\n",
       "<style scoped>\n",
       "    .dataframe tbody tr th:only-of-type {\n",
       "        vertical-align: middle;\n",
       "    }\n",
       "\n",
       "    .dataframe tbody tr th {\n",
       "        vertical-align: top;\n",
       "    }\n",
       "\n",
       "    .dataframe thead th {\n",
       "        text-align: right;\n",
       "    }\n",
       "</style>\n",
       "<table border=\"1\" class=\"dataframe\">\n",
       "  <thead>\n",
       "    <tr style=\"text-align: right;\">\n",
       "      <th></th>\n",
       "      <th>Sex</th>\n",
       "      <th>Cabin</th>\n",
       "      <th>Embarked</th>\n",
       "    </tr>\n",
       "  </thead>\n",
       "  <tbody>\n",
       "    <tr>\n",
       "      <th>285</th>\n",
       "      <td>-0.941302</td>\n",
       "      <td>-0.353886</td>\n",
       "      <td>0.723172</td>\n",
       "    </tr>\n",
       "    <tr>\n",
       "      <th>735</th>\n",
       "      <td>-0.941302</td>\n",
       "      <td>-0.353886</td>\n",
       "      <td>-0.241234</td>\n",
       "    </tr>\n",
       "    <tr>\n",
       "      <th>200</th>\n",
       "      <td>-0.941302</td>\n",
       "      <td>-0.353886</td>\n",
       "      <td>-0.241234</td>\n",
       "    </tr>\n",
       "    <tr>\n",
       "      <th>570</th>\n",
       "      <td>-0.941302</td>\n",
       "      <td>-0.353886</td>\n",
       "      <td>-0.241234</td>\n",
       "    </tr>\n",
       "    <tr>\n",
       "      <th>786</th>\n",
       "      <td>1.568067</td>\n",
       "      <td>-0.353886</td>\n",
       "      <td>-0.241234</td>\n",
       "    </tr>\n",
       "  </tbody>\n",
       "</table>\n",
       "</div>"
      ],
      "text/plain": [
       "          Sex     Cabin  Embarked\n",
       "285 -0.941302 -0.353886  0.723172\n",
       "735 -0.941302 -0.353886 -0.241234\n",
       "200 -0.941302 -0.353886 -0.241234\n",
       "570 -0.941302 -0.353886 -0.241234\n",
       "786  1.568067 -0.353886 -0.241234"
      ]
     },
     "execution_count": 86,
     "metadata": {},
     "output_type": "execute_result"
    }
   ],
   "source": [
    "X_test.head()"
   ]
  },
  {
   "cell_type": "code",
   "execution_count": 87,
   "id": "f8412871",
   "metadata": {},
   "outputs": [
    {
     "data": {
      "text/plain": [
       "{'Cabin': {'A': 0.4757643155091712,\n",
       "  'B': 1.209733490589372,\n",
       "  'C': 0.698907866823381,\n",
       "  'D': 1.7285272840045396,\n",
       "  'E': 1.8620586766290619,\n",
       "  'F': 0.8812294236173356,\n",
       "  'G': 0.4757643155091712,\n",
       "  'n': -0.353886028064454},\n",
       " 'Sex': {'female': 1.5680674349840162, 'male': -0.9413017042774728},\n",
       " 'Embarked': {'C': 0.7231724888230124,\n",
       "  'Q': 0.10420075907668835,\n",
       "  'S': -0.24123408087295403}}"
      ]
     },
     "execution_count": 87,
     "metadata": {},
     "output_type": "execute_result"
    }
   ],
   "source": [
    "woe_enc.encoder_dict_"
   ]
  },
  {
   "cell_type": "code",
   "execution_count": 88,
   "id": "13c9d3a3",
   "metadata": {},
   "outputs": [
    {
     "data": {
      "text/plain": [
       "['Cabin', 'Sex', 'Embarked']"
      ]
     },
     "execution_count": 88,
     "metadata": {},
     "output_type": "execute_result"
    }
   ],
   "source": [
    "woe_enc.variables_"
   ]
  },
  {
   "cell_type": "markdown",
   "id": "888a4874",
   "metadata": {},
   "source": [
    "[WOEEncoder](https://contrib.scikit-learn.org/category_encoders/woe.html)"
   ]
  },
  {
   "cell_type": "code",
   "execution_count": 89,
   "id": "f6812bde",
   "metadata": {},
   "outputs": [
    {
     "data": {
      "text/html": [
       "<div>\n",
       "<style scoped>\n",
       "    .dataframe tbody tr th:only-of-type {\n",
       "        vertical-align: middle;\n",
       "    }\n",
       "\n",
       "    .dataframe tbody tr th {\n",
       "        vertical-align: top;\n",
       "    }\n",
       "\n",
       "    .dataframe thead th {\n",
       "        text-align: right;\n",
       "    }\n",
       "</style>\n",
       "<table border=\"1\" class=\"dataframe\">\n",
       "  <thead>\n",
       "    <tr style=\"text-align: right;\">\n",
       "      <th></th>\n",
       "      <th>Survived</th>\n",
       "      <th>Sex</th>\n",
       "      <th>Cabin</th>\n",
       "      <th>Embarked</th>\n",
       "    </tr>\n",
       "  </thead>\n",
       "  <tbody>\n",
       "    <tr>\n",
       "      <th>0</th>\n",
       "      <td>0</td>\n",
       "      <td>male</td>\n",
       "      <td>n</td>\n",
       "      <td>S</td>\n",
       "    </tr>\n",
       "    <tr>\n",
       "      <th>1</th>\n",
       "      <td>1</td>\n",
       "      <td>female</td>\n",
       "      <td>C</td>\n",
       "      <td>C</td>\n",
       "    </tr>\n",
       "    <tr>\n",
       "      <th>2</th>\n",
       "      <td>1</td>\n",
       "      <td>female</td>\n",
       "      <td>n</td>\n",
       "      <td>S</td>\n",
       "    </tr>\n",
       "    <tr>\n",
       "      <th>3</th>\n",
       "      <td>1</td>\n",
       "      <td>female</td>\n",
       "      <td>C</td>\n",
       "      <td>S</td>\n",
       "    </tr>\n",
       "    <tr>\n",
       "      <th>4</th>\n",
       "      <td>0</td>\n",
       "      <td>male</td>\n",
       "      <td>n</td>\n",
       "      <td>S</td>\n",
       "    </tr>\n",
       "  </tbody>\n",
       "</table>\n",
       "</div>"
      ],
      "text/plain": [
       "   Survived     Sex Cabin Embarked\n",
       "0         0    male     n        S\n",
       "1         1  female     C        C\n",
       "2         1  female     n        S\n",
       "3         1  female     C        S\n",
       "4         0    male     n        S"
      ]
     },
     "execution_count": 89,
     "metadata": {},
     "output_type": "execute_result"
    }
   ],
   "source": [
    "df = pd.read_csv('titanic.csv',  usecols=[col.title() for col in ['sex', 'embarked', 'cabin', 'survived']])\n",
    "df['Cabin'] = df['Cabin'].astype(str).str[0] \n",
    "df.head()"
   ]
  },
  {
   "cell_type": "code",
   "execution_count": 90,
   "id": "2d84ae26",
   "metadata": {},
   "outputs": [],
   "source": [
    "X = df.drop(labels=[\"Survived\"], axis=1)\n",
    "y = df[\"Survived\"]\n",
    "\n",
    "from sklearn.model_selection import train_test_split\n",
    "\n",
    "X_train, X_test, y_train, y_test = train_test_split(X, y, test_size=0.3, random_state=0, shuffle=True, stratify=y)"
   ]
  },
  {
   "cell_type": "code",
   "execution_count": 91,
   "id": "5eec5822",
   "metadata": {},
   "outputs": [],
   "source": [
    "from category_encoders.woe import WOEEncoder\n",
    "\n",
    "\n",
    "woe_enc = WOEEncoder(cols=['Cabin', 'Sex', 'Embarked']) # can handle NaN in Features\n",
    "X_train = woe_enc.fit_transform(X_train, y_train)\n",
    "X_test = woe_enc.transform(X_test)"
   ]
  },
  {
   "cell_type": "code",
   "execution_count": 92,
   "id": "43ff34c5",
   "metadata": {},
   "outputs": [
    {
     "data": {
      "text/html": [
       "<div>\n",
       "<style scoped>\n",
       "    .dataframe tbody tr th:only-of-type {\n",
       "        vertical-align: middle;\n",
       "    }\n",
       "\n",
       "    .dataframe tbody tr th {\n",
       "        vertical-align: top;\n",
       "    }\n",
       "\n",
       "    .dataframe thead th {\n",
       "        text-align: right;\n",
       "    }\n",
       "</style>\n",
       "<table border=\"1\" class=\"dataframe\">\n",
       "  <thead>\n",
       "    <tr style=\"text-align: right;\">\n",
       "      <th></th>\n",
       "      <th>Sex</th>\n",
       "      <th>Cabin</th>\n",
       "      <th>Embarked</th>\n",
       "    </tr>\n",
       "  </thead>\n",
       "  <tbody>\n",
       "    <tr>\n",
       "      <th>421</th>\n",
       "      <td>-0.965264</td>\n",
       "      <td>-0.372309</td>\n",
       "      <td>-0.081028</td>\n",
       "    </tr>\n",
       "    <tr>\n",
       "      <th>618</th>\n",
       "      <td>1.504348</td>\n",
       "      <td>0.981866</td>\n",
       "      <td>-0.157149</td>\n",
       "    </tr>\n",
       "    <tr>\n",
       "      <th>116</th>\n",
       "      <td>-0.965264</td>\n",
       "      <td>-0.372309</td>\n",
       "      <td>-0.081028</td>\n",
       "    </tr>\n",
       "    <tr>\n",
       "      <th>310</th>\n",
       "      <td>1.504348</td>\n",
       "      <td>0.784698</td>\n",
       "      <td>0.572823</td>\n",
       "    </tr>\n",
       "    <tr>\n",
       "      <th>57</th>\n",
       "      <td>-0.965264</td>\n",
       "      <td>-0.372309</td>\n",
       "      <td>0.572823</td>\n",
       "    </tr>\n",
       "  </tbody>\n",
       "</table>\n",
       "</div>"
      ],
      "text/plain": [
       "          Sex     Cabin  Embarked\n",
       "421 -0.965264 -0.372309 -0.081028\n",
       "618  1.504348  0.981866 -0.157149\n",
       "116 -0.965264 -0.372309 -0.081028\n",
       "310  1.504348  0.784698  0.572823\n",
       "57  -0.965264 -0.372309  0.572823"
      ]
     },
     "execution_count": 92,
     "metadata": {},
     "output_type": "execute_result"
    }
   ],
   "source": [
    "X_test.head()"
   ]
  },
  {
   "cell_type": "code",
   "execution_count": 93,
   "id": "7dd929c8",
   "metadata": {},
   "outputs": [
    {
     "data": {
      "text/plain": [
       "['Sex', 'Cabin', 'Embarked']"
      ]
     },
     "execution_count": 93,
     "metadata": {},
     "output_type": "execute_result"
    }
   ],
   "source": [
    "woe_enc.get_feature_names()"
   ]
  },
  {
   "cell_type": "code",
   "execution_count": 94,
   "id": "66a9bf23",
   "metadata": {},
   "outputs": [
    {
     "data": {
      "text/plain": [
       "{'cols': ['Cabin', 'Sex', 'Embarked'],\n",
       " 'drop_invariant': False,\n",
       " 'handle_missing': 'value',\n",
       " 'handle_unknown': 'value',\n",
       " 'random_state': None,\n",
       " 'randomized': False,\n",
       " 'regularization': 1.0,\n",
       " 'return_df': True,\n",
       " 'sigma': 0.05,\n",
       " 'verbose': 0}"
      ]
     },
     "execution_count": 94,
     "metadata": {},
     "output_type": "execute_result"
    }
   ],
   "source": [
    "woe_enc.get_params()"
   ]
  },
  {
   "cell_type": "code",
   "execution_count": 95,
   "id": "0e04f3be",
   "metadata": {},
   "outputs": [
    {
     "data": {
      "text/plain": [
       "{'Cabin': Cabin\n",
       "  1   -0.372309\n",
       "  2    0.981866\n",
       "  3    1.751974\n",
       "  4    0.784698\n",
       "  5   -0.222107\n",
       "  6    1.507132\n",
       "  7    1.164188\n",
       "  8    0.065575\n",
       "  9    0.000000\n",
       " -1    0.000000\n",
       " -2    0.000000\n",
       " dtype: float64,\n",
       " 'Sex': Sex\n",
       "  1   -0.965264\n",
       "  2    1.504348\n",
       " -1    0.000000\n",
       " -2    0.000000\n",
       " dtype: float64,\n",
       " 'Embarked': Embarked\n",
       "  1   -0.157149\n",
       "  2    0.572823\n",
       "  3   -0.081028\n",
       "  4    1.569653\n",
       " -1    0.000000\n",
       " -2    0.000000\n",
       " dtype: float64}"
      ]
     },
     "execution_count": 95,
     "metadata": {},
     "output_type": "execute_result"
    }
   ],
   "source": [
    "woe_enc.mapping"
   ]
  },
  {
   "cell_type": "markdown",
   "id": "18f65374",
   "metadata": {},
   "source": [
    "### Rare Label Encoding\n",
    "[fe_RareLabelEncoder](https://feature-engine.readthedocs.io/en/1.1.x/encoding/RareLabelEncoder.html)"
   ]
  },
  {
   "cell_type": "code",
   "execution_count": 96,
   "id": "bd13e852",
   "metadata": {},
   "outputs": [],
   "source": [
    "df = pd.read_csv('houseprice.csv')\n",
    "\n",
    "X = df.drop(columns=[\"SalePrice\"])\n",
    "y = df[\"SalePrice\"]\n",
    "\n",
    "from sklearn.model_selection import train_test_split\n",
    "\n",
    "X_train, X_test, y_train, y_test = train_test_split(X, y, test_size=0.3, random_state=0, shuffle=True, \n",
    "#                                                     stratify=y # Not a classification problem\n",
    "                                                   )"
   ]
  },
  {
   "cell_type": "code",
   "execution_count": 97,
   "id": "87892359",
   "metadata": {},
   "outputs": [],
   "source": [
    "from feature_engine.encoding import RareLabelEncoder as fe_RareLabelEncoder\n",
    "\n",
    "rare_enc = fe_RareLabelEncoder( # make sure no NaN in Features\n",
    "    tol=0.05,  # minimal percentage to be considered non-rare\n",
    "    n_categories=4, # minimal number of categories the variable should have to re-cgroup rare categories\n",
    "    variables=['Neighborhood', 'Exterior1st', 'Exterior2nd',\n",
    "               'MasVnrType', 'ExterQual', 'BsmtCond'] # variables to re-group\n",
    ")\n",
    "\n",
    "X_train = rare_enc.fit_transform(X_train.fillna(\"Missing\"))\n",
    "X_test = rare_enc.transform(X_test.fillna(\"Missing\"))"
   ]
  },
  {
   "cell_type": "code",
   "execution_count": 98,
   "id": "a7f6db44",
   "metadata": {},
   "outputs": [
    {
     "data": {
      "text/html": [
       "<div>\n",
       "<style scoped>\n",
       "    .dataframe tbody tr th:only-of-type {\n",
       "        vertical-align: middle;\n",
       "    }\n",
       "\n",
       "    .dataframe tbody tr th {\n",
       "        vertical-align: top;\n",
       "    }\n",
       "\n",
       "    .dataframe thead th {\n",
       "        text-align: right;\n",
       "    }\n",
       "</style>\n",
       "<table border=\"1\" class=\"dataframe\">\n",
       "  <thead>\n",
       "    <tr style=\"text-align: right;\">\n",
       "      <th></th>\n",
       "      <th>Id</th>\n",
       "      <th>MSSubClass</th>\n",
       "      <th>MSZoning</th>\n",
       "      <th>LotFrontage</th>\n",
       "      <th>LotArea</th>\n",
       "      <th>Street</th>\n",
       "      <th>Alley</th>\n",
       "      <th>LotShape</th>\n",
       "      <th>LandContour</th>\n",
       "      <th>Utilities</th>\n",
       "      <th>...</th>\n",
       "      <th>ScreenPorch</th>\n",
       "      <th>PoolArea</th>\n",
       "      <th>PoolQC</th>\n",
       "      <th>Fence</th>\n",
       "      <th>MiscFeature</th>\n",
       "      <th>MiscVal</th>\n",
       "      <th>MoSold</th>\n",
       "      <th>YrSold</th>\n",
       "      <th>SaleType</th>\n",
       "      <th>SaleCondition</th>\n",
       "    </tr>\n",
       "  </thead>\n",
       "  <tbody>\n",
       "    <tr>\n",
       "      <th>529</th>\n",
       "      <td>530</td>\n",
       "      <td>20</td>\n",
       "      <td>RL</td>\n",
       "      <td>Missing</td>\n",
       "      <td>32668</td>\n",
       "      <td>Pave</td>\n",
       "      <td>Missing</td>\n",
       "      <td>IR1</td>\n",
       "      <td>Lvl</td>\n",
       "      <td>AllPub</td>\n",
       "      <td>...</td>\n",
       "      <td>0</td>\n",
       "      <td>0</td>\n",
       "      <td>Missing</td>\n",
       "      <td>Missing</td>\n",
       "      <td>Missing</td>\n",
       "      <td>0</td>\n",
       "      <td>3</td>\n",
       "      <td>2007</td>\n",
       "      <td>WD</td>\n",
       "      <td>Alloca</td>\n",
       "    </tr>\n",
       "    <tr>\n",
       "      <th>491</th>\n",
       "      <td>492</td>\n",
       "      <td>50</td>\n",
       "      <td>RL</td>\n",
       "      <td>79.0</td>\n",
       "      <td>9490</td>\n",
       "      <td>Pave</td>\n",
       "      <td>Missing</td>\n",
       "      <td>Reg</td>\n",
       "      <td>Lvl</td>\n",
       "      <td>AllPub</td>\n",
       "      <td>...</td>\n",
       "      <td>0</td>\n",
       "      <td>0</td>\n",
       "      <td>Missing</td>\n",
       "      <td>MnPrv</td>\n",
       "      <td>Missing</td>\n",
       "      <td>0</td>\n",
       "      <td>8</td>\n",
       "      <td>2006</td>\n",
       "      <td>WD</td>\n",
       "      <td>Normal</td>\n",
       "    </tr>\n",
       "    <tr>\n",
       "      <th>459</th>\n",
       "      <td>460</td>\n",
       "      <td>50</td>\n",
       "      <td>RL</td>\n",
       "      <td>Missing</td>\n",
       "      <td>7015</td>\n",
       "      <td>Pave</td>\n",
       "      <td>Missing</td>\n",
       "      <td>IR1</td>\n",
       "      <td>Bnk</td>\n",
       "      <td>AllPub</td>\n",
       "      <td>...</td>\n",
       "      <td>0</td>\n",
       "      <td>0</td>\n",
       "      <td>Missing</td>\n",
       "      <td>Missing</td>\n",
       "      <td>Missing</td>\n",
       "      <td>0</td>\n",
       "      <td>7</td>\n",
       "      <td>2009</td>\n",
       "      <td>WD</td>\n",
       "      <td>Normal</td>\n",
       "    </tr>\n",
       "    <tr>\n",
       "      <th>279</th>\n",
       "      <td>280</td>\n",
       "      <td>60</td>\n",
       "      <td>RL</td>\n",
       "      <td>83.0</td>\n",
       "      <td>10005</td>\n",
       "      <td>Pave</td>\n",
       "      <td>Missing</td>\n",
       "      <td>Reg</td>\n",
       "      <td>Lvl</td>\n",
       "      <td>AllPub</td>\n",
       "      <td>...</td>\n",
       "      <td>0</td>\n",
       "      <td>0</td>\n",
       "      <td>Missing</td>\n",
       "      <td>Missing</td>\n",
       "      <td>Missing</td>\n",
       "      <td>0</td>\n",
       "      <td>3</td>\n",
       "      <td>2008</td>\n",
       "      <td>WD</td>\n",
       "      <td>Normal</td>\n",
       "    </tr>\n",
       "    <tr>\n",
       "      <th>655</th>\n",
       "      <td>656</td>\n",
       "      <td>160</td>\n",
       "      <td>RM</td>\n",
       "      <td>21.0</td>\n",
       "      <td>1680</td>\n",
       "      <td>Pave</td>\n",
       "      <td>Missing</td>\n",
       "      <td>Reg</td>\n",
       "      <td>Lvl</td>\n",
       "      <td>AllPub</td>\n",
       "      <td>...</td>\n",
       "      <td>0</td>\n",
       "      <td>0</td>\n",
       "      <td>Missing</td>\n",
       "      <td>Missing</td>\n",
       "      <td>Missing</td>\n",
       "      <td>0</td>\n",
       "      <td>3</td>\n",
       "      <td>2010</td>\n",
       "      <td>WD</td>\n",
       "      <td>Family</td>\n",
       "    </tr>\n",
       "  </tbody>\n",
       "</table>\n",
       "<p>5 rows × 80 columns</p>\n",
       "</div>"
      ],
      "text/plain": [
       "      Id  MSSubClass MSZoning LotFrontage  LotArea Street    Alley LotShape  \\\n",
       "529  530          20       RL     Missing    32668   Pave  Missing      IR1   \n",
       "491  492          50       RL        79.0     9490   Pave  Missing      Reg   \n",
       "459  460          50       RL     Missing     7015   Pave  Missing      IR1   \n",
       "279  280          60       RL        83.0    10005   Pave  Missing      Reg   \n",
       "655  656         160       RM        21.0     1680   Pave  Missing      Reg   \n",
       "\n",
       "    LandContour Utilities  ... ScreenPorch PoolArea   PoolQC    Fence  \\\n",
       "529         Lvl    AllPub  ...           0        0  Missing  Missing   \n",
       "491         Lvl    AllPub  ...           0        0  Missing    MnPrv   \n",
       "459         Bnk    AllPub  ...           0        0  Missing  Missing   \n",
       "279         Lvl    AllPub  ...           0        0  Missing  Missing   \n",
       "655         Lvl    AllPub  ...           0        0  Missing  Missing   \n",
       "\n",
       "    MiscFeature MiscVal MoSold  YrSold  SaleType  SaleCondition  \n",
       "529     Missing       0      3    2007        WD         Alloca  \n",
       "491     Missing       0      8    2006        WD         Normal  \n",
       "459     Missing       0      7    2009        WD         Normal  \n",
       "279     Missing       0      3    2008        WD         Normal  \n",
       "655     Missing       0      3    2010        WD         Family  \n",
       "\n",
       "[5 rows x 80 columns]"
      ]
     },
     "execution_count": 98,
     "metadata": {},
     "output_type": "execute_result"
    }
   ],
   "source": [
    "X_test.head()"
   ]
  },
  {
   "cell_type": "code",
   "execution_count": 99,
   "id": "e8ff9535",
   "metadata": {},
   "outputs": [
    {
     "data": {
      "text/plain": [
       "['Neighborhood',\n",
       " 'Exterior1st',\n",
       " 'Exterior2nd',\n",
       " 'MasVnrType',\n",
       " 'ExterQual',\n",
       " 'BsmtCond']"
      ]
     },
     "execution_count": 99,
     "metadata": {},
     "output_type": "execute_result"
    }
   ],
   "source": [
    "rare_enc.variables_"
   ]
  },
  {
   "cell_type": "code",
   "execution_count": 100,
   "id": "a6344913",
   "metadata": {},
   "outputs": [
    {
     "data": {
      "text/plain": [
       "{'Neighborhood': Index(['NAmes', 'CollgCr', 'OldTown', 'Edwards', 'Sawyer', 'Somerst',\n",
       "        'Gilbert'],\n",
       "       dtype='object'),\n",
       " 'Exterior1st': Index(['VinylSd', 'HdBoard', 'Wd Sdng', 'MetalSd', 'Plywood'], dtype='object'),\n",
       " 'Exterior2nd': Index(['VinylSd', 'Wd Sdng', 'HdBoard', 'MetalSd', 'Plywood'], dtype='object'),\n",
       " 'MasVnrType': Index(['None', 'BrkFace', 'Stone'], dtype='object'),\n",
       " 'ExterQual': array(['TA', 'Gd', 'Ex', 'Fa'], dtype=object),\n",
       " 'BsmtCond': Index(['TA'], dtype='object')}"
      ]
     },
     "execution_count": 100,
     "metadata": {},
     "output_type": "execute_result"
    }
   ],
   "source": [
    "rare_enc.encoder_dict_"
   ]
  },
  {
   "cell_type": "markdown",
   "id": "663833f0",
   "metadata": {},
   "source": [
    "### Binary Encoding (Not often in the industry)\n",
    "[BinaryEncoder](https://contrib.scikit-learn.org/category_encoders/binary.html)"
   ]
  },
  {
   "cell_type": "code",
   "execution_count": 101,
   "id": "e99d758e",
   "metadata": {},
   "outputs": [
    {
     "data": {
      "text/html": [
       "<div>\n",
       "<style scoped>\n",
       "    .dataframe tbody tr th:only-of-type {\n",
       "        vertical-align: middle;\n",
       "    }\n",
       "\n",
       "    .dataframe tbody tr th {\n",
       "        vertical-align: top;\n",
       "    }\n",
       "\n",
       "    .dataframe thead th {\n",
       "        text-align: right;\n",
       "    }\n",
       "</style>\n",
       "<table border=\"1\" class=\"dataframe\">\n",
       "  <thead>\n",
       "    <tr style=\"text-align: right;\">\n",
       "      <th></th>\n",
       "      <th>Survived</th>\n",
       "      <th>Sex</th>\n",
       "      <th>Cabin</th>\n",
       "      <th>Embarked</th>\n",
       "    </tr>\n",
       "  </thead>\n",
       "  <tbody>\n",
       "    <tr>\n",
       "      <th>0</th>\n",
       "      <td>0</td>\n",
       "      <td>male</td>\n",
       "      <td>n</td>\n",
       "      <td>S</td>\n",
       "    </tr>\n",
       "    <tr>\n",
       "      <th>1</th>\n",
       "      <td>1</td>\n",
       "      <td>female</td>\n",
       "      <td>C</td>\n",
       "      <td>C</td>\n",
       "    </tr>\n",
       "    <tr>\n",
       "      <th>2</th>\n",
       "      <td>1</td>\n",
       "      <td>female</td>\n",
       "      <td>n</td>\n",
       "      <td>S</td>\n",
       "    </tr>\n",
       "    <tr>\n",
       "      <th>3</th>\n",
       "      <td>1</td>\n",
       "      <td>female</td>\n",
       "      <td>C</td>\n",
       "      <td>S</td>\n",
       "    </tr>\n",
       "    <tr>\n",
       "      <th>4</th>\n",
       "      <td>0</td>\n",
       "      <td>male</td>\n",
       "      <td>n</td>\n",
       "      <td>S</td>\n",
       "    </tr>\n",
       "  </tbody>\n",
       "</table>\n",
       "</div>"
      ],
      "text/plain": [
       "   Survived     Sex Cabin Embarked\n",
       "0         0    male     n        S\n",
       "1         1  female     C        C\n",
       "2         1  female     n        S\n",
       "3         1  female     C        S\n",
       "4         0    male     n        S"
      ]
     },
     "execution_count": 101,
     "metadata": {},
     "output_type": "execute_result"
    }
   ],
   "source": [
    "df = pd.read_csv('titanic.csv',  usecols=[col.title() for col in ['sex', 'embarked', 'cabin', 'survived']])\n",
    "df['Cabin'] = df['Cabin'].astype(str).str[0] \n",
    "df.head()"
   ]
  },
  {
   "cell_type": "code",
   "execution_count": 102,
   "id": "1cd586e2",
   "metadata": {},
   "outputs": [],
   "source": [
    "X = df.drop(labels=[\"Survived\"], axis=1)\n",
    "y = df[\"Survived\"]\n",
    "\n",
    "from sklearn.model_selection import train_test_split\n",
    "\n",
    "X_train, X_test, y_train, y_test = train_test_split(X, y, test_size=0.3, random_state=0, shuffle=True, stratify=y)"
   ]
  },
  {
   "cell_type": "code",
   "execution_count": 103,
   "id": "2c0b9e86",
   "metadata": {},
   "outputs": [],
   "source": [
    "from category_encoders.binary import BinaryEncoder\n",
    "\n",
    "bin_enc = BinaryEncoder()\n",
    "X_train = bin_enc.fit_transform(X_train)\n",
    "X_test = bin_enc.transform(X_test)"
   ]
  },
  {
   "cell_type": "code",
   "execution_count": 104,
   "id": "854ea338",
   "metadata": {},
   "outputs": [
    {
     "data": {
      "text/html": [
       "<div>\n",
       "<style scoped>\n",
       "    .dataframe tbody tr th:only-of-type {\n",
       "        vertical-align: middle;\n",
       "    }\n",
       "\n",
       "    .dataframe tbody tr th {\n",
       "        vertical-align: top;\n",
       "    }\n",
       "\n",
       "    .dataframe thead th {\n",
       "        text-align: right;\n",
       "    }\n",
       "</style>\n",
       "<table border=\"1\" class=\"dataframe\">\n",
       "  <thead>\n",
       "    <tr style=\"text-align: right;\">\n",
       "      <th></th>\n",
       "      <th>Sex_0</th>\n",
       "      <th>Sex_1</th>\n",
       "      <th>Cabin_0</th>\n",
       "      <th>Cabin_1</th>\n",
       "      <th>Cabin_2</th>\n",
       "      <th>Cabin_3</th>\n",
       "      <th>Cabin_4</th>\n",
       "      <th>Embarked_0</th>\n",
       "      <th>Embarked_1</th>\n",
       "      <th>Embarked_2</th>\n",
       "    </tr>\n",
       "  </thead>\n",
       "  <tbody>\n",
       "    <tr>\n",
       "      <th>421</th>\n",
       "      <td>0</td>\n",
       "      <td>1</td>\n",
       "      <td>0</td>\n",
       "      <td>0</td>\n",
       "      <td>0</td>\n",
       "      <td>0</td>\n",
       "      <td>1</td>\n",
       "      <td>0</td>\n",
       "      <td>1</td>\n",
       "      <td>1</td>\n",
       "    </tr>\n",
       "    <tr>\n",
       "      <th>618</th>\n",
       "      <td>1</td>\n",
       "      <td>0</td>\n",
       "      <td>0</td>\n",
       "      <td>0</td>\n",
       "      <td>0</td>\n",
       "      <td>1</td>\n",
       "      <td>0</td>\n",
       "      <td>0</td>\n",
       "      <td>0</td>\n",
       "      <td>1</td>\n",
       "    </tr>\n",
       "    <tr>\n",
       "      <th>116</th>\n",
       "      <td>0</td>\n",
       "      <td>1</td>\n",
       "      <td>0</td>\n",
       "      <td>0</td>\n",
       "      <td>0</td>\n",
       "      <td>0</td>\n",
       "      <td>1</td>\n",
       "      <td>0</td>\n",
       "      <td>1</td>\n",
       "      <td>1</td>\n",
       "    </tr>\n",
       "    <tr>\n",
       "      <th>310</th>\n",
       "      <td>1</td>\n",
       "      <td>0</td>\n",
       "      <td>0</td>\n",
       "      <td>0</td>\n",
       "      <td>1</td>\n",
       "      <td>0</td>\n",
       "      <td>0</td>\n",
       "      <td>0</td>\n",
       "      <td>1</td>\n",
       "      <td>0</td>\n",
       "    </tr>\n",
       "    <tr>\n",
       "      <th>57</th>\n",
       "      <td>0</td>\n",
       "      <td>1</td>\n",
       "      <td>0</td>\n",
       "      <td>0</td>\n",
       "      <td>0</td>\n",
       "      <td>0</td>\n",
       "      <td>1</td>\n",
       "      <td>0</td>\n",
       "      <td>1</td>\n",
       "      <td>0</td>\n",
       "    </tr>\n",
       "  </tbody>\n",
       "</table>\n",
       "</div>"
      ],
      "text/plain": [
       "     Sex_0  Sex_1  Cabin_0  Cabin_1  Cabin_2  Cabin_3  Cabin_4  Embarked_0  \\\n",
       "421      0      1        0        0        0        0        1           0   \n",
       "618      1      0        0        0        0        1        0           0   \n",
       "116      0      1        0        0        0        0        1           0   \n",
       "310      1      0        0        0        1        0        0           0   \n",
       "57       0      1        0        0        0        0        1           0   \n",
       "\n",
       "     Embarked_1  Embarked_2  \n",
       "421           1           1  \n",
       "618           0           1  \n",
       "116           1           1  \n",
       "310           1           0  \n",
       "57            1           0  "
      ]
     },
     "execution_count": 104,
     "metadata": {},
     "output_type": "execute_result"
    }
   ],
   "source": [
    "X_test.head()"
   ]
  },
  {
   "cell_type": "code",
   "execution_count": 105,
   "id": "06edbc47",
   "metadata": {},
   "outputs": [
    {
     "data": {
      "text/plain": [
       "['Sex_0',\n",
       " 'Sex_1',\n",
       " 'Cabin_0',\n",
       " 'Cabin_1',\n",
       " 'Cabin_2',\n",
       " 'Cabin_3',\n",
       " 'Cabin_4',\n",
       " 'Embarked_0',\n",
       " 'Embarked_1',\n",
       " 'Embarked_2']"
      ]
     },
     "execution_count": 105,
     "metadata": {},
     "output_type": "execute_result"
    }
   ],
   "source": [
    "bin_enc.get_feature_names()"
   ]
  },
  {
   "cell_type": "code",
   "execution_count": 106,
   "id": "99bb0a3c",
   "metadata": {},
   "outputs": [
    {
     "data": {
      "text/plain": [
       "{'cols': None,\n",
       " 'drop_invariant': False,\n",
       " 'handle_missing': 'value',\n",
       " 'handle_unknown': 'value',\n",
       " 'mapping': None,\n",
       " 'return_df': True,\n",
       " 'verbose': 0}"
      ]
     },
     "execution_count": 106,
     "metadata": {},
     "output_type": "execute_result"
    }
   ],
   "source": [
    "bin_enc.get_params()"
   ]
  },
  {
   "cell_type": "markdown",
   "id": "2e0b2d01",
   "metadata": {},
   "source": [
    "### Hashing Encoding (Not often in the industry)\n",
    "[HashingEncoder](https://contrib.scikit-learn.org/category_encoders/hashing.html)"
   ]
  },
  {
   "cell_type": "code",
   "execution_count": 107,
   "id": "ab659c16",
   "metadata": {},
   "outputs": [
    {
     "data": {
      "text/html": [
       "<div>\n",
       "<style scoped>\n",
       "    .dataframe tbody tr th:only-of-type {\n",
       "        vertical-align: middle;\n",
       "    }\n",
       "\n",
       "    .dataframe tbody tr th {\n",
       "        vertical-align: top;\n",
       "    }\n",
       "\n",
       "    .dataframe thead th {\n",
       "        text-align: right;\n",
       "    }\n",
       "</style>\n",
       "<table border=\"1\" class=\"dataframe\">\n",
       "  <thead>\n",
       "    <tr style=\"text-align: right;\">\n",
       "      <th></th>\n",
       "      <th>Survived</th>\n",
       "      <th>Sex</th>\n",
       "      <th>Cabin</th>\n",
       "      <th>Embarked</th>\n",
       "    </tr>\n",
       "  </thead>\n",
       "  <tbody>\n",
       "    <tr>\n",
       "      <th>0</th>\n",
       "      <td>0</td>\n",
       "      <td>male</td>\n",
       "      <td>n</td>\n",
       "      <td>S</td>\n",
       "    </tr>\n",
       "    <tr>\n",
       "      <th>1</th>\n",
       "      <td>1</td>\n",
       "      <td>female</td>\n",
       "      <td>C</td>\n",
       "      <td>C</td>\n",
       "    </tr>\n",
       "    <tr>\n",
       "      <th>2</th>\n",
       "      <td>1</td>\n",
       "      <td>female</td>\n",
       "      <td>n</td>\n",
       "      <td>S</td>\n",
       "    </tr>\n",
       "    <tr>\n",
       "      <th>3</th>\n",
       "      <td>1</td>\n",
       "      <td>female</td>\n",
       "      <td>C</td>\n",
       "      <td>S</td>\n",
       "    </tr>\n",
       "    <tr>\n",
       "      <th>4</th>\n",
       "      <td>0</td>\n",
       "      <td>male</td>\n",
       "      <td>n</td>\n",
       "      <td>S</td>\n",
       "    </tr>\n",
       "  </tbody>\n",
       "</table>\n",
       "</div>"
      ],
      "text/plain": [
       "   Survived     Sex Cabin Embarked\n",
       "0         0    male     n        S\n",
       "1         1  female     C        C\n",
       "2         1  female     n        S\n",
       "3         1  female     C        S\n",
       "4         0    male     n        S"
      ]
     },
     "execution_count": 107,
     "metadata": {},
     "output_type": "execute_result"
    }
   ],
   "source": [
    "df = pd.read_csv('titanic.csv',  usecols=[col.title() for col in ['sex', 'embarked', 'cabin', 'survived']])\n",
    "df['Cabin'] = df['Cabin'].astype(str).str[0] \n",
    "df.head()"
   ]
  },
  {
   "cell_type": "code",
   "execution_count": 108,
   "id": "1e0713cb",
   "metadata": {},
   "outputs": [],
   "source": [
    "X = df.drop(labels=[\"Survived\"], axis=1)\n",
    "y = df[\"Survived\"]\n",
    "\n",
    "from sklearn.model_selection import train_test_split\n",
    "\n",
    "X_train, X_test, y_train, y_test = train_test_split(X, y, test_size=0.3, random_state=0, shuffle=True, stratify=y)"
   ]
  },
  {
   "cell_type": "code",
   "execution_count": 109,
   "id": "c65d0994",
   "metadata": {},
   "outputs": [
    {
     "name": "stdout",
     "output_type": "stream",
     "text": [
      "Wall time: 13.4 s\n"
     ]
    }
   ],
   "source": [
    "%%time\n",
    "from category_encoders.hashing import HashingEncoder\n",
    "\n",
    "hash_enc = HashingEncoder()\n",
    "X_train = hash_enc.fit_transform(X_train)\n",
    "X_test = hash_enc.transform(X_test)"
   ]
  },
  {
   "cell_type": "code",
   "execution_count": 110,
   "id": "4d7f16f4",
   "metadata": {},
   "outputs": [
    {
     "data": {
      "text/html": [
       "<div>\n",
       "<style scoped>\n",
       "    .dataframe tbody tr th:only-of-type {\n",
       "        vertical-align: middle;\n",
       "    }\n",
       "\n",
       "    .dataframe tbody tr th {\n",
       "        vertical-align: top;\n",
       "    }\n",
       "\n",
       "    .dataframe thead th {\n",
       "        text-align: right;\n",
       "    }\n",
       "</style>\n",
       "<table border=\"1\" class=\"dataframe\">\n",
       "  <thead>\n",
       "    <tr style=\"text-align: right;\">\n",
       "      <th></th>\n",
       "      <th>col_0</th>\n",
       "      <th>col_1</th>\n",
       "      <th>col_2</th>\n",
       "      <th>col_3</th>\n",
       "      <th>col_4</th>\n",
       "      <th>col_5</th>\n",
       "      <th>col_6</th>\n",
       "      <th>col_7</th>\n",
       "    </tr>\n",
       "  </thead>\n",
       "  <tbody>\n",
       "    <tr>\n",
       "      <th>0</th>\n",
       "      <td>0</td>\n",
       "      <td>1</td>\n",
       "      <td>0</td>\n",
       "      <td>0</td>\n",
       "      <td>0</td>\n",
       "      <td>1</td>\n",
       "      <td>1</td>\n",
       "      <td>0</td>\n",
       "    </tr>\n",
       "    <tr>\n",
       "      <th>1</th>\n",
       "      <td>0</td>\n",
       "      <td>0</td>\n",
       "      <td>1</td>\n",
       "      <td>0</td>\n",
       "      <td>0</td>\n",
       "      <td>1</td>\n",
       "      <td>1</td>\n",
       "      <td>0</td>\n",
       "    </tr>\n",
       "    <tr>\n",
       "      <th>2</th>\n",
       "      <td>0</td>\n",
       "      <td>1</td>\n",
       "      <td>0</td>\n",
       "      <td>0</td>\n",
       "      <td>0</td>\n",
       "      <td>1</td>\n",
       "      <td>1</td>\n",
       "      <td>0</td>\n",
       "    </tr>\n",
       "    <tr>\n",
       "      <th>3</th>\n",
       "      <td>0</td>\n",
       "      <td>0</td>\n",
       "      <td>0</td>\n",
       "      <td>0</td>\n",
       "      <td>0</td>\n",
       "      <td>1</td>\n",
       "      <td>0</td>\n",
       "      <td>2</td>\n",
       "    </tr>\n",
       "    <tr>\n",
       "      <th>4</th>\n",
       "      <td>0</td>\n",
       "      <td>1</td>\n",
       "      <td>0</td>\n",
       "      <td>0</td>\n",
       "      <td>0</td>\n",
       "      <td>1</td>\n",
       "      <td>0</td>\n",
       "      <td>1</td>\n",
       "    </tr>\n",
       "  </tbody>\n",
       "</table>\n",
       "</div>"
      ],
      "text/plain": [
       "   col_0  col_1  col_2  col_3  col_4  col_5  col_6  col_7\n",
       "0      0      1      0      0      0      1      1      0\n",
       "1      0      0      1      0      0      1      1      0\n",
       "2      0      1      0      0      0      1      1      0\n",
       "3      0      0      0      0      0      1      0      2\n",
       "4      0      1      0      0      0      1      0      1"
      ]
     },
     "execution_count": 110,
     "metadata": {},
     "output_type": "execute_result"
    }
   ],
   "source": [
    "X_test.head()"
   ]
  },
  {
   "cell_type": "code",
   "execution_count": 111,
   "id": "e4300d0a",
   "metadata": {},
   "outputs": [
    {
     "data": {
      "text/plain": [
       "['col_0', 'col_1', 'col_2', 'col_3', 'col_4', 'col_5', 'col_6', 'col_7']"
      ]
     },
     "execution_count": 111,
     "metadata": {},
     "output_type": "execute_result"
    }
   ],
   "source": [
    "hash_enc.get_feature_names()"
   ]
  },
  {
   "cell_type": "code",
   "execution_count": 112,
   "id": "e5b9c278",
   "metadata": {},
   "outputs": [
    {
     "data": {
      "text/plain": [
       "{'cols': ['Sex', 'Cabin', 'Embarked'],\n",
       " 'drop_invariant': False,\n",
       " 'hash_method': 'md5',\n",
       " 'max_process': 4,\n",
       " 'max_sample': 67,\n",
       " 'n_components': 8,\n",
       " 'return_df': True,\n",
       " 'verbose': 0}"
      ]
     },
     "execution_count": 112,
     "metadata": {},
     "output_type": "execute_result"
    }
   ],
   "source": [
    "hash_enc.get_params()"
   ]
  },
  {
   "cell_type": "code",
   "execution_count": null,
   "id": "36d9fe11",
   "metadata": {},
   "outputs": [],
   "source": []
  },
  {
   "cell_type": "code",
   "execution_count": null,
   "id": "bceb5010",
   "metadata": {},
   "outputs": [],
   "source": []
  }
 ],
 "metadata": {
  "hide_input": false,
  "kernelspec": {
   "display_name": "Python 3 (ipykernel)",
   "language": "python",
   "name": "python3"
  },
  "language_info": {
   "codemirror_mode": {
    "name": "ipython",
    "version": 3
   },
   "file_extension": ".py",
   "mimetype": "text/x-python",
   "name": "python",
   "nbconvert_exporter": "python",
   "pygments_lexer": "ipython3",
   "version": "3.8.11"
  }
 },
 "nbformat": 4,
 "nbformat_minor": 5
}
