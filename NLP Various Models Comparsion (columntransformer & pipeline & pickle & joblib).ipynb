{
 "cells": [
  {
   "cell_type": "markdown",
   "id": "c6a4e387",
   "metadata": {},
   "source": [
    "### `NLP Various Models Comparsion (columntransformer & pipeline & pickle & joblib)`"
   ]
  },
  {
   "cell_type": "code",
   "execution_count": 1,
   "id": "1a5f9c74",
   "metadata": {},
   "outputs": [
    {
     "name": "stdout",
     "output_type": "stream",
     "text": [
      "Wall time: 1.59 s\n"
     ]
    }
   ],
   "source": [
    "%%time\n",
    "import warnings\n",
    "warnings.filterwarnings(\"ignore\")\n",
    "\n",
    "import pandas as pd \n",
    "import numpy as np \n",
    "import matplotlib.pyplot as plt \n",
    "import seaborn as sns\n",
    "import missingno as msno\n",
    "import pickle\n",
    "%matplotlib inline"
   ]
  },
  {
   "cell_type": "code",
   "execution_count": 2,
   "id": "bcb7d5e8",
   "metadata": {},
   "outputs": [
    {
     "data": {
      "text/plain": [
       "'D:\\\\LIUZHICHENG\\\\Udemy\\\\Natural Language Processing\\\\Jose\\\\Section 5\\\\smsspamcollection.tsv'"
      ]
     },
     "execution_count": 2,
     "metadata": {},
     "output_type": "execute_result"
    }
   ],
   "source": [
    "path = r\"D:\\LIUZHICHENG\\Udemy\\Natural Language Processing\\Jose\\Section 5\\smsspamcollection.tsv\"\n",
    "path"
   ]
  },
  {
   "cell_type": "code",
   "execution_count": 3,
   "id": "15d0ddc0",
   "metadata": {},
   "outputs": [
    {
     "data": {
      "text/html": [
       "<div>\n",
       "<style scoped>\n",
       "    .dataframe tbody tr th:only-of-type {\n",
       "        vertical-align: middle;\n",
       "    }\n",
       "\n",
       "    .dataframe tbody tr th {\n",
       "        vertical-align: top;\n",
       "    }\n",
       "\n",
       "    .dataframe thead th {\n",
       "        text-align: right;\n",
       "    }\n",
       "</style>\n",
       "<table border=\"1\" class=\"dataframe\">\n",
       "  <thead>\n",
       "    <tr style=\"text-align: right;\">\n",
       "      <th></th>\n",
       "      <th>label</th>\n",
       "      <th>message</th>\n",
       "      <th>length</th>\n",
       "      <th>punct</th>\n",
       "    </tr>\n",
       "  </thead>\n",
       "  <tbody>\n",
       "    <tr>\n",
       "      <th>0</th>\n",
       "      <td>ham</td>\n",
       "      <td>Go until jurong point, crazy.. Available only ...</td>\n",
       "      <td>111</td>\n",
       "      <td>9</td>\n",
       "    </tr>\n",
       "    <tr>\n",
       "      <th>1</th>\n",
       "      <td>ham</td>\n",
       "      <td>Ok lar... Joking wif u oni...</td>\n",
       "      <td>29</td>\n",
       "      <td>6</td>\n",
       "    </tr>\n",
       "    <tr>\n",
       "      <th>2</th>\n",
       "      <td>spam</td>\n",
       "      <td>Free entry in 2 a wkly comp to win FA Cup fina...</td>\n",
       "      <td>155</td>\n",
       "      <td>6</td>\n",
       "    </tr>\n",
       "    <tr>\n",
       "      <th>3</th>\n",
       "      <td>ham</td>\n",
       "      <td>U dun say so early hor... U c already then say...</td>\n",
       "      <td>49</td>\n",
       "      <td>6</td>\n",
       "    </tr>\n",
       "    <tr>\n",
       "      <th>4</th>\n",
       "      <td>ham</td>\n",
       "      <td>Nah I don't think he goes to usf, he lives aro...</td>\n",
       "      <td>61</td>\n",
       "      <td>2</td>\n",
       "    </tr>\n",
       "  </tbody>\n",
       "</table>\n",
       "</div>"
      ],
      "text/plain": [
       "  label                                            message  length  punct\n",
       "0   ham  Go until jurong point, crazy.. Available only ...     111      9\n",
       "1   ham                      Ok lar... Joking wif u oni...      29      6\n",
       "2  spam  Free entry in 2 a wkly comp to win FA Cup fina...     155      6\n",
       "3   ham  U dun say so early hor... U c already then say...      49      6\n",
       "4   ham  Nah I don't think he goes to usf, he lives aro...      61      2"
      ]
     },
     "execution_count": 3,
     "metadata": {},
     "output_type": "execute_result"
    }
   ],
   "source": [
    "df = pd.read_csv(filepath_or_buffer=path, sep=\"\\t\")\n",
    "df.head()"
   ]
  },
  {
   "cell_type": "markdown",
   "id": "256566af",
   "metadata": {},
   "source": [
    "`EDA`"
   ]
  },
  {
   "cell_type": "code",
   "execution_count": 4,
   "id": "08132b75",
   "metadata": {},
   "outputs": [
    {
     "data": {
      "text/plain": [
       "label      0.0\n",
       "message    0.0\n",
       "length     0.0\n",
       "punct      0.0\n",
       "dtype: float64"
      ]
     },
     "execution_count": 4,
     "metadata": {},
     "output_type": "execute_result"
    }
   ],
   "source": [
    "df.isnull().mean()"
   ]
  },
  {
   "cell_type": "code",
   "execution_count": 5,
   "id": "b1aaf3a4",
   "metadata": {},
   "outputs": [
    {
     "data": {
      "text/plain": [
       "5572"
      ]
     },
     "execution_count": 5,
     "metadata": {},
     "output_type": "execute_result"
    }
   ],
   "source": [
    "len(df)"
   ]
  },
  {
   "cell_type": "code",
   "execution_count": 6,
   "id": "769c8b8d",
   "metadata": {},
   "outputs": [
    {
     "data": {
      "text/plain": [
       "ham     4825\n",
       "spam     747\n",
       "Name: label, dtype: int64"
      ]
     },
     "execution_count": 6,
     "metadata": {},
     "output_type": "execute_result"
    }
   ],
   "source": [
    "df[\"label\"].value_counts()"
   ]
  },
  {
   "cell_type": "code",
   "execution_count": 7,
   "id": "95bb054a",
   "metadata": {},
   "outputs": [
    {
     "data": {
      "image/png": "[encoded data removed]",
      "text/plain": [
       "<Figure size 432x288 with 1 Axes>"
      ]
     },
     "metadata": {
      "needs_background": "light"
     },
     "output_type": "display_data"
    }
   ],
   "source": [
    "sns.countplot(data=df, x=\"label\", alpha=0.5, palette={\"ham\": \"green\", \"spam\": \"red\"}, edgecolor=\"black\");"
   ]
  },
  {
   "cell_type": "markdown",
   "id": "a564cdec",
   "metadata": {},
   "source": [
    "`Text Preprocessing`"
   ]
  },
  {
   "cell_type": "code",
   "execution_count": 8,
   "id": "3b0dd048",
   "metadata": {},
   "outputs": [
    {
     "name": "stdout",
     "output_type": "stream",
     "text": [
      "Wall time: 540 ms\n"
     ]
    }
   ],
   "source": [
    "%%time\n",
    "\n",
    "import string\n",
    "import re\n",
    "import nltk\n",
    "from nltk.corpus import stopwords\n",
    "\n",
    "def remove_punctuation(input_text):\n",
    "\n",
    "    \"\"\" Remove punctuations like '!\"#$%&\\'()*+,-./:;<=>?@[\\\\]^_`{|}~' \"\"\"\n",
    "\n",
    "    #print(\"in remove_punctuation\\n\",input_text)\n",
    "    # Make translation table\n",
    "    input_text = str(input_text) # avoid thedange of being a series object\n",
    "    punct = string.punctuation\n",
    "    trantab = str.maketrans(punct, len(punct)*' ')  # Every punctuation symbol will be replaced by a space\n",
    "    return input_text.translate(trantab).encode('ascii', 'ignore').decode('utf8') # -> Final kick to clean up :)\n",
    "\n",
    "\n",
    "def remove_digits(input_text):\n",
    "\n",
    "    \"\"\" Remove numerical digits ranging from 0-9 \"\"\"\n",
    "    #print(\"in remove_digits\\n\",input_text)\n",
    "    return re.sub('\\d+', '', input_text)\n",
    "\n",
    "   \n",
    "def to_lower(input_text):\n",
    "\n",
    "    \"\"\" String handling, returns the lowercased strings from the given string \"\"\"\n",
    "    #print(\"in to_lower\\n\",input_text)\n",
    "    return input_text.lower()\n",
    "\n",
    "\n",
    "def remove_stopwords(input_text):\n",
    "\n",
    "    \"\"\" Remove the low-level information from our text in order to give more focus to the important information \"\"\"\n",
    "   #print(\"in remove_stopwords\\n\",input_text)\n",
    "    stopwords_list = stopwords.words('english')\n",
    "    newStopWords = ['citi']\n",
    "    stopwords_list.extend(newStopWords)\n",
    "\n",
    "    # Some words which might indicate a certain sentiment are kept via a whitelist\n",
    "    #whitelist = [\"n't\", \"not\", \"no\"]\n",
    "    whitelist = [\"n't\"]\n",
    "    words = input_text.split()\n",
    "    clean_words = [word for word in words if (word not in stopwords_list or word in whitelist) and len(word) > 2]         \n",
    "    return \" \".join(clean_words) # list -> string\n",
    "\n",
    " \n",
    "def expandShortsForms(input_text):\n",
    "    #print(\"in expandShortsForms\\n\",input_text)\n",
    "    return input_text.replace(\"can't\", \"can not\").replace(\"won't\", \"will not\")\n",
    "\n",
    "\n",
    "def lemmatize(input_text):\n",
    "\n",
    "    \"\"\" Return the base or dictionary form of a word, lemma \"\"\"\n",
    "    #print(\"in lemmatize\\n\",input_text)\n",
    "    outtext= \"\"\n",
    "    # Lemmatize\n",
    "    from nltk.stem import WordNetLemmatizer\n",
    "    from nltk import pos_tag, word_tokenize, wordnet\n",
    "    from nltk.corpus.reader.wordnet import WordNetError\n",
    "    lemmatizer = WordNetLemmatizer()\n",
    "\n",
    "    input_text = input_text.split()\n",
    "    for word in input_text:\n",
    "        # Get the single character pos constant from pos_tag like this:\n",
    "        pos_label = (pos_tag(word_tokenize(word))[0][1][0]).lower()\n",
    "\n",
    "        # pos_refs = {'n': ['NN', 'NNS', 'NNP', 'NNPS'],\n",
    "        #            'v': ['VB', 'VBD', 'VBG', 'VBN', 'VBP', 'VBZ'],\n",
    "        #            'r': ['RB', 'RBR', 'RBS'],\n",
    "        #            'a': ['JJ', 'JJR', 'JJS']}\n",
    "\n",
    "        if pos_label == 'j': pos_label = 'a'    # 'j' <--> 'a' reassignment\n",
    "\n",
    "        if pos_label in ['r']:  # For adverbs it's a bit different\n",
    "            try:\n",
    "                if len(wordnet.wordnet.synset(word+'.r.1').lemmas()[0].pertainyms()) > 0:\n",
    "                    outtext = outtext + ' ' +  (wordnet.wordnet.synset(word+'.r.1').lemmas()[0].pertainyms()[0].name())\n",
    "            except WordNetError:\n",
    "                pass\n",
    "            outtext = outtext + ' ' + word # To keep the word in the list\n",
    "        elif pos_label in ['a', 's', 'v']: # For adjectives and verbs\n",
    "            outtext = outtext +' ' + (lemmatizer.lemmatize(word, pos=pos_label))\n",
    "        else:   # For nouns and everything else as it is the default kwarg\n",
    "            outtext = outtext +' ' + (lemmatizer.lemmatize(word))\n",
    "       \n",
    "    return outtext\n",
    "\n",
    "       \n",
    "def execute_funcs(input_text, *args):\n",
    "    funcs = list(args)\n",
    "    for func in funcs:\n",
    "        input_text = func(input_text)\n",
    "    return input_text\n",
    "\n",
    "\n",
    "def apply_funcs(input_text):\n",
    "    clean_X = execute_funcs(input_text, to_lower, remove_punctuation, remove_digits, \n",
    "                            remove_stopwords, \n",
    "                            expandShortsForms, \n",
    "#                             lemmatize\n",
    "                           )\n",
    "    return clean_X"
   ]
  },
  {
   "cell_type": "markdown",
   "id": "98e7087e",
   "metadata": {},
   "source": [
    "`Model Training`"
   ]
  },
  {
   "cell_type": "code",
   "execution_count": 9,
   "id": "adba5590",
   "metadata": {
    "scrolled": false
   },
   "outputs": [
    {
     "name": "stdout",
     "output_type": "stream",
     "text": [
      "Wall time: 4.4 s\n"
     ]
    },
    {
     "data": {
      "text/plain": [
       "Pipeline(steps=[('columntransformer',\n",
       "                 ColumnTransformer(n_jobs=-1,\n",
       "                                   transformers=[('tfidfvectorizer',\n",
       "                                                  TfidfVectorizer(),\n",
       "                                                  'clean_message'),\n",
       "                                                 ('standardscaler',\n",
       "                                                  StandardScaler(),\n",
       "                                                  ['length', 'punct'])])),\n",
       "                ('lgbmclassifier', LGBMClassifier())])"
      ]
     },
     "execution_count": 9,
     "metadata": {},
     "output_type": "execute_result"
    }
   ],
   "source": [
    "%%time\n",
    "\n",
    "import warnings\n",
    "warnings.filterwarnings('ignore')\n",
    "\n",
    "df[\"clean_message\"] = df[\"message\"].apply(func=apply_funcs)\n",
    "\n",
    "y = df[\"label\"]\n",
    "X = df.drop(labels=\"label\", axis=1)\n",
    "\n",
    "from sklearn.model_selection import train_test_split\n",
    "\n",
    "X_train, X_test, y_train, y_test = train_test_split(X, y, test_size=0.2, random_state=0, shuffle=True, stratify=y)\n",
    "\n",
    "from sklearn.preprocessing import LabelEncoder\n",
    "\n",
    "enc = LabelEncoder()\n",
    "y_train = enc.fit_transform(y=y_train)\n",
    "y_test = enc.transform(y=y_test)\n",
    "\n",
    "\n",
    "from sklearn.compose import make_column_transformer\n",
    "from sklearn.feature_extraction.text import TfidfVectorizer, CountVectorizer\n",
    "from sklearn.preprocessing import StandardScaler\n",
    "\n",
    "# This is a shorthand for the ColumnTransformer constructor; it does not require, and does not permit, naming the \n",
    "# transformers.\n",
    "ct = make_column_transformer(\n",
    "    (TfidfVectorizer(), (\"clean_message\")),\n",
    "    (StandardScaler(), ([\"length\", \"punct\"])),\n",
    "    n_jobs=-1)\n",
    "\n",
    "from sklearn.pipeline import make_pipeline\n",
    "\n",
    "# CatBoostClassifier\n",
    "# from catboost import CatBoostClassifier\n",
    "# clf = make_pipeline(ct, CatBoostClassifier())\n",
    "\n",
    "# LGBMClassifier\n",
    "from lightgbm import LGBMClassifier\n",
    "clf = make_pipeline(ct, LGBMClassifier())\n",
    "\n",
    "# XGBClassifier\n",
    "# from xgboost import XGBClassifier\n",
    "# clf = make_pipeline(ct, XGBClassifier())\n",
    "\n",
    "# SGDClassifier\n",
    "# from sklearn.linear_model import SGDClassifier\n",
    "# clf = make_pipeline(ct, SGDClassifier()) \n",
    "\n",
    "# LogisticRegression\n",
    "# from sklearn.linear_model import LogisticRegression\n",
    "# clf = make_pipeline(ct, LogisticRegression()) \n",
    "\n",
    "# SVC linear\n",
    "# from sklearn.svm import SVC\n",
    "# clf = make_pipeline(ct, SVC(kernel='linear', random_state = 0)) \n",
    "\n",
    "# SVC rbf, Radial Basis Function\n",
    "# from sklearn.svm import SVC\n",
    "# clf = make_pipeline(ct, SVC(kernel='rbf', random_state = 0))\n",
    "\n",
    "# KNeighborsClassifier\n",
    "# from sklearn.neighbors import KNeighborsClassifier\n",
    "# clf = make_pipeline(ct, KNeighborsClassifier(n_neighbors=5, metric='minkowski', p=2)) \n",
    "\n",
    "# DecisionTreeClassifier\n",
    "# from sklearn.tree import DecisionTreeClassifier\n",
    "# clf = make_pipeline(ct, DecisionTreeClassifier(criterion='entropy', random_state=0)) \n",
    "\n",
    "# RandomForestClassifier\n",
    "# from sklearn.ensemble import RandomForestClassifier\n",
    "# clf = make_pipeline(ct, RandomForestClassifier(max_depth=5, n_estimators=10, max_features=1)) \n",
    "\n",
    "# AdaBoostClassifier\n",
    "# from sklearn.ensemble import AdaBoostClassifier\n",
    "# clf = make_pipeline(ct, AdaBoostClassifier()) \n",
    "\n",
    "# MLPClassifier\n",
    "# from sklearn.neural_network import MLPClassifier\n",
    "# clf = make_pipeline(ct, MLPClassifier(alpha=1, max_iter=1000)) \n",
    "\n",
    "clf.fit(X_train, y_train)"
   ]
  },
  {
   "cell_type": "markdown",
   "id": "e3390d72",
   "metadata": {},
   "source": [
    "`accuracy_score`, `precision_score`, `recall_score`, `f1_score`"
   ]
  },
  {
   "cell_type": "code",
   "execution_count": 10,
   "id": "741ecf68",
   "metadata": {},
   "outputs": [
    {
     "name": "stdout",
     "output_type": "stream",
     "text": [
      "0.9641255605381166\n",
      "0.916030534351145\n",
      "0.8053691275167785\n",
      "0.8571428571428571\n"
     ]
    }
   ],
   "source": [
    "from sklearn.metrics import accuracy_score, precision_score, recall_score, f1_score\n",
    "predictions = clf.predict(X_test)\n",
    "\n",
    "print(accuracy_score(y_true=y_test, y_pred=predictions))\n",
    "print(precision_score(y_true=y_test, y_pred=predictions))\n",
    "print(recall_score(y_true=y_test, y_pred=predictions))\n",
    "print(f1_score(y_true=y_test, y_pred=predictions))"
   ]
  },
  {
   "cell_type": "markdown",
   "id": "1bacbaa2",
   "metadata": {},
   "source": [
    "`classification_report`, `accuracy_score`, `clf.score`, `confusion_matrix`"
   ]
  },
  {
   "cell_type": "code",
   "execution_count": 11,
   "id": "33866434",
   "metadata": {},
   "outputs": [
    {
     "name": "stdout",
     "output_type": "stream",
     "text": [
      "              precision    recall  f1-score   support\n",
      "\n",
      "           0       0.97      0.99      0.98       966\n",
      "           1       0.92      0.81      0.86       149\n",
      "\n",
      "    accuracy                           0.96      1115\n",
      "   macro avg       0.94      0.90      0.92      1115\n",
      "weighted avg       0.96      0.96      0.96      1115\n",
      "\n",
      "0.9641255605381166\n",
      "0.9641255605381166\n",
      "0.9641255605381166\n",
      "[[955  11]\n",
      " [ 29 120]]\n"
     ]
    }
   ],
   "source": [
    "from sklearn.metrics import confusion_matrix, accuracy_score, classification_report\n",
    "predictions = clf.predict(X=X_test)\n",
    "\n",
    "print(classification_report(y_true=y_test, y_pred=predictions))\n",
    "\n",
    "# accuracy_score, default clf.score, \n",
    "print(accuracy_score(y_true=y_test, y_pred=predictions))\n",
    "print(clf.score(X=X_test, y=y_test))\n",
    "print(np.mean(a=y_test == predictions))\n",
    "\n",
    "print(confusion_matrix(y_true=y_test, y_pred=predictions))"
   ]
  },
  {
   "cell_type": "markdown",
   "id": "c2d8fc30",
   "metadata": {},
   "source": [
    "`pd.crosstab`"
   ]
  },
  {
   "cell_type": "code",
   "execution_count": 12,
   "id": "2c098fa0",
   "metadata": {},
   "outputs": [
    {
     "data": {
      "text/html": [
       "<div>\n",
       "<style scoped>\n",
       "    .dataframe tbody tr th:only-of-type {\n",
       "        vertical-align: middle;\n",
       "    }\n",
       "\n",
       "    .dataframe tbody tr th {\n",
       "        vertical-align: top;\n",
       "    }\n",
       "\n",
       "    .dataframe thead th {\n",
       "        text-align: right;\n",
       "    }\n",
       "</style>\n",
       "<table border=\"1\" class=\"dataframe\">\n",
       "  <thead>\n",
       "    <tr style=\"text-align: right;\">\n",
       "      <th>Predicted Label</th>\n",
       "      <th>0</th>\n",
       "      <th>1</th>\n",
       "    </tr>\n",
       "    <tr>\n",
       "      <th>Actual Label</th>\n",
       "      <th></th>\n",
       "      <th></th>\n",
       "    </tr>\n",
       "  </thead>\n",
       "  <tbody>\n",
       "    <tr>\n",
       "      <th>0</th>\n",
       "      <td>955</td>\n",
       "      <td>11</td>\n",
       "    </tr>\n",
       "    <tr>\n",
       "      <th>1</th>\n",
       "      <td>29</td>\n",
       "      <td>120</td>\n",
       "    </tr>\n",
       "  </tbody>\n",
       "</table>\n",
       "</div>"
      ],
      "text/plain": [
       "Predicted Label    0    1\n",
       "Actual Label             \n",
       "0                955   11\n",
       "1                 29  120"
      ]
     },
     "execution_count": 12,
     "metadata": {},
     "output_type": "execute_result"
    }
   ],
   "source": [
    "pd.crosstab(index=y_test, \n",
    "            columns=predictions, \n",
    "            rownames=[\"Actual Label\"], \n",
    "            colnames=[\"Predicted Label\"])"
   ]
  },
  {
   "cell_type": "markdown",
   "id": "ef44668f",
   "metadata": {},
   "source": [
    "`plot_confusion_matrix`"
   ]
  },
  {
   "cell_type": "code",
   "execution_count": 13,
   "id": "083ff456",
   "metadata": {},
   "outputs": [
    {
     "data": {
      "image/png": "[encoded data removed]",
      "text/plain": [
       "<Figure size 432x288 with 2 Axes>"
      ]
     },
     "metadata": {
      "needs_background": "light"
     },
     "output_type": "display_data"
    }
   ],
   "source": [
    "from sklearn.metrics import plot_confusion_matrix # deprecated \n",
    "plot_confusion_matrix(estimator=clf, X=X_test, y_true=y_test, cmap=\"Blues\");"
   ]
  },
  {
   "cell_type": "markdown",
   "id": "08935bbb",
   "metadata": {},
   "source": [
    "`ConfusionMatrixDisplay`"
   ]
  },
  {
   "cell_type": "code",
   "execution_count": 14,
   "id": "ad61d5d7",
   "metadata": {},
   "outputs": [
    {
     "data": {
      "text/plain": [
       "array([0, 1])"
      ]
     },
     "execution_count": 14,
     "metadata": {},
     "output_type": "execute_result"
    }
   ],
   "source": [
    "clf.classes_"
   ]
  },
  {
   "cell_type": "code",
   "execution_count": 15,
   "id": "5bd5d90c",
   "metadata": {},
   "outputs": [
    {
     "data": {
      "image/png": "[encoded data removed]",
      "text/plain": [
       "<Figure size 432x288 with 2 Axes>"
      ]
     },
     "metadata": {
      "needs_background": "light"
     },
     "output_type": "display_data"
    }
   ],
   "source": [
    "from sklearn.metrics import ConfusionMatrixDisplay \n",
    "ConfusionMatrixDisplay.from_predictions(y_true=y_test, y_pred=predictions, labels=clf.classes_, cmap=\"Blues\");"
   ]
  },
  {
   "cell_type": "code",
   "execution_count": 16,
   "id": "dbd3d191",
   "metadata": {},
   "outputs": [
    {
     "data": {
      "image/png": "[encoded data removed]",
      "text/plain": [
       "<Figure size 432x288 with 2 Axes>"
      ]
     },
     "metadata": {
      "needs_background": "light"
     },
     "output_type": "display_data"
    }
   ],
   "source": [
    "from sklearn.metrics import ConfusionMatrixDisplay\n",
    "ConfusionMatrixDisplay.from_estimator(estimator=clf, X=X_test, y=y_test);"
   ]
  },
  {
   "cell_type": "markdown",
   "id": "70cceabd",
   "metadata": {},
   "source": [
    "`set_config`"
   ]
  },
  {
   "cell_type": "code",
   "execution_count": 17,
   "id": "5b2a9984",
   "metadata": {},
   "outputs": [
    {
     "data": {
      "text/html": [
       "<style>#sk-ad31da53-67b6-4a6a-88bd-4d96d7fbbb98 {color: black;background-color: white;}#sk-ad31da53-67b6-4a6a-88bd-4d96d7fbbb98 pre{padding: 0;}#sk-ad31da53-67b6-4a6a-88bd-4d96d7fbbb98 div.sk-toggleable {background-color: white;}#sk-ad31da53-67b6-4a6a-88bd-4d96d7fbbb98 label.sk-toggleable__label {cursor: pointer;display: block;width: 100%;margin-bottom: 0;padding: 0.3em;box-sizing: border-box;text-align: center;}#sk-ad31da53-67b6-4a6a-88bd-4d96d7fbbb98 div.sk-toggleable__content {max-height: 0;max-width: 0;overflow: hidden;text-align: left;background-color: #f0f8ff;}#sk-ad31da53-67b6-4a6a-88bd-4d96d7fbbb98 div.sk-toggleable__content pre {margin: 0.2em;color: black;border-radius: 0.25em;background-color: #f0f8ff;}#sk-ad31da53-67b6-4a6a-88bd-4d96d7fbbb98 input.sk-toggleable__control:checked~div.sk-toggleable__content {max-height: 200px;max-width: 100%;overflow: auto;}#sk-ad31da53-67b6-4a6a-88bd-4d96d7fbbb98 div.sk-estimator input.sk-toggleable__control:checked~label.sk-toggleable__label {background-color: #d4ebff;}#sk-ad31da53-67b6-4a6a-88bd-4d96d7fbbb98 div.sk-label input.sk-toggleable__control:checked~label.sk-toggleable__label {background-color: #d4ebff;}#sk-ad31da53-67b6-4a6a-88bd-4d96d7fbbb98 input.sk-hidden--visually {border: 0;clip: rect(1px 1px 1px 1px);clip: rect(1px, 1px, 1px, 1px);height: 1px;margin: -1px;overflow: hidden;padding: 0;position: absolute;width: 1px;}#sk-ad31da53-67b6-4a6a-88bd-4d96d7fbbb98 div.sk-estimator {font-family: monospace;background-color: #f0f8ff;border: 1px dotted black;border-radius: 0.25em;box-sizing: border-box;margin-bottom: 0.5em;}#sk-ad31da53-67b6-4a6a-88bd-4d96d7fbbb98 div.sk-estimator:hover {background-color: #d4ebff;}#sk-ad31da53-67b6-4a6a-88bd-4d96d7fbbb98 div.sk-parallel-item::after {content: \"\";width: 100%;border-bottom: 1px solid gray;flex-grow: 1;}#sk-ad31da53-67b6-4a6a-88bd-4d96d7fbbb98 div.sk-label:hover label.sk-toggleable__label {background-color: #d4ebff;}#sk-ad31da53-67b6-4a6a-88bd-4d96d7fbbb98 div.sk-serial::before {content: \"\";position: absolute;border-left: 1px solid gray;box-sizing: border-box;top: 2em;bottom: 0;left: 50%;}#sk-ad31da53-67b6-4a6a-88bd-4d96d7fbbb98 div.sk-serial {display: flex;flex-direction: column;align-items: center;background-color: white;padding-right: 0.2em;padding-left: 0.2em;}#sk-ad31da53-67b6-4a6a-88bd-4d96d7fbbb98 div.sk-item {z-index: 1;}#sk-ad31da53-67b6-4a6a-88bd-4d96d7fbbb98 div.sk-parallel {display: flex;align-items: stretch;justify-content: center;background-color: white;}#sk-ad31da53-67b6-4a6a-88bd-4d96d7fbbb98 div.sk-parallel::before {content: \"\";position: absolute;border-left: 1px solid gray;box-sizing: border-box;top: 2em;bottom: 0;left: 50%;}#sk-ad31da53-67b6-4a6a-88bd-4d96d7fbbb98 div.sk-parallel-item {display: flex;flex-direction: column;position: relative;background-color: white;}#sk-ad31da53-67b6-4a6a-88bd-4d96d7fbbb98 div.sk-parallel-item:first-child::after {align-self: flex-end;width: 50%;}#sk-ad31da53-67b6-4a6a-88bd-4d96d7fbbb98 div.sk-parallel-item:last-child::after {align-self: flex-start;width: 50%;}#sk-ad31da53-67b6-4a6a-88bd-4d96d7fbbb98 div.sk-parallel-item:only-child::after {width: 0;}#sk-ad31da53-67b6-4a6a-88bd-4d96d7fbbb98 div.sk-dashed-wrapped {border: 1px dashed gray;margin: 0 0.4em 0.5em 0.4em;box-sizing: border-box;padding-bottom: 0.4em;background-color: white;position: relative;}#sk-ad31da53-67b6-4a6a-88bd-4d96d7fbbb98 div.sk-label label {font-family: monospace;font-weight: bold;background-color: white;display: inline-block;line-height: 1.2em;}#sk-ad31da53-67b6-4a6a-88bd-4d96d7fbbb98 div.sk-label-container {position: relative;z-index: 2;text-align: center;}#sk-ad31da53-67b6-4a6a-88bd-4d96d7fbbb98 div.sk-container {display: inline-block;position: relative;}</style><div id=\"sk-ad31da53-67b6-4a6a-88bd-4d96d7fbbb98\" class\"sk-top-container\"><div class=\"sk-container\"><div class=\"sk-item sk-dashed-wrapped\"><div class=\"sk-label-container\"><div class=\"sk-label sk-toggleable\"><input class=\"sk-toggleable__control sk-hidden--visually\" id=\"74079201-1154-4887-a3a8-7b8d6bbbfab3\" type=\"checkbox\" ><label class=\"sk-toggleable__label\" for=\"74079201-1154-4887-a3a8-7b8d6bbbfab3\">Pipeline</label><div class=\"sk-toggleable__content\"><pre>Pipeline(steps=[('columntransformer',\n",
       "                 ColumnTransformer(n_jobs=-1,\n",
       "                                   transformers=[('tfidfvectorizer',\n",
       "                                                  TfidfVectorizer(),\n",
       "                                                  'clean_message'),\n",
       "                                                 ('standardscaler',\n",
       "                                                  StandardScaler(),\n",
       "                                                  ['length', 'punct'])])),\n",
       "                ('lgbmclassifier', LGBMClassifier())])</pre></div></div></div><div class=\"sk-serial\"><div class=\"sk-item sk-dashed-wrapped\"><div class=\"sk-label-container\"><div class=\"sk-label sk-toggleable\"><input class=\"sk-toggleable__control sk-hidden--visually\" id=\"f2fbe439-9ce7-4b14-b5df-9600921ec9ab\" type=\"checkbox\" ><label class=\"sk-toggleable__label\" for=\"f2fbe439-9ce7-4b14-b5df-9600921ec9ab\">columntransformer: ColumnTransformer</label><div class=\"sk-toggleable__content\"><pre>ColumnTransformer(n_jobs=-1,\n",
       "                  transformers=[('tfidfvectorizer', TfidfVectorizer(),\n",
       "                                 'clean_message'),\n",
       "                                ('standardscaler', StandardScaler(),\n",
       "                                 ['length', 'punct'])])</pre></div></div></div><div class=\"sk-parallel\"><div class=\"sk-parallel-item\"><div class=\"sk-item\"><div class=\"sk-label-container\"><div class=\"sk-label sk-toggleable\"><input class=\"sk-toggleable__control sk-hidden--visually\" id=\"f07d82d5-990b-4176-9afd-e7004828c23a\" type=\"checkbox\" ><label class=\"sk-toggleable__label\" for=\"f07d82d5-990b-4176-9afd-e7004828c23a\">tfidfvectorizer</label><div class=\"sk-toggleable__content\"><pre>clean_message</pre></div></div></div><div class=\"sk-serial\"><div class=\"sk-item\"><div class=\"sk-estimator sk-toggleable\"><input class=\"sk-toggleable__control sk-hidden--visually\" id=\"1c4f71fc-4a40-4e93-b117-84d9779b8355\" type=\"checkbox\" ><label class=\"sk-toggleable__label\" for=\"1c4f71fc-4a40-4e93-b117-84d9779b8355\">TfidfVectorizer</label><div class=\"sk-toggleable__content\"><pre>TfidfVectorizer()</pre></div></div></div></div></div></div><div class=\"sk-parallel-item\"><div class=\"sk-item\"><div class=\"sk-label-container\"><div class=\"sk-label sk-toggleable\"><input class=\"sk-toggleable__control sk-hidden--visually\" id=\"60a68ab7-0e85-41e7-8115-c990f33b6a3f\" type=\"checkbox\" ><label class=\"sk-toggleable__label\" for=\"60a68ab7-0e85-41e7-8115-c990f33b6a3f\">standardscaler</label><div class=\"sk-toggleable__content\"><pre>['length', 'punct']</pre></div></div></div><div class=\"sk-serial\"><div class=\"sk-item\"><div class=\"sk-estimator sk-toggleable\"><input class=\"sk-toggleable__control sk-hidden--visually\" id=\"24039694-d042-4b79-80bd-ca3dd6ce3ef3\" type=\"checkbox\" ><label class=\"sk-toggleable__label\" for=\"24039694-d042-4b79-80bd-ca3dd6ce3ef3\">StandardScaler</label><div class=\"sk-toggleable__content\"><pre>StandardScaler()</pre></div></div></div></div></div></div></div></div><div class=\"sk-item\"><div class=\"sk-estimator sk-toggleable\"><input class=\"sk-toggleable__control sk-hidden--visually\" id=\"0e6009a0-6f97-4e43-95f1-38d89b7db520\" type=\"checkbox\" ><label class=\"sk-toggleable__label\" for=\"0e6009a0-6f97-4e43-95f1-38d89b7db520\">LGBMClassifier</label><div class=\"sk-toggleable__content\"><pre>LGBMClassifier()</pre></div></div></div></div></div></div></div>"
      ],
      "text/plain": [
       "Pipeline(steps=[('columntransformer',\n",
       "                 ColumnTransformer(n_jobs=-1,\n",
       "                                   transformers=[('tfidfvectorizer',\n",
       "                                                  TfidfVectorizer(),\n",
       "                                                  'clean_message'),\n",
       "                                                 ('standardscaler',\n",
       "                                                  StandardScaler(),\n",
       "                                                  ['length', 'punct'])])),\n",
       "                ('lgbmclassifier', LGBMClassifier())])"
      ]
     },
     "execution_count": 17,
     "metadata": {},
     "output_type": "execute_result"
    }
   ],
   "source": [
    "from sklearn import set_config\n",
    "set_config(display=\"diagram\")\n",
    "clf"
   ]
  },
  {
   "cell_type": "markdown",
   "id": "78cdf3b7",
   "metadata": {},
   "source": [
    "`get_params`"
   ]
  },
  {
   "cell_type": "code",
   "execution_count": 18,
   "id": "7942d2d3",
   "metadata": {},
   "outputs": [],
   "source": [
    "# clf.get_params()"
   ]
  },
  {
   "cell_type": "markdown",
   "id": "21166439",
   "metadata": {},
   "source": [
    "`cross validation` with `accuracy/None`"
   ]
  },
  {
   "cell_type": "code",
   "execution_count": 19,
   "id": "62b1dbfa",
   "metadata": {},
   "outputs": [
    {
     "name": "stdout",
     "output_type": "stream",
     "text": [
      "Wall time: 2.26 s\n"
     ]
    },
    {
     "data": {
      "text/plain": [
       "array([0.97578475, 0.97847534, 0.97307002, 0.97755835, 0.97576302])"
      ]
     },
     "execution_count": 19,
     "metadata": {},
     "output_type": "execute_result"
    }
   ],
   "source": [
    "%%time\n",
    "from sklearn.model_selection import cross_val_score\n",
    "# use 5-fold cross-validation, if scoring=None, it means using default scoreing method, accuracy\n",
    "cross_val_score(estimator=clf, X=X, y=y, cv=5, scoring=None) "
   ]
  },
  {
   "cell_type": "code",
   "execution_count": 20,
   "id": "29e20551",
   "metadata": {},
   "outputs": [
    {
     "data": {
      "text/plain": [
       "0.9761302944183686"
      ]
     },
     "execution_count": 20,
     "metadata": {},
     "output_type": "execute_result"
    }
   ],
   "source": [
    "np.mean(cross_val_score(estimator=clf, X=X, y=y, cv=5, scoring=None))"
   ]
  },
  {
   "cell_type": "markdown",
   "id": "4835ef4d",
   "metadata": {},
   "source": [
    "`cross validation` with `precision`, `recall` and `f1`"
   ]
  },
  {
   "cell_type": "code",
   "execution_count": 21,
   "id": "f86d4861",
   "metadata": {},
   "outputs": [],
   "source": [
    "# %%time\n",
    "# from sklearn.model_selection import cross_val_score\n",
    "\n",
    "# cross_val_score(estimator=clf, X=X, y=y, cv=5, scoring=\"precision\") \n",
    "# cross_val_score(estimator=clf, X=X, y=y, cv=5, scoring=\"recall\") \n",
    "# cross_val_score(estimator=clf, X=X, y=y, cv=5, scoring=\"f1\") "
   ]
  },
  {
   "cell_type": "markdown",
   "id": "41aac5b5",
   "metadata": {},
   "source": [
    "`predict_proba`"
   ]
  },
  {
   "cell_type": "code",
   "execution_count": 22,
   "id": "ad574113",
   "metadata": {},
   "outputs": [],
   "source": [
    "# You can also predict with probabilities (on classification models)\n",
    "y_probs = clf.predict_proba(X_test)"
   ]
  },
  {
   "cell_type": "code",
   "execution_count": 23,
   "id": "09b65e1c",
   "metadata": {},
   "outputs": [
    {
     "data": {
      "text/plain": [
       "array([[9.93350950e-01, 6.64905014e-03],\n",
       "       [9.97295777e-01, 2.70422342e-03],\n",
       "       [9.98318360e-01, 1.68164027e-03],\n",
       "       ...,\n",
       "       [9.96790750e-01, 3.20925045e-03],\n",
       "       [9.99787172e-01, 2.12828099e-04],\n",
       "       [9.99907981e-01, 9.20186531e-05]])"
      ]
     },
     "execution_count": 23,
     "metadata": {},
     "output_type": "execute_result"
    }
   ],
   "source": [
    "y_probs"
   ]
  },
  {
   "cell_type": "code",
   "execution_count": 24,
   "id": "9c68b75e",
   "metadata": {},
   "outputs": [
    {
     "data": {
      "text/plain": [
       "array([6.64905014e-03, 2.70422342e-03, 1.68164027e-03, ...,\n",
       "       3.20925045e-03, 2.12828099e-04, 9.20186531e-05])"
      ]
     },
     "execution_count": 24,
     "metadata": {},
     "output_type": "execute_result"
    }
   ],
   "source": [
    "y_probs[:, 1]"
   ]
  },
  {
   "cell_type": "markdown",
   "id": "a5706a71",
   "metadata": {},
   "source": [
    "`roc_curve`"
   ]
  },
  {
   "cell_type": "code",
   "execution_count": 25,
   "id": "7b99df32",
   "metadata": {},
   "outputs": [],
   "source": [
    "from sklearn.metrics import roc_curve, roc_auc_score, auc\n",
    "# Receiver Operating Characteristic (ROC curve)\n",
    "# 观测者操作特性曲线\n",
    "false_positive_rate, true_positive_rate, thresholds = roc_curve(y_true=y_test, y_score=y_probs[:, 1])"
   ]
  },
  {
   "cell_type": "code",
   "execution_count": 26,
   "id": "8a619184",
   "metadata": {},
   "outputs": [
    {
     "data": {
      "image/png": "[encoded data removed]",
      "text/plain": [
       "<Figure size 432x288 with 1 Axes>"
      ]
     },
     "metadata": {
      "needs_background": "light"
     },
     "output_type": "display_data"
    }
   ],
   "source": [
    "from sklearn.metrics import plot_roc_curve # deprecated \n",
    "plot_roc_curve(estimator=clf, X=X_test, y=y_test);"
   ]
  },
  {
   "cell_type": "code",
   "execution_count": 27,
   "id": "4cfa1b87",
   "metadata": {},
   "outputs": [
    {
     "data": {
      "image/png": "[encoded data removed]",
      "text/plain": [
       "<Figure size 432x288 with 1 Axes>"
      ]
     },
     "metadata": {
      "needs_background": "light"
     },
     "output_type": "display_data"
    }
   ],
   "source": [
    "from sklearn.metrics import RocCurveDisplay\n",
    "RocCurveDisplay.from_predictions(y_true=y_test, y_pred=predictions);"
   ]
  },
  {
   "cell_type": "code",
   "execution_count": 28,
   "id": "62f95915",
   "metadata": {},
   "outputs": [
    {
     "data": {
      "image/png": "[encoded data removed]",
      "text/plain": [
       "<Figure size 432x288 with 1 Axes>"
      ]
     },
     "metadata": {
      "needs_background": "light"
     },
     "output_type": "display_data"
    }
   ],
   "source": [
    "from sklearn.metrics import RocCurveDisplay\n",
    "RocCurveDisplay.from_estimator(estimator=clf, X=X_test, y=y_test);"
   ]
  },
  {
   "cell_type": "code",
   "execution_count": 29,
   "id": "27393222",
   "metadata": {},
   "outputs": [
    {
     "data": {
      "image/png": "[encoded data removed]",
      "text/plain": [
       "<Figure size 432x288 with 1 Axes>"
      ]
     },
     "metadata": {
      "needs_background": "light"
     },
     "output_type": "display_data"
    }
   ],
   "source": [
    "def plot_roc_curve(fpr, tpr):\n",
    "    \"\"\"\n",
    "    Plots a ROC curve given the false positve rate (fpr) and \n",
    "    true postive rate (tpr) of a classifier.\n",
    "    \"\"\"\n",
    "    # Plot ROC curve\n",
    "    plt.plot(fpr, tpr, color='orange', label='ROC')\n",
    "    # Plot line with no predictive power (baseline)\n",
    "    plt.plot([0, 1], [0, 1], color='darkblue', linestyle='--', label='Guessing')\n",
    "    # Customize the plot\n",
    "    plt.xlabel('False Positive Rate')\n",
    "    plt.ylabel('True Positive Rate')\n",
    "    plt.title('Receiver Operating Characteristic (ROC) Curve')\n",
    "    plt.legend()\n",
    "    plt.show()\n",
    "    \n",
    "plot_roc_curve(false_positive_rate, true_positive_rate)"
   ]
  },
  {
   "cell_type": "markdown",
   "id": "8df5eef9",
   "metadata": {},
   "source": [
    "`auc`"
   ]
  },
  {
   "cell_type": "code",
   "execution_count": 30,
   "id": "9bb0f0d3",
   "metadata": {},
   "outputs": [
    {
     "data": {
      "text/plain": [
       "0.9856878847249433"
      ]
     },
     "execution_count": 30,
     "metadata": {},
     "output_type": "execute_result"
    }
   ],
   "source": [
    "# Compute Area Under the Curve (AUC) using the trapezoidal rule\n",
    "auc(x=false_positive_rate, y=true_positive_rate)"
   ]
  },
  {
   "cell_type": "markdown",
   "id": "5d79d535",
   "metadata": {},
   "source": [
    "`roc_auc_score`"
   ]
  },
  {
   "cell_type": "code",
   "execution_count": 31,
   "id": "2a966259",
   "metadata": {},
   "outputs": [
    {
     "data": {
      "text/plain": [
       "0.896990981977851"
      ]
     },
     "execution_count": 31,
     "metadata": {},
     "output_type": "execute_result"
    }
   ],
   "source": [
    "# Area under curve (AUC)\n",
    "# AUC值为ROC曲线所覆盖的区域面积，显然，AUC越大，分类器分类效果越好。\n",
    "roc_auc_score(y_true=y_test, y_score=predictions)"
   ]
  },
  {
   "cell_type": "markdown",
   "id": "4c7519c2",
   "metadata": {},
   "source": [
    "__perfect ROC curve__"
   ]
  },
  {
   "cell_type": "code",
   "execution_count": 32,
   "id": "0fd16402",
   "metadata": {},
   "outputs": [
    {
     "data": {
      "image/png": "[encoded data removed]",
      "text/plain": [
       "<Figure size 432x288 with 1 Axes>"
      ]
     },
     "metadata": {
      "needs_background": "light"
     },
     "output_type": "display_data"
    }
   ],
   "source": [
    "# Plot perfect ROC curve\n",
    "false_positive_rate, true_positive_rate, thresholds = roc_curve(y_true=y_test, y_score=y_test)\n",
    "plot_roc_curve(false_positive_rate, true_positive_rate)"
   ]
  },
  {
   "cell_type": "code",
   "execution_count": 33,
   "id": "19c8d93a",
   "metadata": {},
   "outputs": [
    {
     "data": {
      "text/plain": [
       "1.0"
      ]
     },
     "execution_count": 33,
     "metadata": {},
     "output_type": "execute_result"
    }
   ],
   "source": [
    "# Perfect ROC AUC score\n",
    "roc_auc_score(y_true=y_test, y_score=y_test)"
   ]
  },
  {
   "cell_type": "markdown",
   "id": "073d6c82",
   "metadata": {},
   "source": [
    "`save modle pickle`"
   ]
  },
  {
   "cell_type": "code",
   "execution_count": 34,
   "id": "bd4cbd3a",
   "metadata": {},
   "outputs": [],
   "source": [
    "import pickle\n",
    "# Save trained model to pkl file\n",
    "pickle.dump(obj=clf, file=open(\"nlp_movie_pkl_clf.pkl\", \"wb\"))"
   ]
  },
  {
   "cell_type": "code",
   "execution_count": 35,
   "id": "a23cb36d",
   "metadata": {},
   "outputs": [],
   "source": [
    "# load model \n",
    "loaded_pkl_clf = pickle.load(file=open(\"nlp_movie_pkl_clf.pkl\", \"rb\"))"
   ]
  },
  {
   "cell_type": "markdown",
   "id": "db3ea1d1",
   "metadata": {},
   "source": [
    "`save model joblib`"
   ]
  },
  {
   "cell_type": "code",
   "execution_count": 36,
   "id": "b1c9417a",
   "metadata": {},
   "outputs": [
    {
     "data": {
      "text/plain": [
       "['nlp_movie_joblib_clf.joblib']"
      ]
     },
     "execution_count": 36,
     "metadata": {},
     "output_type": "execute_result"
    }
   ],
   "source": [
    "from joblib import dump, load\n",
    "# Save trained model to joblib file\n",
    "dump(value=clf, filename=\"nlp_movie_joblib_clf.joblib\")"
   ]
  },
  {
   "cell_type": "code",
   "execution_count": 37,
   "id": "1fc968dd",
   "metadata": {},
   "outputs": [],
   "source": [
    "# load model \n",
    "loaded_joblib_clf = load(filename=\"nlp_movie_joblib_clf.joblib\")"
   ]
  },
  {
   "cell_type": "markdown",
   "id": "4df8f614",
   "metadata": {},
   "source": [
    "`predict`"
   ]
  },
  {
   "cell_type": "code",
   "execution_count": 38,
   "id": "06ef5659",
   "metadata": {},
   "outputs": [
    {
     "data": {
      "text/html": [
       "<div>\n",
       "<style scoped>\n",
       "    .dataframe tbody tr th:only-of-type {\n",
       "        vertical-align: middle;\n",
       "    }\n",
       "\n",
       "    .dataframe tbody tr th {\n",
       "        vertical-align: top;\n",
       "    }\n",
       "\n",
       "    .dataframe thead th {\n",
       "        text-align: right;\n",
       "    }\n",
       "</style>\n",
       "<table border=\"1\" class=\"dataframe\">\n",
       "  <thead>\n",
       "    <tr style=\"text-align: right;\">\n",
       "      <th></th>\n",
       "      <th>clean_message</th>\n",
       "      <th>length</th>\n",
       "      <th>punct</th>\n",
       "    </tr>\n",
       "  </thead>\n",
       "  <tbody>\n",
       "    <tr>\n",
       "      <th>0</th>\n",
       "      <td>I don't know</td>\n",
       "      <td>12</td>\n",
       "      <td>2</td>\n",
       "    </tr>\n",
       "  </tbody>\n",
       "</table>\n",
       "</div>"
      ],
      "text/plain": [
       "  clean_message  length  punct\n",
       "0  I don't know      12      2"
      ]
     },
     "execution_count": 38,
     "metadata": {},
     "output_type": "execute_result"
    }
   ],
   "source": [
    "tmp_df = pd.DataFrame(data={\"clean_message\": \"I don't know\", \"length\": 12, \"punct\": 2}, index=[0])\n",
    "tmp_df"
   ]
  },
  {
   "cell_type": "code",
   "execution_count": 39,
   "id": "f00039f8",
   "metadata": {
    "scrolled": true
   },
   "outputs": [
    {
     "data": {
      "text/plain": [
       "array([0])"
      ]
     },
     "execution_count": 39,
     "metadata": {},
     "output_type": "execute_result"
    }
   ],
   "source": [
    "loaded_pkl_clf.predict(tmp_df)"
   ]
  },
  {
   "cell_type": "code",
   "execution_count": 40,
   "id": "22054ea6",
   "metadata": {},
   "outputs": [
    {
     "data": {
      "text/plain": [
       "array([0])"
      ]
     },
     "execution_count": 40,
     "metadata": {},
     "output_type": "execute_result"
    }
   ],
   "source": [
    "loaded_joblib_clf.predict(tmp_df)"
   ]
  },
  {
   "cell_type": "markdown",
   "id": "7b5e5b10",
   "metadata": {},
   "source": [
    "`itertuples()`"
   ]
  },
  {
   "cell_type": "code",
   "execution_count": 41,
   "id": "85a81e73",
   "metadata": {},
   "outputs": [
    {
     "data": {
      "text/html": [
       "<div>\n",
       "<style scoped>\n",
       "    .dataframe tbody tr th:only-of-type {\n",
       "        vertical-align: middle;\n",
       "    }\n",
       "\n",
       "    .dataframe tbody tr th {\n",
       "        vertical-align: top;\n",
       "    }\n",
       "\n",
       "    .dataframe thead th {\n",
       "        text-align: right;\n",
       "    }\n",
       "</style>\n",
       "<table border=\"1\" class=\"dataframe\">\n",
       "  <thead>\n",
       "    <tr style=\"text-align: right;\">\n",
       "      <th></th>\n",
       "      <th>label</th>\n",
       "      <th>message</th>\n",
       "      <th>length</th>\n",
       "      <th>punct</th>\n",
       "      <th>clean_message</th>\n",
       "    </tr>\n",
       "  </thead>\n",
       "  <tbody>\n",
       "    <tr>\n",
       "      <th>0</th>\n",
       "      <td>ham</td>\n",
       "      <td>Go until jurong point, crazy.. Available only ...</td>\n",
       "      <td>111</td>\n",
       "      <td>9</td>\n",
       "      <td>jurong point crazy available bugis great world...</td>\n",
       "    </tr>\n",
       "    <tr>\n",
       "      <th>1</th>\n",
       "      <td>ham</td>\n",
       "      <td>Ok lar... Joking wif u oni...</td>\n",
       "      <td>29</td>\n",
       "      <td>6</td>\n",
       "      <td>lar joking wif oni</td>\n",
       "    </tr>\n",
       "    <tr>\n",
       "      <th>2</th>\n",
       "      <td>spam</td>\n",
       "      <td>Free entry in 2 a wkly comp to win FA Cup fina...</td>\n",
       "      <td>155</td>\n",
       "      <td>6</td>\n",
       "      <td>free entry wkly comp win cup final tkts may te...</td>\n",
       "    </tr>\n",
       "    <tr>\n",
       "      <th>3</th>\n",
       "      <td>ham</td>\n",
       "      <td>U dun say so early hor... U c already then say...</td>\n",
       "      <td>49</td>\n",
       "      <td>6</td>\n",
       "      <td>dun say early hor already say</td>\n",
       "    </tr>\n",
       "    <tr>\n",
       "      <th>4</th>\n",
       "      <td>ham</td>\n",
       "      <td>Nah I don't think he goes to usf, he lives aro...</td>\n",
       "      <td>61</td>\n",
       "      <td>2</td>\n",
       "      <td>nah think goes usf lives around though</td>\n",
       "    </tr>\n",
       "  </tbody>\n",
       "</table>\n",
       "</div>"
      ],
      "text/plain": [
       "  label                                            message  length  punct  \\\n",
       "0   ham  Go until jurong point, crazy.. Available only ...     111      9   \n",
       "1   ham                      Ok lar... Joking wif u oni...      29      6   \n",
       "2  spam  Free entry in 2 a wkly comp to win FA Cup fina...     155      6   \n",
       "3   ham  U dun say so early hor... U c already then say...      49      6   \n",
       "4   ham  Nah I don't think he goes to usf, he lives aro...      61      2   \n",
       "\n",
       "                                       clean_message  \n",
       "0  jurong point crazy available bugis great world...  \n",
       "1                                 lar joking wif oni  \n",
       "2  free entry wkly comp win cup final tkts may te...  \n",
       "3                      dun say early hor already say  \n",
       "4             nah think goes usf lives around though  "
      ]
     },
     "execution_count": 41,
     "metadata": {},
     "output_type": "execute_result"
    }
   ],
   "source": [
    "df.head()"
   ]
  },
  {
   "cell_type": "code",
   "execution_count": 42,
   "id": "69443cb8",
   "metadata": {},
   "outputs": [
    {
     "name": "stdout",
     "output_type": "stream",
     "text": [
      "0 ham Go until jurong point, crazy.. Available only in bugis n great world la e buffet... Cine there got amore wat... 111 9 jurong point crazy available bugis great world buffet cine got amore wat\n"
     ]
    }
   ],
   "source": [
    "for index, col1_value, col2_value, col3_value, col4_value, col5_value in df.itertuples():\n",
    "    print(index, col1_value, col2_value, col3_value, col4_value, col5_value)\n",
    "    break"
   ]
  },
  {
   "cell_type": "markdown",
   "id": "fe31c248",
   "metadata": {},
   "source": [
    "`InteractiveShell`"
   ]
  },
  {
   "cell_type": "code",
   "execution_count": 43,
   "id": "00b27955",
   "metadata": {},
   "outputs": [],
   "source": [
    "from IPython.core.interactiveshell import InteractiveShell\n",
    "\n",
    "InteractiveShell.ast_node_interactivity = \"all\""
   ]
  },
  {
   "cell_type": "code",
   "execution_count": 44,
   "id": "56e286fd",
   "metadata": {},
   "outputs": [
    {
     "data": {
      "text/html": [
       "<div>\n",
       "<style scoped>\n",
       "    .dataframe tbody tr th:only-of-type {\n",
       "        vertical-align: middle;\n",
       "    }\n",
       "\n",
       "    .dataframe tbody tr th {\n",
       "        vertical-align: top;\n",
       "    }\n",
       "\n",
       "    .dataframe thead th {\n",
       "        text-align: right;\n",
       "    }\n",
       "</style>\n",
       "<table border=\"1\" class=\"dataframe\">\n",
       "  <thead>\n",
       "    <tr style=\"text-align: right;\">\n",
       "      <th></th>\n",
       "      <th>label</th>\n",
       "      <th>message</th>\n",
       "      <th>length</th>\n",
       "      <th>punct</th>\n",
       "      <th>clean_message</th>\n",
       "    </tr>\n",
       "  </thead>\n",
       "  <tbody>\n",
       "    <tr>\n",
       "      <th>0</th>\n",
       "      <td>ham</td>\n",
       "      <td>Go until jurong point, crazy.. Available only ...</td>\n",
       "      <td>111</td>\n",
       "      <td>9</td>\n",
       "      <td>jurong point crazy available bugis great world...</td>\n",
       "    </tr>\n",
       "    <tr>\n",
       "      <th>1</th>\n",
       "      <td>ham</td>\n",
       "      <td>Ok lar... Joking wif u oni...</td>\n",
       "      <td>29</td>\n",
       "      <td>6</td>\n",
       "      <td>lar joking wif oni</td>\n",
       "    </tr>\n",
       "    <tr>\n",
       "      <th>2</th>\n",
       "      <td>spam</td>\n",
       "      <td>Free entry in 2 a wkly comp to win FA Cup fina...</td>\n",
       "      <td>155</td>\n",
       "      <td>6</td>\n",
       "      <td>free entry wkly comp win cup final tkts may te...</td>\n",
       "    </tr>\n",
       "    <tr>\n",
       "      <th>3</th>\n",
       "      <td>ham</td>\n",
       "      <td>U dun say so early hor... U c already then say...</td>\n",
       "      <td>49</td>\n",
       "      <td>6</td>\n",
       "      <td>dun say early hor already say</td>\n",
       "    </tr>\n",
       "    <tr>\n",
       "      <th>4</th>\n",
       "      <td>ham</td>\n",
       "      <td>Nah I don't think he goes to usf, he lives aro...</td>\n",
       "      <td>61</td>\n",
       "      <td>2</td>\n",
       "      <td>nah think goes usf lives around though</td>\n",
       "    </tr>\n",
       "  </tbody>\n",
       "</table>\n",
       "</div>"
      ],
      "text/plain": [
       "  label                                            message  length  punct  \\\n",
       "0   ham  Go until jurong point, crazy.. Available only ...     111      9   \n",
       "1   ham                      Ok lar... Joking wif u oni...      29      6   \n",
       "2  spam  Free entry in 2 a wkly comp to win FA Cup fina...     155      6   \n",
       "3   ham  U dun say so early hor... U c already then say...      49      6   \n",
       "4   ham  Nah I don't think he goes to usf, he lives aro...      61      2   \n",
       "\n",
       "                                       clean_message  \n",
       "0  jurong point crazy available bugis great world...  \n",
       "1                                 lar joking wif oni  \n",
       "2  free entry wkly comp win cup final tkts may te...  \n",
       "3                      dun say early hor already say  \n",
       "4             nah think goes usf lives around though  "
      ]
     },
     "execution_count": 44,
     "metadata": {},
     "output_type": "execute_result"
    },
    {
     "data": {
      "text/html": [
       "<div>\n",
       "<style scoped>\n",
       "    .dataframe tbody tr th:only-of-type {\n",
       "        vertical-align: middle;\n",
       "    }\n",
       "\n",
       "    .dataframe tbody tr th {\n",
       "        vertical-align: top;\n",
       "    }\n",
       "\n",
       "    .dataframe thead th {\n",
       "        text-align: right;\n",
       "    }\n",
       "</style>\n",
       "<table border=\"1\" class=\"dataframe\">\n",
       "  <thead>\n",
       "    <tr style=\"text-align: right;\">\n",
       "      <th></th>\n",
       "      <th>label</th>\n",
       "      <th>message</th>\n",
       "      <th>length</th>\n",
       "      <th>punct</th>\n",
       "      <th>clean_message</th>\n",
       "    </tr>\n",
       "  </thead>\n",
       "  <tbody>\n",
       "    <tr>\n",
       "      <th>5567</th>\n",
       "      <td>spam</td>\n",
       "      <td>This is the 2nd time we have tried 2 contact u...</td>\n",
       "      <td>160</td>\n",
       "      <td>8</td>\n",
       "      <td>time tried contact pound prize claim easy call...</td>\n",
       "    </tr>\n",
       "    <tr>\n",
       "      <th>5568</th>\n",
       "      <td>ham</td>\n",
       "      <td>Will ü b going to esplanade fr home?</td>\n",
       "      <td>36</td>\n",
       "      <td>1</td>\n",
       "      <td>going esplanade home</td>\n",
       "    </tr>\n",
       "    <tr>\n",
       "      <th>5569</th>\n",
       "      <td>ham</td>\n",
       "      <td>Pity, * was in mood for that. So...any other s...</td>\n",
       "      <td>57</td>\n",
       "      <td>7</td>\n",
       "      <td>pity mood suggestions</td>\n",
       "    </tr>\n",
       "    <tr>\n",
       "      <th>5570</th>\n",
       "      <td>ham</td>\n",
       "      <td>The guy did some bitching but I acted like i'd...</td>\n",
       "      <td>125</td>\n",
       "      <td>1</td>\n",
       "      <td>guy bitching acted like interested buying some...</td>\n",
       "    </tr>\n",
       "    <tr>\n",
       "      <th>5571</th>\n",
       "      <td>ham</td>\n",
       "      <td>Rofl. Its true to its name</td>\n",
       "      <td>26</td>\n",
       "      <td>1</td>\n",
       "      <td>rofl true name</td>\n",
       "    </tr>\n",
       "  </tbody>\n",
       "</table>\n",
       "</div>"
      ],
      "text/plain": [
       "     label                                            message  length  punct  \\\n",
       "5567  spam  This is the 2nd time we have tried 2 contact u...     160      8   \n",
       "5568   ham               Will ü b going to esplanade fr home?      36      1   \n",
       "5569   ham  Pity, * was in mood for that. So...any other s...      57      7   \n",
       "5570   ham  The guy did some bitching but I acted like i'd...     125      1   \n",
       "5571   ham                         Rofl. Its true to its name      26      1   \n",
       "\n",
       "                                          clean_message  \n",
       "5567  time tried contact pound prize claim easy call...  \n",
       "5568                               going esplanade home  \n",
       "5569                              pity mood suggestions  \n",
       "5570  guy bitching acted like interested buying some...  \n",
       "5571                                     rofl true name  "
      ]
     },
     "execution_count": 44,
     "metadata": {},
     "output_type": "execute_result"
    }
   ],
   "source": [
    "df.head()\n",
    "df.tail()"
   ]
  },
  {
   "cell_type": "markdown",
   "id": "cf56b587",
   "metadata": {},
   "source": [
    "`%whos`"
   ]
  },
  {
   "cell_type": "code",
   "execution_count": 45,
   "id": "515b5778",
   "metadata": {},
   "outputs": [],
   "source": [
    "# %whos"
   ]
  },
  {
   "cell_type": "code",
   "execution_count": 46,
   "id": "6b04c02f",
   "metadata": {},
   "outputs": [],
   "source": [
    "# lsmagic"
   ]
  }
 ],
 "metadata": {
  "hide_input": false,
  "kernelspec": {
   "display_name": "Python 3 (ipykernel)",
   "language": "python",
   "name": "python3"
  },
  "language_info": {
   "codemirror_mode": {
    "name": "ipython",
    "version": 3
   },
   "file_extension": ".py",
   "mimetype": "text/x-python",
   "name": "python",
   "nbconvert_exporter": "python",
   "pygments_lexer": "ipython3",
   "version": "3.8.12"
  }
 },
 "nbformat": 4,
 "nbformat_minor": 5
}
